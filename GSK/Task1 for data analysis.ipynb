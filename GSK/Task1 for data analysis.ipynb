{
 "cells": [
  {
   "cell_type": "code",
   "execution_count": 503,
   "id": "5fc11d12",
   "metadata": {},
   "outputs": [],
   "source": [
    "import pandas as pd\n",
    "import plotly.express as px\n",
    "import numpy as np\n",
    "import sqlite3\n",
    "from sklearn.model_selection import train_test_split\n",
    "from sklearn.svm import LinearSVC\n",
    "from sklearn.calibration import CalibratedClassifierCV\n",
    "from sklearn.metrics import accuracy_score\n",
    "from sklearn.metrics import classification_report, confusion_matrix\n",
    "import warnings"
   ]
  },
  {
   "cell_type": "code",
   "execution_count": 372,
   "id": "b8899c98",
   "metadata": {},
   "outputs": [],
   "source": [
    "warnings.filterwarnings('ignore')"
   ]
  },
  {
   "cell_type": "markdown",
   "id": "efff7141",
   "metadata": {},
   "source": [
    "# Import and Read data"
   ]
  },
  {
   "cell_type": "code",
   "execution_count": 373,
   "id": "c5c884da",
   "metadata": {},
   "outputs": [],
   "source": [
    "df=pd.read_excel(\"clinical-study.xlsx\")\n",
    "df1=pd.read_excel(\"protein-levels.xlsx\")"
   ]
  },
  {
   "cell_type": "code",
   "execution_count": 374,
   "id": "25703f65",
   "metadata": {},
   "outputs": [
    {
     "data": {
      "text/html": [
       "<div>\n",
       "<style scoped>\n",
       "    .dataframe tbody tr th:only-of-type {\n",
       "        vertical-align: middle;\n",
       "    }\n",
       "\n",
       "    .dataframe tbody tr th {\n",
       "        vertical-align: top;\n",
       "    }\n",
       "\n",
       "    .dataframe thead th {\n",
       "        text-align: right;\n",
       "    }\n",
       "</style>\n",
       "<table border=\"1\" class=\"dataframe\">\n",
       "  <thead>\n",
       "    <tr style=\"text-align: right;\">\n",
       "      <th></th>\n",
       "      <th>subject_id</th>\n",
       "      <th>age</th>\n",
       "      <th>sex</th>\n",
       "      <th>weight</th>\n",
       "      <th>height</th>\n",
       "      <th>trt_grp</th>\n",
       "      <th>RESPONSE</th>\n",
       "    </tr>\n",
       "  </thead>\n",
       "  <tbody>\n",
       "    <tr>\n",
       "      <th>0</th>\n",
       "      <td>SUBJ_001</td>\n",
       "      <td>46.0</td>\n",
       "      <td>Female</td>\n",
       "      <td>84.66</td>\n",
       "      <td>1.59</td>\n",
       "      <td>DRUG</td>\n",
       "      <td>N</td>\n",
       "    </tr>\n",
       "    <tr>\n",
       "      <th>1</th>\n",
       "      <td>SUBJ_001</td>\n",
       "      <td>46.0</td>\n",
       "      <td>Female</td>\n",
       "      <td>84.66</td>\n",
       "      <td>1.59</td>\n",
       "      <td>DRUG</td>\n",
       "      <td>N</td>\n",
       "    </tr>\n",
       "    <tr>\n",
       "      <th>2</th>\n",
       "      <td>SUBJ_002</td>\n",
       "      <td>47.0</td>\n",
       "      <td>Female</td>\n",
       "      <td>71.21</td>\n",
       "      <td>1.64</td>\n",
       "      <td>DRUG</td>\n",
       "      <td>Y</td>\n",
       "    </tr>\n",
       "    <tr>\n",
       "      <th>3</th>\n",
       "      <td>SUBJ_003</td>\n",
       "      <td>48.0</td>\n",
       "      <td>Female</td>\n",
       "      <td>69.85</td>\n",
       "      <td>1.73</td>\n",
       "      <td>CONTROL</td>\n",
       "      <td>N</td>\n",
       "    </tr>\n",
       "    <tr>\n",
       "      <th>4</th>\n",
       "      <td>SUBJ_004</td>\n",
       "      <td>59.0</td>\n",
       "      <td>Female</td>\n",
       "      <td>62.94</td>\n",
       "      <td>1.50</td>\n",
       "      <td>DRUG</td>\n",
       "      <td>Y</td>\n",
       "    </tr>\n",
       "  </tbody>\n",
       "</table>\n",
       "</div>"
      ],
      "text/plain": [
       "  subject_id   age     sex  weight  height  trt_grp RESPONSE\n",
       "0   SUBJ_001  46.0  Female   84.66    1.59     DRUG        N\n",
       "1   SUBJ_001  46.0  Female   84.66    1.59     DRUG        N\n",
       "2   SUBJ_002  47.0  Female   71.21    1.64     DRUG        Y\n",
       "3   SUBJ_003  48.0  Female   69.85    1.73  CONTROL        N\n",
       "4   SUBJ_004  59.0  Female   62.94    1.50     DRUG        Y"
      ]
     },
     "execution_count": 374,
     "metadata": {},
     "output_type": "execute_result"
    }
   ],
   "source": [
    "df.head()"
   ]
  },
  {
   "cell_type": "code",
   "execution_count": 375,
   "id": "e141642f",
   "metadata": {},
   "outputs": [
    {
     "data": {
      "text/html": [
       "<div>\n",
       "<style scoped>\n",
       "    .dataframe tbody tr th:only-of-type {\n",
       "        vertical-align: middle;\n",
       "    }\n",
       "\n",
       "    .dataframe tbody tr th {\n",
       "        vertical-align: top;\n",
       "    }\n",
       "\n",
       "    .dataframe thead th {\n",
       "        text-align: right;\n",
       "    }\n",
       "</style>\n",
       "<table border=\"1\" class=\"dataframe\">\n",
       "  <thead>\n",
       "    <tr style=\"text-align: right;\">\n",
       "      <th></th>\n",
       "      <th>participant_id</th>\n",
       "      <th>protein_concentration</th>\n",
       "    </tr>\n",
       "  </thead>\n",
       "  <tbody>\n",
       "    <tr>\n",
       "      <th>0</th>\n",
       "      <td>SUBJ_001</td>\n",
       "      <td>148.0</td>\n",
       "    </tr>\n",
       "    <tr>\n",
       "      <th>1</th>\n",
       "      <td>SUBJ_002</td>\n",
       "      <td>85.0</td>\n",
       "    </tr>\n",
       "    <tr>\n",
       "      <th>2</th>\n",
       "      <td>SUBJ_003</td>\n",
       "      <td>183.0</td>\n",
       "    </tr>\n",
       "    <tr>\n",
       "      <th>3</th>\n",
       "      <td>SUBJ_004</td>\n",
       "      <td>89.0</td>\n",
       "    </tr>\n",
       "    <tr>\n",
       "      <th>4</th>\n",
       "      <td>SUBJ_005</td>\n",
       "      <td>137.0</td>\n",
       "    </tr>\n",
       "  </tbody>\n",
       "</table>\n",
       "</div>"
      ],
      "text/plain": [
       "  participant_id  protein_concentration\n",
       "0       SUBJ_001                  148.0\n",
       "1       SUBJ_002                   85.0\n",
       "2       SUBJ_003                  183.0\n",
       "3       SUBJ_004                   89.0\n",
       "4       SUBJ_005                  137.0"
      ]
     },
     "execution_count": 375,
     "metadata": {},
     "output_type": "execute_result"
    }
   ],
   "source": [
    "df1.head()"
   ]
  },
  {
   "cell_type": "markdown",
   "id": "45d33426",
   "metadata": {},
   "source": [
    "# Examine Data"
   ]
  },
  {
   "cell_type": "code",
   "execution_count": 376,
   "id": "2a4e9ad2",
   "metadata": {},
   "outputs": [],
   "source": [
    "# To check how many rows and columns in both the data frame, we use shape attributes which will return a tuple to\n",
    "# show how many columns and rows."
   ]
  },
  {
   "cell_type": "code",
   "execution_count": 377,
   "id": "44a8220c",
   "metadata": {},
   "outputs": [
    {
     "data": {
      "text/plain": [
       "(772, 7)"
      ]
     },
     "execution_count": 377,
     "metadata": {},
     "output_type": "execute_result"
    }
   ],
   "source": [
    "df.shape"
   ]
  },
  {
   "cell_type": "code",
   "execution_count": 378,
   "id": "89f64acf",
   "metadata": {},
   "outputs": [],
   "source": [
    "# There are total 772 rows and 7 columnsin the dataframe(df)"
   ]
  },
  {
   "cell_type": "code",
   "execution_count": 379,
   "id": "69a86ae9",
   "metadata": {},
   "outputs": [],
   "source": [
    "# Similarly check for dataframe(df1)"
   ]
  },
  {
   "cell_type": "code",
   "execution_count": 380,
   "id": "536018ed",
   "metadata": {},
   "outputs": [
    {
     "data": {
      "text/plain": [
       "(768, 2)"
      ]
     },
     "execution_count": 380,
     "metadata": {},
     "output_type": "execute_result"
    }
   ],
   "source": [
    "df1.shape"
   ]
  },
  {
   "cell_type": "code",
   "execution_count": 381,
   "id": "51f53702",
   "metadata": {},
   "outputs": [],
   "source": [
    "# 768 number od rows and just 2 columns present in dataframe(df1)"
   ]
  },
  {
   "cell_type": "code",
   "execution_count": 382,
   "id": "6c5dbaf9",
   "metadata": {},
   "outputs": [],
   "source": [
    "# Lets get some information about the dataframe(df)"
   ]
  },
  {
   "cell_type": "code",
   "execution_count": 383,
   "id": "8fb3188e",
   "metadata": {},
   "outputs": [
    {
     "name": "stdout",
     "output_type": "stream",
     "text": [
      "<class 'pandas.core.frame.DataFrame'>\n",
      "RangeIndex: 772 entries, 0 to 771\n",
      "Data columns (total 7 columns):\n",
      " #   Column      Non-Null Count  Dtype  \n",
      "---  ------      --------------  -----  \n",
      " 0   subject_id  772 non-null    object \n",
      " 1   age         772 non-null    float64\n",
      " 2   sex         772 non-null    object \n",
      " 3   weight      761 non-null    float64\n",
      " 4   height      772 non-null    float64\n",
      " 5   trt_grp     772 non-null    object \n",
      " 6   RESPONSE    772 non-null    object \n",
      "dtypes: float64(3), object(4)\n",
      "memory usage: 42.3+ KB\n"
     ]
    }
   ],
   "source": [
    "df.info()"
   ]
  },
  {
   "cell_type": "code",
   "execution_count": 384,
   "id": "2789f0c1",
   "metadata": {},
   "outputs": [],
   "source": [
    "# info() is the pandas function which enable to show a column with all the columns name, number of non-null values\n",
    "# in corresponding columns, datatypes of each columns and memory usage.\n",
    "# We can clearly see there are 7 columns (Subject_id, age, sex, weight, height, trt_grp and RESPONSE), every column\n",
    "# have 772 non-null values except the column name \"weight\" which contains 761 non-values.\n",
    "# there are 4 columns(subject_id, sex, trt_grp and RESPONSE) tha have object datatypes and rest of them have float.\n",
    "# Overall the usage of memory is 42.3 kilobyte."
   ]
  },
  {
   "cell_type": "code",
   "execution_count": 385,
   "id": "e25d1dc7",
   "metadata": {},
   "outputs": [],
   "source": [
    "# similarly for dataframe(df1)"
   ]
  },
  {
   "cell_type": "code",
   "execution_count": 386,
   "id": "d7eab073",
   "metadata": {},
   "outputs": [
    {
     "name": "stdout",
     "output_type": "stream",
     "text": [
      "<class 'pandas.core.frame.DataFrame'>\n",
      "RangeIndex: 768 entries, 0 to 767\n",
      "Data columns (total 2 columns):\n",
      " #   Column                 Non-Null Count  Dtype  \n",
      "---  ------                 --------------  -----  \n",
      " 0   participant_id         768 non-null    object \n",
      " 1   protein_concentration  763 non-null    float64\n",
      "dtypes: float64(1), object(1)\n",
      "memory usage: 12.1+ KB\n"
     ]
    }
   ],
   "source": [
    "df1.info()"
   ]
  },
  {
   "cell_type": "code",
   "execution_count": null,
   "id": "9f4a7c5e",
   "metadata": {},
   "outputs": [],
   "source": []
  },
  {
   "cell_type": "code",
   "execution_count": null,
   "id": "52543aec",
   "metadata": {},
   "outputs": [],
   "source": []
  },
  {
   "cell_type": "markdown",
   "id": "2792ae2f",
   "metadata": {},
   "source": [
    "# Clean up Data"
   ]
  },
  {
   "cell_type": "markdown",
   "id": "c37717e4",
   "metadata": {},
   "source": [
    "### 1. Duplicates"
   ]
  },
  {
   "cell_type": "code",
   "execution_count": 387,
   "id": "a3e72b06",
   "metadata": {},
   "outputs": [],
   "source": [
    "# Lets check if there are duplicates or repitition of cells are present in the both dataframe(df and df1) "
   ]
  },
  {
   "cell_type": "code",
   "execution_count": 388,
   "id": "dd2d7673",
   "metadata": {},
   "outputs": [
    {
     "data": {
      "text/html": [
       "<div>\n",
       "<style scoped>\n",
       "    .dataframe tbody tr th:only-of-type {\n",
       "        vertical-align: middle;\n",
       "    }\n",
       "\n",
       "    .dataframe tbody tr th {\n",
       "        vertical-align: top;\n",
       "    }\n",
       "\n",
       "    .dataframe thead th {\n",
       "        text-align: right;\n",
       "    }\n",
       "</style>\n",
       "<table border=\"1\" class=\"dataframe\">\n",
       "  <thead>\n",
       "    <tr style=\"text-align: right;\">\n",
       "      <th></th>\n",
       "      <th>subject_id</th>\n",
       "      <th>age</th>\n",
       "      <th>sex</th>\n",
       "      <th>weight</th>\n",
       "      <th>height</th>\n",
       "      <th>trt_grp</th>\n",
       "      <th>RESPONSE</th>\n",
       "    </tr>\n",
       "  </thead>\n",
       "  <tbody>\n",
       "    <tr>\n",
       "      <th>0</th>\n",
       "      <td>SUBJ_001</td>\n",
       "      <td>46.0</td>\n",
       "      <td>Female</td>\n",
       "      <td>84.66</td>\n",
       "      <td>1.59</td>\n",
       "      <td>DRUG</td>\n",
       "      <td>N</td>\n",
       "    </tr>\n",
       "    <tr>\n",
       "      <th>1</th>\n",
       "      <td>SUBJ_001</td>\n",
       "      <td>46.0</td>\n",
       "      <td>Female</td>\n",
       "      <td>84.66</td>\n",
       "      <td>1.59</td>\n",
       "      <td>DRUG</td>\n",
       "      <td>N</td>\n",
       "    </tr>\n",
       "  </tbody>\n",
       "</table>\n",
       "</div>"
      ],
      "text/plain": [
       "  subject_id   age     sex  weight  height trt_grp RESPONSE\n",
       "0   SUBJ_001  46.0  Female   84.66    1.59    DRUG        N\n",
       "1   SUBJ_001  46.0  Female   84.66    1.59    DRUG        N"
      ]
     },
     "execution_count": 388,
     "metadata": {},
     "output_type": "execute_result"
    }
   ],
   "source": [
    "df[df.duplicated(keep=False)]"
   ]
  },
  {
   "cell_type": "code",
   "execution_count": 389,
   "id": "58463418",
   "metadata": {},
   "outputs": [
    {
     "data": {
      "text/plain": [
       "1"
      ]
     },
     "execution_count": 389,
     "metadata": {},
     "output_type": "execute_result"
    }
   ],
   "source": [
    "df[\"subject_id\"].duplicated().sum()"
   ]
  },
  {
   "cell_type": "code",
   "execution_count": 390,
   "id": "d9895299",
   "metadata": {},
   "outputs": [],
   "source": [
    "# duplicated() is the pandas function which gives boolean value as True and False. True means duplicate value while\n",
    "# False represent non-duplicate value. I have used sum() to sumup number of duplicated cells.\n",
    "\n",
    "# There is only one duplicate in the Coulmn \"Subject ID\" which we will delete in the following code because\n",
    "# we need unique cells in order to get good performance in analysis and modelling."
   ]
  },
  {
   "cell_type": "code",
   "execution_count": 391,
   "id": "c2934a91",
   "metadata": {},
   "outputs": [],
   "source": [
    "df=df.drop_duplicates()"
   ]
  },
  {
   "cell_type": "code",
   "execution_count": 392,
   "id": "736f309a",
   "metadata": {},
   "outputs": [],
   "source": [
    "# drop_duplicates() is the function that delete the duplicate rows in dataframe."
   ]
  },
  {
   "cell_type": "code",
   "execution_count": 393,
   "id": "68b02b9f",
   "metadata": {},
   "outputs": [
    {
     "data": {
      "text/plain": [
       "0"
      ]
     },
     "execution_count": 393,
     "metadata": {},
     "output_type": "execute_result"
    }
   ],
   "source": [
    "df.duplicated().sum()"
   ]
  },
  {
   "cell_type": "code",
   "execution_count": 394,
   "id": "ef79fa99",
   "metadata": {},
   "outputs": [],
   "source": [
    "#Now we have no duplicate rows."
   ]
  },
  {
   "cell_type": "markdown",
   "id": "27f851d4",
   "metadata": {},
   "source": [
    "### 2. Removing rows age below 18"
   ]
  },
  {
   "cell_type": "code",
   "execution_count": 395,
   "id": "b283ce96",
   "metadata": {},
   "outputs": [
    {
     "data": {
      "text/html": [
       "<div>\n",
       "<style scoped>\n",
       "    .dataframe tbody tr th:only-of-type {\n",
       "        vertical-align: middle;\n",
       "    }\n",
       "\n",
       "    .dataframe tbody tr th {\n",
       "        vertical-align: top;\n",
       "    }\n",
       "\n",
       "    .dataframe thead th {\n",
       "        text-align: right;\n",
       "    }\n",
       "</style>\n",
       "<table border=\"1\" class=\"dataframe\">\n",
       "  <thead>\n",
       "    <tr style=\"text-align: right;\">\n",
       "      <th></th>\n",
       "      <th>subject_id</th>\n",
       "      <th>age</th>\n",
       "      <th>sex</th>\n",
       "      <th>weight</th>\n",
       "      <th>height</th>\n",
       "      <th>trt_grp</th>\n",
       "      <th>RESPONSE</th>\n",
       "    </tr>\n",
       "  </thead>\n",
       "  <tbody>\n",
       "    <tr>\n",
       "      <th>0</th>\n",
       "      <td>SUBJ_001</td>\n",
       "      <td>46.000</td>\n",
       "      <td>Female</td>\n",
       "      <td>84.660</td>\n",
       "      <td>1.59000</td>\n",
       "      <td>DRUG</td>\n",
       "      <td>N</td>\n",
       "    </tr>\n",
       "    <tr>\n",
       "      <th>2</th>\n",
       "      <td>SUBJ_002</td>\n",
       "      <td>47.000</td>\n",
       "      <td>Female</td>\n",
       "      <td>71.210</td>\n",
       "      <td>1.64000</td>\n",
       "      <td>DRUG</td>\n",
       "      <td>Y</td>\n",
       "    </tr>\n",
       "    <tr>\n",
       "      <th>3</th>\n",
       "      <td>SUBJ_003</td>\n",
       "      <td>48.000</td>\n",
       "      <td>Female</td>\n",
       "      <td>69.850</td>\n",
       "      <td>1.73000</td>\n",
       "      <td>CONTROL</td>\n",
       "      <td>N</td>\n",
       "    </tr>\n",
       "    <tr>\n",
       "      <th>4</th>\n",
       "      <td>SUBJ_004</td>\n",
       "      <td>59.000</td>\n",
       "      <td>Female</td>\n",
       "      <td>62.940</td>\n",
       "      <td>1.50000</td>\n",
       "      <td>DRUG</td>\n",
       "      <td>Y</td>\n",
       "    </tr>\n",
       "    <tr>\n",
       "      <th>5</th>\n",
       "      <td>SUBJ_005</td>\n",
       "      <td>59.000</td>\n",
       "      <td>Female</td>\n",
       "      <td>113.910</td>\n",
       "      <td>1.63000</td>\n",
       "      <td>CONTROL</td>\n",
       "      <td>N</td>\n",
       "    </tr>\n",
       "    <tr>\n",
       "      <th>...</th>\n",
       "      <td>...</td>\n",
       "      <td>...</td>\n",
       "      <td>...</td>\n",
       "      <td>...</td>\n",
       "      <td>...</td>\n",
       "      <td>...</td>\n",
       "      <td>...</td>\n",
       "    </tr>\n",
       "    <tr>\n",
       "      <th>767</th>\n",
       "      <td>SUBJ_767</td>\n",
       "      <td>53.000</td>\n",
       "      <td>Male</td>\n",
       "      <td>88.670</td>\n",
       "      <td>1.72000</td>\n",
       "      <td>DRUG</td>\n",
       "      <td>Y</td>\n",
       "    </tr>\n",
       "    <tr>\n",
       "      <th>768</th>\n",
       "      <td>SUBJ_768</td>\n",
       "      <td>68.000</td>\n",
       "      <td>Female</td>\n",
       "      <td>80.290</td>\n",
       "      <td>1.63000</td>\n",
       "      <td>DRUG</td>\n",
       "      <td>Y</td>\n",
       "    </tr>\n",
       "    <tr>\n",
       "      <th>769</th>\n",
       "      <td>SUBJ_A69</td>\n",
       "      <td>7.200</td>\n",
       "      <td>Female</td>\n",
       "      <td>22.310</td>\n",
       "      <td>1.19300</td>\n",
       "      <td>DRUG</td>\n",
       "      <td>N</td>\n",
       "    </tr>\n",
       "    <tr>\n",
       "      <th>770</th>\n",
       "      <td>SUBJ_A70</td>\n",
       "      <td>8.310</td>\n",
       "      <td>Female</td>\n",
       "      <td>24.220</td>\n",
       "      <td>1.27440</td>\n",
       "      <td>CONTROL</td>\n",
       "      <td>N</td>\n",
       "    </tr>\n",
       "    <tr>\n",
       "      <th>771</th>\n",
       "      <td>SUBJ_A71</td>\n",
       "      <td>7.854</td>\n",
       "      <td>Male</td>\n",
       "      <td>23.176</td>\n",
       "      <td>1.26343</td>\n",
       "      <td>CONTROL</td>\n",
       "      <td>N</td>\n",
       "    </tr>\n",
       "  </tbody>\n",
       "</table>\n",
       "<p>771 rows × 7 columns</p>\n",
       "</div>"
      ],
      "text/plain": [
       "    subject_id     age     sex   weight   height  trt_grp RESPONSE\n",
       "0     SUBJ_001  46.000  Female   84.660  1.59000     DRUG        N\n",
       "2     SUBJ_002  47.000  Female   71.210  1.64000     DRUG        Y\n",
       "3     SUBJ_003  48.000  Female   69.850  1.73000  CONTROL        N\n",
       "4     SUBJ_004  59.000  Female   62.940  1.50000     DRUG        Y\n",
       "5     SUBJ_005  59.000  Female  113.910  1.63000  CONTROL        N\n",
       "..         ...     ...     ...      ...      ...      ...      ...\n",
       "767   SUBJ_767  53.000    Male   88.670  1.72000     DRUG        Y\n",
       "768   SUBJ_768  68.000  Female   80.290  1.63000     DRUG        Y\n",
       "769   SUBJ_A69   7.200  Female   22.310  1.19300     DRUG        N\n",
       "770   SUBJ_A70   8.310  Female   24.220  1.27440  CONTROL        N\n",
       "771   SUBJ_A71   7.854    Male   23.176  1.26343  CONTROL        N\n",
       "\n",
       "[771 rows x 7 columns]"
      ]
     },
     "execution_count": 395,
     "metadata": {},
     "output_type": "execute_result"
    }
   ],
   "source": [
    "df"
   ]
  },
  {
   "cell_type": "code",
   "execution_count": 396,
   "id": "ba56801e",
   "metadata": {},
   "outputs": [],
   "source": [
    "# we can clearly see there are few data which contains age less than 18. we can remove them becasue they are\n",
    "# no use for this clinical trail data."
   ]
  },
  {
   "cell_type": "code",
   "execution_count": 397,
   "id": "7bc69238",
   "metadata": {},
   "outputs": [],
   "source": [
    "df=df[df[\"age\"]>=18]"
   ]
  },
  {
   "cell_type": "code",
   "execution_count": 398,
   "id": "6555afb4",
   "metadata": {},
   "outputs": [
    {
     "data": {
      "text/html": [
       "<div>\n",
       "<style scoped>\n",
       "    .dataframe tbody tr th:only-of-type {\n",
       "        vertical-align: middle;\n",
       "    }\n",
       "\n",
       "    .dataframe tbody tr th {\n",
       "        vertical-align: top;\n",
       "    }\n",
       "\n",
       "    .dataframe thead th {\n",
       "        text-align: right;\n",
       "    }\n",
       "</style>\n",
       "<table border=\"1\" class=\"dataframe\">\n",
       "  <thead>\n",
       "    <tr style=\"text-align: right;\">\n",
       "      <th></th>\n",
       "      <th>subject_id</th>\n",
       "      <th>age</th>\n",
       "      <th>sex</th>\n",
       "      <th>weight</th>\n",
       "      <th>height</th>\n",
       "      <th>trt_grp</th>\n",
       "      <th>RESPONSE</th>\n",
       "    </tr>\n",
       "  </thead>\n",
       "  <tbody>\n",
       "    <tr>\n",
       "      <th>0</th>\n",
       "      <td>SUBJ_001</td>\n",
       "      <td>46.0</td>\n",
       "      <td>Female</td>\n",
       "      <td>84.66</td>\n",
       "      <td>1.59</td>\n",
       "      <td>DRUG</td>\n",
       "      <td>N</td>\n",
       "    </tr>\n",
       "    <tr>\n",
       "      <th>2</th>\n",
       "      <td>SUBJ_002</td>\n",
       "      <td>47.0</td>\n",
       "      <td>Female</td>\n",
       "      <td>71.21</td>\n",
       "      <td>1.64</td>\n",
       "      <td>DRUG</td>\n",
       "      <td>Y</td>\n",
       "    </tr>\n",
       "    <tr>\n",
       "      <th>3</th>\n",
       "      <td>SUBJ_003</td>\n",
       "      <td>48.0</td>\n",
       "      <td>Female</td>\n",
       "      <td>69.85</td>\n",
       "      <td>1.73</td>\n",
       "      <td>CONTROL</td>\n",
       "      <td>N</td>\n",
       "    </tr>\n",
       "    <tr>\n",
       "      <th>4</th>\n",
       "      <td>SUBJ_004</td>\n",
       "      <td>59.0</td>\n",
       "      <td>Female</td>\n",
       "      <td>62.94</td>\n",
       "      <td>1.50</td>\n",
       "      <td>DRUG</td>\n",
       "      <td>Y</td>\n",
       "    </tr>\n",
       "    <tr>\n",
       "      <th>5</th>\n",
       "      <td>SUBJ_005</td>\n",
       "      <td>59.0</td>\n",
       "      <td>Female</td>\n",
       "      <td>113.91</td>\n",
       "      <td>1.63</td>\n",
       "      <td>CONTROL</td>\n",
       "      <td>N</td>\n",
       "    </tr>\n",
       "    <tr>\n",
       "      <th>...</th>\n",
       "      <td>...</td>\n",
       "      <td>...</td>\n",
       "      <td>...</td>\n",
       "      <td>...</td>\n",
       "      <td>...</td>\n",
       "      <td>...</td>\n",
       "      <td>...</td>\n",
       "    </tr>\n",
       "    <tr>\n",
       "      <th>764</th>\n",
       "      <td>SUBJ_764</td>\n",
       "      <td>61.0</td>\n",
       "      <td>Female</td>\n",
       "      <td>82.95</td>\n",
       "      <td>1.59</td>\n",
       "      <td>CONTROL</td>\n",
       "      <td>Y</td>\n",
       "    </tr>\n",
       "    <tr>\n",
       "      <th>765</th>\n",
       "      <td>SUBJ_765</td>\n",
       "      <td>65.0</td>\n",
       "      <td>Male</td>\n",
       "      <td>112.86</td>\n",
       "      <td>1.76</td>\n",
       "      <td>DRUG</td>\n",
       "      <td>N</td>\n",
       "    </tr>\n",
       "    <tr>\n",
       "      <th>766</th>\n",
       "      <td>SUBJ_766</td>\n",
       "      <td>60.0</td>\n",
       "      <td>Male</td>\n",
       "      <td>81.03</td>\n",
       "      <td>1.77</td>\n",
       "      <td>DRUG</td>\n",
       "      <td>N</td>\n",
       "    </tr>\n",
       "    <tr>\n",
       "      <th>767</th>\n",
       "      <td>SUBJ_767</td>\n",
       "      <td>53.0</td>\n",
       "      <td>Male</td>\n",
       "      <td>88.67</td>\n",
       "      <td>1.72</td>\n",
       "      <td>DRUG</td>\n",
       "      <td>Y</td>\n",
       "    </tr>\n",
       "    <tr>\n",
       "      <th>768</th>\n",
       "      <td>SUBJ_768</td>\n",
       "      <td>68.0</td>\n",
       "      <td>Female</td>\n",
       "      <td>80.29</td>\n",
       "      <td>1.63</td>\n",
       "      <td>DRUG</td>\n",
       "      <td>Y</td>\n",
       "    </tr>\n",
       "  </tbody>\n",
       "</table>\n",
       "<p>768 rows × 7 columns</p>\n",
       "</div>"
      ],
      "text/plain": [
       "    subject_id   age     sex  weight  height  trt_grp RESPONSE\n",
       "0     SUBJ_001  46.0  Female   84.66    1.59     DRUG        N\n",
       "2     SUBJ_002  47.0  Female   71.21    1.64     DRUG        Y\n",
       "3     SUBJ_003  48.0  Female   69.85    1.73  CONTROL        N\n",
       "4     SUBJ_004  59.0  Female   62.94    1.50     DRUG        Y\n",
       "5     SUBJ_005  59.0  Female  113.91    1.63  CONTROL        N\n",
       "..         ...   ...     ...     ...     ...      ...      ...\n",
       "764   SUBJ_764  61.0  Female   82.95    1.59  CONTROL        Y\n",
       "765   SUBJ_765  65.0    Male  112.86    1.76     DRUG        N\n",
       "766   SUBJ_766  60.0    Male   81.03    1.77     DRUG        N\n",
       "767   SUBJ_767  53.0    Male   88.67    1.72     DRUG        Y\n",
       "768   SUBJ_768  68.0  Female   80.29    1.63     DRUG        Y\n",
       "\n",
       "[768 rows x 7 columns]"
      ]
     },
     "execution_count": 398,
     "metadata": {},
     "output_type": "execute_result"
    }
   ],
   "source": [
    "df"
   ]
  },
  {
   "cell_type": "code",
   "execution_count": 399,
   "id": "51c2043c",
   "metadata": {},
   "outputs": [],
   "source": [
    "# Now we can see that we have filtered our dataframe for only aged 18 or more."
   ]
  },
  {
   "cell_type": "markdown",
   "id": "448b4465",
   "metadata": {},
   "source": [
    "### 3. Null Values"
   ]
  },
  {
   "cell_type": "code",
   "execution_count": 400,
   "id": "77f4f6a6",
   "metadata": {},
   "outputs": [
    {
     "data": {
      "text/plain": [
       "subject_id     0\n",
       "age            0\n",
       "sex            0\n",
       "weight        11\n",
       "height         0\n",
       "trt_grp        0\n",
       "RESPONSE       0\n",
       "dtype: int64"
      ]
     },
     "execution_count": 400,
     "metadata": {},
     "output_type": "execute_result"
    }
   ],
   "source": [
    "df.isna().sum()"
   ]
  },
  {
   "cell_type": "code",
   "execution_count": 401,
   "id": "a63a5150",
   "metadata": {},
   "outputs": [],
   "source": [
    "# isna() is a function which return boolean values and identifies null values. i have used sum to sumup the\n",
    "# number of null vlaues in columns. Here we have 11 number of null values present in the column \"weight\"."
   ]
  },
  {
   "cell_type": "code",
   "execution_count": 402,
   "id": "2cdae99f",
   "metadata": {},
   "outputs": [
    {
     "data": {
      "text/html": [
       "<div>\n",
       "<style scoped>\n",
       "    .dataframe tbody tr th:only-of-type {\n",
       "        vertical-align: middle;\n",
       "    }\n",
       "\n",
       "    .dataframe tbody tr th {\n",
       "        vertical-align: top;\n",
       "    }\n",
       "\n",
       "    .dataframe thead th {\n",
       "        text-align: right;\n",
       "    }\n",
       "</style>\n",
       "<table border=\"1\" class=\"dataframe\">\n",
       "  <thead>\n",
       "    <tr style=\"text-align: right;\">\n",
       "      <th></th>\n",
       "      <th>subject_id</th>\n",
       "      <th>age</th>\n",
       "      <th>sex</th>\n",
       "      <th>weight</th>\n",
       "      <th>height</th>\n",
       "      <th>trt_grp</th>\n",
       "      <th>RESPONSE</th>\n",
       "    </tr>\n",
       "  </thead>\n",
       "  <tbody>\n",
       "    <tr>\n",
       "      <th>10</th>\n",
       "      <td>SUBJ_010</td>\n",
       "      <td>73.0</td>\n",
       "      <td>Female</td>\n",
       "      <td>NaN</td>\n",
       "      <td>1.64</td>\n",
       "      <td>DRUG</td>\n",
       "      <td>Y</td>\n",
       "    </tr>\n",
       "    <tr>\n",
       "      <th>50</th>\n",
       "      <td>SUBJ_050</td>\n",
       "      <td>65.0</td>\n",
       "      <td>Male</td>\n",
       "      <td>NaN</td>\n",
       "      <td>1.71</td>\n",
       "      <td>DRUG</td>\n",
       "      <td>N</td>\n",
       "    </tr>\n",
       "    <tr>\n",
       "      <th>61</th>\n",
       "      <td>SUBJ_061</td>\n",
       "      <td>61.0</td>\n",
       "      <td>Male</td>\n",
       "      <td>NaN</td>\n",
       "      <td>1.79</td>\n",
       "      <td>CONTROL</td>\n",
       "      <td>N</td>\n",
       "    </tr>\n",
       "    <tr>\n",
       "      <th>82</th>\n",
       "      <td>SUBJ_082</td>\n",
       "      <td>65.0</td>\n",
       "      <td>Male</td>\n",
       "      <td>NaN</td>\n",
       "      <td>1.78</td>\n",
       "      <td>CONTROL</td>\n",
       "      <td>N</td>\n",
       "    </tr>\n",
       "    <tr>\n",
       "      <th>146</th>\n",
       "      <td>SUBJ_146</td>\n",
       "      <td>56.0</td>\n",
       "      <td>Female</td>\n",
       "      <td>NaN</td>\n",
       "      <td>1.57</td>\n",
       "      <td>CONTROL</td>\n",
       "      <td>N</td>\n",
       "    </tr>\n",
       "    <tr>\n",
       "      <th>372</th>\n",
       "      <td>SUBJ_372</td>\n",
       "      <td>67.0</td>\n",
       "      <td>Female</td>\n",
       "      <td>NaN</td>\n",
       "      <td>1.62</td>\n",
       "      <td>CONTROL</td>\n",
       "      <td>N</td>\n",
       "    </tr>\n",
       "    <tr>\n",
       "      <th>427</th>\n",
       "      <td>SUBJ_427</td>\n",
       "      <td>66.0</td>\n",
       "      <td>Male</td>\n",
       "      <td>NaN</td>\n",
       "      <td>1.83</td>\n",
       "      <td>CONTROL</td>\n",
       "      <td>N</td>\n",
       "    </tr>\n",
       "    <tr>\n",
       "      <th>495</th>\n",
       "      <td>SUBJ_495</td>\n",
       "      <td>60.0</td>\n",
       "      <td>Female</td>\n",
       "      <td>NaN</td>\n",
       "      <td>1.65</td>\n",
       "      <td>CONTROL</td>\n",
       "      <td>N</td>\n",
       "    </tr>\n",
       "    <tr>\n",
       "      <th>523</th>\n",
       "      <td>SUBJ_523</td>\n",
       "      <td>62.0</td>\n",
       "      <td>Female</td>\n",
       "      <td>NaN</td>\n",
       "      <td>1.60</td>\n",
       "      <td>DRUG</td>\n",
       "      <td>N</td>\n",
       "    </tr>\n",
       "    <tr>\n",
       "      <th>685</th>\n",
       "      <td>SUBJ_685</td>\n",
       "      <td>74.0</td>\n",
       "      <td>Male</td>\n",
       "      <td>NaN</td>\n",
       "      <td>1.81</td>\n",
       "      <td>CONTROL</td>\n",
       "      <td>N</td>\n",
       "    </tr>\n",
       "    <tr>\n",
       "      <th>707</th>\n",
       "      <td>SUBJ_707</td>\n",
       "      <td>72.0</td>\n",
       "      <td>Male</td>\n",
       "      <td>NaN</td>\n",
       "      <td>1.75</td>\n",
       "      <td>DRUG</td>\n",
       "      <td>Y</td>\n",
       "    </tr>\n",
       "  </tbody>\n",
       "</table>\n",
       "</div>"
      ],
      "text/plain": [
       "    subject_id   age     sex  weight  height  trt_grp RESPONSE\n",
       "10    SUBJ_010  73.0  Female     NaN    1.64     DRUG        Y\n",
       "50    SUBJ_050  65.0    Male     NaN    1.71     DRUG        N\n",
       "61    SUBJ_061  61.0    Male     NaN    1.79  CONTROL        N\n",
       "82    SUBJ_082  65.0    Male     NaN    1.78  CONTROL        N\n",
       "146   SUBJ_146  56.0  Female     NaN    1.57  CONTROL        N\n",
       "372   SUBJ_372  67.0  Female     NaN    1.62  CONTROL        N\n",
       "427   SUBJ_427  66.0    Male     NaN    1.83  CONTROL        N\n",
       "495   SUBJ_495  60.0  Female     NaN    1.65  CONTROL        N\n",
       "523   SUBJ_523  62.0  Female     NaN    1.60     DRUG        N\n",
       "685   SUBJ_685  74.0    Male     NaN    1.81  CONTROL        N\n",
       "707   SUBJ_707  72.0    Male     NaN    1.75     DRUG        Y"
      ]
     },
     "execution_count": 402,
     "metadata": {},
     "output_type": "execute_result"
    }
   ],
   "source": [
    "df[df[\"weight\"].isna()]"
   ]
  },
  {
   "cell_type": "code",
   "execution_count": 403,
   "id": "8bfac8eb",
   "metadata": {},
   "outputs": [],
   "source": [
    "# it can be seen column \"Weight\" have null values(NaN) which now can be deleted easily but if we try to delete those\n",
    "# values using drop_na() function then whole corresponding rows will get deleted. It is not good idea to delete\n",
    "# rows. Better lets put average values in those null cells."
   ]
  },
  {
   "cell_type": "code",
   "execution_count": 404,
   "id": "d264a5ce",
   "metadata": {},
   "outputs": [],
   "source": [
    "#1. Lets calculate average value of column weight for those female who have height range 1.57 to 1.65\n",
    "# and age from 56.0 to 73.0\n",
    "#2. Now lets calculate average value of column \"weight\" for those male have height range 1.71 to 1.83\n",
    "# and age from 61 to 74."
   ]
  },
  {
   "cell_type": "code",
   "execution_count": 405,
   "id": "1208a9db",
   "metadata": {},
   "outputs": [
    {
     "data": {
      "text/html": [
       "<div>\n",
       "<style scoped>\n",
       "    .dataframe tbody tr th:only-of-type {\n",
       "        vertical-align: middle;\n",
       "    }\n",
       "\n",
       "    .dataframe tbody tr th {\n",
       "        vertical-align: top;\n",
       "    }\n",
       "\n",
       "    .dataframe thead th {\n",
       "        text-align: right;\n",
       "    }\n",
       "</style>\n",
       "<table border=\"1\" class=\"dataframe\">\n",
       "  <thead>\n",
       "    <tr style=\"text-align: right;\">\n",
       "      <th></th>\n",
       "      <th>subject_id</th>\n",
       "      <th>age</th>\n",
       "      <th>sex</th>\n",
       "      <th>weight</th>\n",
       "      <th>height</th>\n",
       "      <th>trt_grp</th>\n",
       "      <th>RESPONSE</th>\n",
       "    </tr>\n",
       "  </thead>\n",
       "  <tbody>\n",
       "    <tr>\n",
       "      <th>5</th>\n",
       "      <td>SUBJ_005</td>\n",
       "      <td>59.0</td>\n",
       "      <td>Female</td>\n",
       "      <td>113.91</td>\n",
       "      <td>1.63</td>\n",
       "      <td>CONTROL</td>\n",
       "      <td>N</td>\n",
       "    </tr>\n",
       "    <tr>\n",
       "      <th>10</th>\n",
       "      <td>SUBJ_010</td>\n",
       "      <td>73.0</td>\n",
       "      <td>Female</td>\n",
       "      <td>NaN</td>\n",
       "      <td>1.64</td>\n",
       "      <td>DRUG</td>\n",
       "      <td>Y</td>\n",
       "    </tr>\n",
       "    <tr>\n",
       "      <th>18</th>\n",
       "      <td>SUBJ_018</td>\n",
       "      <td>65.0</td>\n",
       "      <td>Female</td>\n",
       "      <td>80.04</td>\n",
       "      <td>1.64</td>\n",
       "      <td>CONTROL</td>\n",
       "      <td>Y</td>\n",
       "    </tr>\n",
       "    <tr>\n",
       "      <th>20</th>\n",
       "      <td>SUBJ_020</td>\n",
       "      <td>73.0</td>\n",
       "      <td>Female</td>\n",
       "      <td>94.38</td>\n",
       "      <td>1.65</td>\n",
       "      <td>DRUG</td>\n",
       "      <td>Y</td>\n",
       "    </tr>\n",
       "    <tr>\n",
       "      <th>25</th>\n",
       "      <td>SUBJ_025</td>\n",
       "      <td>56.0</td>\n",
       "      <td>Female</td>\n",
       "      <td>99.69</td>\n",
       "      <td>1.65</td>\n",
       "      <td>DRUG</td>\n",
       "      <td>Y</td>\n",
       "    </tr>\n",
       "    <tr>\n",
       "      <th>...</th>\n",
       "      <td>...</td>\n",
       "      <td>...</td>\n",
       "      <td>...</td>\n",
       "      <td>...</td>\n",
       "      <td>...</td>\n",
       "      <td>...</td>\n",
       "      <td>...</td>\n",
       "    </tr>\n",
       "    <tr>\n",
       "      <th>748</th>\n",
       "      <td>SUBJ_748</td>\n",
       "      <td>57.0</td>\n",
       "      <td>Female</td>\n",
       "      <td>123.69</td>\n",
       "      <td>1.63</td>\n",
       "      <td>CONTROL</td>\n",
       "      <td>N</td>\n",
       "    </tr>\n",
       "    <tr>\n",
       "      <th>753</th>\n",
       "      <td>SUBJ_753</td>\n",
       "      <td>62.0</td>\n",
       "      <td>Female</td>\n",
       "      <td>70.64</td>\n",
       "      <td>1.65</td>\n",
       "      <td>CONTROL</td>\n",
       "      <td>N</td>\n",
       "    </tr>\n",
       "    <tr>\n",
       "      <th>754</th>\n",
       "      <td>SUBJ_754</td>\n",
       "      <td>67.0</td>\n",
       "      <td>Female</td>\n",
       "      <td>111.12</td>\n",
       "      <td>1.60</td>\n",
       "      <td>CONTROL</td>\n",
       "      <td>N</td>\n",
       "    </tr>\n",
       "    <tr>\n",
       "      <th>764</th>\n",
       "      <td>SUBJ_764</td>\n",
       "      <td>61.0</td>\n",
       "      <td>Female</td>\n",
       "      <td>82.95</td>\n",
       "      <td>1.59</td>\n",
       "      <td>CONTROL</td>\n",
       "      <td>Y</td>\n",
       "    </tr>\n",
       "    <tr>\n",
       "      <th>768</th>\n",
       "      <td>SUBJ_768</td>\n",
       "      <td>68.0</td>\n",
       "      <td>Female</td>\n",
       "      <td>80.29</td>\n",
       "      <td>1.63</td>\n",
       "      <td>DRUG</td>\n",
       "      <td>Y</td>\n",
       "    </tr>\n",
       "  </tbody>\n",
       "</table>\n",
       "<p>171 rows × 7 columns</p>\n",
       "</div>"
      ],
      "text/plain": [
       "    subject_id   age     sex  weight  height  trt_grp RESPONSE\n",
       "5     SUBJ_005  59.0  Female  113.91    1.63  CONTROL        N\n",
       "10    SUBJ_010  73.0  Female     NaN    1.64     DRUG        Y\n",
       "18    SUBJ_018  65.0  Female   80.04    1.64  CONTROL        Y\n",
       "20    SUBJ_020  73.0  Female   94.38    1.65     DRUG        Y\n",
       "25    SUBJ_025  56.0  Female   99.69    1.65     DRUG        Y\n",
       "..         ...   ...     ...     ...     ...      ...      ...\n",
       "748   SUBJ_748  57.0  Female  123.69    1.63  CONTROL        N\n",
       "753   SUBJ_753  62.0  Female   70.64    1.65  CONTROL        N\n",
       "754   SUBJ_754  67.0  Female  111.12    1.60  CONTROL        N\n",
       "764   SUBJ_764  61.0  Female   82.95    1.59  CONTROL        Y\n",
       "768   SUBJ_768  68.0  Female   80.29    1.63     DRUG        Y\n",
       "\n",
       "[171 rows x 7 columns]"
      ]
     },
     "execution_count": 405,
     "metadata": {},
     "output_type": "execute_result"
    }
   ],
   "source": [
    "df_female= df[(df[\"height\"]>=1.57) & (df[\"height\"]<=1.65) & (df[\"age\"]>=56.0) & \n",
    "                  (df[\"age\"]<=73.0) & (df[\"sex\"]==\"Female\")]\n",
    "df_female"
   ]
  },
  {
   "cell_type": "code",
   "execution_count": 406,
   "id": "20b7859b",
   "metadata": {},
   "outputs": [
    {
     "data": {
      "text/plain": [
       "86.6"
      ]
     },
     "execution_count": 406,
     "metadata": {},
     "output_type": "execute_result"
    }
   ],
   "source": [
    "df_female_avg=df_female[\"weight\"].mean()\n",
    "round(df_female_avg, 2)"
   ]
  },
  {
   "cell_type": "code",
   "execution_count": 407,
   "id": "44f65396",
   "metadata": {},
   "outputs": [],
   "source": [
    "# we got the average values for those females. Now we can easily put 86.6 in those cells for female."
   ]
  },
  {
   "cell_type": "code",
   "execution_count": 408,
   "id": "f5f93ea0",
   "metadata": {},
   "outputs": [
    {
     "data": {
      "text/html": [
       "<div>\n",
       "<style scoped>\n",
       "    .dataframe tbody tr th:only-of-type {\n",
       "        vertical-align: middle;\n",
       "    }\n",
       "\n",
       "    .dataframe tbody tr th {\n",
       "        vertical-align: top;\n",
       "    }\n",
       "\n",
       "    .dataframe thead th {\n",
       "        text-align: right;\n",
       "    }\n",
       "</style>\n",
       "<table border=\"1\" class=\"dataframe\">\n",
       "  <thead>\n",
       "    <tr style=\"text-align: right;\">\n",
       "      <th></th>\n",
       "      <th>subject_id</th>\n",
       "      <th>age</th>\n",
       "      <th>sex</th>\n",
       "      <th>weight</th>\n",
       "      <th>height</th>\n",
       "      <th>trt_grp</th>\n",
       "      <th>RESPONSE</th>\n",
       "    </tr>\n",
       "  </thead>\n",
       "  <tbody>\n",
       "    <tr>\n",
       "      <th>6</th>\n",
       "      <td>SUBJ_006</td>\n",
       "      <td>63.0</td>\n",
       "      <td>Male</td>\n",
       "      <td>79.33</td>\n",
       "      <td>1.77</td>\n",
       "      <td>CONTROL</td>\n",
       "      <td>Y</td>\n",
       "    </tr>\n",
       "    <tr>\n",
       "      <th>11</th>\n",
       "      <td>SUBJ_011</td>\n",
       "      <td>67.0</td>\n",
       "      <td>Male</td>\n",
       "      <td>109.12</td>\n",
       "      <td>1.71</td>\n",
       "      <td>CONTROL</td>\n",
       "      <td>Y</td>\n",
       "    </tr>\n",
       "    <tr>\n",
       "      <th>15</th>\n",
       "      <td>SUBJ_015</td>\n",
       "      <td>65.0</td>\n",
       "      <td>Male</td>\n",
       "      <td>80.21</td>\n",
       "      <td>1.77</td>\n",
       "      <td>DRUG</td>\n",
       "      <td>N</td>\n",
       "    </tr>\n",
       "    <tr>\n",
       "      <th>21</th>\n",
       "      <td>SUBJ_021</td>\n",
       "      <td>61.0</td>\n",
       "      <td>Male</td>\n",
       "      <td>122.87</td>\n",
       "      <td>1.78</td>\n",
       "      <td>CONTROL</td>\n",
       "      <td>N</td>\n",
       "    </tr>\n",
       "    <tr>\n",
       "      <th>34</th>\n",
       "      <td>SUBJ_034</td>\n",
       "      <td>66.0</td>\n",
       "      <td>Male</td>\n",
       "      <td>63.33</td>\n",
       "      <td>1.79</td>\n",
       "      <td>CONTROL</td>\n",
       "      <td>N</td>\n",
       "    </tr>\n",
       "    <tr>\n",
       "      <th>...</th>\n",
       "      <td>...</td>\n",
       "      <td>...</td>\n",
       "      <td>...</td>\n",
       "      <td>...</td>\n",
       "      <td>...</td>\n",
       "      <td>...</td>\n",
       "      <td>...</td>\n",
       "    </tr>\n",
       "    <tr>\n",
       "      <th>752</th>\n",
       "      <td>SUBJ_752</td>\n",
       "      <td>69.0</td>\n",
       "      <td>Male</td>\n",
       "      <td>127.64</td>\n",
       "      <td>1.82</td>\n",
       "      <td>DRUG</td>\n",
       "      <td>Y</td>\n",
       "    </tr>\n",
       "    <tr>\n",
       "      <th>756</th>\n",
       "      <td>SUBJ_756</td>\n",
       "      <td>65.0</td>\n",
       "      <td>Male</td>\n",
       "      <td>117.14</td>\n",
       "      <td>1.80</td>\n",
       "      <td>DRUG</td>\n",
       "      <td>N</td>\n",
       "    </tr>\n",
       "    <tr>\n",
       "      <th>760</th>\n",
       "      <td>SUBJ_760</td>\n",
       "      <td>66.0</td>\n",
       "      <td>Male</td>\n",
       "      <td>106.50</td>\n",
       "      <td>1.74</td>\n",
       "      <td>CONTROL</td>\n",
       "      <td>N</td>\n",
       "    </tr>\n",
       "    <tr>\n",
       "      <th>762</th>\n",
       "      <td>SUBJ_762</td>\n",
       "      <td>64.0</td>\n",
       "      <td>Male</td>\n",
       "      <td>137.41</td>\n",
       "      <td>1.77</td>\n",
       "      <td>CONTROL</td>\n",
       "      <td>Y</td>\n",
       "    </tr>\n",
       "    <tr>\n",
       "      <th>765</th>\n",
       "      <td>SUBJ_765</td>\n",
       "      <td>65.0</td>\n",
       "      <td>Male</td>\n",
       "      <td>112.86</td>\n",
       "      <td>1.76</td>\n",
       "      <td>DRUG</td>\n",
       "      <td>N</td>\n",
       "    </tr>\n",
       "  </tbody>\n",
       "</table>\n",
       "<p>162 rows × 7 columns</p>\n",
       "</div>"
      ],
      "text/plain": [
       "    subject_id   age   sex  weight  height  trt_grp RESPONSE\n",
       "6     SUBJ_006  63.0  Male   79.33    1.77  CONTROL        Y\n",
       "11    SUBJ_011  67.0  Male  109.12    1.71  CONTROL        Y\n",
       "15    SUBJ_015  65.0  Male   80.21    1.77     DRUG        N\n",
       "21    SUBJ_021  61.0  Male  122.87    1.78  CONTROL        N\n",
       "34    SUBJ_034  66.0  Male   63.33    1.79  CONTROL        N\n",
       "..         ...   ...   ...     ...     ...      ...      ...\n",
       "752   SUBJ_752  69.0  Male  127.64    1.82     DRUG        Y\n",
       "756   SUBJ_756  65.0  Male  117.14    1.80     DRUG        N\n",
       "760   SUBJ_760  66.0  Male  106.50    1.74  CONTROL        N\n",
       "762   SUBJ_762  64.0  Male  137.41    1.77  CONTROL        Y\n",
       "765   SUBJ_765  65.0  Male  112.86    1.76     DRUG        N\n",
       "\n",
       "[162 rows x 7 columns]"
      ]
     },
     "execution_count": 408,
     "metadata": {},
     "output_type": "execute_result"
    }
   ],
   "source": [
    "df_male=df[(df[\"height\"]>=1.71) & (df[\"height\"]<=1.83) & (df[\"age\"]>=61) & (df[\"age\"]<=74) & \n",
    "   (df[\"sex\"]==\"Male\")]\n",
    "df_male"
   ]
  },
  {
   "cell_type": "code",
   "execution_count": 409,
   "id": "6bf72373",
   "metadata": {},
   "outputs": [
    {
     "data": {
      "text/plain": [
       "100.61"
      ]
     },
     "execution_count": 409,
     "metadata": {},
     "output_type": "execute_result"
    }
   ],
   "source": [
    "df_male_avg=df_male[\"weight\"].mean()\n",
    "round(df_male_avg, 2)"
   ]
  },
  {
   "cell_type": "code",
   "execution_count": 410,
   "id": "e657b2f4",
   "metadata": {},
   "outputs": [],
   "source": [
    "#The average values for those males. Now we can easily put 100.61 in those cells for male."
   ]
  },
  {
   "cell_type": "code",
   "execution_count": 411,
   "id": "9edec160",
   "metadata": {},
   "outputs": [],
   "source": [
    "# Lets fill the average values for female and male in their corresponing null values."
   ]
  },
  {
   "cell_type": "code",
   "execution_count": 412,
   "id": "639c318f",
   "metadata": {},
   "outputs": [],
   "source": [
    "for i in df[\"sex\"]:\n",
    "    if i==\"Female\":\n",
    "        df[\"weight\"].fillna(86.6, inplace=True)\n",
    "    else:\n",
    "        df[\"weight\"].fillna(72.5, inplace=True)"
   ]
  },
  {
   "cell_type": "code",
   "execution_count": 413,
   "id": "78d8f860",
   "metadata": {},
   "outputs": [],
   "source": [
    "# We have filled their average values using above code now lets check if there is still any null values present."
   ]
  },
  {
   "cell_type": "code",
   "execution_count": 414,
   "id": "c992e0f6",
   "metadata": {},
   "outputs": [
    {
     "data": {
      "text/plain": [
       "subject_id    0\n",
       "age           0\n",
       "sex           0\n",
       "weight        0\n",
       "height        0\n",
       "trt_grp       0\n",
       "RESPONSE      0\n",
       "dtype: int64"
      ]
     },
     "execution_count": 414,
     "metadata": {},
     "output_type": "execute_result"
    }
   ],
   "source": [
    "df.isna().sum()"
   ]
  },
  {
   "cell_type": "code",
   "execution_count": 415,
   "id": "360d7628",
   "metadata": {},
   "outputs": [],
   "source": [
    "# Finally we have no null values in df. Lets do similar for df1."
   ]
  },
  {
   "cell_type": "code",
   "execution_count": 416,
   "id": "3c5d6563",
   "metadata": {},
   "outputs": [
    {
     "data": {
      "text/plain": [
       "participant_id           0\n",
       "protein_concentration    5\n",
       "dtype: int64"
      ]
     },
     "execution_count": 416,
     "metadata": {},
     "output_type": "execute_result"
    }
   ],
   "source": [
    "df1.isna().sum()"
   ]
  },
  {
   "cell_type": "code",
   "execution_count": 417,
   "id": "d849af8a",
   "metadata": {},
   "outputs": [],
   "source": [
    "# There are 5 null values. Lets put the average value of column \"protein_concentration\"."
   ]
  },
  {
   "cell_type": "code",
   "execution_count": 418,
   "id": "6905afb8",
   "metadata": {},
   "outputs": [],
   "source": [
    "df1.fillna(value=df1[\"protein_concentration\"].mean, inplace=True)"
   ]
  },
  {
   "cell_type": "code",
   "execution_count": 419,
   "id": "ebfe9317",
   "metadata": {},
   "outputs": [
    {
     "data": {
      "text/plain": [
       "participant_id           0\n",
       "protein_concentration    0\n",
       "dtype: int64"
      ]
     },
     "execution_count": 419,
     "metadata": {},
     "output_type": "execute_result"
    }
   ],
   "source": [
    "df1.isna().sum()"
   ]
  },
  {
   "cell_type": "markdown",
   "id": "d0bb62ac",
   "metadata": {},
   "source": [
    "### 4. BMI calculation"
   ]
  },
  {
   "cell_type": "code",
   "execution_count": 420,
   "id": "77ef402f",
   "metadata": {},
   "outputs": [],
   "source": [
    "BMI=round(df[\"weight\"]/df[\"height\"]**2, 2)"
   ]
  },
  {
   "cell_type": "code",
   "execution_count": 421,
   "id": "3b1e7b1c",
   "metadata": {},
   "outputs": [],
   "source": [
    "# we have calculated BMI by diving weight with square of height. and lets insert it into the dataframe(df)."
   ]
  },
  {
   "cell_type": "code",
   "execution_count": 422,
   "id": "c4b0bfbd",
   "metadata": {},
   "outputs": [
    {
     "data": {
      "text/plain": [
       "0      33.49\n",
       "2      26.48\n",
       "3      23.34\n",
       "4      27.97\n",
       "5      42.87\n",
       "       ...  \n",
       "764    32.81\n",
       "765    36.43\n",
       "766    25.86\n",
       "767    29.97\n",
       "768    30.22\n",
       "Length: 768, dtype: float64"
      ]
     },
     "execution_count": 422,
     "metadata": {},
     "output_type": "execute_result"
    }
   ],
   "source": [
    "BMI"
   ]
  },
  {
   "cell_type": "code",
   "execution_count": 423,
   "id": "100d3a1b",
   "metadata": {},
   "outputs": [],
   "source": [
    "# Lets insert the BMI column at 5th position in the dataframe."
   ]
  },
  {
   "cell_type": "code",
   "execution_count": 424,
   "id": "04363322",
   "metadata": {},
   "outputs": [],
   "source": [
    "df.insert(5, \"BMI\", BMI)"
   ]
  },
  {
   "cell_type": "code",
   "execution_count": 425,
   "id": "b19e01f4",
   "metadata": {},
   "outputs": [
    {
     "data": {
      "text/html": [
       "<div>\n",
       "<style scoped>\n",
       "    .dataframe tbody tr th:only-of-type {\n",
       "        vertical-align: middle;\n",
       "    }\n",
       "\n",
       "    .dataframe tbody tr th {\n",
       "        vertical-align: top;\n",
       "    }\n",
       "\n",
       "    .dataframe thead th {\n",
       "        text-align: right;\n",
       "    }\n",
       "</style>\n",
       "<table border=\"1\" class=\"dataframe\">\n",
       "  <thead>\n",
       "    <tr style=\"text-align: right;\">\n",
       "      <th></th>\n",
       "      <th>subject_id</th>\n",
       "      <th>age</th>\n",
       "      <th>sex</th>\n",
       "      <th>weight</th>\n",
       "      <th>height</th>\n",
       "      <th>BMI</th>\n",
       "      <th>trt_grp</th>\n",
       "      <th>RESPONSE</th>\n",
       "    </tr>\n",
       "  </thead>\n",
       "  <tbody>\n",
       "    <tr>\n",
       "      <th>0</th>\n",
       "      <td>SUBJ_001</td>\n",
       "      <td>46.0</td>\n",
       "      <td>Female</td>\n",
       "      <td>84.66</td>\n",
       "      <td>1.59</td>\n",
       "      <td>33.49</td>\n",
       "      <td>DRUG</td>\n",
       "      <td>N</td>\n",
       "    </tr>\n",
       "    <tr>\n",
       "      <th>2</th>\n",
       "      <td>SUBJ_002</td>\n",
       "      <td>47.0</td>\n",
       "      <td>Female</td>\n",
       "      <td>71.21</td>\n",
       "      <td>1.64</td>\n",
       "      <td>26.48</td>\n",
       "      <td>DRUG</td>\n",
       "      <td>Y</td>\n",
       "    </tr>\n",
       "    <tr>\n",
       "      <th>3</th>\n",
       "      <td>SUBJ_003</td>\n",
       "      <td>48.0</td>\n",
       "      <td>Female</td>\n",
       "      <td>69.85</td>\n",
       "      <td>1.73</td>\n",
       "      <td>23.34</td>\n",
       "      <td>CONTROL</td>\n",
       "      <td>N</td>\n",
       "    </tr>\n",
       "    <tr>\n",
       "      <th>4</th>\n",
       "      <td>SUBJ_004</td>\n",
       "      <td>59.0</td>\n",
       "      <td>Female</td>\n",
       "      <td>62.94</td>\n",
       "      <td>1.50</td>\n",
       "      <td>27.97</td>\n",
       "      <td>DRUG</td>\n",
       "      <td>Y</td>\n",
       "    </tr>\n",
       "    <tr>\n",
       "      <th>5</th>\n",
       "      <td>SUBJ_005</td>\n",
       "      <td>59.0</td>\n",
       "      <td>Female</td>\n",
       "      <td>113.91</td>\n",
       "      <td>1.63</td>\n",
       "      <td>42.87</td>\n",
       "      <td>CONTROL</td>\n",
       "      <td>N</td>\n",
       "    </tr>\n",
       "    <tr>\n",
       "      <th>...</th>\n",
       "      <td>...</td>\n",
       "      <td>...</td>\n",
       "      <td>...</td>\n",
       "      <td>...</td>\n",
       "      <td>...</td>\n",
       "      <td>...</td>\n",
       "      <td>...</td>\n",
       "      <td>...</td>\n",
       "    </tr>\n",
       "    <tr>\n",
       "      <th>764</th>\n",
       "      <td>SUBJ_764</td>\n",
       "      <td>61.0</td>\n",
       "      <td>Female</td>\n",
       "      <td>82.95</td>\n",
       "      <td>1.59</td>\n",
       "      <td>32.81</td>\n",
       "      <td>CONTROL</td>\n",
       "      <td>Y</td>\n",
       "    </tr>\n",
       "    <tr>\n",
       "      <th>765</th>\n",
       "      <td>SUBJ_765</td>\n",
       "      <td>65.0</td>\n",
       "      <td>Male</td>\n",
       "      <td>112.86</td>\n",
       "      <td>1.76</td>\n",
       "      <td>36.43</td>\n",
       "      <td>DRUG</td>\n",
       "      <td>N</td>\n",
       "    </tr>\n",
       "    <tr>\n",
       "      <th>766</th>\n",
       "      <td>SUBJ_766</td>\n",
       "      <td>60.0</td>\n",
       "      <td>Male</td>\n",
       "      <td>81.03</td>\n",
       "      <td>1.77</td>\n",
       "      <td>25.86</td>\n",
       "      <td>DRUG</td>\n",
       "      <td>N</td>\n",
       "    </tr>\n",
       "    <tr>\n",
       "      <th>767</th>\n",
       "      <td>SUBJ_767</td>\n",
       "      <td>53.0</td>\n",
       "      <td>Male</td>\n",
       "      <td>88.67</td>\n",
       "      <td>1.72</td>\n",
       "      <td>29.97</td>\n",
       "      <td>DRUG</td>\n",
       "      <td>Y</td>\n",
       "    </tr>\n",
       "    <tr>\n",
       "      <th>768</th>\n",
       "      <td>SUBJ_768</td>\n",
       "      <td>68.0</td>\n",
       "      <td>Female</td>\n",
       "      <td>80.29</td>\n",
       "      <td>1.63</td>\n",
       "      <td>30.22</td>\n",
       "      <td>DRUG</td>\n",
       "      <td>Y</td>\n",
       "    </tr>\n",
       "  </tbody>\n",
       "</table>\n",
       "<p>768 rows × 8 columns</p>\n",
       "</div>"
      ],
      "text/plain": [
       "    subject_id   age     sex  weight  height    BMI  trt_grp RESPONSE\n",
       "0     SUBJ_001  46.0  Female   84.66    1.59  33.49     DRUG        N\n",
       "2     SUBJ_002  47.0  Female   71.21    1.64  26.48     DRUG        Y\n",
       "3     SUBJ_003  48.0  Female   69.85    1.73  23.34  CONTROL        N\n",
       "4     SUBJ_004  59.0  Female   62.94    1.50  27.97     DRUG        Y\n",
       "5     SUBJ_005  59.0  Female  113.91    1.63  42.87  CONTROL        N\n",
       "..         ...   ...     ...     ...     ...    ...      ...      ...\n",
       "764   SUBJ_764  61.0  Female   82.95    1.59  32.81  CONTROL        Y\n",
       "765   SUBJ_765  65.0    Male  112.86    1.76  36.43     DRUG        N\n",
       "766   SUBJ_766  60.0    Male   81.03    1.77  25.86     DRUG        N\n",
       "767   SUBJ_767  53.0    Male   88.67    1.72  29.97     DRUG        Y\n",
       "768   SUBJ_768  68.0  Female   80.29    1.63  30.22     DRUG        Y\n",
       "\n",
       "[768 rows x 8 columns]"
      ]
     },
     "execution_count": 425,
     "metadata": {},
     "output_type": "execute_result"
    }
   ],
   "source": [
    "df"
   ]
  },
  {
   "cell_type": "markdown",
   "id": "729b4826",
   "metadata": {},
   "source": [
    "### 5. Merge df(clinical_study) and df1(protien_level)"
   ]
  },
  {
   "cell_type": "code",
   "execution_count": 426,
   "id": "6c1e3c2c",
   "metadata": {},
   "outputs": [],
   "source": [
    "# to merge the two dataframe, there should be a common column between both the dataframe. In our case, column\n",
    "# subject_id in clinical_study and paticipant_id in protien_level are same. therefore lets use both as common\n",
    "# column. The name of their column is different. Lets change one of their name. changing participant_id to \n",
    "# subject_id."
   ]
  },
  {
   "cell_type": "code",
   "execution_count": 427,
   "id": "69a28cbc",
   "metadata": {},
   "outputs": [],
   "source": [
    "df1.rename(columns={\"participant_id\":\"subject_id\"}, inplace=True)"
   ]
  },
  {
   "cell_type": "code",
   "execution_count": 428,
   "id": "6319bf71",
   "metadata": {},
   "outputs": [
    {
     "data": {
      "text/html": [
       "<div>\n",
       "<style scoped>\n",
       "    .dataframe tbody tr th:only-of-type {\n",
       "        vertical-align: middle;\n",
       "    }\n",
       "\n",
       "    .dataframe tbody tr th {\n",
       "        vertical-align: top;\n",
       "    }\n",
       "\n",
       "    .dataframe thead th {\n",
       "        text-align: right;\n",
       "    }\n",
       "</style>\n",
       "<table border=\"1\" class=\"dataframe\">\n",
       "  <thead>\n",
       "    <tr style=\"text-align: right;\">\n",
       "      <th></th>\n",
       "      <th>subject_id</th>\n",
       "      <th>protein_concentration</th>\n",
       "    </tr>\n",
       "  </thead>\n",
       "  <tbody>\n",
       "    <tr>\n",
       "      <th>0</th>\n",
       "      <td>SUBJ_001</td>\n",
       "      <td>148.0</td>\n",
       "    </tr>\n",
       "    <tr>\n",
       "      <th>1</th>\n",
       "      <td>SUBJ_002</td>\n",
       "      <td>85.0</td>\n",
       "    </tr>\n",
       "    <tr>\n",
       "      <th>2</th>\n",
       "      <td>SUBJ_003</td>\n",
       "      <td>183.0</td>\n",
       "    </tr>\n",
       "    <tr>\n",
       "      <th>3</th>\n",
       "      <td>SUBJ_004</td>\n",
       "      <td>89.0</td>\n",
       "    </tr>\n",
       "    <tr>\n",
       "      <th>4</th>\n",
       "      <td>SUBJ_005</td>\n",
       "      <td>137.0</td>\n",
       "    </tr>\n",
       "  </tbody>\n",
       "</table>\n",
       "</div>"
      ],
      "text/plain": [
       "  subject_id protein_concentration\n",
       "0   SUBJ_001                 148.0\n",
       "1   SUBJ_002                  85.0\n",
       "2   SUBJ_003                 183.0\n",
       "3   SUBJ_004                  89.0\n",
       "4   SUBJ_005                 137.0"
      ]
     },
     "execution_count": 428,
     "metadata": {},
     "output_type": "execute_result"
    }
   ],
   "source": [
    "df1.head()"
   ]
  },
  {
   "cell_type": "code",
   "execution_count": 429,
   "id": "62e53788",
   "metadata": {},
   "outputs": [],
   "source": [
    "# I have changed column name to subject_id. Now i can easiy merge both the dataframe using suject_id."
   ]
  },
  {
   "cell_type": "code",
   "execution_count": 430,
   "id": "962e1984",
   "metadata": {},
   "outputs": [
    {
     "data": {
      "text/html": [
       "<div>\n",
       "<style scoped>\n",
       "    .dataframe tbody tr th:only-of-type {\n",
       "        vertical-align: middle;\n",
       "    }\n",
       "\n",
       "    .dataframe tbody tr th {\n",
       "        vertical-align: top;\n",
       "    }\n",
       "\n",
       "    .dataframe thead th {\n",
       "        text-align: right;\n",
       "    }\n",
       "</style>\n",
       "<table border=\"1\" class=\"dataframe\">\n",
       "  <thead>\n",
       "    <tr style=\"text-align: right;\">\n",
       "      <th></th>\n",
       "      <th>subject_id</th>\n",
       "      <th>age</th>\n",
       "      <th>sex</th>\n",
       "      <th>weight</th>\n",
       "      <th>height</th>\n",
       "      <th>BMI</th>\n",
       "      <th>trt_grp</th>\n",
       "      <th>RESPONSE</th>\n",
       "      <th>protein_concentration</th>\n",
       "    </tr>\n",
       "  </thead>\n",
       "  <tbody>\n",
       "    <tr>\n",
       "      <th>0</th>\n",
       "      <td>SUBJ_001</td>\n",
       "      <td>46.0</td>\n",
       "      <td>Female</td>\n",
       "      <td>84.66</td>\n",
       "      <td>1.59</td>\n",
       "      <td>33.49</td>\n",
       "      <td>DRUG</td>\n",
       "      <td>N</td>\n",
       "      <td>148.0</td>\n",
       "    </tr>\n",
       "    <tr>\n",
       "      <th>1</th>\n",
       "      <td>SUBJ_002</td>\n",
       "      <td>47.0</td>\n",
       "      <td>Female</td>\n",
       "      <td>71.21</td>\n",
       "      <td>1.64</td>\n",
       "      <td>26.48</td>\n",
       "      <td>DRUG</td>\n",
       "      <td>Y</td>\n",
       "      <td>85.0</td>\n",
       "    </tr>\n",
       "    <tr>\n",
       "      <th>2</th>\n",
       "      <td>SUBJ_003</td>\n",
       "      <td>48.0</td>\n",
       "      <td>Female</td>\n",
       "      <td>69.85</td>\n",
       "      <td>1.73</td>\n",
       "      <td>23.34</td>\n",
       "      <td>CONTROL</td>\n",
       "      <td>N</td>\n",
       "      <td>183.0</td>\n",
       "    </tr>\n",
       "    <tr>\n",
       "      <th>3</th>\n",
       "      <td>SUBJ_004</td>\n",
       "      <td>59.0</td>\n",
       "      <td>Female</td>\n",
       "      <td>62.94</td>\n",
       "      <td>1.50</td>\n",
       "      <td>27.97</td>\n",
       "      <td>DRUG</td>\n",
       "      <td>Y</td>\n",
       "      <td>89.0</td>\n",
       "    </tr>\n",
       "    <tr>\n",
       "      <th>4</th>\n",
       "      <td>SUBJ_005</td>\n",
       "      <td>59.0</td>\n",
       "      <td>Female</td>\n",
       "      <td>113.91</td>\n",
       "      <td>1.63</td>\n",
       "      <td>42.87</td>\n",
       "      <td>CONTROL</td>\n",
       "      <td>N</td>\n",
       "      <td>137.0</td>\n",
       "    </tr>\n",
       "  </tbody>\n",
       "</table>\n",
       "</div>"
      ],
      "text/plain": [
       "  subject_id   age     sex  weight  height    BMI  trt_grp RESPONSE  \\\n",
       "0   SUBJ_001  46.0  Female   84.66    1.59  33.49     DRUG        N   \n",
       "1   SUBJ_002  47.0  Female   71.21    1.64  26.48     DRUG        Y   \n",
       "2   SUBJ_003  48.0  Female   69.85    1.73  23.34  CONTROL        N   \n",
       "3   SUBJ_004  59.0  Female   62.94    1.50  27.97     DRUG        Y   \n",
       "4   SUBJ_005  59.0  Female  113.91    1.63  42.87  CONTROL        N   \n",
       "\n",
       "  protein_concentration  \n",
       "0                 148.0  \n",
       "1                  85.0  \n",
       "2                 183.0  \n",
       "3                  89.0  \n",
       "4                 137.0  "
      ]
     },
     "execution_count": 430,
     "metadata": {},
     "output_type": "execute_result"
    }
   ],
   "source": [
    "df_merged=pd.merge(df, df1, on=\"subject_id\", how=\"left\")\n",
    "df_merged.head()"
   ]
  },
  {
   "cell_type": "code",
   "execution_count": 431,
   "id": "4ba4d2dd",
   "metadata": {},
   "outputs": [],
   "source": [
    "# here i used merge() function to join both the dataframe on common column and used left join because i want\n",
    "# to keep all the data from df and matched value from df1."
   ]
  },
  {
   "cell_type": "code",
   "execution_count": 432,
   "id": "0cd4aff2",
   "metadata": {},
   "outputs": [
    {
     "name": "stdout",
     "output_type": "stream",
     "text": [
      "<class 'pandas.core.frame.DataFrame'>\n",
      "Int64Index: 768 entries, 0 to 767\n",
      "Data columns (total 9 columns):\n",
      " #   Column                 Non-Null Count  Dtype  \n",
      "---  ------                 --------------  -----  \n",
      " 0   subject_id             768 non-null    object \n",
      " 1   age                    768 non-null    float64\n",
      " 2   sex                    768 non-null    object \n",
      " 3   weight                 768 non-null    float64\n",
      " 4   height                 768 non-null    float64\n",
      " 5   BMI                    768 non-null    float64\n",
      " 6   trt_grp                768 non-null    object \n",
      " 7   RESPONSE               768 non-null    object \n",
      " 8   protein_concentration  768 non-null    object \n",
      "dtypes: float64(4), object(5)\n",
      "memory usage: 60.0+ KB\n"
     ]
    }
   ],
   "source": [
    "df_merged.info()"
   ]
  },
  {
   "cell_type": "code",
   "execution_count": 433,
   "id": "2c007ab0",
   "metadata": {},
   "outputs": [],
   "source": [
    "# protien_concentration is object datatype, it needs to change to float type because values are numerical.\n",
    "# I have used to_numeric() function to convert object datatype to float datatype."
   ]
  },
  {
   "cell_type": "code",
   "execution_count": 434,
   "id": "b032cc38",
   "metadata": {},
   "outputs": [],
   "source": [
    "df_merged[\"protein_concentration\"] = pd.to_numeric(df_merged[\"protein_concentration\"], errors='coerce')"
   ]
  },
  {
   "cell_type": "code",
   "execution_count": 435,
   "id": "524a1e70",
   "metadata": {},
   "outputs": [
    {
     "name": "stdout",
     "output_type": "stream",
     "text": [
      "<class 'pandas.core.frame.DataFrame'>\n",
      "Int64Index: 768 entries, 0 to 767\n",
      "Data columns (total 9 columns):\n",
      " #   Column                 Non-Null Count  Dtype  \n",
      "---  ------                 --------------  -----  \n",
      " 0   subject_id             768 non-null    object \n",
      " 1   age                    768 non-null    float64\n",
      " 2   sex                    768 non-null    object \n",
      " 3   weight                 768 non-null    float64\n",
      " 4   height                 768 non-null    float64\n",
      " 5   BMI                    768 non-null    float64\n",
      " 6   trt_grp                768 non-null    object \n",
      " 7   RESPONSE               768 non-null    object \n",
      " 8   protein_concentration  763 non-null    float64\n",
      "dtypes: float64(5), object(4)\n",
      "memory usage: 60.0+ KB\n"
     ]
    }
   ],
   "source": [
    "df_merged.info()"
   ]
  },
  {
   "cell_type": "code",
   "execution_count": null,
   "id": "ae2ce548",
   "metadata": {},
   "outputs": [],
   "source": []
  },
  {
   "cell_type": "markdown",
   "id": "e79ab05b",
   "metadata": {},
   "source": [
    "# Exploratory Data Analysis(EDA)"
   ]
  },
  {
   "cell_type": "markdown",
   "id": "86b3fab3",
   "metadata": {},
   "source": [
    "### 1. Compare mean age in two treatment groups"
   ]
  },
  {
   "cell_type": "code",
   "execution_count": 436,
   "id": "1c122e97",
   "metadata": {},
   "outputs": [
    {
     "data": {
      "text/plain": [
       "CONTROL    385\n",
       "DRUG       383\n",
       "Name: trt_grp, dtype: int64"
      ]
     },
     "execution_count": 436,
     "metadata": {},
     "output_type": "execute_result"
    }
   ],
   "source": [
    "df_merged[\"trt_grp\"].value_counts()"
   ]
  },
  {
   "cell_type": "code",
   "execution_count": 437,
   "id": "f0153f96",
   "metadata": {},
   "outputs": [],
   "source": [
    "# there are 383 people who are using new drugs while 385 number of people are using standard of care."
   ]
  },
  {
   "cell_type": "code",
   "execution_count": 438,
   "id": "a7351eee",
   "metadata": {},
   "outputs": [
    {
     "data": {
      "text/plain": [
       "61.76"
      ]
     },
     "execution_count": 438,
     "metadata": {},
     "output_type": "execute_result"
    }
   ],
   "source": [
    "round(df_merged[df_merged[\"trt_grp\"]==\"DRUG\"][\"age\"].mean(), 2)"
   ]
  },
  {
   "cell_type": "code",
   "execution_count": 439,
   "id": "8e2c4b59",
   "metadata": {},
   "outputs": [],
   "source": [
    "# 61.76 is the mean age of people who are using new drugs."
   ]
  },
  {
   "cell_type": "code",
   "execution_count": 440,
   "id": "b8f2cd2e",
   "metadata": {},
   "outputs": [
    {
     "data": {
      "text/plain": [
       "61.86"
      ]
     },
     "execution_count": 440,
     "metadata": {},
     "output_type": "execute_result"
    }
   ],
   "source": [
    "round(df_merged[df_merged[\"trt_grp\"]==\"CONTROL\"][\"age\"].mean(), 2)"
   ]
  },
  {
   "cell_type": "code",
   "execution_count": 441,
   "id": "0a2f11d8",
   "metadata": {},
   "outputs": [],
   "source": [
    "# 61.86 is the mean age of people who are using standard of care."
   ]
  },
  {
   "cell_type": "code",
   "execution_count": 442,
   "id": "656c2e7c",
   "metadata": {},
   "outputs": [],
   "source": [
    "# If i rounded the numbers it will be 62. we can also see in the following histogram which shows median=62. which\n",
    "# means 62 is the average age for those who are taking new Drugs as well as standard of care.\n",
    "# mean age for DRUG and CONTROL are approx. 62."
   ]
  },
  {
   "cell_type": "code",
   "execution_count": 443,
   "id": "849820b9",
   "metadata": {},
   "outputs": [
    {
     "data": {
      "application/vnd.plotly.v1+json": {
       "config": {
        "plotlyServerURL": "https://plot.ly"
       },
       "data": [
        {
         "alignmentgroup": "True",
         "bingroup": "x",
         "hovertemplate": "trt_grp=DRUG<br>age=%{x}<br>count=%{y}<extra></extra>",
         "legendgroup": "DRUG",
         "marker": {
          "color": "#636efa",
          "pattern": {
           "shape": ""
          }
         },
         "name": "DRUG",
         "offsetgroup": "DRUG",
         "orientation": "v",
         "showlegend": true,
         "type": "histogram",
         "x": [
          46,
          47,
          59,
          57,
          72,
          73,
          53,
          58,
          55,
          65,
          54,
          51,
          73,
          55,
          55,
          56,
          59,
          59,
          55,
          56,
          66,
          69,
          69,
          49,
          63,
          62,
          66,
          64,
          71,
          63,
          58,
          63,
          65,
          59,
          51,
          57,
          73,
          58,
          63,
          61,
          71,
          71,
          78,
          56,
          62,
          62,
          59,
          66,
          69,
          68,
          77,
          66,
          57,
          60,
          72,
          52,
          47,
          67,
          77,
          60,
          62,
          64,
          67,
          72,
          54,
          60,
          58,
          57,
          61,
          67,
          46,
          63,
          58,
          66,
          65,
          58,
          72,
          65,
          63,
          66,
          61,
          60,
          61,
          58,
          60,
          62,
          61,
          64,
          62,
          79,
          65,
          56,
          66,
          73,
          55,
          68,
          55,
          64,
          73,
          57,
          70,
          63,
          67,
          67,
          64,
          60,
          53,
          68,
          63,
          62,
          61,
          58,
          58,
          67,
          63,
          68,
          52,
          67,
          66,
          61,
          49,
          66,
          71,
          69,
          62,
          67,
          73,
          61,
          60,
          73,
          57,
          54,
          54,
          73,
          65,
          60,
          70,
          56,
          67,
          64,
          64,
          58,
          57,
          74,
          44,
          56,
          68,
          79,
          58,
          58,
          50,
          69,
          63,
          56,
          60,
          67,
          51,
          49,
          66,
          52,
          61,
          60,
          65,
          56,
          71,
          75,
          62,
          69,
          68,
          52,
          70,
          47,
          51,
          72,
          69,
          63,
          72,
          63,
          57,
          68,
          60,
          55,
          59,
          61,
          67,
          57,
          39,
          75,
          67,
          66,
          76,
          71,
          73,
          60,
          68,
          66,
          54,
          56,
          67,
          64,
          52,
          59,
          37,
          70,
          63,
          49,
          47,
          59,
          68,
          50,
          53,
          65,
          74,
          75,
          74,
          73,
          66,
          54,
          63,
          69,
          52,
          48,
          71,
          49,
          58,
          69,
          60,
          58,
          67,
          56,
          67,
          60,
          61,
          69,
          69,
          60,
          77,
          61,
          64,
          60,
          76,
          78,
          62,
          65,
          56,
          66,
          56,
          63,
          51,
          51,
          59,
          54,
          66,
          47,
          66,
          55,
          62,
          68,
          67,
          57,
          73,
          55,
          67,
          53,
          58,
          65,
          64,
          63,
          63,
          47,
          57,
          61,
          56,
          68,
          69,
          62,
          69,
          56,
          45,
          68,
          37,
          47,
          54,
          68,
          66,
          49,
          51,
          60,
          71,
          76,
          59,
          58,
          57,
          50,
          65,
          53,
          63,
          64,
          62,
          63,
          57,
          65,
          49,
          50,
          51,
          66,
          57,
          65,
          59,
          63,
          67,
          56,
          66,
          55,
          64,
          54,
          52,
          66,
          65,
          77,
          54,
          71,
          45,
          57,
          59,
          63,
          52,
          72,
          61,
          59,
          69,
          63,
          57,
          63,
          53,
          68,
          72,
          56,
          57,
          71,
          69,
          65,
          62,
          50,
          63,
          58,
          66,
          69,
          58,
          58,
          57,
          60,
          74,
          55,
          68,
          65,
          72,
          64,
          62,
          65,
          68,
          65,
          65,
          54,
          58,
          65,
          61,
          67,
          65,
          61,
          65,
          50,
          64,
          61,
          69,
          65,
          57,
          50,
          70,
          65,
          60,
          53,
          68
         ],
         "xaxis": "x",
         "yaxis": "y"
        },
        {
         "alignmentgroup": "True",
         "hovertemplate": "trt_grp=DRUG<br>age=%{x}<extra></extra>",
         "legendgroup": "DRUG",
         "marker": {
          "color": "#636efa"
         },
         "name": "DRUG",
         "notched": true,
         "offsetgroup": "DRUG",
         "showlegend": false,
         "type": "box",
         "x": [
          46,
          47,
          59,
          57,
          72,
          73,
          53,
          58,
          55,
          65,
          54,
          51,
          73,
          55,
          55,
          56,
          59,
          59,
          55,
          56,
          66,
          69,
          69,
          49,
          63,
          62,
          66,
          64,
          71,
          63,
          58,
          63,
          65,
          59,
          51,
          57,
          73,
          58,
          63,
          61,
          71,
          71,
          78,
          56,
          62,
          62,
          59,
          66,
          69,
          68,
          77,
          66,
          57,
          60,
          72,
          52,
          47,
          67,
          77,
          60,
          62,
          64,
          67,
          72,
          54,
          60,
          58,
          57,
          61,
          67,
          46,
          63,
          58,
          66,
          65,
          58,
          72,
          65,
          63,
          66,
          61,
          60,
          61,
          58,
          60,
          62,
          61,
          64,
          62,
          79,
          65,
          56,
          66,
          73,
          55,
          68,
          55,
          64,
          73,
          57,
          70,
          63,
          67,
          67,
          64,
          60,
          53,
          68,
          63,
          62,
          61,
          58,
          58,
          67,
          63,
          68,
          52,
          67,
          66,
          61,
          49,
          66,
          71,
          69,
          62,
          67,
          73,
          61,
          60,
          73,
          57,
          54,
          54,
          73,
          65,
          60,
          70,
          56,
          67,
          64,
          64,
          58,
          57,
          74,
          44,
          56,
          68,
          79,
          58,
          58,
          50,
          69,
          63,
          56,
          60,
          67,
          51,
          49,
          66,
          52,
          61,
          60,
          65,
          56,
          71,
          75,
          62,
          69,
          68,
          52,
          70,
          47,
          51,
          72,
          69,
          63,
          72,
          63,
          57,
          68,
          60,
          55,
          59,
          61,
          67,
          57,
          39,
          75,
          67,
          66,
          76,
          71,
          73,
          60,
          68,
          66,
          54,
          56,
          67,
          64,
          52,
          59,
          37,
          70,
          63,
          49,
          47,
          59,
          68,
          50,
          53,
          65,
          74,
          75,
          74,
          73,
          66,
          54,
          63,
          69,
          52,
          48,
          71,
          49,
          58,
          69,
          60,
          58,
          67,
          56,
          67,
          60,
          61,
          69,
          69,
          60,
          77,
          61,
          64,
          60,
          76,
          78,
          62,
          65,
          56,
          66,
          56,
          63,
          51,
          51,
          59,
          54,
          66,
          47,
          66,
          55,
          62,
          68,
          67,
          57,
          73,
          55,
          67,
          53,
          58,
          65,
          64,
          63,
          63,
          47,
          57,
          61,
          56,
          68,
          69,
          62,
          69,
          56,
          45,
          68,
          37,
          47,
          54,
          68,
          66,
          49,
          51,
          60,
          71,
          76,
          59,
          58,
          57,
          50,
          65,
          53,
          63,
          64,
          62,
          63,
          57,
          65,
          49,
          50,
          51,
          66,
          57,
          65,
          59,
          63,
          67,
          56,
          66,
          55,
          64,
          54,
          52,
          66,
          65,
          77,
          54,
          71,
          45,
          57,
          59,
          63,
          52,
          72,
          61,
          59,
          69,
          63,
          57,
          63,
          53,
          68,
          72,
          56,
          57,
          71,
          69,
          65,
          62,
          50,
          63,
          58,
          66,
          69,
          58,
          58,
          57,
          60,
          74,
          55,
          68,
          65,
          72,
          64,
          62,
          65,
          68,
          65,
          65,
          54,
          58,
          65,
          61,
          67,
          65,
          61,
          65,
          50,
          64,
          61,
          69,
          65,
          57,
          50,
          70,
          65,
          60,
          53,
          68
         ],
         "xaxis": "x2",
         "yaxis": "y2"
        },
        {
         "alignmentgroup": "True",
         "bingroup": "x",
         "hovertemplate": "trt_grp=CONTROL<br>age=%{x}<br>count=%{y}<extra></extra>",
         "legendgroup": "CONTROL",
         "marker": {
          "color": "#EF553B",
          "pattern": {
           "shape": ""
          }
         },
         "name": "CONTROL",
         "offsetgroup": "CONTROL",
         "orientation": "v",
         "showlegend": true,
         "type": "histogram",
         "x": [
          48,
          59,
          63,
          77,
          67,
          57,
          65,
          61,
          56,
          57,
          64,
          55,
          66,
          70,
          68,
          61,
          60,
          65,
          58,
          70,
          64,
          59,
          61,
          52,
          69,
          59,
          63,
          65,
          56,
          59,
          65,
          57,
          60,
          63,
          64,
          68,
          65,
          58,
          60,
          58,
          61,
          62,
          79,
          48,
          79,
          56,
          68,
          55,
          56,
          65,
          56,
          64,
          68,
          77,
          58,
          61,
          64,
          70,
          62,
          68,
          73,
          57,
          54,
          69,
          72,
          57,
          59,
          67,
          65,
          69,
          55,
          49,
          77,
          57,
          63,
          56,
          56,
          56,
          69,
          71,
          71,
          59,
          58,
          69,
          55,
          66,
          60,
          60,
          67,
          59,
          61,
          69,
          64,
          63,
          67,
          55,
          43,
          57,
          65,
          57,
          67,
          58,
          71,
          56,
          44,
          69,
          67,
          72,
          64,
          58,
          59,
          69,
          62,
          67,
          57,
          64,
          56,
          52,
          59,
          70,
          58,
          66,
          73,
          60,
          56,
          62,
          61,
          62,
          65,
          55,
          59,
          56,
          65,
          76,
          68,
          39,
          61,
          60,
          59,
          43,
          59,
          58,
          68,
          68,
          65,
          45,
          59,
          60,
          61,
          70,
          62,
          62,
          53,
          67,
          75,
          69,
          59,
          65,
          63,
          58,
          68,
          59,
          63,
          66,
          64,
          58,
          70,
          70,
          43,
          67,
          69,
          60,
          52,
          66,
          59,
          67,
          55,
          67,
          57,
          70,
          67,
          53,
          62,
          55,
          58,
          53,
          62,
          61,
          64,
          70,
          67,
          60,
          61,
          59,
          63,
          62,
          56,
          74,
          71,
          72,
          68,
          73,
          64,
          64,
          60,
          64,
          56,
          59,
          66,
          59,
          68,
          62,
          59,
          63,
          55,
          69,
          54,
          67,
          66,
          69,
          59,
          62,
          59,
          59,
          65,
          63,
          58,
          63,
          57,
          54,
          68,
          69,
          49,
          64,
          55,
          63,
          67,
          52,
          65,
          61,
          60,
          64,
          48,
          61,
          72,
          73,
          57,
          62,
          60,
          66,
          51,
          60,
          64,
          60,
          53,
          55,
          66,
          56,
          48,
          60,
          66,
          50,
          62,
          64,
          59,
          59,
          62,
          71,
          70,
          74,
          70,
          61,
          66,
          55,
          70,
          58,
          56,
          55,
          68,
          69,
          61,
          54,
          63,
          68,
          54,
          64,
          69,
          56,
          66,
          58,
          63,
          58,
          62,
          60,
          70,
          59,
          63,
          68,
          58,
          59,
          60,
          55,
          48,
          75,
          62,
          60,
          58,
          55,
          66,
          58,
          61,
          61,
          64,
          65,
          68,
          59,
          62,
          61,
          55,
          55,
          57,
          68,
          73,
          61,
          64,
          57,
          70,
          50,
          61,
          71,
          62,
          76,
          74,
          49,
          61,
          48,
          50,
          67,
          52,
          62,
          65,
          54,
          66,
          56,
          65,
          74,
          68,
          63,
          60,
          49,
          71,
          53,
          61,
          58,
          62,
          67,
          64,
          64,
          60,
          64,
          65,
          69,
          69,
          57,
          67,
          61,
          59,
          57,
          71,
          75,
          68,
          55,
          56,
          56,
          57,
          59,
          47,
          62,
          67,
          61,
          68,
          48,
          66,
          64,
          61
         ],
         "xaxis": "x",
         "yaxis": "y"
        },
        {
         "alignmentgroup": "True",
         "hovertemplate": "trt_grp=CONTROL<br>age=%{x}<extra></extra>",
         "legendgroup": "CONTROL",
         "marker": {
          "color": "#EF553B"
         },
         "name": "CONTROL",
         "notched": true,
         "offsetgroup": "CONTROL",
         "showlegend": false,
         "type": "box",
         "x": [
          48,
          59,
          63,
          77,
          67,
          57,
          65,
          61,
          56,
          57,
          64,
          55,
          66,
          70,
          68,
          61,
          60,
          65,
          58,
          70,
          64,
          59,
          61,
          52,
          69,
          59,
          63,
          65,
          56,
          59,
          65,
          57,
          60,
          63,
          64,
          68,
          65,
          58,
          60,
          58,
          61,
          62,
          79,
          48,
          79,
          56,
          68,
          55,
          56,
          65,
          56,
          64,
          68,
          77,
          58,
          61,
          64,
          70,
          62,
          68,
          73,
          57,
          54,
          69,
          72,
          57,
          59,
          67,
          65,
          69,
          55,
          49,
          77,
          57,
          63,
          56,
          56,
          56,
          69,
          71,
          71,
          59,
          58,
          69,
          55,
          66,
          60,
          60,
          67,
          59,
          61,
          69,
          64,
          63,
          67,
          55,
          43,
          57,
          65,
          57,
          67,
          58,
          71,
          56,
          44,
          69,
          67,
          72,
          64,
          58,
          59,
          69,
          62,
          67,
          57,
          64,
          56,
          52,
          59,
          70,
          58,
          66,
          73,
          60,
          56,
          62,
          61,
          62,
          65,
          55,
          59,
          56,
          65,
          76,
          68,
          39,
          61,
          60,
          59,
          43,
          59,
          58,
          68,
          68,
          65,
          45,
          59,
          60,
          61,
          70,
          62,
          62,
          53,
          67,
          75,
          69,
          59,
          65,
          63,
          58,
          68,
          59,
          63,
          66,
          64,
          58,
          70,
          70,
          43,
          67,
          69,
          60,
          52,
          66,
          59,
          67,
          55,
          67,
          57,
          70,
          67,
          53,
          62,
          55,
          58,
          53,
          62,
          61,
          64,
          70,
          67,
          60,
          61,
          59,
          63,
          62,
          56,
          74,
          71,
          72,
          68,
          73,
          64,
          64,
          60,
          64,
          56,
          59,
          66,
          59,
          68,
          62,
          59,
          63,
          55,
          69,
          54,
          67,
          66,
          69,
          59,
          62,
          59,
          59,
          65,
          63,
          58,
          63,
          57,
          54,
          68,
          69,
          49,
          64,
          55,
          63,
          67,
          52,
          65,
          61,
          60,
          64,
          48,
          61,
          72,
          73,
          57,
          62,
          60,
          66,
          51,
          60,
          64,
          60,
          53,
          55,
          66,
          56,
          48,
          60,
          66,
          50,
          62,
          64,
          59,
          59,
          62,
          71,
          70,
          74,
          70,
          61,
          66,
          55,
          70,
          58,
          56,
          55,
          68,
          69,
          61,
          54,
          63,
          68,
          54,
          64,
          69,
          56,
          66,
          58,
          63,
          58,
          62,
          60,
          70,
          59,
          63,
          68,
          58,
          59,
          60,
          55,
          48,
          75,
          62,
          60,
          58,
          55,
          66,
          58,
          61,
          61,
          64,
          65,
          68,
          59,
          62,
          61,
          55,
          55,
          57,
          68,
          73,
          61,
          64,
          57,
          70,
          50,
          61,
          71,
          62,
          76,
          74,
          49,
          61,
          48,
          50,
          67,
          52,
          62,
          65,
          54,
          66,
          56,
          65,
          74,
          68,
          63,
          60,
          49,
          71,
          53,
          61,
          58,
          62,
          67,
          64,
          64,
          60,
          64,
          65,
          69,
          69,
          57,
          67,
          61,
          59,
          57,
          71,
          75,
          68,
          55,
          56,
          56,
          57,
          59,
          47,
          62,
          67,
          61,
          68,
          48,
          66,
          64,
          61
         ],
         "xaxis": "x2",
         "yaxis": "y2"
        }
       ],
       "layout": {
        "barmode": "relative",
        "legend": {
         "title": {
          "text": "trt_grp"
         },
         "tracegroupgap": 0
        },
        "margin": {
         "t": 60
        },
        "template": {
         "data": {
          "bar": [
           {
            "error_x": {
             "color": "#2a3f5f"
            },
            "error_y": {
             "color": "#2a3f5f"
            },
            "marker": {
             "line": {
              "color": "#E5ECF6",
              "width": 0.5
             },
             "pattern": {
              "fillmode": "overlay",
              "size": 10,
              "solidity": 0.2
             }
            },
            "type": "bar"
           }
          ],
          "barpolar": [
           {
            "marker": {
             "line": {
              "color": "#E5ECF6",
              "width": 0.5
             },
             "pattern": {
              "fillmode": "overlay",
              "size": 10,
              "solidity": 0.2
             }
            },
            "type": "barpolar"
           }
          ],
          "carpet": [
           {
            "aaxis": {
             "endlinecolor": "#2a3f5f",
             "gridcolor": "white",
             "linecolor": "white",
             "minorgridcolor": "white",
             "startlinecolor": "#2a3f5f"
            },
            "baxis": {
             "endlinecolor": "#2a3f5f",
             "gridcolor": "white",
             "linecolor": "white",
             "minorgridcolor": "white",
             "startlinecolor": "#2a3f5f"
            },
            "type": "carpet"
           }
          ],
          "choropleth": [
           {
            "colorbar": {
             "outlinewidth": 0,
             "ticks": ""
            },
            "type": "choropleth"
           }
          ],
          "contour": [
           {
            "colorbar": {
             "outlinewidth": 0,
             "ticks": ""
            },
            "colorscale": [
             [
              0,
              "#0d0887"
             ],
             [
              0.1111111111111111,
              "#46039f"
             ],
             [
              0.2222222222222222,
              "#7201a8"
             ],
             [
              0.3333333333333333,
              "#9c179e"
             ],
             [
              0.4444444444444444,
              "#bd3786"
             ],
             [
              0.5555555555555556,
              "#d8576b"
             ],
             [
              0.6666666666666666,
              "#ed7953"
             ],
             [
              0.7777777777777778,
              "#fb9f3a"
             ],
             [
              0.8888888888888888,
              "#fdca26"
             ],
             [
              1,
              "#f0f921"
             ]
            ],
            "type": "contour"
           }
          ],
          "contourcarpet": [
           {
            "colorbar": {
             "outlinewidth": 0,
             "ticks": ""
            },
            "type": "contourcarpet"
           }
          ],
          "heatmap": [
           {
            "colorbar": {
             "outlinewidth": 0,
             "ticks": ""
            },
            "colorscale": [
             [
              0,
              "#0d0887"
             ],
             [
              0.1111111111111111,
              "#46039f"
             ],
             [
              0.2222222222222222,
              "#7201a8"
             ],
             [
              0.3333333333333333,
              "#9c179e"
             ],
             [
              0.4444444444444444,
              "#bd3786"
             ],
             [
              0.5555555555555556,
              "#d8576b"
             ],
             [
              0.6666666666666666,
              "#ed7953"
             ],
             [
              0.7777777777777778,
              "#fb9f3a"
             ],
             [
              0.8888888888888888,
              "#fdca26"
             ],
             [
              1,
              "#f0f921"
             ]
            ],
            "type": "heatmap"
           }
          ],
          "heatmapgl": [
           {
            "colorbar": {
             "outlinewidth": 0,
             "ticks": ""
            },
            "colorscale": [
             [
              0,
              "#0d0887"
             ],
             [
              0.1111111111111111,
              "#46039f"
             ],
             [
              0.2222222222222222,
              "#7201a8"
             ],
             [
              0.3333333333333333,
              "#9c179e"
             ],
             [
              0.4444444444444444,
              "#bd3786"
             ],
             [
              0.5555555555555556,
              "#d8576b"
             ],
             [
              0.6666666666666666,
              "#ed7953"
             ],
             [
              0.7777777777777778,
              "#fb9f3a"
             ],
             [
              0.8888888888888888,
              "#fdca26"
             ],
             [
              1,
              "#f0f921"
             ]
            ],
            "type": "heatmapgl"
           }
          ],
          "histogram": [
           {
            "marker": {
             "pattern": {
              "fillmode": "overlay",
              "size": 10,
              "solidity": 0.2
             }
            },
            "type": "histogram"
           }
          ],
          "histogram2d": [
           {
            "colorbar": {
             "outlinewidth": 0,
             "ticks": ""
            },
            "colorscale": [
             [
              0,
              "#0d0887"
             ],
             [
              0.1111111111111111,
              "#46039f"
             ],
             [
              0.2222222222222222,
              "#7201a8"
             ],
             [
              0.3333333333333333,
              "#9c179e"
             ],
             [
              0.4444444444444444,
              "#bd3786"
             ],
             [
              0.5555555555555556,
              "#d8576b"
             ],
             [
              0.6666666666666666,
              "#ed7953"
             ],
             [
              0.7777777777777778,
              "#fb9f3a"
             ],
             [
              0.8888888888888888,
              "#fdca26"
             ],
             [
              1,
              "#f0f921"
             ]
            ],
            "type": "histogram2d"
           }
          ],
          "histogram2dcontour": [
           {
            "colorbar": {
             "outlinewidth": 0,
             "ticks": ""
            },
            "colorscale": [
             [
              0,
              "#0d0887"
             ],
             [
              0.1111111111111111,
              "#46039f"
             ],
             [
              0.2222222222222222,
              "#7201a8"
             ],
             [
              0.3333333333333333,
              "#9c179e"
             ],
             [
              0.4444444444444444,
              "#bd3786"
             ],
             [
              0.5555555555555556,
              "#d8576b"
             ],
             [
              0.6666666666666666,
              "#ed7953"
             ],
             [
              0.7777777777777778,
              "#fb9f3a"
             ],
             [
              0.8888888888888888,
              "#fdca26"
             ],
             [
              1,
              "#f0f921"
             ]
            ],
            "type": "histogram2dcontour"
           }
          ],
          "mesh3d": [
           {
            "colorbar": {
             "outlinewidth": 0,
             "ticks": ""
            },
            "type": "mesh3d"
           }
          ],
          "parcoords": [
           {
            "line": {
             "colorbar": {
              "outlinewidth": 0,
              "ticks": ""
             }
            },
            "type": "parcoords"
           }
          ],
          "pie": [
           {
            "automargin": true,
            "type": "pie"
           }
          ],
          "scatter": [
           {
            "fillpattern": {
             "fillmode": "overlay",
             "size": 10,
             "solidity": 0.2
            },
            "type": "scatter"
           }
          ],
          "scatter3d": [
           {
            "line": {
             "colorbar": {
              "outlinewidth": 0,
              "ticks": ""
             }
            },
            "marker": {
             "colorbar": {
              "outlinewidth": 0,
              "ticks": ""
             }
            },
            "type": "scatter3d"
           }
          ],
          "scattercarpet": [
           {
            "marker": {
             "colorbar": {
              "outlinewidth": 0,
              "ticks": ""
             }
            },
            "type": "scattercarpet"
           }
          ],
          "scattergeo": [
           {
            "marker": {
             "colorbar": {
              "outlinewidth": 0,
              "ticks": ""
             }
            },
            "type": "scattergeo"
           }
          ],
          "scattergl": [
           {
            "marker": {
             "colorbar": {
              "outlinewidth": 0,
              "ticks": ""
             }
            },
            "type": "scattergl"
           }
          ],
          "scattermapbox": [
           {
            "marker": {
             "colorbar": {
              "outlinewidth": 0,
              "ticks": ""
             }
            },
            "type": "scattermapbox"
           }
          ],
          "scatterpolar": [
           {
            "marker": {
             "colorbar": {
              "outlinewidth": 0,
              "ticks": ""
             }
            },
            "type": "scatterpolar"
           }
          ],
          "scatterpolargl": [
           {
            "marker": {
             "colorbar": {
              "outlinewidth": 0,
              "ticks": ""
             }
            },
            "type": "scatterpolargl"
           }
          ],
          "scatterternary": [
           {
            "marker": {
             "colorbar": {
              "outlinewidth": 0,
              "ticks": ""
             }
            },
            "type": "scatterternary"
           }
          ],
          "surface": [
           {
            "colorbar": {
             "outlinewidth": 0,
             "ticks": ""
            },
            "colorscale": [
             [
              0,
              "#0d0887"
             ],
             [
              0.1111111111111111,
              "#46039f"
             ],
             [
              0.2222222222222222,
              "#7201a8"
             ],
             [
              0.3333333333333333,
              "#9c179e"
             ],
             [
              0.4444444444444444,
              "#bd3786"
             ],
             [
              0.5555555555555556,
              "#d8576b"
             ],
             [
              0.6666666666666666,
              "#ed7953"
             ],
             [
              0.7777777777777778,
              "#fb9f3a"
             ],
             [
              0.8888888888888888,
              "#fdca26"
             ],
             [
              1,
              "#f0f921"
             ]
            ],
            "type": "surface"
           }
          ],
          "table": [
           {
            "cells": {
             "fill": {
              "color": "#EBF0F8"
             },
             "line": {
              "color": "white"
             }
            },
            "header": {
             "fill": {
              "color": "#C8D4E3"
             },
             "line": {
              "color": "white"
             }
            },
            "type": "table"
           }
          ]
         },
         "layout": {
          "annotationdefaults": {
           "arrowcolor": "#2a3f5f",
           "arrowhead": 0,
           "arrowwidth": 1
          },
          "autotypenumbers": "strict",
          "coloraxis": {
           "colorbar": {
            "outlinewidth": 0,
            "ticks": ""
           }
          },
          "colorscale": {
           "diverging": [
            [
             0,
             "#8e0152"
            ],
            [
             0.1,
             "#c51b7d"
            ],
            [
             0.2,
             "#de77ae"
            ],
            [
             0.3,
             "#f1b6da"
            ],
            [
             0.4,
             "#fde0ef"
            ],
            [
             0.5,
             "#f7f7f7"
            ],
            [
             0.6,
             "#e6f5d0"
            ],
            [
             0.7,
             "#b8e186"
            ],
            [
             0.8,
             "#7fbc41"
            ],
            [
             0.9,
             "#4d9221"
            ],
            [
             1,
             "#276419"
            ]
           ],
           "sequential": [
            [
             0,
             "#0d0887"
            ],
            [
             0.1111111111111111,
             "#46039f"
            ],
            [
             0.2222222222222222,
             "#7201a8"
            ],
            [
             0.3333333333333333,
             "#9c179e"
            ],
            [
             0.4444444444444444,
             "#bd3786"
            ],
            [
             0.5555555555555556,
             "#d8576b"
            ],
            [
             0.6666666666666666,
             "#ed7953"
            ],
            [
             0.7777777777777778,
             "#fb9f3a"
            ],
            [
             0.8888888888888888,
             "#fdca26"
            ],
            [
             1,
             "#f0f921"
            ]
           ],
           "sequentialminus": [
            [
             0,
             "#0d0887"
            ],
            [
             0.1111111111111111,
             "#46039f"
            ],
            [
             0.2222222222222222,
             "#7201a8"
            ],
            [
             0.3333333333333333,
             "#9c179e"
            ],
            [
             0.4444444444444444,
             "#bd3786"
            ],
            [
             0.5555555555555556,
             "#d8576b"
            ],
            [
             0.6666666666666666,
             "#ed7953"
            ],
            [
             0.7777777777777778,
             "#fb9f3a"
            ],
            [
             0.8888888888888888,
             "#fdca26"
            ],
            [
             1,
             "#f0f921"
            ]
           ]
          },
          "colorway": [
           "#636efa",
           "#EF553B",
           "#00cc96",
           "#ab63fa",
           "#FFA15A",
           "#19d3f3",
           "#FF6692",
           "#B6E880",
           "#FF97FF",
           "#FECB52"
          ],
          "font": {
           "color": "#2a3f5f"
          },
          "geo": {
           "bgcolor": "white",
           "lakecolor": "white",
           "landcolor": "#E5ECF6",
           "showlakes": true,
           "showland": true,
           "subunitcolor": "white"
          },
          "hoverlabel": {
           "align": "left"
          },
          "hovermode": "closest",
          "mapbox": {
           "style": "light"
          },
          "paper_bgcolor": "white",
          "plot_bgcolor": "#E5ECF6",
          "polar": {
           "angularaxis": {
            "gridcolor": "white",
            "linecolor": "white",
            "ticks": ""
           },
           "bgcolor": "#E5ECF6",
           "radialaxis": {
            "gridcolor": "white",
            "linecolor": "white",
            "ticks": ""
           }
          },
          "scene": {
           "xaxis": {
            "backgroundcolor": "#E5ECF6",
            "gridcolor": "white",
            "gridwidth": 2,
            "linecolor": "white",
            "showbackground": true,
            "ticks": "",
            "zerolinecolor": "white"
           },
           "yaxis": {
            "backgroundcolor": "#E5ECF6",
            "gridcolor": "white",
            "gridwidth": 2,
            "linecolor": "white",
            "showbackground": true,
            "ticks": "",
            "zerolinecolor": "white"
           },
           "zaxis": {
            "backgroundcolor": "#E5ECF6",
            "gridcolor": "white",
            "gridwidth": 2,
            "linecolor": "white",
            "showbackground": true,
            "ticks": "",
            "zerolinecolor": "white"
           }
          },
          "shapedefaults": {
           "line": {
            "color": "#2a3f5f"
           }
          },
          "ternary": {
           "aaxis": {
            "gridcolor": "white",
            "linecolor": "white",
            "ticks": ""
           },
           "baxis": {
            "gridcolor": "white",
            "linecolor": "white",
            "ticks": ""
           },
           "bgcolor": "#E5ECF6",
           "caxis": {
            "gridcolor": "white",
            "linecolor": "white",
            "ticks": ""
           }
          },
          "title": {
           "x": 0.05
          },
          "xaxis": {
           "automargin": true,
           "gridcolor": "white",
           "linecolor": "white",
           "ticks": "",
           "title": {
            "standoff": 15
           },
           "zerolinecolor": "white",
           "zerolinewidth": 2
          },
          "yaxis": {
           "automargin": true,
           "gridcolor": "white",
           "linecolor": "white",
           "ticks": "",
           "title": {
            "standoff": 15
           },
           "zerolinecolor": "white",
           "zerolinewidth": 2
          }
         }
        },
        "xaxis": {
         "anchor": "y",
         "domain": [
          0,
          1
         ],
         "title": {
          "text": "age"
         }
        },
        "xaxis2": {
         "anchor": "y2",
         "domain": [
          0,
          1
         ],
         "matches": "x",
         "showgrid": true,
         "showticklabels": false
        },
        "yaxis": {
         "anchor": "x",
         "domain": [
          0,
          0.7326
         ],
         "title": {
          "text": "count"
         }
        },
        "yaxis2": {
         "anchor": "x2",
         "domain": [
          0.7426,
          1
         ],
         "matches": "y2",
         "showgrid": false,
         "showline": false,
         "showticklabels": false,
         "ticks": ""
        }
       }
      },
      "text/html": [
       "<div>                            <div id=\"10c2de48-598b-40e1-8321-5c438d165526\" class=\"plotly-graph-div\" style=\"height:525px; width:100%;\"></div>            <script type=\"text/javascript\">                require([\"plotly\"], function(Plotly) {                    window.PLOTLYENV=window.PLOTLYENV || {};                                    if (document.getElementById(\"10c2de48-598b-40e1-8321-5c438d165526\")) {                    Plotly.newPlot(                        \"10c2de48-598b-40e1-8321-5c438d165526\",                        [{\"alignmentgroup\":\"True\",\"bingroup\":\"x\",\"hovertemplate\":\"trt_grp=DRUG<br>age=%{x}<br>count=%{y}<extra></extra>\",\"legendgroup\":\"DRUG\",\"marker\":{\"color\":\"#636efa\",\"pattern\":{\"shape\":\"\"}},\"name\":\"DRUG\",\"offsetgroup\":\"DRUG\",\"orientation\":\"v\",\"showlegend\":true,\"x\":[46.0,47.0,59.0,57.0,72.0,73.0,53.0,58.0,55.0,65.0,54.0,51.0,73.0,55.0,55.0,56.0,59.0,59.0,55.0,56.0,66.0,69.0,69.0,49.0,63.0,62.0,66.0,64.0,71.0,63.0,58.0,63.0,65.0,59.0,51.0,57.0,73.0,58.0,63.0,61.0,71.0,71.0,78.0,56.0,62.0,62.0,59.0,66.0,69.0,68.0,77.0,66.0,57.0,60.0,72.0,52.0,47.0,67.0,77.0,60.0,62.0,64.0,67.0,72.0,54.0,60.0,58.0,57.0,61.0,67.0,46.0,63.0,58.0,66.0,65.0,58.0,72.0,65.0,63.0,66.0,61.0,60.0,61.0,58.0,60.0,62.0,61.0,64.0,62.0,79.0,65.0,56.0,66.0,73.0,55.0,68.0,55.0,64.0,73.0,57.0,70.0,63.0,67.0,67.0,64.0,60.0,53.0,68.0,63.0,62.0,61.0,58.0,58.0,67.0,63.0,68.0,52.0,67.0,66.0,61.0,49.0,66.0,71.0,69.0,62.0,67.0,73.0,61.0,60.0,73.0,57.0,54.0,54.0,73.0,65.0,60.0,70.0,56.0,67.0,64.0,64.0,58.0,57.0,74.0,44.0,56.0,68.0,79.0,58.0,58.0,50.0,69.0,63.0,56.0,60.0,67.0,51.0,49.0,66.0,52.0,61.0,60.0,65.0,56.0,71.0,75.0,62.0,69.0,68.0,52.0,70.0,47.0,51.0,72.0,69.0,63.0,72.0,63.0,57.0,68.0,60.0,55.0,59.0,61.0,67.0,57.0,39.0,75.0,67.0,66.0,76.0,71.0,73.0,60.0,68.0,66.0,54.0,56.0,67.0,64.0,52.0,59.0,37.0,70.0,63.0,49.0,47.0,59.0,68.0,50.0,53.0,65.0,74.0,75.0,74.0,73.0,66.0,54.0,63.0,69.0,52.0,48.0,71.0,49.0,58.0,69.0,60.0,58.0,67.0,56.0,67.0,60.0,61.0,69.0,69.0,60.0,77.0,61.0,64.0,60.0,76.0,78.0,62.0,65.0,56.0,66.0,56.0,63.0,51.0,51.0,59.0,54.0,66.0,47.0,66.0,55.0,62.0,68.0,67.0,57.0,73.0,55.0,67.0,53.0,58.0,65.0,64.0,63.0,63.0,47.0,57.0,61.0,56.0,68.0,69.0,62.0,69.0,56.0,45.0,68.0,37.0,47.0,54.0,68.0,66.0,49.0,51.0,60.0,71.0,76.0,59.0,58.0,57.0,50.0,65.0,53.0,63.0,64.0,62.0,63.0,57.0,65.0,49.0,50.0,51.0,66.0,57.0,65.0,59.0,63.0,67.0,56.0,66.0,55.0,64.0,54.0,52.0,66.0,65.0,77.0,54.0,71.0,45.0,57.0,59.0,63.0,52.0,72.0,61.0,59.0,69.0,63.0,57.0,63.0,53.0,68.0,72.0,56.0,57.0,71.0,69.0,65.0,62.0,50.0,63.0,58.0,66.0,69.0,58.0,58.0,57.0,60.0,74.0,55.0,68.0,65.0,72.0,64.0,62.0,65.0,68.0,65.0,65.0,54.0,58.0,65.0,61.0,67.0,65.0,61.0,65.0,50.0,64.0,61.0,69.0,65.0,57.0,50.0,70.0,65.0,60.0,53.0,68.0],\"xaxis\":\"x\",\"yaxis\":\"y\",\"type\":\"histogram\"},{\"alignmentgroup\":\"True\",\"hovertemplate\":\"trt_grp=DRUG<br>age=%{x}<extra></extra>\",\"legendgroup\":\"DRUG\",\"marker\":{\"color\":\"#636efa\"},\"name\":\"DRUG\",\"notched\":true,\"offsetgroup\":\"DRUG\",\"showlegend\":false,\"x\":[46.0,47.0,59.0,57.0,72.0,73.0,53.0,58.0,55.0,65.0,54.0,51.0,73.0,55.0,55.0,56.0,59.0,59.0,55.0,56.0,66.0,69.0,69.0,49.0,63.0,62.0,66.0,64.0,71.0,63.0,58.0,63.0,65.0,59.0,51.0,57.0,73.0,58.0,63.0,61.0,71.0,71.0,78.0,56.0,62.0,62.0,59.0,66.0,69.0,68.0,77.0,66.0,57.0,60.0,72.0,52.0,47.0,67.0,77.0,60.0,62.0,64.0,67.0,72.0,54.0,60.0,58.0,57.0,61.0,67.0,46.0,63.0,58.0,66.0,65.0,58.0,72.0,65.0,63.0,66.0,61.0,60.0,61.0,58.0,60.0,62.0,61.0,64.0,62.0,79.0,65.0,56.0,66.0,73.0,55.0,68.0,55.0,64.0,73.0,57.0,70.0,63.0,67.0,67.0,64.0,60.0,53.0,68.0,63.0,62.0,61.0,58.0,58.0,67.0,63.0,68.0,52.0,67.0,66.0,61.0,49.0,66.0,71.0,69.0,62.0,67.0,73.0,61.0,60.0,73.0,57.0,54.0,54.0,73.0,65.0,60.0,70.0,56.0,67.0,64.0,64.0,58.0,57.0,74.0,44.0,56.0,68.0,79.0,58.0,58.0,50.0,69.0,63.0,56.0,60.0,67.0,51.0,49.0,66.0,52.0,61.0,60.0,65.0,56.0,71.0,75.0,62.0,69.0,68.0,52.0,70.0,47.0,51.0,72.0,69.0,63.0,72.0,63.0,57.0,68.0,60.0,55.0,59.0,61.0,67.0,57.0,39.0,75.0,67.0,66.0,76.0,71.0,73.0,60.0,68.0,66.0,54.0,56.0,67.0,64.0,52.0,59.0,37.0,70.0,63.0,49.0,47.0,59.0,68.0,50.0,53.0,65.0,74.0,75.0,74.0,73.0,66.0,54.0,63.0,69.0,52.0,48.0,71.0,49.0,58.0,69.0,60.0,58.0,67.0,56.0,67.0,60.0,61.0,69.0,69.0,60.0,77.0,61.0,64.0,60.0,76.0,78.0,62.0,65.0,56.0,66.0,56.0,63.0,51.0,51.0,59.0,54.0,66.0,47.0,66.0,55.0,62.0,68.0,67.0,57.0,73.0,55.0,67.0,53.0,58.0,65.0,64.0,63.0,63.0,47.0,57.0,61.0,56.0,68.0,69.0,62.0,69.0,56.0,45.0,68.0,37.0,47.0,54.0,68.0,66.0,49.0,51.0,60.0,71.0,76.0,59.0,58.0,57.0,50.0,65.0,53.0,63.0,64.0,62.0,63.0,57.0,65.0,49.0,50.0,51.0,66.0,57.0,65.0,59.0,63.0,67.0,56.0,66.0,55.0,64.0,54.0,52.0,66.0,65.0,77.0,54.0,71.0,45.0,57.0,59.0,63.0,52.0,72.0,61.0,59.0,69.0,63.0,57.0,63.0,53.0,68.0,72.0,56.0,57.0,71.0,69.0,65.0,62.0,50.0,63.0,58.0,66.0,69.0,58.0,58.0,57.0,60.0,74.0,55.0,68.0,65.0,72.0,64.0,62.0,65.0,68.0,65.0,65.0,54.0,58.0,65.0,61.0,67.0,65.0,61.0,65.0,50.0,64.0,61.0,69.0,65.0,57.0,50.0,70.0,65.0,60.0,53.0,68.0],\"xaxis\":\"x2\",\"yaxis\":\"y2\",\"type\":\"box\"},{\"alignmentgroup\":\"True\",\"bingroup\":\"x\",\"hovertemplate\":\"trt_grp=CONTROL<br>age=%{x}<br>count=%{y}<extra></extra>\",\"legendgroup\":\"CONTROL\",\"marker\":{\"color\":\"#EF553B\",\"pattern\":{\"shape\":\"\"}},\"name\":\"CONTROL\",\"offsetgroup\":\"CONTROL\",\"orientation\":\"v\",\"showlegend\":true,\"x\":[48.0,59.0,63.0,77.0,67.0,57.0,65.0,61.0,56.0,57.0,64.0,55.0,66.0,70.0,68.0,61.0,60.0,65.0,58.0,70.0,64.0,59.0,61.0,52.0,69.0,59.0,63.0,65.0,56.0,59.0,65.0,57.0,60.0,63.0,64.0,68.0,65.0,58.0,60.0,58.0,61.0,62.0,79.0,48.0,79.0,56.0,68.0,55.0,56.0,65.0,56.0,64.0,68.0,77.0,58.0,61.0,64.0,70.0,62.0,68.0,73.0,57.0,54.0,69.0,72.0,57.0,59.0,67.0,65.0,69.0,55.0,49.0,77.0,57.0,63.0,56.0,56.0,56.0,69.0,71.0,71.0,59.0,58.0,69.0,55.0,66.0,60.0,60.0,67.0,59.0,61.0,69.0,64.0,63.0,67.0,55.0,43.0,57.0,65.0,57.0,67.0,58.0,71.0,56.0,44.0,69.0,67.0,72.0,64.0,58.0,59.0,69.0,62.0,67.0,57.0,64.0,56.0,52.0,59.0,70.0,58.0,66.0,73.0,60.0,56.0,62.0,61.0,62.0,65.0,55.0,59.0,56.0,65.0,76.0,68.0,39.0,61.0,60.0,59.0,43.0,59.0,58.0,68.0,68.0,65.0,45.0,59.0,60.0,61.0,70.0,62.0,62.0,53.0,67.0,75.0,69.0,59.0,65.0,63.0,58.0,68.0,59.0,63.0,66.0,64.0,58.0,70.0,70.0,43.0,67.0,69.0,60.0,52.0,66.0,59.0,67.0,55.0,67.0,57.0,70.0,67.0,53.0,62.0,55.0,58.0,53.0,62.0,61.0,64.0,70.0,67.0,60.0,61.0,59.0,63.0,62.0,56.0,74.0,71.0,72.0,68.0,73.0,64.0,64.0,60.0,64.0,56.0,59.0,66.0,59.0,68.0,62.0,59.0,63.0,55.0,69.0,54.0,67.0,66.0,69.0,59.0,62.0,59.0,59.0,65.0,63.0,58.0,63.0,57.0,54.0,68.0,69.0,49.0,64.0,55.0,63.0,67.0,52.0,65.0,61.0,60.0,64.0,48.0,61.0,72.0,73.0,57.0,62.0,60.0,66.0,51.0,60.0,64.0,60.0,53.0,55.0,66.0,56.0,48.0,60.0,66.0,50.0,62.0,64.0,59.0,59.0,62.0,71.0,70.0,74.0,70.0,61.0,66.0,55.0,70.0,58.0,56.0,55.0,68.0,69.0,61.0,54.0,63.0,68.0,54.0,64.0,69.0,56.0,66.0,58.0,63.0,58.0,62.0,60.0,70.0,59.0,63.0,68.0,58.0,59.0,60.0,55.0,48.0,75.0,62.0,60.0,58.0,55.0,66.0,58.0,61.0,61.0,64.0,65.0,68.0,59.0,62.0,61.0,55.0,55.0,57.0,68.0,73.0,61.0,64.0,57.0,70.0,50.0,61.0,71.0,62.0,76.0,74.0,49.0,61.0,48.0,50.0,67.0,52.0,62.0,65.0,54.0,66.0,56.0,65.0,74.0,68.0,63.0,60.0,49.0,71.0,53.0,61.0,58.0,62.0,67.0,64.0,64.0,60.0,64.0,65.0,69.0,69.0,57.0,67.0,61.0,59.0,57.0,71.0,75.0,68.0,55.0,56.0,56.0,57.0,59.0,47.0,62.0,67.0,61.0,68.0,48.0,66.0,64.0,61.0],\"xaxis\":\"x\",\"yaxis\":\"y\",\"type\":\"histogram\"},{\"alignmentgroup\":\"True\",\"hovertemplate\":\"trt_grp=CONTROL<br>age=%{x}<extra></extra>\",\"legendgroup\":\"CONTROL\",\"marker\":{\"color\":\"#EF553B\"},\"name\":\"CONTROL\",\"notched\":true,\"offsetgroup\":\"CONTROL\",\"showlegend\":false,\"x\":[48.0,59.0,63.0,77.0,67.0,57.0,65.0,61.0,56.0,57.0,64.0,55.0,66.0,70.0,68.0,61.0,60.0,65.0,58.0,70.0,64.0,59.0,61.0,52.0,69.0,59.0,63.0,65.0,56.0,59.0,65.0,57.0,60.0,63.0,64.0,68.0,65.0,58.0,60.0,58.0,61.0,62.0,79.0,48.0,79.0,56.0,68.0,55.0,56.0,65.0,56.0,64.0,68.0,77.0,58.0,61.0,64.0,70.0,62.0,68.0,73.0,57.0,54.0,69.0,72.0,57.0,59.0,67.0,65.0,69.0,55.0,49.0,77.0,57.0,63.0,56.0,56.0,56.0,69.0,71.0,71.0,59.0,58.0,69.0,55.0,66.0,60.0,60.0,67.0,59.0,61.0,69.0,64.0,63.0,67.0,55.0,43.0,57.0,65.0,57.0,67.0,58.0,71.0,56.0,44.0,69.0,67.0,72.0,64.0,58.0,59.0,69.0,62.0,67.0,57.0,64.0,56.0,52.0,59.0,70.0,58.0,66.0,73.0,60.0,56.0,62.0,61.0,62.0,65.0,55.0,59.0,56.0,65.0,76.0,68.0,39.0,61.0,60.0,59.0,43.0,59.0,58.0,68.0,68.0,65.0,45.0,59.0,60.0,61.0,70.0,62.0,62.0,53.0,67.0,75.0,69.0,59.0,65.0,63.0,58.0,68.0,59.0,63.0,66.0,64.0,58.0,70.0,70.0,43.0,67.0,69.0,60.0,52.0,66.0,59.0,67.0,55.0,67.0,57.0,70.0,67.0,53.0,62.0,55.0,58.0,53.0,62.0,61.0,64.0,70.0,67.0,60.0,61.0,59.0,63.0,62.0,56.0,74.0,71.0,72.0,68.0,73.0,64.0,64.0,60.0,64.0,56.0,59.0,66.0,59.0,68.0,62.0,59.0,63.0,55.0,69.0,54.0,67.0,66.0,69.0,59.0,62.0,59.0,59.0,65.0,63.0,58.0,63.0,57.0,54.0,68.0,69.0,49.0,64.0,55.0,63.0,67.0,52.0,65.0,61.0,60.0,64.0,48.0,61.0,72.0,73.0,57.0,62.0,60.0,66.0,51.0,60.0,64.0,60.0,53.0,55.0,66.0,56.0,48.0,60.0,66.0,50.0,62.0,64.0,59.0,59.0,62.0,71.0,70.0,74.0,70.0,61.0,66.0,55.0,70.0,58.0,56.0,55.0,68.0,69.0,61.0,54.0,63.0,68.0,54.0,64.0,69.0,56.0,66.0,58.0,63.0,58.0,62.0,60.0,70.0,59.0,63.0,68.0,58.0,59.0,60.0,55.0,48.0,75.0,62.0,60.0,58.0,55.0,66.0,58.0,61.0,61.0,64.0,65.0,68.0,59.0,62.0,61.0,55.0,55.0,57.0,68.0,73.0,61.0,64.0,57.0,70.0,50.0,61.0,71.0,62.0,76.0,74.0,49.0,61.0,48.0,50.0,67.0,52.0,62.0,65.0,54.0,66.0,56.0,65.0,74.0,68.0,63.0,60.0,49.0,71.0,53.0,61.0,58.0,62.0,67.0,64.0,64.0,60.0,64.0,65.0,69.0,69.0,57.0,67.0,61.0,59.0,57.0,71.0,75.0,68.0,55.0,56.0,56.0,57.0,59.0,47.0,62.0,67.0,61.0,68.0,48.0,66.0,64.0,61.0],\"xaxis\":\"x2\",\"yaxis\":\"y2\",\"type\":\"box\"}],                        {\"template\":{\"data\":{\"histogram2dcontour\":[{\"type\":\"histogram2dcontour\",\"colorbar\":{\"outlinewidth\":0,\"ticks\":\"\"},\"colorscale\":[[0.0,\"#0d0887\"],[0.1111111111111111,\"#46039f\"],[0.2222222222222222,\"#7201a8\"],[0.3333333333333333,\"#9c179e\"],[0.4444444444444444,\"#bd3786\"],[0.5555555555555556,\"#d8576b\"],[0.6666666666666666,\"#ed7953\"],[0.7777777777777778,\"#fb9f3a\"],[0.8888888888888888,\"#fdca26\"],[1.0,\"#f0f921\"]]}],\"choropleth\":[{\"type\":\"choropleth\",\"colorbar\":{\"outlinewidth\":0,\"ticks\":\"\"}}],\"histogram2d\":[{\"type\":\"histogram2d\",\"colorbar\":{\"outlinewidth\":0,\"ticks\":\"\"},\"colorscale\":[[0.0,\"#0d0887\"],[0.1111111111111111,\"#46039f\"],[0.2222222222222222,\"#7201a8\"],[0.3333333333333333,\"#9c179e\"],[0.4444444444444444,\"#bd3786\"],[0.5555555555555556,\"#d8576b\"],[0.6666666666666666,\"#ed7953\"],[0.7777777777777778,\"#fb9f3a\"],[0.8888888888888888,\"#fdca26\"],[1.0,\"#f0f921\"]]}],\"heatmap\":[{\"type\":\"heatmap\",\"colorbar\":{\"outlinewidth\":0,\"ticks\":\"\"},\"colorscale\":[[0.0,\"#0d0887\"],[0.1111111111111111,\"#46039f\"],[0.2222222222222222,\"#7201a8\"],[0.3333333333333333,\"#9c179e\"],[0.4444444444444444,\"#bd3786\"],[0.5555555555555556,\"#d8576b\"],[0.6666666666666666,\"#ed7953\"],[0.7777777777777778,\"#fb9f3a\"],[0.8888888888888888,\"#fdca26\"],[1.0,\"#f0f921\"]]}],\"heatmapgl\":[{\"type\":\"heatmapgl\",\"colorbar\":{\"outlinewidth\":0,\"ticks\":\"\"},\"colorscale\":[[0.0,\"#0d0887\"],[0.1111111111111111,\"#46039f\"],[0.2222222222222222,\"#7201a8\"],[0.3333333333333333,\"#9c179e\"],[0.4444444444444444,\"#bd3786\"],[0.5555555555555556,\"#d8576b\"],[0.6666666666666666,\"#ed7953\"],[0.7777777777777778,\"#fb9f3a\"],[0.8888888888888888,\"#fdca26\"],[1.0,\"#f0f921\"]]}],\"contourcarpet\":[{\"type\":\"contourcarpet\",\"colorbar\":{\"outlinewidth\":0,\"ticks\":\"\"}}],\"contour\":[{\"type\":\"contour\",\"colorbar\":{\"outlinewidth\":0,\"ticks\":\"\"},\"colorscale\":[[0.0,\"#0d0887\"],[0.1111111111111111,\"#46039f\"],[0.2222222222222222,\"#7201a8\"],[0.3333333333333333,\"#9c179e\"],[0.4444444444444444,\"#bd3786\"],[0.5555555555555556,\"#d8576b\"],[0.6666666666666666,\"#ed7953\"],[0.7777777777777778,\"#fb9f3a\"],[0.8888888888888888,\"#fdca26\"],[1.0,\"#f0f921\"]]}],\"surface\":[{\"type\":\"surface\",\"colorbar\":{\"outlinewidth\":0,\"ticks\":\"\"},\"colorscale\":[[0.0,\"#0d0887\"],[0.1111111111111111,\"#46039f\"],[0.2222222222222222,\"#7201a8\"],[0.3333333333333333,\"#9c179e\"],[0.4444444444444444,\"#bd3786\"],[0.5555555555555556,\"#d8576b\"],[0.6666666666666666,\"#ed7953\"],[0.7777777777777778,\"#fb9f3a\"],[0.8888888888888888,\"#fdca26\"],[1.0,\"#f0f921\"]]}],\"mesh3d\":[{\"type\":\"mesh3d\",\"colorbar\":{\"outlinewidth\":0,\"ticks\":\"\"}}],\"scatter\":[{\"fillpattern\":{\"fillmode\":\"overlay\",\"size\":10,\"solidity\":0.2},\"type\":\"scatter\"}],\"parcoords\":[{\"type\":\"parcoords\",\"line\":{\"colorbar\":{\"outlinewidth\":0,\"ticks\":\"\"}}}],\"scatterpolargl\":[{\"type\":\"scatterpolargl\",\"marker\":{\"colorbar\":{\"outlinewidth\":0,\"ticks\":\"\"}}}],\"bar\":[{\"error_x\":{\"color\":\"#2a3f5f\"},\"error_y\":{\"color\":\"#2a3f5f\"},\"marker\":{\"line\":{\"color\":\"#E5ECF6\",\"width\":0.5},\"pattern\":{\"fillmode\":\"overlay\",\"size\":10,\"solidity\":0.2}},\"type\":\"bar\"}],\"scattergeo\":[{\"type\":\"scattergeo\",\"marker\":{\"colorbar\":{\"outlinewidth\":0,\"ticks\":\"\"}}}],\"scatterpolar\":[{\"type\":\"scatterpolar\",\"marker\":{\"colorbar\":{\"outlinewidth\":0,\"ticks\":\"\"}}}],\"histogram\":[{\"marker\":{\"pattern\":{\"fillmode\":\"overlay\",\"size\":10,\"solidity\":0.2}},\"type\":\"histogram\"}],\"scattergl\":[{\"type\":\"scattergl\",\"marker\":{\"colorbar\":{\"outlinewidth\":0,\"ticks\":\"\"}}}],\"scatter3d\":[{\"type\":\"scatter3d\",\"line\":{\"colorbar\":{\"outlinewidth\":0,\"ticks\":\"\"}},\"marker\":{\"colorbar\":{\"outlinewidth\":0,\"ticks\":\"\"}}}],\"scattermapbox\":[{\"type\":\"scattermapbox\",\"marker\":{\"colorbar\":{\"outlinewidth\":0,\"ticks\":\"\"}}}],\"scatterternary\":[{\"type\":\"scatterternary\",\"marker\":{\"colorbar\":{\"outlinewidth\":0,\"ticks\":\"\"}}}],\"scattercarpet\":[{\"type\":\"scattercarpet\",\"marker\":{\"colorbar\":{\"outlinewidth\":0,\"ticks\":\"\"}}}],\"carpet\":[{\"aaxis\":{\"endlinecolor\":\"#2a3f5f\",\"gridcolor\":\"white\",\"linecolor\":\"white\",\"minorgridcolor\":\"white\",\"startlinecolor\":\"#2a3f5f\"},\"baxis\":{\"endlinecolor\":\"#2a3f5f\",\"gridcolor\":\"white\",\"linecolor\":\"white\",\"minorgridcolor\":\"white\",\"startlinecolor\":\"#2a3f5f\"},\"type\":\"carpet\"}],\"table\":[{\"cells\":{\"fill\":{\"color\":\"#EBF0F8\"},\"line\":{\"color\":\"white\"}},\"header\":{\"fill\":{\"color\":\"#C8D4E3\"},\"line\":{\"color\":\"white\"}},\"type\":\"table\"}],\"barpolar\":[{\"marker\":{\"line\":{\"color\":\"#E5ECF6\",\"width\":0.5},\"pattern\":{\"fillmode\":\"overlay\",\"size\":10,\"solidity\":0.2}},\"type\":\"barpolar\"}],\"pie\":[{\"automargin\":true,\"type\":\"pie\"}]},\"layout\":{\"autotypenumbers\":\"strict\",\"colorway\":[\"#636efa\",\"#EF553B\",\"#00cc96\",\"#ab63fa\",\"#FFA15A\",\"#19d3f3\",\"#FF6692\",\"#B6E880\",\"#FF97FF\",\"#FECB52\"],\"font\":{\"color\":\"#2a3f5f\"},\"hovermode\":\"closest\",\"hoverlabel\":{\"align\":\"left\"},\"paper_bgcolor\":\"white\",\"plot_bgcolor\":\"#E5ECF6\",\"polar\":{\"bgcolor\":\"#E5ECF6\",\"angularaxis\":{\"gridcolor\":\"white\",\"linecolor\":\"white\",\"ticks\":\"\"},\"radialaxis\":{\"gridcolor\":\"white\",\"linecolor\":\"white\",\"ticks\":\"\"}},\"ternary\":{\"bgcolor\":\"#E5ECF6\",\"aaxis\":{\"gridcolor\":\"white\",\"linecolor\":\"white\",\"ticks\":\"\"},\"baxis\":{\"gridcolor\":\"white\",\"linecolor\":\"white\",\"ticks\":\"\"},\"caxis\":{\"gridcolor\":\"white\",\"linecolor\":\"white\",\"ticks\":\"\"}},\"coloraxis\":{\"colorbar\":{\"outlinewidth\":0,\"ticks\":\"\"}},\"colorscale\":{\"sequential\":[[0.0,\"#0d0887\"],[0.1111111111111111,\"#46039f\"],[0.2222222222222222,\"#7201a8\"],[0.3333333333333333,\"#9c179e\"],[0.4444444444444444,\"#bd3786\"],[0.5555555555555556,\"#d8576b\"],[0.6666666666666666,\"#ed7953\"],[0.7777777777777778,\"#fb9f3a\"],[0.8888888888888888,\"#fdca26\"],[1.0,\"#f0f921\"]],\"sequentialminus\":[[0.0,\"#0d0887\"],[0.1111111111111111,\"#46039f\"],[0.2222222222222222,\"#7201a8\"],[0.3333333333333333,\"#9c179e\"],[0.4444444444444444,\"#bd3786\"],[0.5555555555555556,\"#d8576b\"],[0.6666666666666666,\"#ed7953\"],[0.7777777777777778,\"#fb9f3a\"],[0.8888888888888888,\"#fdca26\"],[1.0,\"#f0f921\"]],\"diverging\":[[0,\"#8e0152\"],[0.1,\"#c51b7d\"],[0.2,\"#de77ae\"],[0.3,\"#f1b6da\"],[0.4,\"#fde0ef\"],[0.5,\"#f7f7f7\"],[0.6,\"#e6f5d0\"],[0.7,\"#b8e186\"],[0.8,\"#7fbc41\"],[0.9,\"#4d9221\"],[1,\"#276419\"]]},\"xaxis\":{\"gridcolor\":\"white\",\"linecolor\":\"white\",\"ticks\":\"\",\"title\":{\"standoff\":15},\"zerolinecolor\":\"white\",\"automargin\":true,\"zerolinewidth\":2},\"yaxis\":{\"gridcolor\":\"white\",\"linecolor\":\"white\",\"ticks\":\"\",\"title\":{\"standoff\":15},\"zerolinecolor\":\"white\",\"automargin\":true,\"zerolinewidth\":2},\"scene\":{\"xaxis\":{\"backgroundcolor\":\"#E5ECF6\",\"gridcolor\":\"white\",\"linecolor\":\"white\",\"showbackground\":true,\"ticks\":\"\",\"zerolinecolor\":\"white\",\"gridwidth\":2},\"yaxis\":{\"backgroundcolor\":\"#E5ECF6\",\"gridcolor\":\"white\",\"linecolor\":\"white\",\"showbackground\":true,\"ticks\":\"\",\"zerolinecolor\":\"white\",\"gridwidth\":2},\"zaxis\":{\"backgroundcolor\":\"#E5ECF6\",\"gridcolor\":\"white\",\"linecolor\":\"white\",\"showbackground\":true,\"ticks\":\"\",\"zerolinecolor\":\"white\",\"gridwidth\":2}},\"shapedefaults\":{\"line\":{\"color\":\"#2a3f5f\"}},\"annotationdefaults\":{\"arrowcolor\":\"#2a3f5f\",\"arrowhead\":0,\"arrowwidth\":1},\"geo\":{\"bgcolor\":\"white\",\"landcolor\":\"#E5ECF6\",\"subunitcolor\":\"white\",\"showland\":true,\"showlakes\":true,\"lakecolor\":\"white\"},\"title\":{\"x\":0.05},\"mapbox\":{\"style\":\"light\"}}},\"xaxis\":{\"anchor\":\"y\",\"domain\":[0.0,1.0],\"title\":{\"text\":\"age\"}},\"yaxis\":{\"anchor\":\"x\",\"domain\":[0.0,0.7326],\"title\":{\"text\":\"count\"}},\"xaxis2\":{\"anchor\":\"y2\",\"domain\":[0.0,1.0],\"matches\":\"x\",\"showticklabels\":false,\"showgrid\":true},\"yaxis2\":{\"anchor\":\"x2\",\"domain\":[0.7426,1.0],\"matches\":\"y2\",\"showticklabels\":false,\"showline\":false,\"ticks\":\"\",\"showgrid\":false},\"legend\":{\"title\":{\"text\":\"trt_grp\"},\"tracegroupgap\":0},\"margin\":{\"t\":60},\"barmode\":\"relative\"},                        {\"responsive\": true}                    ).then(function(){\n",
       "                            \n",
       "var gd = document.getElementById('10c2de48-598b-40e1-8321-5c438d165526');\n",
       "var x = new MutationObserver(function (mutations, observer) {{\n",
       "        var display = window.getComputedStyle(gd).display;\n",
       "        if (!display || display === 'none') {{\n",
       "            console.log([gd, 'removed!']);\n",
       "            Plotly.purge(gd);\n",
       "            observer.disconnect();\n",
       "        }}\n",
       "}});\n",
       "\n",
       "// Listen for the removal of the full notebook cells\n",
       "var notebookContainer = gd.closest('#notebook-container');\n",
       "if (notebookContainer) {{\n",
       "    x.observe(notebookContainer, {childList: true});\n",
       "}}\n",
       "\n",
       "// Listen for the clearing of the current output cell\n",
       "var outputEl = gd.closest('.output');\n",
       "if (outputEl) {{\n",
       "    x.observe(outputEl, {childList: true});\n",
       "}}\n",
       "\n",
       "                        })                };                });            </script>        </div>"
      ]
     },
     "metadata": {},
     "output_type": "display_data"
    }
   ],
   "source": [
    "px.histogram(df_merged, x=\"age\", color=\"trt_grp\", marginal=\"box\")"
   ]
  },
  {
   "cell_type": "markdown",
   "id": "ab7345a2",
   "metadata": {},
   "source": [
    "### 2. Compare mean age in responders vs non-responders"
   ]
  },
  {
   "cell_type": "code",
   "execution_count": 444,
   "id": "c27d4486",
   "metadata": {},
   "outputs": [
    {
     "data": {
      "text/plain": [
       "61.89"
      ]
     },
     "execution_count": 444,
     "metadata": {},
     "output_type": "execute_result"
    }
   ],
   "source": [
    "round(df_merged[df_merged[\"RESPONSE\"]==\"Y\"][\"age\"].mean(), 2)"
   ]
  },
  {
   "cell_type": "code",
   "execution_count": 445,
   "id": "aabcf519",
   "metadata": {},
   "outputs": [
    {
     "data": {
      "text/plain": [
       "61.75"
      ]
     },
     "execution_count": 445,
     "metadata": {},
     "output_type": "execute_result"
    }
   ],
   "source": [
    "round(df_merged[df_merged[\"RESPONSE\"]==\"N\"][\"age\"].mean(), 2)"
   ]
  },
  {
   "cell_type": "code",
   "execution_count": 446,
   "id": "cf89d221",
   "metadata": {},
   "outputs": [],
   "source": [
    "# average age is 62 for responsing both \"yes\" as well for \"no\". It means people who have 62 is responsing Yes\n",
    "# or tumors are shrinking as well as getting bigger. It can see in histogram plot which shows median = 62."
   ]
  },
  {
   "cell_type": "code",
   "execution_count": 447,
   "id": "8816fc09",
   "metadata": {},
   "outputs": [
    {
     "data": {
      "application/vnd.plotly.v1+json": {
       "config": {
        "plotlyServerURL": "https://plot.ly"
       },
       "data": [
        {
         "alignmentgroup": "True",
         "bingroup": "x",
         "hovertemplate": "RESPONSE=N<br>age=%{x}<br>count=%{y}<extra></extra>",
         "legendgroup": "N",
         "marker": {
          "color": "#636efa",
          "pattern": {
           "shape": ""
          }
         },
         "name": "N",
         "offsetgroup": "N",
         "orientation": "v",
         "showlegend": true,
         "type": "histogram",
         "x": [
          46,
          48,
          59,
          77,
          57,
          72,
          53,
          58,
          55,
          65,
          57,
          61,
          55,
          55,
          59,
          59,
          57,
          55,
          64,
          66,
          55,
          66,
          70,
          66,
          68,
          71,
          63,
          61,
          58,
          65,
          59,
          58,
          70,
          64,
          57,
          59,
          61,
          63,
          69,
          59,
          63,
          61,
          59,
          65,
          57,
          60,
          78,
          64,
          68,
          65,
          60,
          58,
          61,
          62,
          79,
          66,
          55,
          57,
          56,
          65,
          56,
          72,
          61,
          52,
          70,
          62,
          68,
          73,
          54,
          62,
          69,
          72,
          54,
          57,
          59,
          67,
          65,
          69,
          49,
          77,
          63,
          56,
          56,
          56,
          69,
          63,
          58,
          66,
          65,
          71,
          59,
          58,
          69,
          61,
          55,
          60,
          66,
          60,
          60,
          67,
          61,
          56,
          66,
          64,
          73,
          63,
          67,
          55,
          68,
          43,
          57,
          57,
          67,
          58,
          64,
          71,
          67,
          56,
          69,
          67,
          72,
          64,
          58,
          59,
          69,
          67,
          57,
          64,
          60,
          68,
          63,
          58,
          58,
          56,
          63,
          52,
          59,
          67,
          70,
          58,
          66,
          49,
          71,
          69,
          62,
          67,
          73,
          60,
          56,
          62,
          62,
          65,
          57,
          55,
          54,
          73,
          56,
          65,
          60,
          65,
          70,
          76,
          56,
          68,
          58,
          57,
          44,
          56,
          59,
          43,
          79,
          58,
          68,
          68,
          65,
          45,
          59,
          61,
          69,
          63,
          56,
          67,
          51,
          62,
          53,
          75,
          49,
          69,
          59,
          52,
          65,
          58,
          59,
          60,
          63,
          65,
          66,
          64,
          70,
          70,
          62,
          69,
          60,
          68,
          70,
          67,
          55,
          47,
          67,
          67,
          53,
          72,
          63,
          55,
          58,
          53,
          60,
          62,
          61,
          70,
          67,
          67,
          60,
          63,
          66,
          56,
          74,
          60,
          71,
          72,
          68,
          73,
          64,
          64,
          66,
          56,
          64,
          56,
          52,
          59,
          66,
          37,
          68,
          62,
          63,
          70,
          49,
          69,
          54,
          59,
          67,
          66,
          68,
          50,
          59,
          62,
          59,
          74,
          65,
          58,
          54,
          57,
          52,
          54,
          69,
          49,
          60,
          55,
          67,
          52,
          69,
          65,
          60,
          61,
          77,
          48,
          61,
          72,
          64,
          76,
          57,
          62,
          78,
          51,
          60,
          65,
          64,
          53,
          56,
          55,
          66,
          63,
          51,
          60,
          54,
          50,
          47,
          62,
          55,
          59,
          62,
          62,
          68,
          71,
          74,
          70,
          61,
          67,
          70,
          58,
          58,
          63,
          47,
          57,
          68,
          54,
          68,
          64,
          69,
          66,
          58,
          63,
          58,
          68,
          62,
          60,
          70,
          59,
          47,
          54,
          68,
          66,
          68,
          58,
          60,
          71,
          48,
          58,
          60,
          58,
          57,
          66,
          65,
          58,
          53,
          64,
          63,
          64,
          68,
          59,
          57,
          62,
          55,
          55,
          67,
          66,
          55,
          57,
          68,
          73,
          66,
          65,
          57,
          77,
          54,
          70,
          71,
          50,
          61,
          62,
          76,
          74,
          59,
          48,
          63,
          52,
          72,
          59,
          67,
          52,
          63,
          57,
          62,
          63,
          53,
          56,
          56,
          74,
          62,
          58,
          68,
          63,
          69,
          58,
          60,
          60,
          74,
          55,
          49,
          61,
          65,
          58,
          67,
          64,
          64,
          65,
          64,
          65,
          58,
          65,
          57,
          67,
          57,
          71,
          68,
          55,
          65,
          50,
          56,
          64,
          57,
          61,
          59,
          47,
          62,
          67,
          61,
          65,
          57,
          48,
          66,
          50,
          65,
          60
         ],
         "xaxis": "x",
         "yaxis": "y"
        },
        {
         "alignmentgroup": "True",
         "hovertemplate": "RESPONSE=N<br>age=%{x}<extra></extra>",
         "legendgroup": "N",
         "marker": {
          "color": "#636efa"
         },
         "name": "N",
         "notched": true,
         "offsetgroup": "N",
         "showlegend": false,
         "type": "box",
         "x": [
          46,
          48,
          59,
          77,
          57,
          72,
          53,
          58,
          55,
          65,
          57,
          61,
          55,
          55,
          59,
          59,
          57,
          55,
          64,
          66,
          55,
          66,
          70,
          66,
          68,
          71,
          63,
          61,
          58,
          65,
          59,
          58,
          70,
          64,
          57,
          59,
          61,
          63,
          69,
          59,
          63,
          61,
          59,
          65,
          57,
          60,
          78,
          64,
          68,
          65,
          60,
          58,
          61,
          62,
          79,
          66,
          55,
          57,
          56,
          65,
          56,
          72,
          61,
          52,
          70,
          62,
          68,
          73,
          54,
          62,
          69,
          72,
          54,
          57,
          59,
          67,
          65,
          69,
          49,
          77,
          63,
          56,
          56,
          56,
          69,
          63,
          58,
          66,
          65,
          71,
          59,
          58,
          69,
          61,
          55,
          60,
          66,
          60,
          60,
          67,
          61,
          56,
          66,
          64,
          73,
          63,
          67,
          55,
          68,
          43,
          57,
          57,
          67,
          58,
          64,
          71,
          67,
          56,
          69,
          67,
          72,
          64,
          58,
          59,
          69,
          67,
          57,
          64,
          60,
          68,
          63,
          58,
          58,
          56,
          63,
          52,
          59,
          67,
          70,
          58,
          66,
          49,
          71,
          69,
          62,
          67,
          73,
          60,
          56,
          62,
          62,
          65,
          57,
          55,
          54,
          73,
          56,
          65,
          60,
          65,
          70,
          76,
          56,
          68,
          58,
          57,
          44,
          56,
          59,
          43,
          79,
          58,
          68,
          68,
          65,
          45,
          59,
          61,
          69,
          63,
          56,
          67,
          51,
          62,
          53,
          75,
          49,
          69,
          59,
          52,
          65,
          58,
          59,
          60,
          63,
          65,
          66,
          64,
          70,
          70,
          62,
          69,
          60,
          68,
          70,
          67,
          55,
          47,
          67,
          67,
          53,
          72,
          63,
          55,
          58,
          53,
          60,
          62,
          61,
          70,
          67,
          67,
          60,
          63,
          66,
          56,
          74,
          60,
          71,
          72,
          68,
          73,
          64,
          64,
          66,
          56,
          64,
          56,
          52,
          59,
          66,
          37,
          68,
          62,
          63,
          70,
          49,
          69,
          54,
          59,
          67,
          66,
          68,
          50,
          59,
          62,
          59,
          74,
          65,
          58,
          54,
          57,
          52,
          54,
          69,
          49,
          60,
          55,
          67,
          52,
          69,
          65,
          60,
          61,
          77,
          48,
          61,
          72,
          64,
          76,
          57,
          62,
          78,
          51,
          60,
          65,
          64,
          53,
          56,
          55,
          66,
          63,
          51,
          60,
          54,
          50,
          47,
          62,
          55,
          59,
          62,
          62,
          68,
          71,
          74,
          70,
          61,
          67,
          70,
          58,
          58,
          63,
          47,
          57,
          68,
          54,
          68,
          64,
          69,
          66,
          58,
          63,
          58,
          68,
          62,
          60,
          70,
          59,
          47,
          54,
          68,
          66,
          68,
          58,
          60,
          71,
          48,
          58,
          60,
          58,
          57,
          66,
          65,
          58,
          53,
          64,
          63,
          64,
          68,
          59,
          57,
          62,
          55,
          55,
          67,
          66,
          55,
          57,
          68,
          73,
          66,
          65,
          57,
          77,
          54,
          70,
          71,
          50,
          61,
          62,
          76,
          74,
          59,
          48,
          63,
          52,
          72,
          59,
          67,
          52,
          63,
          57,
          62,
          63,
          53,
          56,
          56,
          74,
          62,
          58,
          68,
          63,
          69,
          58,
          60,
          60,
          74,
          55,
          49,
          61,
          65,
          58,
          67,
          64,
          64,
          65,
          64,
          65,
          58,
          65,
          57,
          67,
          57,
          71,
          68,
          55,
          65,
          50,
          56,
          64,
          57,
          61,
          59,
          47,
          62,
          67,
          61,
          65,
          57,
          48,
          66,
          50,
          65,
          60
         ],
         "xaxis": "x2",
         "yaxis": "y2"
        },
        {
         "alignmentgroup": "True",
         "bingroup": "x",
         "hovertemplate": "RESPONSE=Y<br>age=%{x}<br>count=%{y}<extra></extra>",
         "legendgroup": "Y",
         "marker": {
          "color": "#EF553B",
          "pattern": {
           "shape": ""
          }
         },
         "name": "Y",
         "offsetgroup": "Y",
         "orientation": "v",
         "showlegend": true,
         "type": "histogram",
         "x": [
          47,
          59,
          63,
          73,
          67,
          54,
          65,
          51,
          73,
          56,
          56,
          56,
          69,
          69,
          49,
          63,
          62,
          64,
          60,
          63,
          51,
          65,
          73,
          58,
          52,
          65,
          56,
          71,
          71,
          63,
          56,
          62,
          58,
          62,
          59,
          48,
          79,
          56,
          68,
          69,
          68,
          77,
          66,
          60,
          64,
          68,
          77,
          58,
          47,
          64,
          67,
          57,
          77,
          60,
          64,
          67,
          72,
          60,
          58,
          55,
          57,
          57,
          61,
          67,
          46,
          71,
          58,
          72,
          65,
          63,
          66,
          61,
          58,
          60,
          62,
          61,
          64,
          62,
          79,
          59,
          65,
          69,
          55,
          65,
          55,
          73,
          57,
          70,
          63,
          44,
          67,
          62,
          64,
          53,
          62,
          61,
          67,
          68,
          52,
          66,
          61,
          66,
          73,
          61,
          61,
          60,
          73,
          54,
          59,
          67,
          39,
          61,
          64,
          60,
          64,
          74,
          68,
          59,
          58,
          58,
          50,
          60,
          70,
          62,
          60,
          67,
          66,
          63,
          68,
          61,
          56,
          58,
          71,
          75,
          43,
          69,
          67,
          52,
          52,
          66,
          59,
          51,
          72,
          57,
          69,
          70,
          62,
          63,
          57,
          68,
          64,
          55,
          59,
          61,
          61,
          59,
          57,
          39,
          75,
          67,
          76,
          71,
          62,
          73,
          68,
          54,
          67,
          60,
          64,
          59,
          59,
          59,
          63,
          55,
          47,
          69,
          53,
          65,
          74,
          75,
          73,
          59,
          66,
          63,
          63,
          63,
          69,
          48,
          68,
          71,
          58,
          69,
          49,
          58,
          67,
          56,
          64,
          67,
          60,
          63,
          61,
          69,
          60,
          61,
          64,
          73,
          60,
          62,
          60,
          66,
          60,
          66,
          56,
          48,
          56,
          51,
          59,
          66,
          66,
          66,
          64,
          59,
          67,
          70,
          66,
          57,
          73,
          55,
          53,
          55,
          65,
          56,
          64,
          63,
          55,
          69,
          61,
          61,
          56,
          69,
          63,
          68,
          54,
          56,
          62,
          69,
          56,
          45,
          37,
          63,
          49,
          51,
          59,
          76,
          60,
          55,
          59,
          75,
          62,
          55,
          50,
          61,
          63,
          61,
          62,
          65,
          57,
          65,
          49,
          50,
          51,
          66,
          65,
          61,
          59,
          63,
          56,
          64,
          54,
          52,
          61,
          64,
          45,
          71,
          57,
          49,
          61,
          50,
          61,
          69,
          65,
          54,
          66,
          68,
          72,
          65,
          57,
          71,
          69,
          65,
          50,
          63,
          66,
          58,
          57,
          68,
          65,
          72,
          64,
          71,
          53,
          62,
          62,
          68,
          60,
          65,
          69,
          69,
          54,
          61,
          67,
          61,
          65,
          59,
          75,
          61,
          56,
          69,
          68,
          64,
          70,
          61,
          53,
          68
         ],
         "xaxis": "x",
         "yaxis": "y"
        },
        {
         "alignmentgroup": "True",
         "hovertemplate": "RESPONSE=Y<br>age=%{x}<extra></extra>",
         "legendgroup": "Y",
         "marker": {
          "color": "#EF553B"
         },
         "name": "Y",
         "notched": true,
         "offsetgroup": "Y",
         "showlegend": false,
         "type": "box",
         "x": [
          47,
          59,
          63,
          73,
          67,
          54,
          65,
          51,
          73,
          56,
          56,
          56,
          69,
          69,
          49,
          63,
          62,
          64,
          60,
          63,
          51,
          65,
          73,
          58,
          52,
          65,
          56,
          71,
          71,
          63,
          56,
          62,
          58,
          62,
          59,
          48,
          79,
          56,
          68,
          69,
          68,
          77,
          66,
          60,
          64,
          68,
          77,
          58,
          47,
          64,
          67,
          57,
          77,
          60,
          64,
          67,
          72,
          60,
          58,
          55,
          57,
          57,
          61,
          67,
          46,
          71,
          58,
          72,
          65,
          63,
          66,
          61,
          58,
          60,
          62,
          61,
          64,
          62,
          79,
          59,
          65,
          69,
          55,
          65,
          55,
          73,
          57,
          70,
          63,
          44,
          67,
          62,
          64,
          53,
          62,
          61,
          67,
          68,
          52,
          66,
          61,
          66,
          73,
          61,
          61,
          60,
          73,
          54,
          59,
          67,
          39,
          61,
          64,
          60,
          64,
          74,
          68,
          59,
          58,
          58,
          50,
          60,
          70,
          62,
          60,
          67,
          66,
          63,
          68,
          61,
          56,
          58,
          71,
          75,
          43,
          69,
          67,
          52,
          52,
          66,
          59,
          51,
          72,
          57,
          69,
          70,
          62,
          63,
          57,
          68,
          64,
          55,
          59,
          61,
          61,
          59,
          57,
          39,
          75,
          67,
          76,
          71,
          62,
          73,
          68,
          54,
          67,
          60,
          64,
          59,
          59,
          59,
          63,
          55,
          47,
          69,
          53,
          65,
          74,
          75,
          73,
          59,
          66,
          63,
          63,
          63,
          69,
          48,
          68,
          71,
          58,
          69,
          49,
          58,
          67,
          56,
          64,
          67,
          60,
          63,
          61,
          69,
          60,
          61,
          64,
          73,
          60,
          62,
          60,
          66,
          60,
          66,
          56,
          48,
          56,
          51,
          59,
          66,
          66,
          66,
          64,
          59,
          67,
          70,
          66,
          57,
          73,
          55,
          53,
          55,
          65,
          56,
          64,
          63,
          55,
          69,
          61,
          61,
          56,
          69,
          63,
          68,
          54,
          56,
          62,
          69,
          56,
          45,
          37,
          63,
          49,
          51,
          59,
          76,
          60,
          55,
          59,
          75,
          62,
          55,
          50,
          61,
          63,
          61,
          62,
          65,
          57,
          65,
          49,
          50,
          51,
          66,
          65,
          61,
          59,
          63,
          56,
          64,
          54,
          52,
          61,
          64,
          45,
          71,
          57,
          49,
          61,
          50,
          61,
          69,
          65,
          54,
          66,
          68,
          72,
          65,
          57,
          71,
          69,
          65,
          50,
          63,
          66,
          58,
          57,
          68,
          65,
          72,
          64,
          71,
          53,
          62,
          62,
          68,
          60,
          65,
          69,
          69,
          54,
          61,
          67,
          61,
          65,
          59,
          75,
          61,
          56,
          69,
          68,
          64,
          70,
          61,
          53,
          68
         ],
         "xaxis": "x2",
         "yaxis": "y2"
        }
       ],
       "layout": {
        "barmode": "relative",
        "legend": {
         "title": {
          "text": "RESPONSE"
         },
         "tracegroupgap": 0
        },
        "margin": {
         "t": 60
        },
        "template": {
         "data": {
          "bar": [
           {
            "error_x": {
             "color": "#2a3f5f"
            },
            "error_y": {
             "color": "#2a3f5f"
            },
            "marker": {
             "line": {
              "color": "#E5ECF6",
              "width": 0.5
             },
             "pattern": {
              "fillmode": "overlay",
              "size": 10,
              "solidity": 0.2
             }
            },
            "type": "bar"
           }
          ],
          "barpolar": [
           {
            "marker": {
             "line": {
              "color": "#E5ECF6",
              "width": 0.5
             },
             "pattern": {
              "fillmode": "overlay",
              "size": 10,
              "solidity": 0.2
             }
            },
            "type": "barpolar"
           }
          ],
          "carpet": [
           {
            "aaxis": {
             "endlinecolor": "#2a3f5f",
             "gridcolor": "white",
             "linecolor": "white",
             "minorgridcolor": "white",
             "startlinecolor": "#2a3f5f"
            },
            "baxis": {
             "endlinecolor": "#2a3f5f",
             "gridcolor": "white",
             "linecolor": "white",
             "minorgridcolor": "white",
             "startlinecolor": "#2a3f5f"
            },
            "type": "carpet"
           }
          ],
          "choropleth": [
           {
            "colorbar": {
             "outlinewidth": 0,
             "ticks": ""
            },
            "type": "choropleth"
           }
          ],
          "contour": [
           {
            "colorbar": {
             "outlinewidth": 0,
             "ticks": ""
            },
            "colorscale": [
             [
              0,
              "#0d0887"
             ],
             [
              0.1111111111111111,
              "#46039f"
             ],
             [
              0.2222222222222222,
              "#7201a8"
             ],
             [
              0.3333333333333333,
              "#9c179e"
             ],
             [
              0.4444444444444444,
              "#bd3786"
             ],
             [
              0.5555555555555556,
              "#d8576b"
             ],
             [
              0.6666666666666666,
              "#ed7953"
             ],
             [
              0.7777777777777778,
              "#fb9f3a"
             ],
             [
              0.8888888888888888,
              "#fdca26"
             ],
             [
              1,
              "#f0f921"
             ]
            ],
            "type": "contour"
           }
          ],
          "contourcarpet": [
           {
            "colorbar": {
             "outlinewidth": 0,
             "ticks": ""
            },
            "type": "contourcarpet"
           }
          ],
          "heatmap": [
           {
            "colorbar": {
             "outlinewidth": 0,
             "ticks": ""
            },
            "colorscale": [
             [
              0,
              "#0d0887"
             ],
             [
              0.1111111111111111,
              "#46039f"
             ],
             [
              0.2222222222222222,
              "#7201a8"
             ],
             [
              0.3333333333333333,
              "#9c179e"
             ],
             [
              0.4444444444444444,
              "#bd3786"
             ],
             [
              0.5555555555555556,
              "#d8576b"
             ],
             [
              0.6666666666666666,
              "#ed7953"
             ],
             [
              0.7777777777777778,
              "#fb9f3a"
             ],
             [
              0.8888888888888888,
              "#fdca26"
             ],
             [
              1,
              "#f0f921"
             ]
            ],
            "type": "heatmap"
           }
          ],
          "heatmapgl": [
           {
            "colorbar": {
             "outlinewidth": 0,
             "ticks": ""
            },
            "colorscale": [
             [
              0,
              "#0d0887"
             ],
             [
              0.1111111111111111,
              "#46039f"
             ],
             [
              0.2222222222222222,
              "#7201a8"
             ],
             [
              0.3333333333333333,
              "#9c179e"
             ],
             [
              0.4444444444444444,
              "#bd3786"
             ],
             [
              0.5555555555555556,
              "#d8576b"
             ],
             [
              0.6666666666666666,
              "#ed7953"
             ],
             [
              0.7777777777777778,
              "#fb9f3a"
             ],
             [
              0.8888888888888888,
              "#fdca26"
             ],
             [
              1,
              "#f0f921"
             ]
            ],
            "type": "heatmapgl"
           }
          ],
          "histogram": [
           {
            "marker": {
             "pattern": {
              "fillmode": "overlay",
              "size": 10,
              "solidity": 0.2
             }
            },
            "type": "histogram"
           }
          ],
          "histogram2d": [
           {
            "colorbar": {
             "outlinewidth": 0,
             "ticks": ""
            },
            "colorscale": [
             [
              0,
              "#0d0887"
             ],
             [
              0.1111111111111111,
              "#46039f"
             ],
             [
              0.2222222222222222,
              "#7201a8"
             ],
             [
              0.3333333333333333,
              "#9c179e"
             ],
             [
              0.4444444444444444,
              "#bd3786"
             ],
             [
              0.5555555555555556,
              "#d8576b"
             ],
             [
              0.6666666666666666,
              "#ed7953"
             ],
             [
              0.7777777777777778,
              "#fb9f3a"
             ],
             [
              0.8888888888888888,
              "#fdca26"
             ],
             [
              1,
              "#f0f921"
             ]
            ],
            "type": "histogram2d"
           }
          ],
          "histogram2dcontour": [
           {
            "colorbar": {
             "outlinewidth": 0,
             "ticks": ""
            },
            "colorscale": [
             [
              0,
              "#0d0887"
             ],
             [
              0.1111111111111111,
              "#46039f"
             ],
             [
              0.2222222222222222,
              "#7201a8"
             ],
             [
              0.3333333333333333,
              "#9c179e"
             ],
             [
              0.4444444444444444,
              "#bd3786"
             ],
             [
              0.5555555555555556,
              "#d8576b"
             ],
             [
              0.6666666666666666,
              "#ed7953"
             ],
             [
              0.7777777777777778,
              "#fb9f3a"
             ],
             [
              0.8888888888888888,
              "#fdca26"
             ],
             [
              1,
              "#f0f921"
             ]
            ],
            "type": "histogram2dcontour"
           }
          ],
          "mesh3d": [
           {
            "colorbar": {
             "outlinewidth": 0,
             "ticks": ""
            },
            "type": "mesh3d"
           }
          ],
          "parcoords": [
           {
            "line": {
             "colorbar": {
              "outlinewidth": 0,
              "ticks": ""
             }
            },
            "type": "parcoords"
           }
          ],
          "pie": [
           {
            "automargin": true,
            "type": "pie"
           }
          ],
          "scatter": [
           {
            "fillpattern": {
             "fillmode": "overlay",
             "size": 10,
             "solidity": 0.2
            },
            "type": "scatter"
           }
          ],
          "scatter3d": [
           {
            "line": {
             "colorbar": {
              "outlinewidth": 0,
              "ticks": ""
             }
            },
            "marker": {
             "colorbar": {
              "outlinewidth": 0,
              "ticks": ""
             }
            },
            "type": "scatter3d"
           }
          ],
          "scattercarpet": [
           {
            "marker": {
             "colorbar": {
              "outlinewidth": 0,
              "ticks": ""
             }
            },
            "type": "scattercarpet"
           }
          ],
          "scattergeo": [
           {
            "marker": {
             "colorbar": {
              "outlinewidth": 0,
              "ticks": ""
             }
            },
            "type": "scattergeo"
           }
          ],
          "scattergl": [
           {
            "marker": {
             "colorbar": {
              "outlinewidth": 0,
              "ticks": ""
             }
            },
            "type": "scattergl"
           }
          ],
          "scattermapbox": [
           {
            "marker": {
             "colorbar": {
              "outlinewidth": 0,
              "ticks": ""
             }
            },
            "type": "scattermapbox"
           }
          ],
          "scatterpolar": [
           {
            "marker": {
             "colorbar": {
              "outlinewidth": 0,
              "ticks": ""
             }
            },
            "type": "scatterpolar"
           }
          ],
          "scatterpolargl": [
           {
            "marker": {
             "colorbar": {
              "outlinewidth": 0,
              "ticks": ""
             }
            },
            "type": "scatterpolargl"
           }
          ],
          "scatterternary": [
           {
            "marker": {
             "colorbar": {
              "outlinewidth": 0,
              "ticks": ""
             }
            },
            "type": "scatterternary"
           }
          ],
          "surface": [
           {
            "colorbar": {
             "outlinewidth": 0,
             "ticks": ""
            },
            "colorscale": [
             [
              0,
              "#0d0887"
             ],
             [
              0.1111111111111111,
              "#46039f"
             ],
             [
              0.2222222222222222,
              "#7201a8"
             ],
             [
              0.3333333333333333,
              "#9c179e"
             ],
             [
              0.4444444444444444,
              "#bd3786"
             ],
             [
              0.5555555555555556,
              "#d8576b"
             ],
             [
              0.6666666666666666,
              "#ed7953"
             ],
             [
              0.7777777777777778,
              "#fb9f3a"
             ],
             [
              0.8888888888888888,
              "#fdca26"
             ],
             [
              1,
              "#f0f921"
             ]
            ],
            "type": "surface"
           }
          ],
          "table": [
           {
            "cells": {
             "fill": {
              "color": "#EBF0F8"
             },
             "line": {
              "color": "white"
             }
            },
            "header": {
             "fill": {
              "color": "#C8D4E3"
             },
             "line": {
              "color": "white"
             }
            },
            "type": "table"
           }
          ]
         },
         "layout": {
          "annotationdefaults": {
           "arrowcolor": "#2a3f5f",
           "arrowhead": 0,
           "arrowwidth": 1
          },
          "autotypenumbers": "strict",
          "coloraxis": {
           "colorbar": {
            "outlinewidth": 0,
            "ticks": ""
           }
          },
          "colorscale": {
           "diverging": [
            [
             0,
             "#8e0152"
            ],
            [
             0.1,
             "#c51b7d"
            ],
            [
             0.2,
             "#de77ae"
            ],
            [
             0.3,
             "#f1b6da"
            ],
            [
             0.4,
             "#fde0ef"
            ],
            [
             0.5,
             "#f7f7f7"
            ],
            [
             0.6,
             "#e6f5d0"
            ],
            [
             0.7,
             "#b8e186"
            ],
            [
             0.8,
             "#7fbc41"
            ],
            [
             0.9,
             "#4d9221"
            ],
            [
             1,
             "#276419"
            ]
           ],
           "sequential": [
            [
             0,
             "#0d0887"
            ],
            [
             0.1111111111111111,
             "#46039f"
            ],
            [
             0.2222222222222222,
             "#7201a8"
            ],
            [
             0.3333333333333333,
             "#9c179e"
            ],
            [
             0.4444444444444444,
             "#bd3786"
            ],
            [
             0.5555555555555556,
             "#d8576b"
            ],
            [
             0.6666666666666666,
             "#ed7953"
            ],
            [
             0.7777777777777778,
             "#fb9f3a"
            ],
            [
             0.8888888888888888,
             "#fdca26"
            ],
            [
             1,
             "#f0f921"
            ]
           ],
           "sequentialminus": [
            [
             0,
             "#0d0887"
            ],
            [
             0.1111111111111111,
             "#46039f"
            ],
            [
             0.2222222222222222,
             "#7201a8"
            ],
            [
             0.3333333333333333,
             "#9c179e"
            ],
            [
             0.4444444444444444,
             "#bd3786"
            ],
            [
             0.5555555555555556,
             "#d8576b"
            ],
            [
             0.6666666666666666,
             "#ed7953"
            ],
            [
             0.7777777777777778,
             "#fb9f3a"
            ],
            [
             0.8888888888888888,
             "#fdca26"
            ],
            [
             1,
             "#f0f921"
            ]
           ]
          },
          "colorway": [
           "#636efa",
           "#EF553B",
           "#00cc96",
           "#ab63fa",
           "#FFA15A",
           "#19d3f3",
           "#FF6692",
           "#B6E880",
           "#FF97FF",
           "#FECB52"
          ],
          "font": {
           "color": "#2a3f5f"
          },
          "geo": {
           "bgcolor": "white",
           "lakecolor": "white",
           "landcolor": "#E5ECF6",
           "showlakes": true,
           "showland": true,
           "subunitcolor": "white"
          },
          "hoverlabel": {
           "align": "left"
          },
          "hovermode": "closest",
          "mapbox": {
           "style": "light"
          },
          "paper_bgcolor": "white",
          "plot_bgcolor": "#E5ECF6",
          "polar": {
           "angularaxis": {
            "gridcolor": "white",
            "linecolor": "white",
            "ticks": ""
           },
           "bgcolor": "#E5ECF6",
           "radialaxis": {
            "gridcolor": "white",
            "linecolor": "white",
            "ticks": ""
           }
          },
          "scene": {
           "xaxis": {
            "backgroundcolor": "#E5ECF6",
            "gridcolor": "white",
            "gridwidth": 2,
            "linecolor": "white",
            "showbackground": true,
            "ticks": "",
            "zerolinecolor": "white"
           },
           "yaxis": {
            "backgroundcolor": "#E5ECF6",
            "gridcolor": "white",
            "gridwidth": 2,
            "linecolor": "white",
            "showbackground": true,
            "ticks": "",
            "zerolinecolor": "white"
           },
           "zaxis": {
            "backgroundcolor": "#E5ECF6",
            "gridcolor": "white",
            "gridwidth": 2,
            "linecolor": "white",
            "showbackground": true,
            "ticks": "",
            "zerolinecolor": "white"
           }
          },
          "shapedefaults": {
           "line": {
            "color": "#2a3f5f"
           }
          },
          "ternary": {
           "aaxis": {
            "gridcolor": "white",
            "linecolor": "white",
            "ticks": ""
           },
           "baxis": {
            "gridcolor": "white",
            "linecolor": "white",
            "ticks": ""
           },
           "bgcolor": "#E5ECF6",
           "caxis": {
            "gridcolor": "white",
            "linecolor": "white",
            "ticks": ""
           }
          },
          "title": {
           "x": 0.05
          },
          "xaxis": {
           "automargin": true,
           "gridcolor": "white",
           "linecolor": "white",
           "ticks": "",
           "title": {
            "standoff": 15
           },
           "zerolinecolor": "white",
           "zerolinewidth": 2
          },
          "yaxis": {
           "automargin": true,
           "gridcolor": "white",
           "linecolor": "white",
           "ticks": "",
           "title": {
            "standoff": 15
           },
           "zerolinecolor": "white",
           "zerolinewidth": 2
          }
         }
        },
        "xaxis": {
         "anchor": "y",
         "domain": [
          0,
          1
         ],
         "title": {
          "text": "age"
         }
        },
        "xaxis2": {
         "anchor": "y2",
         "domain": [
          0,
          1
         ],
         "matches": "x",
         "showgrid": true,
         "showticklabels": false
        },
        "yaxis": {
         "anchor": "x",
         "domain": [
          0,
          0.7326
         ],
         "title": {
          "text": "count"
         }
        },
        "yaxis2": {
         "anchor": "x2",
         "domain": [
          0.7426,
          1
         ],
         "matches": "y2",
         "showgrid": false,
         "showline": false,
         "showticklabels": false,
         "ticks": ""
        }
       }
      },
      "text/html": [
       "<div>                            <div id=\"0c3bf518-b41e-446c-804b-31bddd0523b6\" class=\"plotly-graph-div\" style=\"height:525px; width:100%;\"></div>            <script type=\"text/javascript\">                require([\"plotly\"], function(Plotly) {                    window.PLOTLYENV=window.PLOTLYENV || {};                                    if (document.getElementById(\"0c3bf518-b41e-446c-804b-31bddd0523b6\")) {                    Plotly.newPlot(                        \"0c3bf518-b41e-446c-804b-31bddd0523b6\",                        [{\"alignmentgroup\":\"True\",\"bingroup\":\"x\",\"hovertemplate\":\"RESPONSE=N<br>age=%{x}<br>count=%{y}<extra></extra>\",\"legendgroup\":\"N\",\"marker\":{\"color\":\"#636efa\",\"pattern\":{\"shape\":\"\"}},\"name\":\"N\",\"offsetgroup\":\"N\",\"orientation\":\"v\",\"showlegend\":true,\"x\":[46.0,48.0,59.0,77.0,57.0,72.0,53.0,58.0,55.0,65.0,57.0,61.0,55.0,55.0,59.0,59.0,57.0,55.0,64.0,66.0,55.0,66.0,70.0,66.0,68.0,71.0,63.0,61.0,58.0,65.0,59.0,58.0,70.0,64.0,57.0,59.0,61.0,63.0,69.0,59.0,63.0,61.0,59.0,65.0,57.0,60.0,78.0,64.0,68.0,65.0,60.0,58.0,61.0,62.0,79.0,66.0,55.0,57.0,56.0,65.0,56.0,72.0,61.0,52.0,70.0,62.0,68.0,73.0,54.0,62.0,69.0,72.0,54.0,57.0,59.0,67.0,65.0,69.0,49.0,77.0,63.0,56.0,56.0,56.0,69.0,63.0,58.0,66.0,65.0,71.0,59.0,58.0,69.0,61.0,55.0,60.0,66.0,60.0,60.0,67.0,61.0,56.0,66.0,64.0,73.0,63.0,67.0,55.0,68.0,43.0,57.0,57.0,67.0,58.0,64.0,71.0,67.0,56.0,69.0,67.0,72.0,64.0,58.0,59.0,69.0,67.0,57.0,64.0,60.0,68.0,63.0,58.0,58.0,56.0,63.0,52.0,59.0,67.0,70.0,58.0,66.0,49.0,71.0,69.0,62.0,67.0,73.0,60.0,56.0,62.0,62.0,65.0,57.0,55.0,54.0,73.0,56.0,65.0,60.0,65.0,70.0,76.0,56.0,68.0,58.0,57.0,44.0,56.0,59.0,43.0,79.0,58.0,68.0,68.0,65.0,45.0,59.0,61.0,69.0,63.0,56.0,67.0,51.0,62.0,53.0,75.0,49.0,69.0,59.0,52.0,65.0,58.0,59.0,60.0,63.0,65.0,66.0,64.0,70.0,70.0,62.0,69.0,60.0,68.0,70.0,67.0,55.0,47.0,67.0,67.0,53.0,72.0,63.0,55.0,58.0,53.0,60.0,62.0,61.0,70.0,67.0,67.0,60.0,63.0,66.0,56.0,74.0,60.0,71.0,72.0,68.0,73.0,64.0,64.0,66.0,56.0,64.0,56.0,52.0,59.0,66.0,37.0,68.0,62.0,63.0,70.0,49.0,69.0,54.0,59.0,67.0,66.0,68.0,50.0,59.0,62.0,59.0,74.0,65.0,58.0,54.0,57.0,52.0,54.0,69.0,49.0,60.0,55.0,67.0,52.0,69.0,65.0,60.0,61.0,77.0,48.0,61.0,72.0,64.0,76.0,57.0,62.0,78.0,51.0,60.0,65.0,64.0,53.0,56.0,55.0,66.0,63.0,51.0,60.0,54.0,50.0,47.0,62.0,55.0,59.0,62.0,62.0,68.0,71.0,74.0,70.0,61.0,67.0,70.0,58.0,58.0,63.0,47.0,57.0,68.0,54.0,68.0,64.0,69.0,66.0,58.0,63.0,58.0,68.0,62.0,60.0,70.0,59.0,47.0,54.0,68.0,66.0,68.0,58.0,60.0,71.0,48.0,58.0,60.0,58.0,57.0,66.0,65.0,58.0,53.0,64.0,63.0,64.0,68.0,59.0,57.0,62.0,55.0,55.0,67.0,66.0,55.0,57.0,68.0,73.0,66.0,65.0,57.0,77.0,54.0,70.0,71.0,50.0,61.0,62.0,76.0,74.0,59.0,48.0,63.0,52.0,72.0,59.0,67.0,52.0,63.0,57.0,62.0,63.0,53.0,56.0,56.0,74.0,62.0,58.0,68.0,63.0,69.0,58.0,60.0,60.0,74.0,55.0,49.0,61.0,65.0,58.0,67.0,64.0,64.0,65.0,64.0,65.0,58.0,65.0,57.0,67.0,57.0,71.0,68.0,55.0,65.0,50.0,56.0,64.0,57.0,61.0,59.0,47.0,62.0,67.0,61.0,65.0,57.0,48.0,66.0,50.0,65.0,60.0],\"xaxis\":\"x\",\"yaxis\":\"y\",\"type\":\"histogram\"},{\"alignmentgroup\":\"True\",\"hovertemplate\":\"RESPONSE=N<br>age=%{x}<extra></extra>\",\"legendgroup\":\"N\",\"marker\":{\"color\":\"#636efa\"},\"name\":\"N\",\"notched\":true,\"offsetgroup\":\"N\",\"showlegend\":false,\"x\":[46.0,48.0,59.0,77.0,57.0,72.0,53.0,58.0,55.0,65.0,57.0,61.0,55.0,55.0,59.0,59.0,57.0,55.0,64.0,66.0,55.0,66.0,70.0,66.0,68.0,71.0,63.0,61.0,58.0,65.0,59.0,58.0,70.0,64.0,57.0,59.0,61.0,63.0,69.0,59.0,63.0,61.0,59.0,65.0,57.0,60.0,78.0,64.0,68.0,65.0,60.0,58.0,61.0,62.0,79.0,66.0,55.0,57.0,56.0,65.0,56.0,72.0,61.0,52.0,70.0,62.0,68.0,73.0,54.0,62.0,69.0,72.0,54.0,57.0,59.0,67.0,65.0,69.0,49.0,77.0,63.0,56.0,56.0,56.0,69.0,63.0,58.0,66.0,65.0,71.0,59.0,58.0,69.0,61.0,55.0,60.0,66.0,60.0,60.0,67.0,61.0,56.0,66.0,64.0,73.0,63.0,67.0,55.0,68.0,43.0,57.0,57.0,67.0,58.0,64.0,71.0,67.0,56.0,69.0,67.0,72.0,64.0,58.0,59.0,69.0,67.0,57.0,64.0,60.0,68.0,63.0,58.0,58.0,56.0,63.0,52.0,59.0,67.0,70.0,58.0,66.0,49.0,71.0,69.0,62.0,67.0,73.0,60.0,56.0,62.0,62.0,65.0,57.0,55.0,54.0,73.0,56.0,65.0,60.0,65.0,70.0,76.0,56.0,68.0,58.0,57.0,44.0,56.0,59.0,43.0,79.0,58.0,68.0,68.0,65.0,45.0,59.0,61.0,69.0,63.0,56.0,67.0,51.0,62.0,53.0,75.0,49.0,69.0,59.0,52.0,65.0,58.0,59.0,60.0,63.0,65.0,66.0,64.0,70.0,70.0,62.0,69.0,60.0,68.0,70.0,67.0,55.0,47.0,67.0,67.0,53.0,72.0,63.0,55.0,58.0,53.0,60.0,62.0,61.0,70.0,67.0,67.0,60.0,63.0,66.0,56.0,74.0,60.0,71.0,72.0,68.0,73.0,64.0,64.0,66.0,56.0,64.0,56.0,52.0,59.0,66.0,37.0,68.0,62.0,63.0,70.0,49.0,69.0,54.0,59.0,67.0,66.0,68.0,50.0,59.0,62.0,59.0,74.0,65.0,58.0,54.0,57.0,52.0,54.0,69.0,49.0,60.0,55.0,67.0,52.0,69.0,65.0,60.0,61.0,77.0,48.0,61.0,72.0,64.0,76.0,57.0,62.0,78.0,51.0,60.0,65.0,64.0,53.0,56.0,55.0,66.0,63.0,51.0,60.0,54.0,50.0,47.0,62.0,55.0,59.0,62.0,62.0,68.0,71.0,74.0,70.0,61.0,67.0,70.0,58.0,58.0,63.0,47.0,57.0,68.0,54.0,68.0,64.0,69.0,66.0,58.0,63.0,58.0,68.0,62.0,60.0,70.0,59.0,47.0,54.0,68.0,66.0,68.0,58.0,60.0,71.0,48.0,58.0,60.0,58.0,57.0,66.0,65.0,58.0,53.0,64.0,63.0,64.0,68.0,59.0,57.0,62.0,55.0,55.0,67.0,66.0,55.0,57.0,68.0,73.0,66.0,65.0,57.0,77.0,54.0,70.0,71.0,50.0,61.0,62.0,76.0,74.0,59.0,48.0,63.0,52.0,72.0,59.0,67.0,52.0,63.0,57.0,62.0,63.0,53.0,56.0,56.0,74.0,62.0,58.0,68.0,63.0,69.0,58.0,60.0,60.0,74.0,55.0,49.0,61.0,65.0,58.0,67.0,64.0,64.0,65.0,64.0,65.0,58.0,65.0,57.0,67.0,57.0,71.0,68.0,55.0,65.0,50.0,56.0,64.0,57.0,61.0,59.0,47.0,62.0,67.0,61.0,65.0,57.0,48.0,66.0,50.0,65.0,60.0],\"xaxis\":\"x2\",\"yaxis\":\"y2\",\"type\":\"box\"},{\"alignmentgroup\":\"True\",\"bingroup\":\"x\",\"hovertemplate\":\"RESPONSE=Y<br>age=%{x}<br>count=%{y}<extra></extra>\",\"legendgroup\":\"Y\",\"marker\":{\"color\":\"#EF553B\",\"pattern\":{\"shape\":\"\"}},\"name\":\"Y\",\"offsetgroup\":\"Y\",\"orientation\":\"v\",\"showlegend\":true,\"x\":[47.0,59.0,63.0,73.0,67.0,54.0,65.0,51.0,73.0,56.0,56.0,56.0,69.0,69.0,49.0,63.0,62.0,64.0,60.0,63.0,51.0,65.0,73.0,58.0,52.0,65.0,56.0,71.0,71.0,63.0,56.0,62.0,58.0,62.0,59.0,48.0,79.0,56.0,68.0,69.0,68.0,77.0,66.0,60.0,64.0,68.0,77.0,58.0,47.0,64.0,67.0,57.0,77.0,60.0,64.0,67.0,72.0,60.0,58.0,55.0,57.0,57.0,61.0,67.0,46.0,71.0,58.0,72.0,65.0,63.0,66.0,61.0,58.0,60.0,62.0,61.0,64.0,62.0,79.0,59.0,65.0,69.0,55.0,65.0,55.0,73.0,57.0,70.0,63.0,44.0,67.0,62.0,64.0,53.0,62.0,61.0,67.0,68.0,52.0,66.0,61.0,66.0,73.0,61.0,61.0,60.0,73.0,54.0,59.0,67.0,39.0,61.0,64.0,60.0,64.0,74.0,68.0,59.0,58.0,58.0,50.0,60.0,70.0,62.0,60.0,67.0,66.0,63.0,68.0,61.0,56.0,58.0,71.0,75.0,43.0,69.0,67.0,52.0,52.0,66.0,59.0,51.0,72.0,57.0,69.0,70.0,62.0,63.0,57.0,68.0,64.0,55.0,59.0,61.0,61.0,59.0,57.0,39.0,75.0,67.0,76.0,71.0,62.0,73.0,68.0,54.0,67.0,60.0,64.0,59.0,59.0,59.0,63.0,55.0,47.0,69.0,53.0,65.0,74.0,75.0,73.0,59.0,66.0,63.0,63.0,63.0,69.0,48.0,68.0,71.0,58.0,69.0,49.0,58.0,67.0,56.0,64.0,67.0,60.0,63.0,61.0,69.0,60.0,61.0,64.0,73.0,60.0,62.0,60.0,66.0,60.0,66.0,56.0,48.0,56.0,51.0,59.0,66.0,66.0,66.0,64.0,59.0,67.0,70.0,66.0,57.0,73.0,55.0,53.0,55.0,65.0,56.0,64.0,63.0,55.0,69.0,61.0,61.0,56.0,69.0,63.0,68.0,54.0,56.0,62.0,69.0,56.0,45.0,37.0,63.0,49.0,51.0,59.0,76.0,60.0,55.0,59.0,75.0,62.0,55.0,50.0,61.0,63.0,61.0,62.0,65.0,57.0,65.0,49.0,50.0,51.0,66.0,65.0,61.0,59.0,63.0,56.0,64.0,54.0,52.0,61.0,64.0,45.0,71.0,57.0,49.0,61.0,50.0,61.0,69.0,65.0,54.0,66.0,68.0,72.0,65.0,57.0,71.0,69.0,65.0,50.0,63.0,66.0,58.0,57.0,68.0,65.0,72.0,64.0,71.0,53.0,62.0,62.0,68.0,60.0,65.0,69.0,69.0,54.0,61.0,67.0,61.0,65.0,59.0,75.0,61.0,56.0,69.0,68.0,64.0,70.0,61.0,53.0,68.0],\"xaxis\":\"x\",\"yaxis\":\"y\",\"type\":\"histogram\"},{\"alignmentgroup\":\"True\",\"hovertemplate\":\"RESPONSE=Y<br>age=%{x}<extra></extra>\",\"legendgroup\":\"Y\",\"marker\":{\"color\":\"#EF553B\"},\"name\":\"Y\",\"notched\":true,\"offsetgroup\":\"Y\",\"showlegend\":false,\"x\":[47.0,59.0,63.0,73.0,67.0,54.0,65.0,51.0,73.0,56.0,56.0,56.0,69.0,69.0,49.0,63.0,62.0,64.0,60.0,63.0,51.0,65.0,73.0,58.0,52.0,65.0,56.0,71.0,71.0,63.0,56.0,62.0,58.0,62.0,59.0,48.0,79.0,56.0,68.0,69.0,68.0,77.0,66.0,60.0,64.0,68.0,77.0,58.0,47.0,64.0,67.0,57.0,77.0,60.0,64.0,67.0,72.0,60.0,58.0,55.0,57.0,57.0,61.0,67.0,46.0,71.0,58.0,72.0,65.0,63.0,66.0,61.0,58.0,60.0,62.0,61.0,64.0,62.0,79.0,59.0,65.0,69.0,55.0,65.0,55.0,73.0,57.0,70.0,63.0,44.0,67.0,62.0,64.0,53.0,62.0,61.0,67.0,68.0,52.0,66.0,61.0,66.0,73.0,61.0,61.0,60.0,73.0,54.0,59.0,67.0,39.0,61.0,64.0,60.0,64.0,74.0,68.0,59.0,58.0,58.0,50.0,60.0,70.0,62.0,60.0,67.0,66.0,63.0,68.0,61.0,56.0,58.0,71.0,75.0,43.0,69.0,67.0,52.0,52.0,66.0,59.0,51.0,72.0,57.0,69.0,70.0,62.0,63.0,57.0,68.0,64.0,55.0,59.0,61.0,61.0,59.0,57.0,39.0,75.0,67.0,76.0,71.0,62.0,73.0,68.0,54.0,67.0,60.0,64.0,59.0,59.0,59.0,63.0,55.0,47.0,69.0,53.0,65.0,74.0,75.0,73.0,59.0,66.0,63.0,63.0,63.0,69.0,48.0,68.0,71.0,58.0,69.0,49.0,58.0,67.0,56.0,64.0,67.0,60.0,63.0,61.0,69.0,60.0,61.0,64.0,73.0,60.0,62.0,60.0,66.0,60.0,66.0,56.0,48.0,56.0,51.0,59.0,66.0,66.0,66.0,64.0,59.0,67.0,70.0,66.0,57.0,73.0,55.0,53.0,55.0,65.0,56.0,64.0,63.0,55.0,69.0,61.0,61.0,56.0,69.0,63.0,68.0,54.0,56.0,62.0,69.0,56.0,45.0,37.0,63.0,49.0,51.0,59.0,76.0,60.0,55.0,59.0,75.0,62.0,55.0,50.0,61.0,63.0,61.0,62.0,65.0,57.0,65.0,49.0,50.0,51.0,66.0,65.0,61.0,59.0,63.0,56.0,64.0,54.0,52.0,61.0,64.0,45.0,71.0,57.0,49.0,61.0,50.0,61.0,69.0,65.0,54.0,66.0,68.0,72.0,65.0,57.0,71.0,69.0,65.0,50.0,63.0,66.0,58.0,57.0,68.0,65.0,72.0,64.0,71.0,53.0,62.0,62.0,68.0,60.0,65.0,69.0,69.0,54.0,61.0,67.0,61.0,65.0,59.0,75.0,61.0,56.0,69.0,68.0,64.0,70.0,61.0,53.0,68.0],\"xaxis\":\"x2\",\"yaxis\":\"y2\",\"type\":\"box\"}],                        {\"template\":{\"data\":{\"histogram2dcontour\":[{\"type\":\"histogram2dcontour\",\"colorbar\":{\"outlinewidth\":0,\"ticks\":\"\"},\"colorscale\":[[0.0,\"#0d0887\"],[0.1111111111111111,\"#46039f\"],[0.2222222222222222,\"#7201a8\"],[0.3333333333333333,\"#9c179e\"],[0.4444444444444444,\"#bd3786\"],[0.5555555555555556,\"#d8576b\"],[0.6666666666666666,\"#ed7953\"],[0.7777777777777778,\"#fb9f3a\"],[0.8888888888888888,\"#fdca26\"],[1.0,\"#f0f921\"]]}],\"choropleth\":[{\"type\":\"choropleth\",\"colorbar\":{\"outlinewidth\":0,\"ticks\":\"\"}}],\"histogram2d\":[{\"type\":\"histogram2d\",\"colorbar\":{\"outlinewidth\":0,\"ticks\":\"\"},\"colorscale\":[[0.0,\"#0d0887\"],[0.1111111111111111,\"#46039f\"],[0.2222222222222222,\"#7201a8\"],[0.3333333333333333,\"#9c179e\"],[0.4444444444444444,\"#bd3786\"],[0.5555555555555556,\"#d8576b\"],[0.6666666666666666,\"#ed7953\"],[0.7777777777777778,\"#fb9f3a\"],[0.8888888888888888,\"#fdca26\"],[1.0,\"#f0f921\"]]}],\"heatmap\":[{\"type\":\"heatmap\",\"colorbar\":{\"outlinewidth\":0,\"ticks\":\"\"},\"colorscale\":[[0.0,\"#0d0887\"],[0.1111111111111111,\"#46039f\"],[0.2222222222222222,\"#7201a8\"],[0.3333333333333333,\"#9c179e\"],[0.4444444444444444,\"#bd3786\"],[0.5555555555555556,\"#d8576b\"],[0.6666666666666666,\"#ed7953\"],[0.7777777777777778,\"#fb9f3a\"],[0.8888888888888888,\"#fdca26\"],[1.0,\"#f0f921\"]]}],\"heatmapgl\":[{\"type\":\"heatmapgl\",\"colorbar\":{\"outlinewidth\":0,\"ticks\":\"\"},\"colorscale\":[[0.0,\"#0d0887\"],[0.1111111111111111,\"#46039f\"],[0.2222222222222222,\"#7201a8\"],[0.3333333333333333,\"#9c179e\"],[0.4444444444444444,\"#bd3786\"],[0.5555555555555556,\"#d8576b\"],[0.6666666666666666,\"#ed7953\"],[0.7777777777777778,\"#fb9f3a\"],[0.8888888888888888,\"#fdca26\"],[1.0,\"#f0f921\"]]}],\"contourcarpet\":[{\"type\":\"contourcarpet\",\"colorbar\":{\"outlinewidth\":0,\"ticks\":\"\"}}],\"contour\":[{\"type\":\"contour\",\"colorbar\":{\"outlinewidth\":0,\"ticks\":\"\"},\"colorscale\":[[0.0,\"#0d0887\"],[0.1111111111111111,\"#46039f\"],[0.2222222222222222,\"#7201a8\"],[0.3333333333333333,\"#9c179e\"],[0.4444444444444444,\"#bd3786\"],[0.5555555555555556,\"#d8576b\"],[0.6666666666666666,\"#ed7953\"],[0.7777777777777778,\"#fb9f3a\"],[0.8888888888888888,\"#fdca26\"],[1.0,\"#f0f921\"]]}],\"surface\":[{\"type\":\"surface\",\"colorbar\":{\"outlinewidth\":0,\"ticks\":\"\"},\"colorscale\":[[0.0,\"#0d0887\"],[0.1111111111111111,\"#46039f\"],[0.2222222222222222,\"#7201a8\"],[0.3333333333333333,\"#9c179e\"],[0.4444444444444444,\"#bd3786\"],[0.5555555555555556,\"#d8576b\"],[0.6666666666666666,\"#ed7953\"],[0.7777777777777778,\"#fb9f3a\"],[0.8888888888888888,\"#fdca26\"],[1.0,\"#f0f921\"]]}],\"mesh3d\":[{\"type\":\"mesh3d\",\"colorbar\":{\"outlinewidth\":0,\"ticks\":\"\"}}],\"scatter\":[{\"fillpattern\":{\"fillmode\":\"overlay\",\"size\":10,\"solidity\":0.2},\"type\":\"scatter\"}],\"parcoords\":[{\"type\":\"parcoords\",\"line\":{\"colorbar\":{\"outlinewidth\":0,\"ticks\":\"\"}}}],\"scatterpolargl\":[{\"type\":\"scatterpolargl\",\"marker\":{\"colorbar\":{\"outlinewidth\":0,\"ticks\":\"\"}}}],\"bar\":[{\"error_x\":{\"color\":\"#2a3f5f\"},\"error_y\":{\"color\":\"#2a3f5f\"},\"marker\":{\"line\":{\"color\":\"#E5ECF6\",\"width\":0.5},\"pattern\":{\"fillmode\":\"overlay\",\"size\":10,\"solidity\":0.2}},\"type\":\"bar\"}],\"scattergeo\":[{\"type\":\"scattergeo\",\"marker\":{\"colorbar\":{\"outlinewidth\":0,\"ticks\":\"\"}}}],\"scatterpolar\":[{\"type\":\"scatterpolar\",\"marker\":{\"colorbar\":{\"outlinewidth\":0,\"ticks\":\"\"}}}],\"histogram\":[{\"marker\":{\"pattern\":{\"fillmode\":\"overlay\",\"size\":10,\"solidity\":0.2}},\"type\":\"histogram\"}],\"scattergl\":[{\"type\":\"scattergl\",\"marker\":{\"colorbar\":{\"outlinewidth\":0,\"ticks\":\"\"}}}],\"scatter3d\":[{\"type\":\"scatter3d\",\"line\":{\"colorbar\":{\"outlinewidth\":0,\"ticks\":\"\"}},\"marker\":{\"colorbar\":{\"outlinewidth\":0,\"ticks\":\"\"}}}],\"scattermapbox\":[{\"type\":\"scattermapbox\",\"marker\":{\"colorbar\":{\"outlinewidth\":0,\"ticks\":\"\"}}}],\"scatterternary\":[{\"type\":\"scatterternary\",\"marker\":{\"colorbar\":{\"outlinewidth\":0,\"ticks\":\"\"}}}],\"scattercarpet\":[{\"type\":\"scattercarpet\",\"marker\":{\"colorbar\":{\"outlinewidth\":0,\"ticks\":\"\"}}}],\"carpet\":[{\"aaxis\":{\"endlinecolor\":\"#2a3f5f\",\"gridcolor\":\"white\",\"linecolor\":\"white\",\"minorgridcolor\":\"white\",\"startlinecolor\":\"#2a3f5f\"},\"baxis\":{\"endlinecolor\":\"#2a3f5f\",\"gridcolor\":\"white\",\"linecolor\":\"white\",\"minorgridcolor\":\"white\",\"startlinecolor\":\"#2a3f5f\"},\"type\":\"carpet\"}],\"table\":[{\"cells\":{\"fill\":{\"color\":\"#EBF0F8\"},\"line\":{\"color\":\"white\"}},\"header\":{\"fill\":{\"color\":\"#C8D4E3\"},\"line\":{\"color\":\"white\"}},\"type\":\"table\"}],\"barpolar\":[{\"marker\":{\"line\":{\"color\":\"#E5ECF6\",\"width\":0.5},\"pattern\":{\"fillmode\":\"overlay\",\"size\":10,\"solidity\":0.2}},\"type\":\"barpolar\"}],\"pie\":[{\"automargin\":true,\"type\":\"pie\"}]},\"layout\":{\"autotypenumbers\":\"strict\",\"colorway\":[\"#636efa\",\"#EF553B\",\"#00cc96\",\"#ab63fa\",\"#FFA15A\",\"#19d3f3\",\"#FF6692\",\"#B6E880\",\"#FF97FF\",\"#FECB52\"],\"font\":{\"color\":\"#2a3f5f\"},\"hovermode\":\"closest\",\"hoverlabel\":{\"align\":\"left\"},\"paper_bgcolor\":\"white\",\"plot_bgcolor\":\"#E5ECF6\",\"polar\":{\"bgcolor\":\"#E5ECF6\",\"angularaxis\":{\"gridcolor\":\"white\",\"linecolor\":\"white\",\"ticks\":\"\"},\"radialaxis\":{\"gridcolor\":\"white\",\"linecolor\":\"white\",\"ticks\":\"\"}},\"ternary\":{\"bgcolor\":\"#E5ECF6\",\"aaxis\":{\"gridcolor\":\"white\",\"linecolor\":\"white\",\"ticks\":\"\"},\"baxis\":{\"gridcolor\":\"white\",\"linecolor\":\"white\",\"ticks\":\"\"},\"caxis\":{\"gridcolor\":\"white\",\"linecolor\":\"white\",\"ticks\":\"\"}},\"coloraxis\":{\"colorbar\":{\"outlinewidth\":0,\"ticks\":\"\"}},\"colorscale\":{\"sequential\":[[0.0,\"#0d0887\"],[0.1111111111111111,\"#46039f\"],[0.2222222222222222,\"#7201a8\"],[0.3333333333333333,\"#9c179e\"],[0.4444444444444444,\"#bd3786\"],[0.5555555555555556,\"#d8576b\"],[0.6666666666666666,\"#ed7953\"],[0.7777777777777778,\"#fb9f3a\"],[0.8888888888888888,\"#fdca26\"],[1.0,\"#f0f921\"]],\"sequentialminus\":[[0.0,\"#0d0887\"],[0.1111111111111111,\"#46039f\"],[0.2222222222222222,\"#7201a8\"],[0.3333333333333333,\"#9c179e\"],[0.4444444444444444,\"#bd3786\"],[0.5555555555555556,\"#d8576b\"],[0.6666666666666666,\"#ed7953\"],[0.7777777777777778,\"#fb9f3a\"],[0.8888888888888888,\"#fdca26\"],[1.0,\"#f0f921\"]],\"diverging\":[[0,\"#8e0152\"],[0.1,\"#c51b7d\"],[0.2,\"#de77ae\"],[0.3,\"#f1b6da\"],[0.4,\"#fde0ef\"],[0.5,\"#f7f7f7\"],[0.6,\"#e6f5d0\"],[0.7,\"#b8e186\"],[0.8,\"#7fbc41\"],[0.9,\"#4d9221\"],[1,\"#276419\"]]},\"xaxis\":{\"gridcolor\":\"white\",\"linecolor\":\"white\",\"ticks\":\"\",\"title\":{\"standoff\":15},\"zerolinecolor\":\"white\",\"automargin\":true,\"zerolinewidth\":2},\"yaxis\":{\"gridcolor\":\"white\",\"linecolor\":\"white\",\"ticks\":\"\",\"title\":{\"standoff\":15},\"zerolinecolor\":\"white\",\"automargin\":true,\"zerolinewidth\":2},\"scene\":{\"xaxis\":{\"backgroundcolor\":\"#E5ECF6\",\"gridcolor\":\"white\",\"linecolor\":\"white\",\"showbackground\":true,\"ticks\":\"\",\"zerolinecolor\":\"white\",\"gridwidth\":2},\"yaxis\":{\"backgroundcolor\":\"#E5ECF6\",\"gridcolor\":\"white\",\"linecolor\":\"white\",\"showbackground\":true,\"ticks\":\"\",\"zerolinecolor\":\"white\",\"gridwidth\":2},\"zaxis\":{\"backgroundcolor\":\"#E5ECF6\",\"gridcolor\":\"white\",\"linecolor\":\"white\",\"showbackground\":true,\"ticks\":\"\",\"zerolinecolor\":\"white\",\"gridwidth\":2}},\"shapedefaults\":{\"line\":{\"color\":\"#2a3f5f\"}},\"annotationdefaults\":{\"arrowcolor\":\"#2a3f5f\",\"arrowhead\":0,\"arrowwidth\":1},\"geo\":{\"bgcolor\":\"white\",\"landcolor\":\"#E5ECF6\",\"subunitcolor\":\"white\",\"showland\":true,\"showlakes\":true,\"lakecolor\":\"white\"},\"title\":{\"x\":0.05},\"mapbox\":{\"style\":\"light\"}}},\"xaxis\":{\"anchor\":\"y\",\"domain\":[0.0,1.0],\"title\":{\"text\":\"age\"}},\"yaxis\":{\"anchor\":\"x\",\"domain\":[0.0,0.7326],\"title\":{\"text\":\"count\"}},\"xaxis2\":{\"anchor\":\"y2\",\"domain\":[0.0,1.0],\"matches\":\"x\",\"showticklabels\":false,\"showgrid\":true},\"yaxis2\":{\"anchor\":\"x2\",\"domain\":[0.7426,1.0],\"matches\":\"y2\",\"showticklabels\":false,\"showline\":false,\"ticks\":\"\",\"showgrid\":false},\"legend\":{\"title\":{\"text\":\"RESPONSE\"},\"tracegroupgap\":0},\"margin\":{\"t\":60},\"barmode\":\"relative\"},                        {\"responsive\": true}                    ).then(function(){\n",
       "                            \n",
       "var gd = document.getElementById('0c3bf518-b41e-446c-804b-31bddd0523b6');\n",
       "var x = new MutationObserver(function (mutations, observer) {{\n",
       "        var display = window.getComputedStyle(gd).display;\n",
       "        if (!display || display === 'none') {{\n",
       "            console.log([gd, 'removed!']);\n",
       "            Plotly.purge(gd);\n",
       "            observer.disconnect();\n",
       "        }}\n",
       "}});\n",
       "\n",
       "// Listen for the removal of the full notebook cells\n",
       "var notebookContainer = gd.closest('#notebook-container');\n",
       "if (notebookContainer) {{\n",
       "    x.observe(notebookContainer, {childList: true});\n",
       "}}\n",
       "\n",
       "// Listen for the clearing of the current output cell\n",
       "var outputEl = gd.closest('.output');\n",
       "if (outputEl) {{\n",
       "    x.observe(outputEl, {childList: true});\n",
       "}}\n",
       "\n",
       "                        })                };                });            </script>        </div>"
      ]
     },
     "metadata": {},
     "output_type": "display_data"
    }
   ],
   "source": [
    "px.histogram(df_merged, x=\"age\", color=\"RESPONSE\", marginal=\"box\")"
   ]
  },
  {
   "cell_type": "markdown",
   "id": "007ed62c",
   "metadata": {},
   "source": [
    "### 3. Compare responders and non-responders in the two treatment arms"
   ]
  },
  {
   "cell_type": "code",
   "execution_count": 448,
   "id": "975e1998",
   "metadata": {},
   "outputs": [
    {
     "data": {
      "text/plain": [
       "61.89"
      ]
     },
     "execution_count": 448,
     "metadata": {},
     "output_type": "execute_result"
    }
   ],
   "source": [
    "round(df_merged[df_merged[\"RESPONSE\"]==\"Y\"][\"age\"].mean(), 2)"
   ]
  },
  {
   "cell_type": "code",
   "execution_count": 449,
   "id": "db499239",
   "metadata": {},
   "outputs": [
    {
     "data": {
      "text/plain": [
       "N    434\n",
       "Y    334\n",
       "Name: RESPONSE, dtype: int64"
      ]
     },
     "execution_count": 449,
     "metadata": {},
     "output_type": "execute_result"
    }
   ],
   "source": [
    "df_merged[\"RESPONSE\"].value_counts()"
   ]
  },
  {
   "cell_type": "code",
   "execution_count": 450,
   "id": "69c4ff12",
   "metadata": {},
   "outputs": [
    {
     "data": {
      "text/plain": [
       "RESPONSE  trt_grp\n",
       "N         CONTROL    261\n",
       "          DRUG       173\n",
       "Y         CONTROL    124\n",
       "          DRUG       210\n",
       "dtype: int64"
      ]
     },
     "execution_count": 450,
     "metadata": {},
     "output_type": "execute_result"
    }
   ],
   "source": [
    "df_merged.groupby([\"RESPONSE\", \"trt_grp\"]).size()"
   ]
  },
  {
   "cell_type": "code",
   "execution_count": 451,
   "id": "3fda58ab",
   "metadata": {},
   "outputs": [],
   "source": [
    "# There are 261 uses standard of care(CONTROL) and 173 uses new drug response to \"NO\" which means their tumors\n",
    "# are staying same or getting bigger. however, 124 standard of care and 210 new drugs taker response to \"YES\"\n",
    "# which further means their tumors are shrinking. Therefore it can be seen from the following bar chart that \n",
    "# the number of people are more who does not prefer standard of care. However, more they like to prefer new drugs."
   ]
  },
  {
   "cell_type": "code",
   "execution_count": 452,
   "id": "fbf701d5",
   "metadata": {},
   "outputs": [
    {
     "data": {
      "image/png": "[encoded data removed]",
      "text/plain": [
       "<Figure size 640x480 with 1 Axes>"
      ]
     },
     "metadata": {},
     "output_type": "display_data"
    }
   ],
   "source": [
    "df_merged.groupby([\"RESPONSE\", \"trt_grp\"]).size().plot(kind=\"bar\");"
   ]
  },
  {
   "cell_type": "markdown",
   "id": "7039c29e",
   "metadata": {},
   "source": [
    "### 4. Compare mean weight in responders/non-responders"
   ]
  },
  {
   "cell_type": "code",
   "execution_count": 453,
   "id": "34a874f0",
   "metadata": {},
   "outputs": [
    {
     "data": {
      "text/plain": [
       "93.22"
      ]
     },
     "execution_count": 453,
     "metadata": {},
     "output_type": "execute_result"
    }
   ],
   "source": [
    "round(df_merged[df_merged[\"RESPONSE\"]==\"Y\"][\"weight\"].mean(), 2)"
   ]
  },
  {
   "cell_type": "code",
   "execution_count": 454,
   "id": "65403a1d",
   "metadata": {},
   "outputs": [],
   "source": [
    "# The mean of weight is 93.22 for patient whose response is \"Yes\" means those patient have average weight 93.22\n",
    "# responded to treatment or another words their turmors are shrinking. It can be seen clearly in the histogram chart."
   ]
  },
  {
   "cell_type": "code",
   "execution_count": 455,
   "id": "81341e66",
   "metadata": {},
   "outputs": [
    {
     "data": {
      "text/plain": [
       "89.85"
      ]
     },
     "execution_count": 455,
     "metadata": {},
     "output_type": "execute_result"
    }
   ],
   "source": [
    "round(df_merged[df_merged[\"RESPONSE\"]==\"N\"][\"weight\"].mean(), 2)"
   ]
  },
  {
   "cell_type": "code",
   "execution_count": 456,
   "id": "0c013314",
   "metadata": {},
   "outputs": [
    {
     "data": {
      "application/vnd.plotly.v1+json": {
       "config": {
        "plotlyServerURL": "https://plot.ly"
       },
       "data": [
        {
         "alignmentgroup": "True",
         "bingroup": "x",
         "hovertemplate": "RESPONSE=N<br>weight=%{x}<br>count=%{y}<extra></extra>",
         "legendgroup": "N",
         "marker": {
          "color": "#636efa",
          "pattern": {
           "shape": ""
          }
         },
         "name": "N",
         "offsetgroup": "N",
         "orientation": "v",
         "showlegend": true,
         "type": "histogram",
         "x": [
          84.66,
          69.85,
          113.91,
          96.12,
          93.5,
          85.57,
          125.02,
          76.31,
          90.99,
          80.21,
          144.15,
          122.87,
          85.69,
          115.97,
          74.94,
          96.43,
          64.36,
          55.48,
          82.18,
          83.84,
          73.24,
          63.33,
          91.69,
          99.31,
          112.26,
          127.58,
          77.89,
          131.25,
          100.35,
          86.6,
          48.9,
          88.23,
          82.39,
          57.12,
          104.77,
          109.88,
          86.6,
          97.35,
          76.46,
          81.74,
          76.91,
          52.62,
          91.43,
          90.64,
          88.34,
          127.68,
          78.92,
          59.31,
          54.54,
          86.6,
          125.41,
          100.1,
          107.75,
          101.64,
          64.07,
          53.31,
          102.94,
          110.75,
          75.01,
          68.01,
          75.94,
          91.51,
          96.22,
          78.45,
          100.6,
          77.22,
          105.05,
          86.98,
          142.42,
          80.53,
          88.04,
          92.75,
          77.75,
          80.22,
          75.63,
          98.53,
          91.5,
          101.9,
          65.03,
          96.57,
          97.06,
          85.41,
          86.6,
          74.52,
          96.64,
          124.94,
          51.67,
          116.5,
          148.86,
          80.19,
          79.82,
          115.17,
          71.42,
          95.72,
          89.16,
          89.97,
          81.94,
          105.31,
          80.78,
          124.2,
          72.57,
          91.92,
          80.46,
          102.83,
          83.19,
          111.28,
          83.6,
          70.25,
          103.16,
          71.38,
          165.66,
          135.89,
          73.06,
          103.45,
          95.59,
          93.36,
          70.09,
          99.76,
          101.76,
          91.35,
          135.27,
          89.91,
          127.96,
          96.53,
          108.85,
          90.78,
          86.48,
          85.98,
          107.15,
          83.1,
          68.54,
          104,
          89.56,
          136.52,
          137.73,
          85.25,
          102.84,
          93.84,
          132.59,
          99.64,
          104.68,
          73.91,
          101.05,
          77.33,
          80.4,
          135.76,
          110.65,
          83.46,
          82.66,
          78.78,
          112.18,
          59.17,
          85.33,
          89.64,
          71.04,
          80.99,
          89.19,
          103.71,
          132.07,
          63.75,
          75.97,
          116.43,
          73.56,
          76.18,
          68.58,
          89.27,
          111.59,
          78.93,
          63.84,
          93.28,
          65.9,
          103.15,
          90.38,
          70.92,
          93.28,
          78.69,
          71.56,
          54.62,
          73.61,
          96.87,
          48.3,
          69.32,
          64.69,
          82.24,
          82.55,
          113.45,
          79.62,
          87.31,
          87.44,
          55.33,
          90.61,
          61.61,
          84.75,
          73.74,
          90.45,
          67,
          111.49,
          113.49,
          58.69,
          125.56,
          125.92,
          113.05,
          117.28,
          67.82,
          92.01,
          73.29,
          61.22,
          60.04,
          81.43,
          80.62,
          76.36,
          96.39,
          97.23,
          86.02,
          110.94,
          87.38,
          92.05,
          61.23,
          82.86,
          104.58,
          86.6,
          93.53,
          61.9,
          68.96,
          81.32,
          86.65,
          94.58,
          151.28,
          66.92,
          101.09,
          78.43,
          78.61,
          116.48,
          50.29,
          109.78,
          75.51,
          88.74,
          126.01,
          67.16,
          85.23,
          118.77,
          141.42,
          75.25,
          114.68,
          70.43,
          118.26,
          68.31,
          52.2,
          112.9,
          102.92,
          116.55,
          86.6,
          94.12,
          112.63,
          62.38,
          107.69,
          123.9,
          101.19,
          82.42,
          91.97,
          97.77,
          60,
          81.78,
          64.35,
          56.41,
          98.22,
          102.63,
          74.8,
          83.16,
          110.26,
          113.73,
          70.82,
          78.13,
          77.85,
          64.11,
          84.37,
          104.82,
          78.71,
          112.2,
          101.69,
          139.32,
          77.67,
          71.83,
          84.9,
          86.6,
          72.55,
          66.6,
          75.89,
          73.83,
          63.67,
          122.75,
          112.32,
          71.85,
          67.82,
          59.95,
          68.04,
          85.25,
          72.06,
          53.12,
          102.66,
          86.6,
          108,
          82.38,
          51.89,
          91.21,
          59.56,
          76.45,
          84.7,
          102.9,
          103.93,
          102.38,
          86.55,
          79.32,
          83.06,
          82.93,
          86.84,
          62.2,
          84.25,
          94.76,
          70.2,
          84.2,
          100.2,
          91.18,
          68.69,
          86.15,
          94.82,
          88.99,
          71.72,
          87.21,
          112.42,
          126.49,
          62.4,
          83.02,
          99.73,
          110.26,
          104.14,
          79.19,
          95.8,
          63.19,
          83.99,
          47.31,
          88.2,
          109.35,
          89.84,
          130.97,
          72.01,
          82.85,
          114.74,
          90.17,
          138.41,
          91.5,
          98.4,
          61.19,
          109.21,
          88.85,
          68.7,
          86.66,
          76.43,
          101.43,
          63.63,
          108.34,
          92.14,
          82.02,
          100.08,
          59.03,
          118.19,
          75.55,
          87.27,
          75.67,
          83.59,
          106.07,
          59.53,
          115.9,
          69.86,
          116.52,
          104.86,
          95.88,
          77.06,
          67.99,
          82.06,
          110.99,
          79.96,
          84.6,
          88.98,
          51.6,
          109.84,
          138.57,
          86.6,
          51.66,
          98.41,
          100.14,
          66.41,
          91.2,
          75.37,
          112.72,
          79.23,
          75.46,
          107.32,
          78.46,
          79.69,
          111.06,
          83.85,
          76.49,
          115.05,
          101.6,
          80.59,
          111.91,
          86.12,
          86.51,
          56.7,
          65.48,
          100.67,
          72.24,
          81.04,
          112.55,
          73.5,
          87.51,
          114.42,
          104.66,
          124.32,
          123.69,
          124.81,
          72.73,
          79.07,
          70.64,
          111.12,
          76.97,
          117.14,
          102.04,
          95.87,
          106.5,
          84.75,
          112.86,
          81.03
         ],
         "xaxis": "x",
         "yaxis": "y"
        },
        {
         "alignmentgroup": "True",
         "hovertemplate": "RESPONSE=N<br>weight=%{x}<extra></extra>",
         "legendgroup": "N",
         "marker": {
          "color": "#636efa"
         },
         "name": "N",
         "notched": true,
         "offsetgroup": "N",
         "showlegend": false,
         "type": "box",
         "x": [
          84.66,
          69.85,
          113.91,
          96.12,
          93.5,
          85.57,
          125.02,
          76.31,
          90.99,
          80.21,
          144.15,
          122.87,
          85.69,
          115.97,
          74.94,
          96.43,
          64.36,
          55.48,
          82.18,
          83.84,
          73.24,
          63.33,
          91.69,
          99.31,
          112.26,
          127.58,
          77.89,
          131.25,
          100.35,
          86.6,
          48.9,
          88.23,
          82.39,
          57.12,
          104.77,
          109.88,
          86.6,
          97.35,
          76.46,
          81.74,
          76.91,
          52.62,
          91.43,
          90.64,
          88.34,
          127.68,
          78.92,
          59.31,
          54.54,
          86.6,
          125.41,
          100.1,
          107.75,
          101.64,
          64.07,
          53.31,
          102.94,
          110.75,
          75.01,
          68.01,
          75.94,
          91.51,
          96.22,
          78.45,
          100.6,
          77.22,
          105.05,
          86.98,
          142.42,
          80.53,
          88.04,
          92.75,
          77.75,
          80.22,
          75.63,
          98.53,
          91.5,
          101.9,
          65.03,
          96.57,
          97.06,
          85.41,
          86.6,
          74.52,
          96.64,
          124.94,
          51.67,
          116.5,
          148.86,
          80.19,
          79.82,
          115.17,
          71.42,
          95.72,
          89.16,
          89.97,
          81.94,
          105.31,
          80.78,
          124.2,
          72.57,
          91.92,
          80.46,
          102.83,
          83.19,
          111.28,
          83.6,
          70.25,
          103.16,
          71.38,
          165.66,
          135.89,
          73.06,
          103.45,
          95.59,
          93.36,
          70.09,
          99.76,
          101.76,
          91.35,
          135.27,
          89.91,
          127.96,
          96.53,
          108.85,
          90.78,
          86.48,
          85.98,
          107.15,
          83.1,
          68.54,
          104,
          89.56,
          136.52,
          137.73,
          85.25,
          102.84,
          93.84,
          132.59,
          99.64,
          104.68,
          73.91,
          101.05,
          77.33,
          80.4,
          135.76,
          110.65,
          83.46,
          82.66,
          78.78,
          112.18,
          59.17,
          85.33,
          89.64,
          71.04,
          80.99,
          89.19,
          103.71,
          132.07,
          63.75,
          75.97,
          116.43,
          73.56,
          76.18,
          68.58,
          89.27,
          111.59,
          78.93,
          63.84,
          93.28,
          65.9,
          103.15,
          90.38,
          70.92,
          93.28,
          78.69,
          71.56,
          54.62,
          73.61,
          96.87,
          48.3,
          69.32,
          64.69,
          82.24,
          82.55,
          113.45,
          79.62,
          87.31,
          87.44,
          55.33,
          90.61,
          61.61,
          84.75,
          73.74,
          90.45,
          67,
          111.49,
          113.49,
          58.69,
          125.56,
          125.92,
          113.05,
          117.28,
          67.82,
          92.01,
          73.29,
          61.22,
          60.04,
          81.43,
          80.62,
          76.36,
          96.39,
          97.23,
          86.02,
          110.94,
          87.38,
          92.05,
          61.23,
          82.86,
          104.58,
          86.6,
          93.53,
          61.9,
          68.96,
          81.32,
          86.65,
          94.58,
          151.28,
          66.92,
          101.09,
          78.43,
          78.61,
          116.48,
          50.29,
          109.78,
          75.51,
          88.74,
          126.01,
          67.16,
          85.23,
          118.77,
          141.42,
          75.25,
          114.68,
          70.43,
          118.26,
          68.31,
          52.2,
          112.9,
          102.92,
          116.55,
          86.6,
          94.12,
          112.63,
          62.38,
          107.69,
          123.9,
          101.19,
          82.42,
          91.97,
          97.77,
          60,
          81.78,
          64.35,
          56.41,
          98.22,
          102.63,
          74.8,
          83.16,
          110.26,
          113.73,
          70.82,
          78.13,
          77.85,
          64.11,
          84.37,
          104.82,
          78.71,
          112.2,
          101.69,
          139.32,
          77.67,
          71.83,
          84.9,
          86.6,
          72.55,
          66.6,
          75.89,
          73.83,
          63.67,
          122.75,
          112.32,
          71.85,
          67.82,
          59.95,
          68.04,
          85.25,
          72.06,
          53.12,
          102.66,
          86.6,
          108,
          82.38,
          51.89,
          91.21,
          59.56,
          76.45,
          84.7,
          102.9,
          103.93,
          102.38,
          86.55,
          79.32,
          83.06,
          82.93,
          86.84,
          62.2,
          84.25,
          94.76,
          70.2,
          84.2,
          100.2,
          91.18,
          68.69,
          86.15,
          94.82,
          88.99,
          71.72,
          87.21,
          112.42,
          126.49,
          62.4,
          83.02,
          99.73,
          110.26,
          104.14,
          79.19,
          95.8,
          63.19,
          83.99,
          47.31,
          88.2,
          109.35,
          89.84,
          130.97,
          72.01,
          82.85,
          114.74,
          90.17,
          138.41,
          91.5,
          98.4,
          61.19,
          109.21,
          88.85,
          68.7,
          86.66,
          76.43,
          101.43,
          63.63,
          108.34,
          92.14,
          82.02,
          100.08,
          59.03,
          118.19,
          75.55,
          87.27,
          75.67,
          83.59,
          106.07,
          59.53,
          115.9,
          69.86,
          116.52,
          104.86,
          95.88,
          77.06,
          67.99,
          82.06,
          110.99,
          79.96,
          84.6,
          88.98,
          51.6,
          109.84,
          138.57,
          86.6,
          51.66,
          98.41,
          100.14,
          66.41,
          91.2,
          75.37,
          112.72,
          79.23,
          75.46,
          107.32,
          78.46,
          79.69,
          111.06,
          83.85,
          76.49,
          115.05,
          101.6,
          80.59,
          111.91,
          86.12,
          86.51,
          56.7,
          65.48,
          100.67,
          72.24,
          81.04,
          112.55,
          73.5,
          87.51,
          114.42,
          104.66,
          124.32,
          123.69,
          124.81,
          72.73,
          79.07,
          70.64,
          111.12,
          76.97,
          117.14,
          102.04,
          95.87,
          106.5,
          84.75,
          112.86,
          81.03
         ],
         "xaxis": "x2",
         "yaxis": "y2"
        },
        {
         "alignmentgroup": "True",
         "bingroup": "x",
         "hovertemplate": "RESPONSE=Y<br>weight=%{x}<br>count=%{y}<extra></extra>",
         "legendgroup": "Y",
         "marker": {
          "color": "#EF553B",
          "pattern": {
           "shape": ""
          }
         },
         "name": "Y",
         "offsetgroup": "Y",
         "orientation": "v",
         "showlegend": true,
         "type": "histogram",
         "x": [
          71.21,
          62.94,
          79.33,
          86.6,
          109.12,
          86.75,
          80.04,
          131.63,
          94.38,
          68.36,
          99.69,
          103.35,
          87.55,
          70.09,
          88.1,
          112.73,
          109.52,
          64.62,
          91.61,
          104.13,
          63.17,
          64.84,
          147.54,
          137.81,
          77.23,
          97,
          140.59,
          150.35,
          86.88,
          103.51,
          95.92,
          125.43,
          75.98,
          66.21,
          94.54,
          55.68,
          79.34,
          107.32,
          75.06,
          91.76,
          64.55,
          78.76,
          127.34,
          96.18,
          91.12,
          63.53,
          84.44,
          102.99,
          79.99,
          111.43,
          73.44,
          65.18,
          92.83,
          103.01,
          135.86,
          107.45,
          114,
          97.83,
          48.14,
          72.38,
          59.76,
          98.98,
          112.12,
          103.06,
          81.64,
          88.88,
          128.78,
          81.3,
          108.43,
          137.18,
          81.86,
          100.4,
          89.05,
          93.37,
          91.21,
          130.78,
          99.63,
          96.12,
          160.12,
          128.31,
          88.64,
          79.97,
          79.64,
          73.65,
          61.06,
          91.54,
          85.8,
          69.74,
          107.51,
          102.9,
          71.56,
          93.14,
          73.45,
          71.16,
          100.81,
          102.33,
          113.51,
          72.85,
          112.79,
          60.17,
          84.02,
          71.02,
          97.1,
          112.09,
          72.5,
          75.21,
          68.56,
          103.75,
          88.47,
          123.59,
          88.87,
          113.07,
          83.86,
          80.94,
          56.55,
          89.56,
          73.16,
          118.33,
          94.16,
          121.08,
          91.92,
          93.48,
          100.65,
          124.9,
          128.35,
          71.38,
          104.65,
          115.88,
          72.6,
          85.69,
          138.36,
          74.86,
          98.11,
          64.92,
          76.84,
          98.55,
          87.48,
          78.44,
          83.38,
          103.74,
          120.55,
          118.81,
          102.21,
          104.34,
          82.58,
          136.68,
          133.29,
          83.86,
          112.5,
          112.48,
          89.41,
          118.09,
          88.1,
          107.16,
          91.63,
          158.85,
          112.82,
          84.68,
          53,
          68.34,
          61.92,
          79.78,
          117.25,
          107.34,
          57.62,
          91.55,
          101.42,
          96.61,
          76.08,
          94.37,
          96.18,
          94.72,
          60.49,
          131.97,
          122.82,
          112.77,
          61.65,
          76.67,
          78.32,
          58.63,
          64.21,
          97,
          85.62,
          88.99,
          179.02,
          111.33,
          94.83,
          54.32,
          131.41,
          117.17,
          84.73,
          95.25,
          59.29,
          46.17,
          59.92,
          84.22,
          90.77,
          62.6,
          73.09,
          108.8,
          146.35,
          101.71,
          87.31,
          69.88,
          81.85,
          121.06,
          141.03,
          108.65,
          102.52,
          78.95,
          89.07,
          91.89,
          81.84,
          97.94,
          97.87,
          74.56,
          62.97,
          73.17,
          60.97,
          121.1,
          80.25,
          78.24,
          46.58,
          64.4,
          132.58,
          119.87,
          99.75,
          99.93,
          85.27,
          59.14,
          101.68,
          89.14,
          98.62,
          91.42,
          102.42,
          88.61,
          87.89,
          89.22,
          77.87,
          106.35,
          81.87,
          134.22,
          94.55,
          102.19,
          66.06,
          121.94,
          79.44,
          80.38,
          84.16,
          124.17,
          114.11,
          65.39,
          59.92,
          67.27,
          130.51,
          116.27,
          74.78,
          106.48,
          143.06,
          64.52,
          69.4,
          108.3,
          63.53,
          90.95,
          91.06,
          81.6,
          97.38,
          68.51,
          59.54,
          75.91,
          85.39,
          81.77,
          110.45,
          91.28,
          105.77,
          57.06,
          94.51,
          77.81,
          103.6,
          91.89,
          78.28,
          60.69,
          66.45,
          81.11,
          109.88,
          107.48,
          116.48,
          106.33,
          87.52,
          78.65,
          182.5,
          107.88,
          93.42,
          71.99,
          70.41,
          130.61,
          73.89,
          94.18,
          53.08,
          87.88,
          126.66,
          59.83,
          129.83,
          77.59,
          146.76,
          96.85,
          99.54,
          86.6,
          84.89,
          91.89,
          99.05,
          91.66,
          71.1,
          74.12,
          93.23,
          99.32,
          89.57,
          126.22,
          112.9,
          73.23,
          127.75,
          72.93,
          63.91,
          90.33,
          108.02,
          140.64,
          84.59,
          127.64,
          84.53,
          137.41,
          62.21,
          82.95,
          88.67,
          80.29
         ],
         "xaxis": "x",
         "yaxis": "y"
        },
        {
         "alignmentgroup": "True",
         "hovertemplate": "RESPONSE=Y<br>weight=%{x}<extra></extra>",
         "legendgroup": "Y",
         "marker": {
          "color": "#EF553B"
         },
         "name": "Y",
         "notched": true,
         "offsetgroup": "Y",
         "showlegend": false,
         "type": "box",
         "x": [
          71.21,
          62.94,
          79.33,
          86.6,
          109.12,
          86.75,
          80.04,
          131.63,
          94.38,
          68.36,
          99.69,
          103.35,
          87.55,
          70.09,
          88.1,
          112.73,
          109.52,
          64.62,
          91.61,
          104.13,
          63.17,
          64.84,
          147.54,
          137.81,
          77.23,
          97,
          140.59,
          150.35,
          86.88,
          103.51,
          95.92,
          125.43,
          75.98,
          66.21,
          94.54,
          55.68,
          79.34,
          107.32,
          75.06,
          91.76,
          64.55,
          78.76,
          127.34,
          96.18,
          91.12,
          63.53,
          84.44,
          102.99,
          79.99,
          111.43,
          73.44,
          65.18,
          92.83,
          103.01,
          135.86,
          107.45,
          114,
          97.83,
          48.14,
          72.38,
          59.76,
          98.98,
          112.12,
          103.06,
          81.64,
          88.88,
          128.78,
          81.3,
          108.43,
          137.18,
          81.86,
          100.4,
          89.05,
          93.37,
          91.21,
          130.78,
          99.63,
          96.12,
          160.12,
          128.31,
          88.64,
          79.97,
          79.64,
          73.65,
          61.06,
          91.54,
          85.8,
          69.74,
          107.51,
          102.9,
          71.56,
          93.14,
          73.45,
          71.16,
          100.81,
          102.33,
          113.51,
          72.85,
          112.79,
          60.17,
          84.02,
          71.02,
          97.1,
          112.09,
          72.5,
          75.21,
          68.56,
          103.75,
          88.47,
          123.59,
          88.87,
          113.07,
          83.86,
          80.94,
          56.55,
          89.56,
          73.16,
          118.33,
          94.16,
          121.08,
          91.92,
          93.48,
          100.65,
          124.9,
          128.35,
          71.38,
          104.65,
          115.88,
          72.6,
          85.69,
          138.36,
          74.86,
          98.11,
          64.92,
          76.84,
          98.55,
          87.48,
          78.44,
          83.38,
          103.74,
          120.55,
          118.81,
          102.21,
          104.34,
          82.58,
          136.68,
          133.29,
          83.86,
          112.5,
          112.48,
          89.41,
          118.09,
          88.1,
          107.16,
          91.63,
          158.85,
          112.82,
          84.68,
          53,
          68.34,
          61.92,
          79.78,
          117.25,
          107.34,
          57.62,
          91.55,
          101.42,
          96.61,
          76.08,
          94.37,
          96.18,
          94.72,
          60.49,
          131.97,
          122.82,
          112.77,
          61.65,
          76.67,
          78.32,
          58.63,
          64.21,
          97,
          85.62,
          88.99,
          179.02,
          111.33,
          94.83,
          54.32,
          131.41,
          117.17,
          84.73,
          95.25,
          59.29,
          46.17,
          59.92,
          84.22,
          90.77,
          62.6,
          73.09,
          108.8,
          146.35,
          101.71,
          87.31,
          69.88,
          81.85,
          121.06,
          141.03,
          108.65,
          102.52,
          78.95,
          89.07,
          91.89,
          81.84,
          97.94,
          97.87,
          74.56,
          62.97,
          73.17,
          60.97,
          121.1,
          80.25,
          78.24,
          46.58,
          64.4,
          132.58,
          119.87,
          99.75,
          99.93,
          85.27,
          59.14,
          101.68,
          89.14,
          98.62,
          91.42,
          102.42,
          88.61,
          87.89,
          89.22,
          77.87,
          106.35,
          81.87,
          134.22,
          94.55,
          102.19,
          66.06,
          121.94,
          79.44,
          80.38,
          84.16,
          124.17,
          114.11,
          65.39,
          59.92,
          67.27,
          130.51,
          116.27,
          74.78,
          106.48,
          143.06,
          64.52,
          69.4,
          108.3,
          63.53,
          90.95,
          91.06,
          81.6,
          97.38,
          68.51,
          59.54,
          75.91,
          85.39,
          81.77,
          110.45,
          91.28,
          105.77,
          57.06,
          94.51,
          77.81,
          103.6,
          91.89,
          78.28,
          60.69,
          66.45,
          81.11,
          109.88,
          107.48,
          116.48,
          106.33,
          87.52,
          78.65,
          182.5,
          107.88,
          93.42,
          71.99,
          70.41,
          130.61,
          73.89,
          94.18,
          53.08,
          87.88,
          126.66,
          59.83,
          129.83,
          77.59,
          146.76,
          96.85,
          99.54,
          86.6,
          84.89,
          91.89,
          99.05,
          91.66,
          71.1,
          74.12,
          93.23,
          99.32,
          89.57,
          126.22,
          112.9,
          73.23,
          127.75,
          72.93,
          63.91,
          90.33,
          108.02,
          140.64,
          84.59,
          127.64,
          84.53,
          137.41,
          62.21,
          82.95,
          88.67,
          80.29
         ],
         "xaxis": "x2",
         "yaxis": "y2"
        }
       ],
       "layout": {
        "barmode": "relative",
        "legend": {
         "title": {
          "text": "RESPONSE"
         },
         "tracegroupgap": 0
        },
        "margin": {
         "t": 60
        },
        "template": {
         "data": {
          "bar": [
           {
            "error_x": {
             "color": "#2a3f5f"
            },
            "error_y": {
             "color": "#2a3f5f"
            },
            "marker": {
             "line": {
              "color": "#E5ECF6",
              "width": 0.5
             },
             "pattern": {
              "fillmode": "overlay",
              "size": 10,
              "solidity": 0.2
             }
            },
            "type": "bar"
           }
          ],
          "barpolar": [
           {
            "marker": {
             "line": {
              "color": "#E5ECF6",
              "width": 0.5
             },
             "pattern": {
              "fillmode": "overlay",
              "size": 10,
              "solidity": 0.2
             }
            },
            "type": "barpolar"
           }
          ],
          "carpet": [
           {
            "aaxis": {
             "endlinecolor": "#2a3f5f",
             "gridcolor": "white",
             "linecolor": "white",
             "minorgridcolor": "white",
             "startlinecolor": "#2a3f5f"
            },
            "baxis": {
             "endlinecolor": "#2a3f5f",
             "gridcolor": "white",
             "linecolor": "white",
             "minorgridcolor": "white",
             "startlinecolor": "#2a3f5f"
            },
            "type": "carpet"
           }
          ],
          "choropleth": [
           {
            "colorbar": {
             "outlinewidth": 0,
             "ticks": ""
            },
            "type": "choropleth"
           }
          ],
          "contour": [
           {
            "colorbar": {
             "outlinewidth": 0,
             "ticks": ""
            },
            "colorscale": [
             [
              0,
              "#0d0887"
             ],
             [
              0.1111111111111111,
              "#46039f"
             ],
             [
              0.2222222222222222,
              "#7201a8"
             ],
             [
              0.3333333333333333,
              "#9c179e"
             ],
             [
              0.4444444444444444,
              "#bd3786"
             ],
             [
              0.5555555555555556,
              "#d8576b"
             ],
             [
              0.6666666666666666,
              "#ed7953"
             ],
             [
              0.7777777777777778,
              "#fb9f3a"
             ],
             [
              0.8888888888888888,
              "#fdca26"
             ],
             [
              1,
              "#f0f921"
             ]
            ],
            "type": "contour"
           }
          ],
          "contourcarpet": [
           {
            "colorbar": {
             "outlinewidth": 0,
             "ticks": ""
            },
            "type": "contourcarpet"
           }
          ],
          "heatmap": [
           {
            "colorbar": {
             "outlinewidth": 0,
             "ticks": ""
            },
            "colorscale": [
             [
              0,
              "#0d0887"
             ],
             [
              0.1111111111111111,
              "#46039f"
             ],
             [
              0.2222222222222222,
              "#7201a8"
             ],
             [
              0.3333333333333333,
              "#9c179e"
             ],
             [
              0.4444444444444444,
              "#bd3786"
             ],
             [
              0.5555555555555556,
              "#d8576b"
             ],
             [
              0.6666666666666666,
              "#ed7953"
             ],
             [
              0.7777777777777778,
              "#fb9f3a"
             ],
             [
              0.8888888888888888,
              "#fdca26"
             ],
             [
              1,
              "#f0f921"
             ]
            ],
            "type": "heatmap"
           }
          ],
          "heatmapgl": [
           {
            "colorbar": {
             "outlinewidth": 0,
             "ticks": ""
            },
            "colorscale": [
             [
              0,
              "#0d0887"
             ],
             [
              0.1111111111111111,
              "#46039f"
             ],
             [
              0.2222222222222222,
              "#7201a8"
             ],
             [
              0.3333333333333333,
              "#9c179e"
             ],
             [
              0.4444444444444444,
              "#bd3786"
             ],
             [
              0.5555555555555556,
              "#d8576b"
             ],
             [
              0.6666666666666666,
              "#ed7953"
             ],
             [
              0.7777777777777778,
              "#fb9f3a"
             ],
             [
              0.8888888888888888,
              "#fdca26"
             ],
             [
              1,
              "#f0f921"
             ]
            ],
            "type": "heatmapgl"
           }
          ],
          "histogram": [
           {
            "marker": {
             "pattern": {
              "fillmode": "overlay",
              "size": 10,
              "solidity": 0.2
             }
            },
            "type": "histogram"
           }
          ],
          "histogram2d": [
           {
            "colorbar": {
             "outlinewidth": 0,
             "ticks": ""
            },
            "colorscale": [
             [
              0,
              "#0d0887"
             ],
             [
              0.1111111111111111,
              "#46039f"
             ],
             [
              0.2222222222222222,
              "#7201a8"
             ],
             [
              0.3333333333333333,
              "#9c179e"
             ],
             [
              0.4444444444444444,
              "#bd3786"
             ],
             [
              0.5555555555555556,
              "#d8576b"
             ],
             [
              0.6666666666666666,
              "#ed7953"
             ],
             [
              0.7777777777777778,
              "#fb9f3a"
             ],
             [
              0.8888888888888888,
              "#fdca26"
             ],
             [
              1,
              "#f0f921"
             ]
            ],
            "type": "histogram2d"
           }
          ],
          "histogram2dcontour": [
           {
            "colorbar": {
             "outlinewidth": 0,
             "ticks": ""
            },
            "colorscale": [
             [
              0,
              "#0d0887"
             ],
             [
              0.1111111111111111,
              "#46039f"
             ],
             [
              0.2222222222222222,
              "#7201a8"
             ],
             [
              0.3333333333333333,
              "#9c179e"
             ],
             [
              0.4444444444444444,
              "#bd3786"
             ],
             [
              0.5555555555555556,
              "#d8576b"
             ],
             [
              0.6666666666666666,
              "#ed7953"
             ],
             [
              0.7777777777777778,
              "#fb9f3a"
             ],
             [
              0.8888888888888888,
              "#fdca26"
             ],
             [
              1,
              "#f0f921"
             ]
            ],
            "type": "histogram2dcontour"
           }
          ],
          "mesh3d": [
           {
            "colorbar": {
             "outlinewidth": 0,
             "ticks": ""
            },
            "type": "mesh3d"
           }
          ],
          "parcoords": [
           {
            "line": {
             "colorbar": {
              "outlinewidth": 0,
              "ticks": ""
             }
            },
            "type": "parcoords"
           }
          ],
          "pie": [
           {
            "automargin": true,
            "type": "pie"
           }
          ],
          "scatter": [
           {
            "fillpattern": {
             "fillmode": "overlay",
             "size": 10,
             "solidity": 0.2
            },
            "type": "scatter"
           }
          ],
          "scatter3d": [
           {
            "line": {
             "colorbar": {
              "outlinewidth": 0,
              "ticks": ""
             }
            },
            "marker": {
             "colorbar": {
              "outlinewidth": 0,
              "ticks": ""
             }
            },
            "type": "scatter3d"
           }
          ],
          "scattercarpet": [
           {
            "marker": {
             "colorbar": {
              "outlinewidth": 0,
              "ticks": ""
             }
            },
            "type": "scattercarpet"
           }
          ],
          "scattergeo": [
           {
            "marker": {
             "colorbar": {
              "outlinewidth": 0,
              "ticks": ""
             }
            },
            "type": "scattergeo"
           }
          ],
          "scattergl": [
           {
            "marker": {
             "colorbar": {
              "outlinewidth": 0,
              "ticks": ""
             }
            },
            "type": "scattergl"
           }
          ],
          "scattermapbox": [
           {
            "marker": {
             "colorbar": {
              "outlinewidth": 0,
              "ticks": ""
             }
            },
            "type": "scattermapbox"
           }
          ],
          "scatterpolar": [
           {
            "marker": {
             "colorbar": {
              "outlinewidth": 0,
              "ticks": ""
             }
            },
            "type": "scatterpolar"
           }
          ],
          "scatterpolargl": [
           {
            "marker": {
             "colorbar": {
              "outlinewidth": 0,
              "ticks": ""
             }
            },
            "type": "scatterpolargl"
           }
          ],
          "scatterternary": [
           {
            "marker": {
             "colorbar": {
              "outlinewidth": 0,
              "ticks": ""
             }
            },
            "type": "scatterternary"
           }
          ],
          "surface": [
           {
            "colorbar": {
             "outlinewidth": 0,
             "ticks": ""
            },
            "colorscale": [
             [
              0,
              "#0d0887"
             ],
             [
              0.1111111111111111,
              "#46039f"
             ],
             [
              0.2222222222222222,
              "#7201a8"
             ],
             [
              0.3333333333333333,
              "#9c179e"
             ],
             [
              0.4444444444444444,
              "#bd3786"
             ],
             [
              0.5555555555555556,
              "#d8576b"
             ],
             [
              0.6666666666666666,
              "#ed7953"
             ],
             [
              0.7777777777777778,
              "#fb9f3a"
             ],
             [
              0.8888888888888888,
              "#fdca26"
             ],
             [
              1,
              "#f0f921"
             ]
            ],
            "type": "surface"
           }
          ],
          "table": [
           {
            "cells": {
             "fill": {
              "color": "#EBF0F8"
             },
             "line": {
              "color": "white"
             }
            },
            "header": {
             "fill": {
              "color": "#C8D4E3"
             },
             "line": {
              "color": "white"
             }
            },
            "type": "table"
           }
          ]
         },
         "layout": {
          "annotationdefaults": {
           "arrowcolor": "#2a3f5f",
           "arrowhead": 0,
           "arrowwidth": 1
          },
          "autotypenumbers": "strict",
          "coloraxis": {
           "colorbar": {
            "outlinewidth": 0,
            "ticks": ""
           }
          },
          "colorscale": {
           "diverging": [
            [
             0,
             "#8e0152"
            ],
            [
             0.1,
             "#c51b7d"
            ],
            [
             0.2,
             "#de77ae"
            ],
            [
             0.3,
             "#f1b6da"
            ],
            [
             0.4,
             "#fde0ef"
            ],
            [
             0.5,
             "#f7f7f7"
            ],
            [
             0.6,
             "#e6f5d0"
            ],
            [
             0.7,
             "#b8e186"
            ],
            [
             0.8,
             "#7fbc41"
            ],
            [
             0.9,
             "#4d9221"
            ],
            [
             1,
             "#276419"
            ]
           ],
           "sequential": [
            [
             0,
             "#0d0887"
            ],
            [
             0.1111111111111111,
             "#46039f"
            ],
            [
             0.2222222222222222,
             "#7201a8"
            ],
            [
             0.3333333333333333,
             "#9c179e"
            ],
            [
             0.4444444444444444,
             "#bd3786"
            ],
            [
             0.5555555555555556,
             "#d8576b"
            ],
            [
             0.6666666666666666,
             "#ed7953"
            ],
            [
             0.7777777777777778,
             "#fb9f3a"
            ],
            [
             0.8888888888888888,
             "#fdca26"
            ],
            [
             1,
             "#f0f921"
            ]
           ],
           "sequentialminus": [
            [
             0,
             "#0d0887"
            ],
            [
             0.1111111111111111,
             "#46039f"
            ],
            [
             0.2222222222222222,
             "#7201a8"
            ],
            [
             0.3333333333333333,
             "#9c179e"
            ],
            [
             0.4444444444444444,
             "#bd3786"
            ],
            [
             0.5555555555555556,
             "#d8576b"
            ],
            [
             0.6666666666666666,
             "#ed7953"
            ],
            [
             0.7777777777777778,
             "#fb9f3a"
            ],
            [
             0.8888888888888888,
             "#fdca26"
            ],
            [
             1,
             "#f0f921"
            ]
           ]
          },
          "colorway": [
           "#636efa",
           "#EF553B",
           "#00cc96",
           "#ab63fa",
           "#FFA15A",
           "#19d3f3",
           "#FF6692",
           "#B6E880",
           "#FF97FF",
           "#FECB52"
          ],
          "font": {
           "color": "#2a3f5f"
          },
          "geo": {
           "bgcolor": "white",
           "lakecolor": "white",
           "landcolor": "#E5ECF6",
           "showlakes": true,
           "showland": true,
           "subunitcolor": "white"
          },
          "hoverlabel": {
           "align": "left"
          },
          "hovermode": "closest",
          "mapbox": {
           "style": "light"
          },
          "paper_bgcolor": "white",
          "plot_bgcolor": "#E5ECF6",
          "polar": {
           "angularaxis": {
            "gridcolor": "white",
            "linecolor": "white",
            "ticks": ""
           },
           "bgcolor": "#E5ECF6",
           "radialaxis": {
            "gridcolor": "white",
            "linecolor": "white",
            "ticks": ""
           }
          },
          "scene": {
           "xaxis": {
            "backgroundcolor": "#E5ECF6",
            "gridcolor": "white",
            "gridwidth": 2,
            "linecolor": "white",
            "showbackground": true,
            "ticks": "",
            "zerolinecolor": "white"
           },
           "yaxis": {
            "backgroundcolor": "#E5ECF6",
            "gridcolor": "white",
            "gridwidth": 2,
            "linecolor": "white",
            "showbackground": true,
            "ticks": "",
            "zerolinecolor": "white"
           },
           "zaxis": {
            "backgroundcolor": "#E5ECF6",
            "gridcolor": "white",
            "gridwidth": 2,
            "linecolor": "white",
            "showbackground": true,
            "ticks": "",
            "zerolinecolor": "white"
           }
          },
          "shapedefaults": {
           "line": {
            "color": "#2a3f5f"
           }
          },
          "ternary": {
           "aaxis": {
            "gridcolor": "white",
            "linecolor": "white",
            "ticks": ""
           },
           "baxis": {
            "gridcolor": "white",
            "linecolor": "white",
            "ticks": ""
           },
           "bgcolor": "#E5ECF6",
           "caxis": {
            "gridcolor": "white",
            "linecolor": "white",
            "ticks": ""
           }
          },
          "title": {
           "x": 0.05
          },
          "xaxis": {
           "automargin": true,
           "gridcolor": "white",
           "linecolor": "white",
           "ticks": "",
           "title": {
            "standoff": 15
           },
           "zerolinecolor": "white",
           "zerolinewidth": 2
          },
          "yaxis": {
           "automargin": true,
           "gridcolor": "white",
           "linecolor": "white",
           "ticks": "",
           "title": {
            "standoff": 15
           },
           "zerolinecolor": "white",
           "zerolinewidth": 2
          }
         }
        },
        "xaxis": {
         "anchor": "y",
         "domain": [
          0,
          1
         ],
         "title": {
          "text": "weight"
         }
        },
        "xaxis2": {
         "anchor": "y2",
         "domain": [
          0,
          1
         ],
         "matches": "x",
         "showgrid": true,
         "showticklabels": false
        },
        "yaxis": {
         "anchor": "x",
         "domain": [
          0,
          0.7326
         ],
         "title": {
          "text": "count"
         }
        },
        "yaxis2": {
         "anchor": "x2",
         "domain": [
          0.7426,
          1
         ],
         "matches": "y2",
         "showgrid": false,
         "showline": false,
         "showticklabels": false,
         "ticks": ""
        }
       }
      },
      "text/html": [
       "<div>                            <div id=\"118433af-feac-4767-a986-8920101e4268\" class=\"plotly-graph-div\" style=\"height:525px; width:100%;\"></div>            <script type=\"text/javascript\">                require([\"plotly\"], function(Plotly) {                    window.PLOTLYENV=window.PLOTLYENV || {};                                    if (document.getElementById(\"118433af-feac-4767-a986-8920101e4268\")) {                    Plotly.newPlot(                        \"118433af-feac-4767-a986-8920101e4268\",                        [{\"alignmentgroup\":\"True\",\"bingroup\":\"x\",\"hovertemplate\":\"RESPONSE=N<br>weight=%{x}<br>count=%{y}<extra></extra>\",\"legendgroup\":\"N\",\"marker\":{\"color\":\"#636efa\",\"pattern\":{\"shape\":\"\"}},\"name\":\"N\",\"offsetgroup\":\"N\",\"orientation\":\"v\",\"showlegend\":true,\"x\":[84.66,69.85,113.91,96.12,93.5,85.57,125.02,76.31,90.99,80.21,144.15,122.87,85.69,115.97,74.94,96.43,64.36,55.48,82.18,83.84,73.24,63.33,91.69,99.31,112.26,127.58,77.89,131.25,100.35,86.6,48.9,88.23,82.39,57.12,104.77,109.88,86.6,97.35,76.46,81.74,76.91,52.62,91.43,90.64,88.34,127.68,78.92,59.31,54.54,86.6,125.41,100.1,107.75,101.64,64.07,53.31,102.94,110.75,75.01,68.01,75.94,91.51,96.22,78.45,100.6,77.22,105.05,86.98,142.42,80.53,88.04,92.75,77.75,80.22,75.63,98.53,91.5,101.9,65.03,96.57,97.06,85.41,86.6,74.52,96.64,124.94,51.67,116.5,148.86,80.19,79.82,115.17,71.42,95.72,89.16,89.97,81.94,105.31,80.78,124.2,72.57,91.92,80.46,102.83,83.19,111.28,83.6,70.25,103.16,71.38,165.66,135.89,73.06,103.45,95.59,93.36,70.09,99.76,101.76,91.35,135.27,89.91,127.96,96.53,108.85,90.78,86.48,85.98,107.15,83.1,68.54,104.0,89.56,136.52,137.73,85.25,102.84,93.84,132.59,99.64,104.68,73.91,101.05,77.33,80.4,135.76,110.65,83.46,82.66,78.78,112.18,59.17,85.33,89.64,71.04,80.99,89.19,103.71,132.07,63.75,75.97,116.43,73.56,76.18,68.58,89.27,111.59,78.93,63.84,93.28,65.9,103.15,90.38,70.92,93.28,78.69,71.56,54.62,73.61,96.87,48.3,69.32,64.69,82.24,82.55,113.45,79.62,87.31,87.44,55.33,90.61,61.61,84.75,73.74,90.45,67.0,111.49,113.49,58.69,125.56,125.92,113.05,117.28,67.82,92.01,73.29,61.22,60.04,81.43,80.62,76.36,96.39,97.23,86.02,110.94,87.38,92.05,61.23,82.86,104.58,86.6,93.53,61.9,68.96,81.32,86.65,94.58,151.28,66.92,101.09,78.43,78.61,116.48,50.29,109.78,75.51,88.74,126.01,67.16,85.23,118.77,141.42,75.25,114.68,70.43,118.26,68.31,52.2,112.9,102.92,116.55,86.6,94.12,112.63,62.38,107.69,123.9,101.19,82.42,91.97,97.77,60.0,81.78,64.35,56.41,98.22,102.63,74.8,83.16,110.26,113.73,70.82,78.13,77.85,64.11,84.37,104.82,78.71,112.2,101.69,139.32,77.67,71.83,84.9,86.6,72.55,66.6,75.89,73.83,63.67,122.75,112.32,71.85,67.82,59.95,68.04,85.25,72.06,53.12,102.66,86.6,108.0,82.38,51.89,91.21,59.56,76.45,84.7,102.9,103.93,102.38,86.55,79.32,83.06,82.93,86.84,62.2,84.25,94.76,70.2,84.2,100.2,91.18,68.69,86.15,94.82,88.99,71.72,87.21,112.42,126.49,62.4,83.02,99.73,110.26,104.14,79.19,95.8,63.19,83.99,47.31,88.2,109.35,89.84,130.97,72.01,82.85,114.74,90.17,138.41,91.5,98.4,61.19,109.21,88.85,68.7,86.66,76.43,101.43,63.63,108.34,92.14,82.02,100.08,59.03,118.19,75.55,87.27,75.67,83.59,106.07,59.53,115.9,69.86,116.52,104.86,95.88,77.06,67.99,82.06,110.99,79.96,84.6,88.98,51.6,109.84,138.57,86.6,51.66,98.41,100.14,66.41,91.2,75.37,112.72,79.23,75.46,107.32,78.46,79.69,111.06,83.85,76.49,115.05,101.6,80.59,111.91,86.12,86.51,56.7,65.48,100.67,72.24,81.04,112.55,73.5,87.51,114.42,104.66,124.32,123.69,124.81,72.73,79.07,70.64,111.12,76.97,117.14,102.04,95.87,106.5,84.75,112.86,81.03],\"xaxis\":\"x\",\"yaxis\":\"y\",\"type\":\"histogram\"},{\"alignmentgroup\":\"True\",\"hovertemplate\":\"RESPONSE=N<br>weight=%{x}<extra></extra>\",\"legendgroup\":\"N\",\"marker\":{\"color\":\"#636efa\"},\"name\":\"N\",\"notched\":true,\"offsetgroup\":\"N\",\"showlegend\":false,\"x\":[84.66,69.85,113.91,96.12,93.5,85.57,125.02,76.31,90.99,80.21,144.15,122.87,85.69,115.97,74.94,96.43,64.36,55.48,82.18,83.84,73.24,63.33,91.69,99.31,112.26,127.58,77.89,131.25,100.35,86.6,48.9,88.23,82.39,57.12,104.77,109.88,86.6,97.35,76.46,81.74,76.91,52.62,91.43,90.64,88.34,127.68,78.92,59.31,54.54,86.6,125.41,100.1,107.75,101.64,64.07,53.31,102.94,110.75,75.01,68.01,75.94,91.51,96.22,78.45,100.6,77.22,105.05,86.98,142.42,80.53,88.04,92.75,77.75,80.22,75.63,98.53,91.5,101.9,65.03,96.57,97.06,85.41,86.6,74.52,96.64,124.94,51.67,116.5,148.86,80.19,79.82,115.17,71.42,95.72,89.16,89.97,81.94,105.31,80.78,124.2,72.57,91.92,80.46,102.83,83.19,111.28,83.6,70.25,103.16,71.38,165.66,135.89,73.06,103.45,95.59,93.36,70.09,99.76,101.76,91.35,135.27,89.91,127.96,96.53,108.85,90.78,86.48,85.98,107.15,83.1,68.54,104.0,89.56,136.52,137.73,85.25,102.84,93.84,132.59,99.64,104.68,73.91,101.05,77.33,80.4,135.76,110.65,83.46,82.66,78.78,112.18,59.17,85.33,89.64,71.04,80.99,89.19,103.71,132.07,63.75,75.97,116.43,73.56,76.18,68.58,89.27,111.59,78.93,63.84,93.28,65.9,103.15,90.38,70.92,93.28,78.69,71.56,54.62,73.61,96.87,48.3,69.32,64.69,82.24,82.55,113.45,79.62,87.31,87.44,55.33,90.61,61.61,84.75,73.74,90.45,67.0,111.49,113.49,58.69,125.56,125.92,113.05,117.28,67.82,92.01,73.29,61.22,60.04,81.43,80.62,76.36,96.39,97.23,86.02,110.94,87.38,92.05,61.23,82.86,104.58,86.6,93.53,61.9,68.96,81.32,86.65,94.58,151.28,66.92,101.09,78.43,78.61,116.48,50.29,109.78,75.51,88.74,126.01,67.16,85.23,118.77,141.42,75.25,114.68,70.43,118.26,68.31,52.2,112.9,102.92,116.55,86.6,94.12,112.63,62.38,107.69,123.9,101.19,82.42,91.97,97.77,60.0,81.78,64.35,56.41,98.22,102.63,74.8,83.16,110.26,113.73,70.82,78.13,77.85,64.11,84.37,104.82,78.71,112.2,101.69,139.32,77.67,71.83,84.9,86.6,72.55,66.6,75.89,73.83,63.67,122.75,112.32,71.85,67.82,59.95,68.04,85.25,72.06,53.12,102.66,86.6,108.0,82.38,51.89,91.21,59.56,76.45,84.7,102.9,103.93,102.38,86.55,79.32,83.06,82.93,86.84,62.2,84.25,94.76,70.2,84.2,100.2,91.18,68.69,86.15,94.82,88.99,71.72,87.21,112.42,126.49,62.4,83.02,99.73,110.26,104.14,79.19,95.8,63.19,83.99,47.31,88.2,109.35,89.84,130.97,72.01,82.85,114.74,90.17,138.41,91.5,98.4,61.19,109.21,88.85,68.7,86.66,76.43,101.43,63.63,108.34,92.14,82.02,100.08,59.03,118.19,75.55,87.27,75.67,83.59,106.07,59.53,115.9,69.86,116.52,104.86,95.88,77.06,67.99,82.06,110.99,79.96,84.6,88.98,51.6,109.84,138.57,86.6,51.66,98.41,100.14,66.41,91.2,75.37,112.72,79.23,75.46,107.32,78.46,79.69,111.06,83.85,76.49,115.05,101.6,80.59,111.91,86.12,86.51,56.7,65.48,100.67,72.24,81.04,112.55,73.5,87.51,114.42,104.66,124.32,123.69,124.81,72.73,79.07,70.64,111.12,76.97,117.14,102.04,95.87,106.5,84.75,112.86,81.03],\"xaxis\":\"x2\",\"yaxis\":\"y2\",\"type\":\"box\"},{\"alignmentgroup\":\"True\",\"bingroup\":\"x\",\"hovertemplate\":\"RESPONSE=Y<br>weight=%{x}<br>count=%{y}<extra></extra>\",\"legendgroup\":\"Y\",\"marker\":{\"color\":\"#EF553B\",\"pattern\":{\"shape\":\"\"}},\"name\":\"Y\",\"offsetgroup\":\"Y\",\"orientation\":\"v\",\"showlegend\":true,\"x\":[71.21,62.94,79.33,86.6,109.12,86.75,80.04,131.63,94.38,68.36,99.69,103.35,87.55,70.09,88.1,112.73,109.52,64.62,91.61,104.13,63.17,64.84,147.54,137.81,77.23,97.0,140.59,150.35,86.88,103.51,95.92,125.43,75.98,66.21,94.54,55.68,79.34,107.32,75.06,91.76,64.55,78.76,127.34,96.18,91.12,63.53,84.44,102.99,79.99,111.43,73.44,65.18,92.83,103.01,135.86,107.45,114.0,97.83,48.14,72.38,59.76,98.98,112.12,103.06,81.64,88.88,128.78,81.3,108.43,137.18,81.86,100.4,89.05,93.37,91.21,130.78,99.63,96.12,160.12,128.31,88.64,79.97,79.64,73.65,61.06,91.54,85.8,69.74,107.51,102.9,71.56,93.14,73.45,71.16,100.81,102.33,113.51,72.85,112.79,60.17,84.02,71.02,97.1,112.09,72.5,75.21,68.56,103.75,88.47,123.59,88.87,113.07,83.86,80.94,56.55,89.56,73.16,118.33,94.16,121.08,91.92,93.48,100.65,124.9,128.35,71.38,104.65,115.88,72.6,85.69,138.36,74.86,98.11,64.92,76.84,98.55,87.48,78.44,83.38,103.74,120.55,118.81,102.21,104.34,82.58,136.68,133.29,83.86,112.5,112.48,89.41,118.09,88.1,107.16,91.63,158.85,112.82,84.68,53.0,68.34,61.92,79.78,117.25,107.34,57.62,91.55,101.42,96.61,76.08,94.37,96.18,94.72,60.49,131.97,122.82,112.77,61.65,76.67,78.32,58.63,64.21,97.0,85.62,88.99,179.02,111.33,94.83,54.32,131.41,117.17,84.73,95.25,59.29,46.17,59.92,84.22,90.77,62.6,73.09,108.8,146.35,101.71,87.31,69.88,81.85,121.06,141.03,108.65,102.52,78.95,89.07,91.89,81.84,97.94,97.87,74.56,62.97,73.17,60.97,121.1,80.25,78.24,46.58,64.4,132.58,119.87,99.75,99.93,85.27,59.14,101.68,89.14,98.62,91.42,102.42,88.61,87.89,89.22,77.87,106.35,81.87,134.22,94.55,102.19,66.06,121.94,79.44,80.38,84.16,124.17,114.11,65.39,59.92,67.27,130.51,116.27,74.78,106.48,143.06,64.52,69.4,108.3,63.53,90.95,91.06,81.6,97.38,68.51,59.54,75.91,85.39,81.77,110.45,91.28,105.77,57.06,94.51,77.81,103.6,91.89,78.28,60.69,66.45,81.11,109.88,107.48,116.48,106.33,87.52,78.65,182.5,107.88,93.42,71.99,70.41,130.61,73.89,94.18,53.08,87.88,126.66,59.83,129.83,77.59,146.76,96.85,99.54,86.6,84.89,91.89,99.05,91.66,71.1,74.12,93.23,99.32,89.57,126.22,112.9,73.23,127.75,72.93,63.91,90.33,108.02,140.64,84.59,127.64,84.53,137.41,62.21,82.95,88.67,80.29],\"xaxis\":\"x\",\"yaxis\":\"y\",\"type\":\"histogram\"},{\"alignmentgroup\":\"True\",\"hovertemplate\":\"RESPONSE=Y<br>weight=%{x}<extra></extra>\",\"legendgroup\":\"Y\",\"marker\":{\"color\":\"#EF553B\"},\"name\":\"Y\",\"notched\":true,\"offsetgroup\":\"Y\",\"showlegend\":false,\"x\":[71.21,62.94,79.33,86.6,109.12,86.75,80.04,131.63,94.38,68.36,99.69,103.35,87.55,70.09,88.1,112.73,109.52,64.62,91.61,104.13,63.17,64.84,147.54,137.81,77.23,97.0,140.59,150.35,86.88,103.51,95.92,125.43,75.98,66.21,94.54,55.68,79.34,107.32,75.06,91.76,64.55,78.76,127.34,96.18,91.12,63.53,84.44,102.99,79.99,111.43,73.44,65.18,92.83,103.01,135.86,107.45,114.0,97.83,48.14,72.38,59.76,98.98,112.12,103.06,81.64,88.88,128.78,81.3,108.43,137.18,81.86,100.4,89.05,93.37,91.21,130.78,99.63,96.12,160.12,128.31,88.64,79.97,79.64,73.65,61.06,91.54,85.8,69.74,107.51,102.9,71.56,93.14,73.45,71.16,100.81,102.33,113.51,72.85,112.79,60.17,84.02,71.02,97.1,112.09,72.5,75.21,68.56,103.75,88.47,123.59,88.87,113.07,83.86,80.94,56.55,89.56,73.16,118.33,94.16,121.08,91.92,93.48,100.65,124.9,128.35,71.38,104.65,115.88,72.6,85.69,138.36,74.86,98.11,64.92,76.84,98.55,87.48,78.44,83.38,103.74,120.55,118.81,102.21,104.34,82.58,136.68,133.29,83.86,112.5,112.48,89.41,118.09,88.1,107.16,91.63,158.85,112.82,84.68,53.0,68.34,61.92,79.78,117.25,107.34,57.62,91.55,101.42,96.61,76.08,94.37,96.18,94.72,60.49,131.97,122.82,112.77,61.65,76.67,78.32,58.63,64.21,97.0,85.62,88.99,179.02,111.33,94.83,54.32,131.41,117.17,84.73,95.25,59.29,46.17,59.92,84.22,90.77,62.6,73.09,108.8,146.35,101.71,87.31,69.88,81.85,121.06,141.03,108.65,102.52,78.95,89.07,91.89,81.84,97.94,97.87,74.56,62.97,73.17,60.97,121.1,80.25,78.24,46.58,64.4,132.58,119.87,99.75,99.93,85.27,59.14,101.68,89.14,98.62,91.42,102.42,88.61,87.89,89.22,77.87,106.35,81.87,134.22,94.55,102.19,66.06,121.94,79.44,80.38,84.16,124.17,114.11,65.39,59.92,67.27,130.51,116.27,74.78,106.48,143.06,64.52,69.4,108.3,63.53,90.95,91.06,81.6,97.38,68.51,59.54,75.91,85.39,81.77,110.45,91.28,105.77,57.06,94.51,77.81,103.6,91.89,78.28,60.69,66.45,81.11,109.88,107.48,116.48,106.33,87.52,78.65,182.5,107.88,93.42,71.99,70.41,130.61,73.89,94.18,53.08,87.88,126.66,59.83,129.83,77.59,146.76,96.85,99.54,86.6,84.89,91.89,99.05,91.66,71.1,74.12,93.23,99.32,89.57,126.22,112.9,73.23,127.75,72.93,63.91,90.33,108.02,140.64,84.59,127.64,84.53,137.41,62.21,82.95,88.67,80.29],\"xaxis\":\"x2\",\"yaxis\":\"y2\",\"type\":\"box\"}],                        {\"template\":{\"data\":{\"histogram2dcontour\":[{\"type\":\"histogram2dcontour\",\"colorbar\":{\"outlinewidth\":0,\"ticks\":\"\"},\"colorscale\":[[0.0,\"#0d0887\"],[0.1111111111111111,\"#46039f\"],[0.2222222222222222,\"#7201a8\"],[0.3333333333333333,\"#9c179e\"],[0.4444444444444444,\"#bd3786\"],[0.5555555555555556,\"#d8576b\"],[0.6666666666666666,\"#ed7953\"],[0.7777777777777778,\"#fb9f3a\"],[0.8888888888888888,\"#fdca26\"],[1.0,\"#f0f921\"]]}],\"choropleth\":[{\"type\":\"choropleth\",\"colorbar\":{\"outlinewidth\":0,\"ticks\":\"\"}}],\"histogram2d\":[{\"type\":\"histogram2d\",\"colorbar\":{\"outlinewidth\":0,\"ticks\":\"\"},\"colorscale\":[[0.0,\"#0d0887\"],[0.1111111111111111,\"#46039f\"],[0.2222222222222222,\"#7201a8\"],[0.3333333333333333,\"#9c179e\"],[0.4444444444444444,\"#bd3786\"],[0.5555555555555556,\"#d8576b\"],[0.6666666666666666,\"#ed7953\"],[0.7777777777777778,\"#fb9f3a\"],[0.8888888888888888,\"#fdca26\"],[1.0,\"#f0f921\"]]}],\"heatmap\":[{\"type\":\"heatmap\",\"colorbar\":{\"outlinewidth\":0,\"ticks\":\"\"},\"colorscale\":[[0.0,\"#0d0887\"],[0.1111111111111111,\"#46039f\"],[0.2222222222222222,\"#7201a8\"],[0.3333333333333333,\"#9c179e\"],[0.4444444444444444,\"#bd3786\"],[0.5555555555555556,\"#d8576b\"],[0.6666666666666666,\"#ed7953\"],[0.7777777777777778,\"#fb9f3a\"],[0.8888888888888888,\"#fdca26\"],[1.0,\"#f0f921\"]]}],\"heatmapgl\":[{\"type\":\"heatmapgl\",\"colorbar\":{\"outlinewidth\":0,\"ticks\":\"\"},\"colorscale\":[[0.0,\"#0d0887\"],[0.1111111111111111,\"#46039f\"],[0.2222222222222222,\"#7201a8\"],[0.3333333333333333,\"#9c179e\"],[0.4444444444444444,\"#bd3786\"],[0.5555555555555556,\"#d8576b\"],[0.6666666666666666,\"#ed7953\"],[0.7777777777777778,\"#fb9f3a\"],[0.8888888888888888,\"#fdca26\"],[1.0,\"#f0f921\"]]}],\"contourcarpet\":[{\"type\":\"contourcarpet\",\"colorbar\":{\"outlinewidth\":0,\"ticks\":\"\"}}],\"contour\":[{\"type\":\"contour\",\"colorbar\":{\"outlinewidth\":0,\"ticks\":\"\"},\"colorscale\":[[0.0,\"#0d0887\"],[0.1111111111111111,\"#46039f\"],[0.2222222222222222,\"#7201a8\"],[0.3333333333333333,\"#9c179e\"],[0.4444444444444444,\"#bd3786\"],[0.5555555555555556,\"#d8576b\"],[0.6666666666666666,\"#ed7953\"],[0.7777777777777778,\"#fb9f3a\"],[0.8888888888888888,\"#fdca26\"],[1.0,\"#f0f921\"]]}],\"surface\":[{\"type\":\"surface\",\"colorbar\":{\"outlinewidth\":0,\"ticks\":\"\"},\"colorscale\":[[0.0,\"#0d0887\"],[0.1111111111111111,\"#46039f\"],[0.2222222222222222,\"#7201a8\"],[0.3333333333333333,\"#9c179e\"],[0.4444444444444444,\"#bd3786\"],[0.5555555555555556,\"#d8576b\"],[0.6666666666666666,\"#ed7953\"],[0.7777777777777778,\"#fb9f3a\"],[0.8888888888888888,\"#fdca26\"],[1.0,\"#f0f921\"]]}],\"mesh3d\":[{\"type\":\"mesh3d\",\"colorbar\":{\"outlinewidth\":0,\"ticks\":\"\"}}],\"scatter\":[{\"fillpattern\":{\"fillmode\":\"overlay\",\"size\":10,\"solidity\":0.2},\"type\":\"scatter\"}],\"parcoords\":[{\"type\":\"parcoords\",\"line\":{\"colorbar\":{\"outlinewidth\":0,\"ticks\":\"\"}}}],\"scatterpolargl\":[{\"type\":\"scatterpolargl\",\"marker\":{\"colorbar\":{\"outlinewidth\":0,\"ticks\":\"\"}}}],\"bar\":[{\"error_x\":{\"color\":\"#2a3f5f\"},\"error_y\":{\"color\":\"#2a3f5f\"},\"marker\":{\"line\":{\"color\":\"#E5ECF6\",\"width\":0.5},\"pattern\":{\"fillmode\":\"overlay\",\"size\":10,\"solidity\":0.2}},\"type\":\"bar\"}],\"scattergeo\":[{\"type\":\"scattergeo\",\"marker\":{\"colorbar\":{\"outlinewidth\":0,\"ticks\":\"\"}}}],\"scatterpolar\":[{\"type\":\"scatterpolar\",\"marker\":{\"colorbar\":{\"outlinewidth\":0,\"ticks\":\"\"}}}],\"histogram\":[{\"marker\":{\"pattern\":{\"fillmode\":\"overlay\",\"size\":10,\"solidity\":0.2}},\"type\":\"histogram\"}],\"scattergl\":[{\"type\":\"scattergl\",\"marker\":{\"colorbar\":{\"outlinewidth\":0,\"ticks\":\"\"}}}],\"scatter3d\":[{\"type\":\"scatter3d\",\"line\":{\"colorbar\":{\"outlinewidth\":0,\"ticks\":\"\"}},\"marker\":{\"colorbar\":{\"outlinewidth\":0,\"ticks\":\"\"}}}],\"scattermapbox\":[{\"type\":\"scattermapbox\",\"marker\":{\"colorbar\":{\"outlinewidth\":0,\"ticks\":\"\"}}}],\"scatterternary\":[{\"type\":\"scatterternary\",\"marker\":{\"colorbar\":{\"outlinewidth\":0,\"ticks\":\"\"}}}],\"scattercarpet\":[{\"type\":\"scattercarpet\",\"marker\":{\"colorbar\":{\"outlinewidth\":0,\"ticks\":\"\"}}}],\"carpet\":[{\"aaxis\":{\"endlinecolor\":\"#2a3f5f\",\"gridcolor\":\"white\",\"linecolor\":\"white\",\"minorgridcolor\":\"white\",\"startlinecolor\":\"#2a3f5f\"},\"baxis\":{\"endlinecolor\":\"#2a3f5f\",\"gridcolor\":\"white\",\"linecolor\":\"white\",\"minorgridcolor\":\"white\",\"startlinecolor\":\"#2a3f5f\"},\"type\":\"carpet\"}],\"table\":[{\"cells\":{\"fill\":{\"color\":\"#EBF0F8\"},\"line\":{\"color\":\"white\"}},\"header\":{\"fill\":{\"color\":\"#C8D4E3\"},\"line\":{\"color\":\"white\"}},\"type\":\"table\"}],\"barpolar\":[{\"marker\":{\"line\":{\"color\":\"#E5ECF6\",\"width\":0.5},\"pattern\":{\"fillmode\":\"overlay\",\"size\":10,\"solidity\":0.2}},\"type\":\"barpolar\"}],\"pie\":[{\"automargin\":true,\"type\":\"pie\"}]},\"layout\":{\"autotypenumbers\":\"strict\",\"colorway\":[\"#636efa\",\"#EF553B\",\"#00cc96\",\"#ab63fa\",\"#FFA15A\",\"#19d3f3\",\"#FF6692\",\"#B6E880\",\"#FF97FF\",\"#FECB52\"],\"font\":{\"color\":\"#2a3f5f\"},\"hovermode\":\"closest\",\"hoverlabel\":{\"align\":\"left\"},\"paper_bgcolor\":\"white\",\"plot_bgcolor\":\"#E5ECF6\",\"polar\":{\"bgcolor\":\"#E5ECF6\",\"angularaxis\":{\"gridcolor\":\"white\",\"linecolor\":\"white\",\"ticks\":\"\"},\"radialaxis\":{\"gridcolor\":\"white\",\"linecolor\":\"white\",\"ticks\":\"\"}},\"ternary\":{\"bgcolor\":\"#E5ECF6\",\"aaxis\":{\"gridcolor\":\"white\",\"linecolor\":\"white\",\"ticks\":\"\"},\"baxis\":{\"gridcolor\":\"white\",\"linecolor\":\"white\",\"ticks\":\"\"},\"caxis\":{\"gridcolor\":\"white\",\"linecolor\":\"white\",\"ticks\":\"\"}},\"coloraxis\":{\"colorbar\":{\"outlinewidth\":0,\"ticks\":\"\"}},\"colorscale\":{\"sequential\":[[0.0,\"#0d0887\"],[0.1111111111111111,\"#46039f\"],[0.2222222222222222,\"#7201a8\"],[0.3333333333333333,\"#9c179e\"],[0.4444444444444444,\"#bd3786\"],[0.5555555555555556,\"#d8576b\"],[0.6666666666666666,\"#ed7953\"],[0.7777777777777778,\"#fb9f3a\"],[0.8888888888888888,\"#fdca26\"],[1.0,\"#f0f921\"]],\"sequentialminus\":[[0.0,\"#0d0887\"],[0.1111111111111111,\"#46039f\"],[0.2222222222222222,\"#7201a8\"],[0.3333333333333333,\"#9c179e\"],[0.4444444444444444,\"#bd3786\"],[0.5555555555555556,\"#d8576b\"],[0.6666666666666666,\"#ed7953\"],[0.7777777777777778,\"#fb9f3a\"],[0.8888888888888888,\"#fdca26\"],[1.0,\"#f0f921\"]],\"diverging\":[[0,\"#8e0152\"],[0.1,\"#c51b7d\"],[0.2,\"#de77ae\"],[0.3,\"#f1b6da\"],[0.4,\"#fde0ef\"],[0.5,\"#f7f7f7\"],[0.6,\"#e6f5d0\"],[0.7,\"#b8e186\"],[0.8,\"#7fbc41\"],[0.9,\"#4d9221\"],[1,\"#276419\"]]},\"xaxis\":{\"gridcolor\":\"white\",\"linecolor\":\"white\",\"ticks\":\"\",\"title\":{\"standoff\":15},\"zerolinecolor\":\"white\",\"automargin\":true,\"zerolinewidth\":2},\"yaxis\":{\"gridcolor\":\"white\",\"linecolor\":\"white\",\"ticks\":\"\",\"title\":{\"standoff\":15},\"zerolinecolor\":\"white\",\"automargin\":true,\"zerolinewidth\":2},\"scene\":{\"xaxis\":{\"backgroundcolor\":\"#E5ECF6\",\"gridcolor\":\"white\",\"linecolor\":\"white\",\"showbackground\":true,\"ticks\":\"\",\"zerolinecolor\":\"white\",\"gridwidth\":2},\"yaxis\":{\"backgroundcolor\":\"#E5ECF6\",\"gridcolor\":\"white\",\"linecolor\":\"white\",\"showbackground\":true,\"ticks\":\"\",\"zerolinecolor\":\"white\",\"gridwidth\":2},\"zaxis\":{\"backgroundcolor\":\"#E5ECF6\",\"gridcolor\":\"white\",\"linecolor\":\"white\",\"showbackground\":true,\"ticks\":\"\",\"zerolinecolor\":\"white\",\"gridwidth\":2}},\"shapedefaults\":{\"line\":{\"color\":\"#2a3f5f\"}},\"annotationdefaults\":{\"arrowcolor\":\"#2a3f5f\",\"arrowhead\":0,\"arrowwidth\":1},\"geo\":{\"bgcolor\":\"white\",\"landcolor\":\"#E5ECF6\",\"subunitcolor\":\"white\",\"showland\":true,\"showlakes\":true,\"lakecolor\":\"white\"},\"title\":{\"x\":0.05},\"mapbox\":{\"style\":\"light\"}}},\"xaxis\":{\"anchor\":\"y\",\"domain\":[0.0,1.0],\"title\":{\"text\":\"weight\"}},\"yaxis\":{\"anchor\":\"x\",\"domain\":[0.0,0.7326],\"title\":{\"text\":\"count\"}},\"xaxis2\":{\"anchor\":\"y2\",\"domain\":[0.0,1.0],\"matches\":\"x\",\"showticklabels\":false,\"showgrid\":true},\"yaxis2\":{\"anchor\":\"x2\",\"domain\":[0.7426,1.0],\"matches\":\"y2\",\"showticklabels\":false,\"showline\":false,\"ticks\":\"\",\"showgrid\":false},\"legend\":{\"title\":{\"text\":\"RESPONSE\"},\"tracegroupgap\":0},\"margin\":{\"t\":60},\"barmode\":\"relative\"},                        {\"responsive\": true}                    ).then(function(){\n",
       "                            \n",
       "var gd = document.getElementById('118433af-feac-4767-a986-8920101e4268');\n",
       "var x = new MutationObserver(function (mutations, observer) {{\n",
       "        var display = window.getComputedStyle(gd).display;\n",
       "        if (!display || display === 'none') {{\n",
       "            console.log([gd, 'removed!']);\n",
       "            Plotly.purge(gd);\n",
       "            observer.disconnect();\n",
       "        }}\n",
       "}});\n",
       "\n",
       "// Listen for the removal of the full notebook cells\n",
       "var notebookContainer = gd.closest('#notebook-container');\n",
       "if (notebookContainer) {{\n",
       "    x.observe(notebookContainer, {childList: true});\n",
       "}}\n",
       "\n",
       "// Listen for the clearing of the current output cell\n",
       "var outputEl = gd.closest('.output');\n",
       "if (outputEl) {{\n",
       "    x.observe(outputEl, {childList: true});\n",
       "}}\n",
       "\n",
       "                        })                };                });            </script>        </div>"
      ]
     },
     "metadata": {},
     "output_type": "display_data"
    }
   ],
   "source": [
    "px.histogram(df_merged, x=\"weight\", color=\"RESPONSE\", marginal=\"box\")"
   ]
  },
  {
   "cell_type": "markdown",
   "id": "6aba7d1d",
   "metadata": {},
   "source": [
    "### 5. Compare protein concentration in responders vs non responders"
   ]
  },
  {
   "cell_type": "code",
   "execution_count": 457,
   "id": "141e6bc6",
   "metadata": {},
   "outputs": [
    {
     "data": {
      "application/vnd.plotly.v1+json": {
       "config": {
        "plotlyServerURL": "https://plot.ly"
       },
       "data": [
        {
         "alignmentgroup": "True",
         "bingroup": "x",
         "hovertemplate": "RESPONSE=N<br>protein_concentration=%{x}<br>count=%{y}<extra></extra>",
         "legendgroup": "N",
         "marker": {
          "color": "#636efa",
          "pattern": {
           "shape": ""
          }
         },
         "name": "N",
         "offsetgroup": "N",
         "orientation": "v",
         "showlegend": true,
         "type": "histogram",
         "x": [
          148,
          183,
          137,
          78,
          115,
          197,
          168,
          139,
          189,
          166,
          118,
          126,
          99,
          196,
          125,
          147,
          97,
          145,
          117,
          158,
          88,
          92,
          138,
          180,
          133,
          171,
          159,
          180,
          146,
          105,
          103,
          176,
          150,
          73,
          187,
          105,
          84,
          133,
          141,
          114,
          99,
          95,
          146,
          100,
          139,
          129,
          null,
          112,
          113,
          74,
          137,
          110,
          106,
          136,
          107,
          134,
          144,
          163,
          151,
          125,
          81,
          144,
          171,
          155,
          160,
          146,
          124,
          78,
          162,
          132,
          113,
          117,
          105,
          173,
          122,
          170,
          125,
          100,
          129,
          105,
          108,
          154,
          102,
          106,
          147,
          136,
          114,
          153,
          188,
          109,
          88,
          163,
          151,
          131,
          104,
          148,
          120,
          134,
          179,
          143,
          87,
          null,
          141,
          194,
          181,
          128,
          139,
          111,
          123,
          159,
          135,
          158,
          105,
          109,
          148,
          138,
          111,
          196,
          96,
          184,
          147,
          179,
          140,
          112,
          151,
          125,
          112,
          177,
          158,
          142,
          100,
          162,
          197,
          142,
          134,
          74,
          171,
          181,
          179,
          164,
          91,
          139,
          146,
          184,
          122,
          165,
          124,
          111,
          129,
          90,
          113,
          193,
          155,
          191,
          141,
          123,
          96,
          138,
          128,
          102,
          146,
          101,
          108,
          122,
          108,
          146,
          133,
          161,
          136,
          155,
          96,
          78,
          107,
          161,
          151,
          146,
          126,
          112,
          167,
          144,
          150,
          161,
          137,
          128,
          124,
          106,
          155,
          113,
          109,
          99,
          182,
          194,
          124,
          152,
          112,
          157,
          122,
          179,
          118,
          180,
          165,
          152,
          178,
          130,
          null,
          139,
          116,
          99,
          137,
          165,
          125,
          196,
          189,
          158,
          147,
          99,
          124,
          101,
          81,
          173,
          118,
          140,
          98,
          90,
          125,
          144,
          100,
          166,
          131,
          158,
          127,
          96,
          131,
          82,
          193,
          137,
          168,
          123,
          101,
          197,
          172,
          143,
          143,
          138,
          97,
          144,
          129,
          94,
          115,
          151,
          184,
          94,
          181,
          135,
          139,
          141,
          140,
          147,
          189,
          108,
          117,
          100,
          120,
          134,
          119,
          175,
          148,
          124,
          120,
          144,
          137,
          136,
          114,
          137,
          114,
          158,
          123,
          85,
          145,
          139,
          173,
          99,
          194,
          125,
          80,
          166,
          110,
          195,
          154,
          117,
          84,
          180,
          130,
          120,
          139,
          91,
          163,
          145,
          129,
          124,
          114,
          130,
          125,
          87,
          117,
          111,
          122,
          132,
          127,
          129,
          128,
          186,
          131,
          164,
          189,
          84,
          124,
          125,
          198,
          99,
          91,
          154,
          121,
          130,
          111,
          98,
          143,
          108,
          133,
          197,
          151,
          109,
          121,
          124,
          143,
          176,
          132,
          188,
          89,
          173,
          109,
          124,
          150,
          183,
          181,
          111,
          174,
          168,
          117,
          112,
          183,
          108,
          125,
          132,
          114,
          111,
          128,
          104,
          97,
          100,
          128,
          147,
          103,
          157,
          167,
          179,
          136,
          107,
          117,
          120,
          155,
          101,
          127,
          162,
          199,
          167,
          145,
          145,
          111,
          154,
          165,
          99,
          68,
          195,
          156,
          121,
          162,
          136,
          140,
          158,
          121,
          90,
          142,
          169,
          127,
          122,
          125,
          168,
          110,
          158,
          129,
          134,
          187,
          173,
          108,
          83,
          114,
          149,
          141,
          175,
          130,
          120,
          126,
          65,
          102,
          102,
          109,
          140,
          153,
          147,
          81,
          187,
          162,
          136,
          108,
          181,
          154,
          128,
          137,
          106,
          190,
          88,
          122,
          121
         ],
         "xaxis": "x",
         "yaxis": "y"
        },
        {
         "alignmentgroup": "True",
         "hovertemplate": "RESPONSE=N<br>protein_concentration=%{x}<extra></extra>",
         "legendgroup": "N",
         "marker": {
          "color": "#636efa"
         },
         "name": "N",
         "notched": true,
         "offsetgroup": "N",
         "showlegend": false,
         "type": "box",
         "x": [
          148,
          183,
          137,
          78,
          115,
          197,
          168,
          139,
          189,
          166,
          118,
          126,
          99,
          196,
          125,
          147,
          97,
          145,
          117,
          158,
          88,
          92,
          138,
          180,
          133,
          171,
          159,
          180,
          146,
          105,
          103,
          176,
          150,
          73,
          187,
          105,
          84,
          133,
          141,
          114,
          99,
          95,
          146,
          100,
          139,
          129,
          null,
          112,
          113,
          74,
          137,
          110,
          106,
          136,
          107,
          134,
          144,
          163,
          151,
          125,
          81,
          144,
          171,
          155,
          160,
          146,
          124,
          78,
          162,
          132,
          113,
          117,
          105,
          173,
          122,
          170,
          125,
          100,
          129,
          105,
          108,
          154,
          102,
          106,
          147,
          136,
          114,
          153,
          188,
          109,
          88,
          163,
          151,
          131,
          104,
          148,
          120,
          134,
          179,
          143,
          87,
          null,
          141,
          194,
          181,
          128,
          139,
          111,
          123,
          159,
          135,
          158,
          105,
          109,
          148,
          138,
          111,
          196,
          96,
          184,
          147,
          179,
          140,
          112,
          151,
          125,
          112,
          177,
          158,
          142,
          100,
          162,
          197,
          142,
          134,
          74,
          171,
          181,
          179,
          164,
          91,
          139,
          146,
          184,
          122,
          165,
          124,
          111,
          129,
          90,
          113,
          193,
          155,
          191,
          141,
          123,
          96,
          138,
          128,
          102,
          146,
          101,
          108,
          122,
          108,
          146,
          133,
          161,
          136,
          155,
          96,
          78,
          107,
          161,
          151,
          146,
          126,
          112,
          167,
          144,
          150,
          161,
          137,
          128,
          124,
          106,
          155,
          113,
          109,
          99,
          182,
          194,
          124,
          152,
          112,
          157,
          122,
          179,
          118,
          180,
          165,
          152,
          178,
          130,
          null,
          139,
          116,
          99,
          137,
          165,
          125,
          196,
          189,
          158,
          147,
          99,
          124,
          101,
          81,
          173,
          118,
          140,
          98,
          90,
          125,
          144,
          100,
          166,
          131,
          158,
          127,
          96,
          131,
          82,
          193,
          137,
          168,
          123,
          101,
          197,
          172,
          143,
          143,
          138,
          97,
          144,
          129,
          94,
          115,
          151,
          184,
          94,
          181,
          135,
          139,
          141,
          140,
          147,
          189,
          108,
          117,
          100,
          120,
          134,
          119,
          175,
          148,
          124,
          120,
          144,
          137,
          136,
          114,
          137,
          114,
          158,
          123,
          85,
          145,
          139,
          173,
          99,
          194,
          125,
          80,
          166,
          110,
          195,
          154,
          117,
          84,
          180,
          130,
          120,
          139,
          91,
          163,
          145,
          129,
          124,
          114,
          130,
          125,
          87,
          117,
          111,
          122,
          132,
          127,
          129,
          128,
          186,
          131,
          164,
          189,
          84,
          124,
          125,
          198,
          99,
          91,
          154,
          121,
          130,
          111,
          98,
          143,
          108,
          133,
          197,
          151,
          109,
          121,
          124,
          143,
          176,
          132,
          188,
          89,
          173,
          109,
          124,
          150,
          183,
          181,
          111,
          174,
          168,
          117,
          112,
          183,
          108,
          125,
          132,
          114,
          111,
          128,
          104,
          97,
          100,
          128,
          147,
          103,
          157,
          167,
          179,
          136,
          107,
          117,
          120,
          155,
          101,
          127,
          162,
          199,
          167,
          145,
          145,
          111,
          154,
          165,
          99,
          68,
          195,
          156,
          121,
          162,
          136,
          140,
          158,
          121,
          90,
          142,
          169,
          127,
          122,
          125,
          168,
          110,
          158,
          129,
          134,
          187,
          173,
          108,
          83,
          114,
          149,
          141,
          175,
          130,
          120,
          126,
          65,
          102,
          102,
          109,
          140,
          153,
          147,
          81,
          187,
          162,
          136,
          108,
          181,
          154,
          128,
          137,
          106,
          190,
          88,
          122,
          121
         ],
         "xaxis": "x2",
         "yaxis": "y2"
        },
        {
         "alignmentgroup": "True",
         "bingroup": "x",
         "hovertemplate": "RESPONSE=Y<br>protein_concentration=%{x}<br>count=%{y}<extra></extra>",
         "legendgroup": "Y",
         "marker": {
          "color": "#EF553B",
          "pattern": {
           "shape": ""
          }
         },
         "name": "Y",
         "offsetgroup": "Y",
         "orientation": "v",
         "showlegend": true,
         "type": "histogram",
         "x": [
          85,
          89,
          116,
          125,
          110,
          100,
          107,
          103,
          115,
          119,
          143,
          109,
          122,
          103,
          102,
          90,
          111,
          106,
          71,
          103,
          101,
          88,
          100,
          146,
          44,
          109,
          109,
          126,
          79,
          62,
          95,
          131,
          83,
          101,
          100,
          80,
          123,
          81,
          142,
          92,
          71,
          93,
          122,
          85,
          126,
          96,
          83,
          95,
          89,
          76,
          97,
          99,
          111,
          107,
          88,
          120,
          118,
          84,
          96,
          93,
          128,
          106,
          108,
          57,
          90,
          156,
          152,
          99,
          102,
          114,
          100,
          110,
          111,
          102,
          87,
          79,
          75,
          85,
          129,
          130,
          119,
          73,
          109,
          85,
          107,
          113,
          108,
          99,
          103,
          162,
          81,
          109,
          85,
          119,
          87,
          101,
          117,
          79,
          122,
          104,
          91,
          119,
          106,
          86,
          92,
          111,
          114,
          95,
          142,
          71,
          106,
          100,
          106,
          104,
          114,
          129,
          108,
          119,
          108,
          128,
          128,
          100,
          77,
          115,
          120,
          80,
          112,
          115,
          129,
          112,
          102,
          105,
          87,
          106,
          95,
          117,
          115,
          95,
          122,
          95,
          126,
          null,
          92,
          61,
          90,
          90,
          129,
          88,
          103,
          146,
          133,
          84,
          105,
          122,
          87,
          156,
          93,
          107,
          105,
          109,
          119,
          116,
          105,
          100,
          116,
          95,
          136,
          72,
          115,
          102,
          112,
          173,
          83,
          119,
          102,
          95,
          99,
          89,
          80,
          90,
          97,
          107,
          83,
          117,
          180,
          95,
          104,
          82,
          91,
          100,
          135,
          86,
          134,
          120,
          71,
          74,
          88,
          115,
          74,
          97,
          154,
          119,
          105,
          126,
          132,
          84,
          135,
          83,
          89,
          99,
          81,
          null,
          94,
          96,
          75,
          84,
          84,
          91,
          99,
          125,
          76,
          68,
          97,
          116,
          107,
          86,
          91,
          77,
          105,
          57,
          100,
          90,
          84,
          88,
          187,
          116,
          84,
          114,
          88,
          97,
          110,
          103,
          85,
          87,
          95,
          99,
          92,
          78,
          119,
          118,
          100,
          93,
          103,
          73,
          111,
          112,
          82,
          123,
          67,
          108,
          96,
          124,
          92,
          152,
          106,
          105,
          138,
          106,
          68,
          112,
          119,
          92,
          94,
          90,
          128,
          94,
          102,
          92,
          104,
          94,
          102,
          90,
          91,
          123,
          106,
          120,
          80,
          115,
          112,
          98,
          123,
          91,
          93,
          101,
          56,
          95,
          125,
          129,
          130,
          107,
          144,
          107,
          129,
          99,
          118,
          129,
          80,
          115,
          127,
          164,
          93,
          126,
          102,
          94,
          97,
          117,
          111,
          112,
          116,
          92,
          174,
          106,
          105,
          95,
          99,
          120,
          100,
          121,
          123,
          170,
          89,
          101,
          126,
          93
         ],
         "xaxis": "x",
         "yaxis": "y"
        },
        {
         "alignmentgroup": "True",
         "hovertemplate": "RESPONSE=Y<br>protein_concentration=%{x}<extra></extra>",
         "legendgroup": "Y",
         "marker": {
          "color": "#EF553B"
         },
         "name": "Y",
         "notched": true,
         "offsetgroup": "Y",
         "showlegend": false,
         "type": "box",
         "x": [
          85,
          89,
          116,
          125,
          110,
          100,
          107,
          103,
          115,
          119,
          143,
          109,
          122,
          103,
          102,
          90,
          111,
          106,
          71,
          103,
          101,
          88,
          100,
          146,
          44,
          109,
          109,
          126,
          79,
          62,
          95,
          131,
          83,
          101,
          100,
          80,
          123,
          81,
          142,
          92,
          71,
          93,
          122,
          85,
          126,
          96,
          83,
          95,
          89,
          76,
          97,
          99,
          111,
          107,
          88,
          120,
          118,
          84,
          96,
          93,
          128,
          106,
          108,
          57,
          90,
          156,
          152,
          99,
          102,
          114,
          100,
          110,
          111,
          102,
          87,
          79,
          75,
          85,
          129,
          130,
          119,
          73,
          109,
          85,
          107,
          113,
          108,
          99,
          103,
          162,
          81,
          109,
          85,
          119,
          87,
          101,
          117,
          79,
          122,
          104,
          91,
          119,
          106,
          86,
          92,
          111,
          114,
          95,
          142,
          71,
          106,
          100,
          106,
          104,
          114,
          129,
          108,
          119,
          108,
          128,
          128,
          100,
          77,
          115,
          120,
          80,
          112,
          115,
          129,
          112,
          102,
          105,
          87,
          106,
          95,
          117,
          115,
          95,
          122,
          95,
          126,
          null,
          92,
          61,
          90,
          90,
          129,
          88,
          103,
          146,
          133,
          84,
          105,
          122,
          87,
          156,
          93,
          107,
          105,
          109,
          119,
          116,
          105,
          100,
          116,
          95,
          136,
          72,
          115,
          102,
          112,
          173,
          83,
          119,
          102,
          95,
          99,
          89,
          80,
          90,
          97,
          107,
          83,
          117,
          180,
          95,
          104,
          82,
          91,
          100,
          135,
          86,
          134,
          120,
          71,
          74,
          88,
          115,
          74,
          97,
          154,
          119,
          105,
          126,
          132,
          84,
          135,
          83,
          89,
          99,
          81,
          null,
          94,
          96,
          75,
          84,
          84,
          91,
          99,
          125,
          76,
          68,
          97,
          116,
          107,
          86,
          91,
          77,
          105,
          57,
          100,
          90,
          84,
          88,
          187,
          116,
          84,
          114,
          88,
          97,
          110,
          103,
          85,
          87,
          95,
          99,
          92,
          78,
          119,
          118,
          100,
          93,
          103,
          73,
          111,
          112,
          82,
          123,
          67,
          108,
          96,
          124,
          92,
          152,
          106,
          105,
          138,
          106,
          68,
          112,
          119,
          92,
          94,
          90,
          128,
          94,
          102,
          92,
          104,
          94,
          102,
          90,
          91,
          123,
          106,
          120,
          80,
          115,
          112,
          98,
          123,
          91,
          93,
          101,
          56,
          95,
          125,
          129,
          130,
          107,
          144,
          107,
          129,
          99,
          118,
          129,
          80,
          115,
          127,
          164,
          93,
          126,
          102,
          94,
          97,
          117,
          111,
          112,
          116,
          92,
          174,
          106,
          105,
          95,
          99,
          120,
          100,
          121,
          123,
          170,
          89,
          101,
          126,
          93
         ],
         "xaxis": "x2",
         "yaxis": "y2"
        }
       ],
       "layout": {
        "barmode": "relative",
        "legend": {
         "title": {
          "text": "RESPONSE"
         },
         "tracegroupgap": 0
        },
        "margin": {
         "t": 60
        },
        "template": {
         "data": {
          "bar": [
           {
            "error_x": {
             "color": "#2a3f5f"
            },
            "error_y": {
             "color": "#2a3f5f"
            },
            "marker": {
             "line": {
              "color": "#E5ECF6",
              "width": 0.5
             },
             "pattern": {
              "fillmode": "overlay",
              "size": 10,
              "solidity": 0.2
             }
            },
            "type": "bar"
           }
          ],
          "barpolar": [
           {
            "marker": {
             "line": {
              "color": "#E5ECF6",
              "width": 0.5
             },
             "pattern": {
              "fillmode": "overlay",
              "size": 10,
              "solidity": 0.2
             }
            },
            "type": "barpolar"
           }
          ],
          "carpet": [
           {
            "aaxis": {
             "endlinecolor": "#2a3f5f",
             "gridcolor": "white",
             "linecolor": "white",
             "minorgridcolor": "white",
             "startlinecolor": "#2a3f5f"
            },
            "baxis": {
             "endlinecolor": "#2a3f5f",
             "gridcolor": "white",
             "linecolor": "white",
             "minorgridcolor": "white",
             "startlinecolor": "#2a3f5f"
            },
            "type": "carpet"
           }
          ],
          "choropleth": [
           {
            "colorbar": {
             "outlinewidth": 0,
             "ticks": ""
            },
            "type": "choropleth"
           }
          ],
          "contour": [
           {
            "colorbar": {
             "outlinewidth": 0,
             "ticks": ""
            },
            "colorscale": [
             [
              0,
              "#0d0887"
             ],
             [
              0.1111111111111111,
              "#46039f"
             ],
             [
              0.2222222222222222,
              "#7201a8"
             ],
             [
              0.3333333333333333,
              "#9c179e"
             ],
             [
              0.4444444444444444,
              "#bd3786"
             ],
             [
              0.5555555555555556,
              "#d8576b"
             ],
             [
              0.6666666666666666,
              "#ed7953"
             ],
             [
              0.7777777777777778,
              "#fb9f3a"
             ],
             [
              0.8888888888888888,
              "#fdca26"
             ],
             [
              1,
              "#f0f921"
             ]
            ],
            "type": "contour"
           }
          ],
          "contourcarpet": [
           {
            "colorbar": {
             "outlinewidth": 0,
             "ticks": ""
            },
            "type": "contourcarpet"
           }
          ],
          "heatmap": [
           {
            "colorbar": {
             "outlinewidth": 0,
             "ticks": ""
            },
            "colorscale": [
             [
              0,
              "#0d0887"
             ],
             [
              0.1111111111111111,
              "#46039f"
             ],
             [
              0.2222222222222222,
              "#7201a8"
             ],
             [
              0.3333333333333333,
              "#9c179e"
             ],
             [
              0.4444444444444444,
              "#bd3786"
             ],
             [
              0.5555555555555556,
              "#d8576b"
             ],
             [
              0.6666666666666666,
              "#ed7953"
             ],
             [
              0.7777777777777778,
              "#fb9f3a"
             ],
             [
              0.8888888888888888,
              "#fdca26"
             ],
             [
              1,
              "#f0f921"
             ]
            ],
            "type": "heatmap"
           }
          ],
          "heatmapgl": [
           {
            "colorbar": {
             "outlinewidth": 0,
             "ticks": ""
            },
            "colorscale": [
             [
              0,
              "#0d0887"
             ],
             [
              0.1111111111111111,
              "#46039f"
             ],
             [
              0.2222222222222222,
              "#7201a8"
             ],
             [
              0.3333333333333333,
              "#9c179e"
             ],
             [
              0.4444444444444444,
              "#bd3786"
             ],
             [
              0.5555555555555556,
              "#d8576b"
             ],
             [
              0.6666666666666666,
              "#ed7953"
             ],
             [
              0.7777777777777778,
              "#fb9f3a"
             ],
             [
              0.8888888888888888,
              "#fdca26"
             ],
             [
              1,
              "#f0f921"
             ]
            ],
            "type": "heatmapgl"
           }
          ],
          "histogram": [
           {
            "marker": {
             "pattern": {
              "fillmode": "overlay",
              "size": 10,
              "solidity": 0.2
             }
            },
            "type": "histogram"
           }
          ],
          "histogram2d": [
           {
            "colorbar": {
             "outlinewidth": 0,
             "ticks": ""
            },
            "colorscale": [
             [
              0,
              "#0d0887"
             ],
             [
              0.1111111111111111,
              "#46039f"
             ],
             [
              0.2222222222222222,
              "#7201a8"
             ],
             [
              0.3333333333333333,
              "#9c179e"
             ],
             [
              0.4444444444444444,
              "#bd3786"
             ],
             [
              0.5555555555555556,
              "#d8576b"
             ],
             [
              0.6666666666666666,
              "#ed7953"
             ],
             [
              0.7777777777777778,
              "#fb9f3a"
             ],
             [
              0.8888888888888888,
              "#fdca26"
             ],
             [
              1,
              "#f0f921"
             ]
            ],
            "type": "histogram2d"
           }
          ],
          "histogram2dcontour": [
           {
            "colorbar": {
             "outlinewidth": 0,
             "ticks": ""
            },
            "colorscale": [
             [
              0,
              "#0d0887"
             ],
             [
              0.1111111111111111,
              "#46039f"
             ],
             [
              0.2222222222222222,
              "#7201a8"
             ],
             [
              0.3333333333333333,
              "#9c179e"
             ],
             [
              0.4444444444444444,
              "#bd3786"
             ],
             [
              0.5555555555555556,
              "#d8576b"
             ],
             [
              0.6666666666666666,
              "#ed7953"
             ],
             [
              0.7777777777777778,
              "#fb9f3a"
             ],
             [
              0.8888888888888888,
              "#fdca26"
             ],
             [
              1,
              "#f0f921"
             ]
            ],
            "type": "histogram2dcontour"
           }
          ],
          "mesh3d": [
           {
            "colorbar": {
             "outlinewidth": 0,
             "ticks": ""
            },
            "type": "mesh3d"
           }
          ],
          "parcoords": [
           {
            "line": {
             "colorbar": {
              "outlinewidth": 0,
              "ticks": ""
             }
            },
            "type": "parcoords"
           }
          ],
          "pie": [
           {
            "automargin": true,
            "type": "pie"
           }
          ],
          "scatter": [
           {
            "fillpattern": {
             "fillmode": "overlay",
             "size": 10,
             "solidity": 0.2
            },
            "type": "scatter"
           }
          ],
          "scatter3d": [
           {
            "line": {
             "colorbar": {
              "outlinewidth": 0,
              "ticks": ""
             }
            },
            "marker": {
             "colorbar": {
              "outlinewidth": 0,
              "ticks": ""
             }
            },
            "type": "scatter3d"
           }
          ],
          "scattercarpet": [
           {
            "marker": {
             "colorbar": {
              "outlinewidth": 0,
              "ticks": ""
             }
            },
            "type": "scattercarpet"
           }
          ],
          "scattergeo": [
           {
            "marker": {
             "colorbar": {
              "outlinewidth": 0,
              "ticks": ""
             }
            },
            "type": "scattergeo"
           }
          ],
          "scattergl": [
           {
            "marker": {
             "colorbar": {
              "outlinewidth": 0,
              "ticks": ""
             }
            },
            "type": "scattergl"
           }
          ],
          "scattermapbox": [
           {
            "marker": {
             "colorbar": {
              "outlinewidth": 0,
              "ticks": ""
             }
            },
            "type": "scattermapbox"
           }
          ],
          "scatterpolar": [
           {
            "marker": {
             "colorbar": {
              "outlinewidth": 0,
              "ticks": ""
             }
            },
            "type": "scatterpolar"
           }
          ],
          "scatterpolargl": [
           {
            "marker": {
             "colorbar": {
              "outlinewidth": 0,
              "ticks": ""
             }
            },
            "type": "scatterpolargl"
           }
          ],
          "scatterternary": [
           {
            "marker": {
             "colorbar": {
              "outlinewidth": 0,
              "ticks": ""
             }
            },
            "type": "scatterternary"
           }
          ],
          "surface": [
           {
            "colorbar": {
             "outlinewidth": 0,
             "ticks": ""
            },
            "colorscale": [
             [
              0,
              "#0d0887"
             ],
             [
              0.1111111111111111,
              "#46039f"
             ],
             [
              0.2222222222222222,
              "#7201a8"
             ],
             [
              0.3333333333333333,
              "#9c179e"
             ],
             [
              0.4444444444444444,
              "#bd3786"
             ],
             [
              0.5555555555555556,
              "#d8576b"
             ],
             [
              0.6666666666666666,
              "#ed7953"
             ],
             [
              0.7777777777777778,
              "#fb9f3a"
             ],
             [
              0.8888888888888888,
              "#fdca26"
             ],
             [
              1,
              "#f0f921"
             ]
            ],
            "type": "surface"
           }
          ],
          "table": [
           {
            "cells": {
             "fill": {
              "color": "#EBF0F8"
             },
             "line": {
              "color": "white"
             }
            },
            "header": {
             "fill": {
              "color": "#C8D4E3"
             },
             "line": {
              "color": "white"
             }
            },
            "type": "table"
           }
          ]
         },
         "layout": {
          "annotationdefaults": {
           "arrowcolor": "#2a3f5f",
           "arrowhead": 0,
           "arrowwidth": 1
          },
          "autotypenumbers": "strict",
          "coloraxis": {
           "colorbar": {
            "outlinewidth": 0,
            "ticks": ""
           }
          },
          "colorscale": {
           "diverging": [
            [
             0,
             "#8e0152"
            ],
            [
             0.1,
             "#c51b7d"
            ],
            [
             0.2,
             "#de77ae"
            ],
            [
             0.3,
             "#f1b6da"
            ],
            [
             0.4,
             "#fde0ef"
            ],
            [
             0.5,
             "#f7f7f7"
            ],
            [
             0.6,
             "#e6f5d0"
            ],
            [
             0.7,
             "#b8e186"
            ],
            [
             0.8,
             "#7fbc41"
            ],
            [
             0.9,
             "#4d9221"
            ],
            [
             1,
             "#276419"
            ]
           ],
           "sequential": [
            [
             0,
             "#0d0887"
            ],
            [
             0.1111111111111111,
             "#46039f"
            ],
            [
             0.2222222222222222,
             "#7201a8"
            ],
            [
             0.3333333333333333,
             "#9c179e"
            ],
            [
             0.4444444444444444,
             "#bd3786"
            ],
            [
             0.5555555555555556,
             "#d8576b"
            ],
            [
             0.6666666666666666,
             "#ed7953"
            ],
            [
             0.7777777777777778,
             "#fb9f3a"
            ],
            [
             0.8888888888888888,
             "#fdca26"
            ],
            [
             1,
             "#f0f921"
            ]
           ],
           "sequentialminus": [
            [
             0,
             "#0d0887"
            ],
            [
             0.1111111111111111,
             "#46039f"
            ],
            [
             0.2222222222222222,
             "#7201a8"
            ],
            [
             0.3333333333333333,
             "#9c179e"
            ],
            [
             0.4444444444444444,
             "#bd3786"
            ],
            [
             0.5555555555555556,
             "#d8576b"
            ],
            [
             0.6666666666666666,
             "#ed7953"
            ],
            [
             0.7777777777777778,
             "#fb9f3a"
            ],
            [
             0.8888888888888888,
             "#fdca26"
            ],
            [
             1,
             "#f0f921"
            ]
           ]
          },
          "colorway": [
           "#636efa",
           "#EF553B",
           "#00cc96",
           "#ab63fa",
           "#FFA15A",
           "#19d3f3",
           "#FF6692",
           "#B6E880",
           "#FF97FF",
           "#FECB52"
          ],
          "font": {
           "color": "#2a3f5f"
          },
          "geo": {
           "bgcolor": "white",
           "lakecolor": "white",
           "landcolor": "#E5ECF6",
           "showlakes": true,
           "showland": true,
           "subunitcolor": "white"
          },
          "hoverlabel": {
           "align": "left"
          },
          "hovermode": "closest",
          "mapbox": {
           "style": "light"
          },
          "paper_bgcolor": "white",
          "plot_bgcolor": "#E5ECF6",
          "polar": {
           "angularaxis": {
            "gridcolor": "white",
            "linecolor": "white",
            "ticks": ""
           },
           "bgcolor": "#E5ECF6",
           "radialaxis": {
            "gridcolor": "white",
            "linecolor": "white",
            "ticks": ""
           }
          },
          "scene": {
           "xaxis": {
            "backgroundcolor": "#E5ECF6",
            "gridcolor": "white",
            "gridwidth": 2,
            "linecolor": "white",
            "showbackground": true,
            "ticks": "",
            "zerolinecolor": "white"
           },
           "yaxis": {
            "backgroundcolor": "#E5ECF6",
            "gridcolor": "white",
            "gridwidth": 2,
            "linecolor": "white",
            "showbackground": true,
            "ticks": "",
            "zerolinecolor": "white"
           },
           "zaxis": {
            "backgroundcolor": "#E5ECF6",
            "gridcolor": "white",
            "gridwidth": 2,
            "linecolor": "white",
            "showbackground": true,
            "ticks": "",
            "zerolinecolor": "white"
           }
          },
          "shapedefaults": {
           "line": {
            "color": "#2a3f5f"
           }
          },
          "ternary": {
           "aaxis": {
            "gridcolor": "white",
            "linecolor": "white",
            "ticks": ""
           },
           "baxis": {
            "gridcolor": "white",
            "linecolor": "white",
            "ticks": ""
           },
           "bgcolor": "#E5ECF6",
           "caxis": {
            "gridcolor": "white",
            "linecolor": "white",
            "ticks": ""
           }
          },
          "title": {
           "x": 0.05
          },
          "xaxis": {
           "automargin": true,
           "gridcolor": "white",
           "linecolor": "white",
           "ticks": "",
           "title": {
            "standoff": 15
           },
           "zerolinecolor": "white",
           "zerolinewidth": 2
          },
          "yaxis": {
           "automargin": true,
           "gridcolor": "white",
           "linecolor": "white",
           "ticks": "",
           "title": {
            "standoff": 15
           },
           "zerolinecolor": "white",
           "zerolinewidth": 2
          }
         }
        },
        "xaxis": {
         "anchor": "y",
         "domain": [
          0,
          1
         ],
         "title": {
          "text": "protein_concentration"
         }
        },
        "xaxis2": {
         "anchor": "y2",
         "domain": [
          0,
          1
         ],
         "matches": "x",
         "showgrid": true,
         "showticklabels": false
        },
        "yaxis": {
         "anchor": "x",
         "domain": [
          0,
          0.7326
         ],
         "title": {
          "text": "count"
         }
        },
        "yaxis2": {
         "anchor": "x2",
         "domain": [
          0.7426,
          1
         ],
         "matches": "y2",
         "showgrid": false,
         "showline": false,
         "showticklabels": false,
         "ticks": ""
        }
       }
      },
      "text/html": [
       "<div>                            <div id=\"a1c707a9-9b5c-4d61-ac57-8c0ca9463ac1\" class=\"plotly-graph-div\" style=\"height:525px; width:100%;\"></div>            <script type=\"text/javascript\">                require([\"plotly\"], function(Plotly) {                    window.PLOTLYENV=window.PLOTLYENV || {};                                    if (document.getElementById(\"a1c707a9-9b5c-4d61-ac57-8c0ca9463ac1\")) {                    Plotly.newPlot(                        \"a1c707a9-9b5c-4d61-ac57-8c0ca9463ac1\",                        [{\"alignmentgroup\":\"True\",\"bingroup\":\"x\",\"hovertemplate\":\"RESPONSE=N<br>protein_concentration=%{x}<br>count=%{y}<extra></extra>\",\"legendgroup\":\"N\",\"marker\":{\"color\":\"#636efa\",\"pattern\":{\"shape\":\"\"}},\"name\":\"N\",\"offsetgroup\":\"N\",\"orientation\":\"v\",\"showlegend\":true,\"x\":[148.0,183.0,137.0,78.0,115.0,197.0,168.0,139.0,189.0,166.0,118.0,126.0,99.0,196.0,125.0,147.0,97.0,145.0,117.0,158.0,88.0,92.0,138.0,180.0,133.0,171.0,159.0,180.0,146.0,105.0,103.0,176.0,150.0,73.0,187.0,105.0,84.0,133.0,141.0,114.0,99.0,95.0,146.0,100.0,139.0,129.0,null,112.0,113.0,74.0,137.0,110.0,106.0,136.0,107.0,134.0,144.0,163.0,151.0,125.0,81.0,144.0,171.0,155.0,160.0,146.0,124.0,78.0,162.0,132.0,113.0,117.0,105.0,173.0,122.0,170.0,125.0,100.0,129.0,105.0,108.0,154.0,102.0,106.0,147.0,136.0,114.0,153.0,188.0,109.0,88.0,163.0,151.0,131.0,104.0,148.0,120.0,134.0,179.0,143.0,87.0,null,141.0,194.0,181.0,128.0,139.0,111.0,123.0,159.0,135.0,158.0,105.0,109.0,148.0,138.0,111.0,196.0,96.0,184.0,147.0,179.0,140.0,112.0,151.0,125.0,112.0,177.0,158.0,142.0,100.0,162.0,197.0,142.0,134.0,74.0,171.0,181.0,179.0,164.0,91.0,139.0,146.0,184.0,122.0,165.0,124.0,111.0,129.0,90.0,113.0,193.0,155.0,191.0,141.0,123.0,96.0,138.0,128.0,102.0,146.0,101.0,108.0,122.0,108.0,146.0,133.0,161.0,136.0,155.0,96.0,78.0,107.0,161.0,151.0,146.0,126.0,112.0,167.0,144.0,150.0,161.0,137.0,128.0,124.0,106.0,155.0,113.0,109.0,99.0,182.0,194.0,124.0,152.0,112.0,157.0,122.0,179.0,118.0,180.0,165.0,152.0,178.0,130.0,null,139.0,116.0,99.0,137.0,165.0,125.0,196.0,189.0,158.0,147.0,99.0,124.0,101.0,81.0,173.0,118.0,140.0,98.0,90.0,125.0,144.0,100.0,166.0,131.0,158.0,127.0,96.0,131.0,82.0,193.0,137.0,168.0,123.0,101.0,197.0,172.0,143.0,143.0,138.0,97.0,144.0,129.0,94.0,115.0,151.0,184.0,94.0,181.0,135.0,139.0,141.0,140.0,147.0,189.0,108.0,117.0,100.0,120.0,134.0,119.0,175.0,148.0,124.0,120.0,144.0,137.0,136.0,114.0,137.0,114.0,158.0,123.0,85.0,145.0,139.0,173.0,99.0,194.0,125.0,80.0,166.0,110.0,195.0,154.0,117.0,84.0,180.0,130.0,120.0,139.0,91.0,163.0,145.0,129.0,124.0,114.0,130.0,125.0,87.0,117.0,111.0,122.0,132.0,127.0,129.0,128.0,186.0,131.0,164.0,189.0,84.0,124.0,125.0,198.0,99.0,91.0,154.0,121.0,130.0,111.0,98.0,143.0,108.0,133.0,197.0,151.0,109.0,121.0,124.0,143.0,176.0,132.0,188.0,89.0,173.0,109.0,124.0,150.0,183.0,181.0,111.0,174.0,168.0,117.0,112.0,183.0,108.0,125.0,132.0,114.0,111.0,128.0,104.0,97.0,100.0,128.0,147.0,103.0,157.0,167.0,179.0,136.0,107.0,117.0,120.0,155.0,101.0,127.0,162.0,199.0,167.0,145.0,145.0,111.0,154.0,165.0,99.0,68.0,195.0,156.0,121.0,162.0,136.0,140.0,158.0,121.0,90.0,142.0,169.0,127.0,122.0,125.0,168.0,110.0,158.0,129.0,134.0,187.0,173.0,108.0,83.0,114.0,149.0,141.0,175.0,130.0,120.0,126.0,65.0,102.0,102.0,109.0,140.0,153.0,147.0,81.0,187.0,162.0,136.0,108.0,181.0,154.0,128.0,137.0,106.0,190.0,88.0,122.0,121.0],\"xaxis\":\"x\",\"yaxis\":\"y\",\"type\":\"histogram\"},{\"alignmentgroup\":\"True\",\"hovertemplate\":\"RESPONSE=N<br>protein_concentration=%{x}<extra></extra>\",\"legendgroup\":\"N\",\"marker\":{\"color\":\"#636efa\"},\"name\":\"N\",\"notched\":true,\"offsetgroup\":\"N\",\"showlegend\":false,\"x\":[148.0,183.0,137.0,78.0,115.0,197.0,168.0,139.0,189.0,166.0,118.0,126.0,99.0,196.0,125.0,147.0,97.0,145.0,117.0,158.0,88.0,92.0,138.0,180.0,133.0,171.0,159.0,180.0,146.0,105.0,103.0,176.0,150.0,73.0,187.0,105.0,84.0,133.0,141.0,114.0,99.0,95.0,146.0,100.0,139.0,129.0,null,112.0,113.0,74.0,137.0,110.0,106.0,136.0,107.0,134.0,144.0,163.0,151.0,125.0,81.0,144.0,171.0,155.0,160.0,146.0,124.0,78.0,162.0,132.0,113.0,117.0,105.0,173.0,122.0,170.0,125.0,100.0,129.0,105.0,108.0,154.0,102.0,106.0,147.0,136.0,114.0,153.0,188.0,109.0,88.0,163.0,151.0,131.0,104.0,148.0,120.0,134.0,179.0,143.0,87.0,null,141.0,194.0,181.0,128.0,139.0,111.0,123.0,159.0,135.0,158.0,105.0,109.0,148.0,138.0,111.0,196.0,96.0,184.0,147.0,179.0,140.0,112.0,151.0,125.0,112.0,177.0,158.0,142.0,100.0,162.0,197.0,142.0,134.0,74.0,171.0,181.0,179.0,164.0,91.0,139.0,146.0,184.0,122.0,165.0,124.0,111.0,129.0,90.0,113.0,193.0,155.0,191.0,141.0,123.0,96.0,138.0,128.0,102.0,146.0,101.0,108.0,122.0,108.0,146.0,133.0,161.0,136.0,155.0,96.0,78.0,107.0,161.0,151.0,146.0,126.0,112.0,167.0,144.0,150.0,161.0,137.0,128.0,124.0,106.0,155.0,113.0,109.0,99.0,182.0,194.0,124.0,152.0,112.0,157.0,122.0,179.0,118.0,180.0,165.0,152.0,178.0,130.0,null,139.0,116.0,99.0,137.0,165.0,125.0,196.0,189.0,158.0,147.0,99.0,124.0,101.0,81.0,173.0,118.0,140.0,98.0,90.0,125.0,144.0,100.0,166.0,131.0,158.0,127.0,96.0,131.0,82.0,193.0,137.0,168.0,123.0,101.0,197.0,172.0,143.0,143.0,138.0,97.0,144.0,129.0,94.0,115.0,151.0,184.0,94.0,181.0,135.0,139.0,141.0,140.0,147.0,189.0,108.0,117.0,100.0,120.0,134.0,119.0,175.0,148.0,124.0,120.0,144.0,137.0,136.0,114.0,137.0,114.0,158.0,123.0,85.0,145.0,139.0,173.0,99.0,194.0,125.0,80.0,166.0,110.0,195.0,154.0,117.0,84.0,180.0,130.0,120.0,139.0,91.0,163.0,145.0,129.0,124.0,114.0,130.0,125.0,87.0,117.0,111.0,122.0,132.0,127.0,129.0,128.0,186.0,131.0,164.0,189.0,84.0,124.0,125.0,198.0,99.0,91.0,154.0,121.0,130.0,111.0,98.0,143.0,108.0,133.0,197.0,151.0,109.0,121.0,124.0,143.0,176.0,132.0,188.0,89.0,173.0,109.0,124.0,150.0,183.0,181.0,111.0,174.0,168.0,117.0,112.0,183.0,108.0,125.0,132.0,114.0,111.0,128.0,104.0,97.0,100.0,128.0,147.0,103.0,157.0,167.0,179.0,136.0,107.0,117.0,120.0,155.0,101.0,127.0,162.0,199.0,167.0,145.0,145.0,111.0,154.0,165.0,99.0,68.0,195.0,156.0,121.0,162.0,136.0,140.0,158.0,121.0,90.0,142.0,169.0,127.0,122.0,125.0,168.0,110.0,158.0,129.0,134.0,187.0,173.0,108.0,83.0,114.0,149.0,141.0,175.0,130.0,120.0,126.0,65.0,102.0,102.0,109.0,140.0,153.0,147.0,81.0,187.0,162.0,136.0,108.0,181.0,154.0,128.0,137.0,106.0,190.0,88.0,122.0,121.0],\"xaxis\":\"x2\",\"yaxis\":\"y2\",\"type\":\"box\"},{\"alignmentgroup\":\"True\",\"bingroup\":\"x\",\"hovertemplate\":\"RESPONSE=Y<br>protein_concentration=%{x}<br>count=%{y}<extra></extra>\",\"legendgroup\":\"Y\",\"marker\":{\"color\":\"#EF553B\",\"pattern\":{\"shape\":\"\"}},\"name\":\"Y\",\"offsetgroup\":\"Y\",\"orientation\":\"v\",\"showlegend\":true,\"x\":[85.0,89.0,116.0,125.0,110.0,100.0,107.0,103.0,115.0,119.0,143.0,109.0,122.0,103.0,102.0,90.0,111.0,106.0,71.0,103.0,101.0,88.0,100.0,146.0,44.0,109.0,109.0,126.0,79.0,62.0,95.0,131.0,83.0,101.0,100.0,80.0,123.0,81.0,142.0,92.0,71.0,93.0,122.0,85.0,126.0,96.0,83.0,95.0,89.0,76.0,97.0,99.0,111.0,107.0,88.0,120.0,118.0,84.0,96.0,93.0,128.0,106.0,108.0,57.0,90.0,156.0,152.0,99.0,102.0,114.0,100.0,110.0,111.0,102.0,87.0,79.0,75.0,85.0,129.0,130.0,119.0,73.0,109.0,85.0,107.0,113.0,108.0,99.0,103.0,162.0,81.0,109.0,85.0,119.0,87.0,101.0,117.0,79.0,122.0,104.0,91.0,119.0,106.0,86.0,92.0,111.0,114.0,95.0,142.0,71.0,106.0,100.0,106.0,104.0,114.0,129.0,108.0,119.0,108.0,128.0,128.0,100.0,77.0,115.0,120.0,80.0,112.0,115.0,129.0,112.0,102.0,105.0,87.0,106.0,95.0,117.0,115.0,95.0,122.0,95.0,126.0,null,92.0,61.0,90.0,90.0,129.0,88.0,103.0,146.0,133.0,84.0,105.0,122.0,87.0,156.0,93.0,107.0,105.0,109.0,119.0,116.0,105.0,100.0,116.0,95.0,136.0,72.0,115.0,102.0,112.0,173.0,83.0,119.0,102.0,95.0,99.0,89.0,80.0,90.0,97.0,107.0,83.0,117.0,180.0,95.0,104.0,82.0,91.0,100.0,135.0,86.0,134.0,120.0,71.0,74.0,88.0,115.0,74.0,97.0,154.0,119.0,105.0,126.0,132.0,84.0,135.0,83.0,89.0,99.0,81.0,null,94.0,96.0,75.0,84.0,84.0,91.0,99.0,125.0,76.0,68.0,97.0,116.0,107.0,86.0,91.0,77.0,105.0,57.0,100.0,90.0,84.0,88.0,187.0,116.0,84.0,114.0,88.0,97.0,110.0,103.0,85.0,87.0,95.0,99.0,92.0,78.0,119.0,118.0,100.0,93.0,103.0,73.0,111.0,112.0,82.0,123.0,67.0,108.0,96.0,124.0,92.0,152.0,106.0,105.0,138.0,106.0,68.0,112.0,119.0,92.0,94.0,90.0,128.0,94.0,102.0,92.0,104.0,94.0,102.0,90.0,91.0,123.0,106.0,120.0,80.0,115.0,112.0,98.0,123.0,91.0,93.0,101.0,56.0,95.0,125.0,129.0,130.0,107.0,144.0,107.0,129.0,99.0,118.0,129.0,80.0,115.0,127.0,164.0,93.0,126.0,102.0,94.0,97.0,117.0,111.0,112.0,116.0,92.0,174.0,106.0,105.0,95.0,99.0,120.0,100.0,121.0,123.0,170.0,89.0,101.0,126.0,93.0],\"xaxis\":\"x\",\"yaxis\":\"y\",\"type\":\"histogram\"},{\"alignmentgroup\":\"True\",\"hovertemplate\":\"RESPONSE=Y<br>protein_concentration=%{x}<extra></extra>\",\"legendgroup\":\"Y\",\"marker\":{\"color\":\"#EF553B\"},\"name\":\"Y\",\"notched\":true,\"offsetgroup\":\"Y\",\"showlegend\":false,\"x\":[85.0,89.0,116.0,125.0,110.0,100.0,107.0,103.0,115.0,119.0,143.0,109.0,122.0,103.0,102.0,90.0,111.0,106.0,71.0,103.0,101.0,88.0,100.0,146.0,44.0,109.0,109.0,126.0,79.0,62.0,95.0,131.0,83.0,101.0,100.0,80.0,123.0,81.0,142.0,92.0,71.0,93.0,122.0,85.0,126.0,96.0,83.0,95.0,89.0,76.0,97.0,99.0,111.0,107.0,88.0,120.0,118.0,84.0,96.0,93.0,128.0,106.0,108.0,57.0,90.0,156.0,152.0,99.0,102.0,114.0,100.0,110.0,111.0,102.0,87.0,79.0,75.0,85.0,129.0,130.0,119.0,73.0,109.0,85.0,107.0,113.0,108.0,99.0,103.0,162.0,81.0,109.0,85.0,119.0,87.0,101.0,117.0,79.0,122.0,104.0,91.0,119.0,106.0,86.0,92.0,111.0,114.0,95.0,142.0,71.0,106.0,100.0,106.0,104.0,114.0,129.0,108.0,119.0,108.0,128.0,128.0,100.0,77.0,115.0,120.0,80.0,112.0,115.0,129.0,112.0,102.0,105.0,87.0,106.0,95.0,117.0,115.0,95.0,122.0,95.0,126.0,null,92.0,61.0,90.0,90.0,129.0,88.0,103.0,146.0,133.0,84.0,105.0,122.0,87.0,156.0,93.0,107.0,105.0,109.0,119.0,116.0,105.0,100.0,116.0,95.0,136.0,72.0,115.0,102.0,112.0,173.0,83.0,119.0,102.0,95.0,99.0,89.0,80.0,90.0,97.0,107.0,83.0,117.0,180.0,95.0,104.0,82.0,91.0,100.0,135.0,86.0,134.0,120.0,71.0,74.0,88.0,115.0,74.0,97.0,154.0,119.0,105.0,126.0,132.0,84.0,135.0,83.0,89.0,99.0,81.0,null,94.0,96.0,75.0,84.0,84.0,91.0,99.0,125.0,76.0,68.0,97.0,116.0,107.0,86.0,91.0,77.0,105.0,57.0,100.0,90.0,84.0,88.0,187.0,116.0,84.0,114.0,88.0,97.0,110.0,103.0,85.0,87.0,95.0,99.0,92.0,78.0,119.0,118.0,100.0,93.0,103.0,73.0,111.0,112.0,82.0,123.0,67.0,108.0,96.0,124.0,92.0,152.0,106.0,105.0,138.0,106.0,68.0,112.0,119.0,92.0,94.0,90.0,128.0,94.0,102.0,92.0,104.0,94.0,102.0,90.0,91.0,123.0,106.0,120.0,80.0,115.0,112.0,98.0,123.0,91.0,93.0,101.0,56.0,95.0,125.0,129.0,130.0,107.0,144.0,107.0,129.0,99.0,118.0,129.0,80.0,115.0,127.0,164.0,93.0,126.0,102.0,94.0,97.0,117.0,111.0,112.0,116.0,92.0,174.0,106.0,105.0,95.0,99.0,120.0,100.0,121.0,123.0,170.0,89.0,101.0,126.0,93.0],\"xaxis\":\"x2\",\"yaxis\":\"y2\",\"type\":\"box\"}],                        {\"template\":{\"data\":{\"histogram2dcontour\":[{\"type\":\"histogram2dcontour\",\"colorbar\":{\"outlinewidth\":0,\"ticks\":\"\"},\"colorscale\":[[0.0,\"#0d0887\"],[0.1111111111111111,\"#46039f\"],[0.2222222222222222,\"#7201a8\"],[0.3333333333333333,\"#9c179e\"],[0.4444444444444444,\"#bd3786\"],[0.5555555555555556,\"#d8576b\"],[0.6666666666666666,\"#ed7953\"],[0.7777777777777778,\"#fb9f3a\"],[0.8888888888888888,\"#fdca26\"],[1.0,\"#f0f921\"]]}],\"choropleth\":[{\"type\":\"choropleth\",\"colorbar\":{\"outlinewidth\":0,\"ticks\":\"\"}}],\"histogram2d\":[{\"type\":\"histogram2d\",\"colorbar\":{\"outlinewidth\":0,\"ticks\":\"\"},\"colorscale\":[[0.0,\"#0d0887\"],[0.1111111111111111,\"#46039f\"],[0.2222222222222222,\"#7201a8\"],[0.3333333333333333,\"#9c179e\"],[0.4444444444444444,\"#bd3786\"],[0.5555555555555556,\"#d8576b\"],[0.6666666666666666,\"#ed7953\"],[0.7777777777777778,\"#fb9f3a\"],[0.8888888888888888,\"#fdca26\"],[1.0,\"#f0f921\"]]}],\"heatmap\":[{\"type\":\"heatmap\",\"colorbar\":{\"outlinewidth\":0,\"ticks\":\"\"},\"colorscale\":[[0.0,\"#0d0887\"],[0.1111111111111111,\"#46039f\"],[0.2222222222222222,\"#7201a8\"],[0.3333333333333333,\"#9c179e\"],[0.4444444444444444,\"#bd3786\"],[0.5555555555555556,\"#d8576b\"],[0.6666666666666666,\"#ed7953\"],[0.7777777777777778,\"#fb9f3a\"],[0.8888888888888888,\"#fdca26\"],[1.0,\"#f0f921\"]]}],\"heatmapgl\":[{\"type\":\"heatmapgl\",\"colorbar\":{\"outlinewidth\":0,\"ticks\":\"\"},\"colorscale\":[[0.0,\"#0d0887\"],[0.1111111111111111,\"#46039f\"],[0.2222222222222222,\"#7201a8\"],[0.3333333333333333,\"#9c179e\"],[0.4444444444444444,\"#bd3786\"],[0.5555555555555556,\"#d8576b\"],[0.6666666666666666,\"#ed7953\"],[0.7777777777777778,\"#fb9f3a\"],[0.8888888888888888,\"#fdca26\"],[1.0,\"#f0f921\"]]}],\"contourcarpet\":[{\"type\":\"contourcarpet\",\"colorbar\":{\"outlinewidth\":0,\"ticks\":\"\"}}],\"contour\":[{\"type\":\"contour\",\"colorbar\":{\"outlinewidth\":0,\"ticks\":\"\"},\"colorscale\":[[0.0,\"#0d0887\"],[0.1111111111111111,\"#46039f\"],[0.2222222222222222,\"#7201a8\"],[0.3333333333333333,\"#9c179e\"],[0.4444444444444444,\"#bd3786\"],[0.5555555555555556,\"#d8576b\"],[0.6666666666666666,\"#ed7953\"],[0.7777777777777778,\"#fb9f3a\"],[0.8888888888888888,\"#fdca26\"],[1.0,\"#f0f921\"]]}],\"surface\":[{\"type\":\"surface\",\"colorbar\":{\"outlinewidth\":0,\"ticks\":\"\"},\"colorscale\":[[0.0,\"#0d0887\"],[0.1111111111111111,\"#46039f\"],[0.2222222222222222,\"#7201a8\"],[0.3333333333333333,\"#9c179e\"],[0.4444444444444444,\"#bd3786\"],[0.5555555555555556,\"#d8576b\"],[0.6666666666666666,\"#ed7953\"],[0.7777777777777778,\"#fb9f3a\"],[0.8888888888888888,\"#fdca26\"],[1.0,\"#f0f921\"]]}],\"mesh3d\":[{\"type\":\"mesh3d\",\"colorbar\":{\"outlinewidth\":0,\"ticks\":\"\"}}],\"scatter\":[{\"fillpattern\":{\"fillmode\":\"overlay\",\"size\":10,\"solidity\":0.2},\"type\":\"scatter\"}],\"parcoords\":[{\"type\":\"parcoords\",\"line\":{\"colorbar\":{\"outlinewidth\":0,\"ticks\":\"\"}}}],\"scatterpolargl\":[{\"type\":\"scatterpolargl\",\"marker\":{\"colorbar\":{\"outlinewidth\":0,\"ticks\":\"\"}}}],\"bar\":[{\"error_x\":{\"color\":\"#2a3f5f\"},\"error_y\":{\"color\":\"#2a3f5f\"},\"marker\":{\"line\":{\"color\":\"#E5ECF6\",\"width\":0.5},\"pattern\":{\"fillmode\":\"overlay\",\"size\":10,\"solidity\":0.2}},\"type\":\"bar\"}],\"scattergeo\":[{\"type\":\"scattergeo\",\"marker\":{\"colorbar\":{\"outlinewidth\":0,\"ticks\":\"\"}}}],\"scatterpolar\":[{\"type\":\"scatterpolar\",\"marker\":{\"colorbar\":{\"outlinewidth\":0,\"ticks\":\"\"}}}],\"histogram\":[{\"marker\":{\"pattern\":{\"fillmode\":\"overlay\",\"size\":10,\"solidity\":0.2}},\"type\":\"histogram\"}],\"scattergl\":[{\"type\":\"scattergl\",\"marker\":{\"colorbar\":{\"outlinewidth\":0,\"ticks\":\"\"}}}],\"scatter3d\":[{\"type\":\"scatter3d\",\"line\":{\"colorbar\":{\"outlinewidth\":0,\"ticks\":\"\"}},\"marker\":{\"colorbar\":{\"outlinewidth\":0,\"ticks\":\"\"}}}],\"scattermapbox\":[{\"type\":\"scattermapbox\",\"marker\":{\"colorbar\":{\"outlinewidth\":0,\"ticks\":\"\"}}}],\"scatterternary\":[{\"type\":\"scatterternary\",\"marker\":{\"colorbar\":{\"outlinewidth\":0,\"ticks\":\"\"}}}],\"scattercarpet\":[{\"type\":\"scattercarpet\",\"marker\":{\"colorbar\":{\"outlinewidth\":0,\"ticks\":\"\"}}}],\"carpet\":[{\"aaxis\":{\"endlinecolor\":\"#2a3f5f\",\"gridcolor\":\"white\",\"linecolor\":\"white\",\"minorgridcolor\":\"white\",\"startlinecolor\":\"#2a3f5f\"},\"baxis\":{\"endlinecolor\":\"#2a3f5f\",\"gridcolor\":\"white\",\"linecolor\":\"white\",\"minorgridcolor\":\"white\",\"startlinecolor\":\"#2a3f5f\"},\"type\":\"carpet\"}],\"table\":[{\"cells\":{\"fill\":{\"color\":\"#EBF0F8\"},\"line\":{\"color\":\"white\"}},\"header\":{\"fill\":{\"color\":\"#C8D4E3\"},\"line\":{\"color\":\"white\"}},\"type\":\"table\"}],\"barpolar\":[{\"marker\":{\"line\":{\"color\":\"#E5ECF6\",\"width\":0.5},\"pattern\":{\"fillmode\":\"overlay\",\"size\":10,\"solidity\":0.2}},\"type\":\"barpolar\"}],\"pie\":[{\"automargin\":true,\"type\":\"pie\"}]},\"layout\":{\"autotypenumbers\":\"strict\",\"colorway\":[\"#636efa\",\"#EF553B\",\"#00cc96\",\"#ab63fa\",\"#FFA15A\",\"#19d3f3\",\"#FF6692\",\"#B6E880\",\"#FF97FF\",\"#FECB52\"],\"font\":{\"color\":\"#2a3f5f\"},\"hovermode\":\"closest\",\"hoverlabel\":{\"align\":\"left\"},\"paper_bgcolor\":\"white\",\"plot_bgcolor\":\"#E5ECF6\",\"polar\":{\"bgcolor\":\"#E5ECF6\",\"angularaxis\":{\"gridcolor\":\"white\",\"linecolor\":\"white\",\"ticks\":\"\"},\"radialaxis\":{\"gridcolor\":\"white\",\"linecolor\":\"white\",\"ticks\":\"\"}},\"ternary\":{\"bgcolor\":\"#E5ECF6\",\"aaxis\":{\"gridcolor\":\"white\",\"linecolor\":\"white\",\"ticks\":\"\"},\"baxis\":{\"gridcolor\":\"white\",\"linecolor\":\"white\",\"ticks\":\"\"},\"caxis\":{\"gridcolor\":\"white\",\"linecolor\":\"white\",\"ticks\":\"\"}},\"coloraxis\":{\"colorbar\":{\"outlinewidth\":0,\"ticks\":\"\"}},\"colorscale\":{\"sequential\":[[0.0,\"#0d0887\"],[0.1111111111111111,\"#46039f\"],[0.2222222222222222,\"#7201a8\"],[0.3333333333333333,\"#9c179e\"],[0.4444444444444444,\"#bd3786\"],[0.5555555555555556,\"#d8576b\"],[0.6666666666666666,\"#ed7953\"],[0.7777777777777778,\"#fb9f3a\"],[0.8888888888888888,\"#fdca26\"],[1.0,\"#f0f921\"]],\"sequentialminus\":[[0.0,\"#0d0887\"],[0.1111111111111111,\"#46039f\"],[0.2222222222222222,\"#7201a8\"],[0.3333333333333333,\"#9c179e\"],[0.4444444444444444,\"#bd3786\"],[0.5555555555555556,\"#d8576b\"],[0.6666666666666666,\"#ed7953\"],[0.7777777777777778,\"#fb9f3a\"],[0.8888888888888888,\"#fdca26\"],[1.0,\"#f0f921\"]],\"diverging\":[[0,\"#8e0152\"],[0.1,\"#c51b7d\"],[0.2,\"#de77ae\"],[0.3,\"#f1b6da\"],[0.4,\"#fde0ef\"],[0.5,\"#f7f7f7\"],[0.6,\"#e6f5d0\"],[0.7,\"#b8e186\"],[0.8,\"#7fbc41\"],[0.9,\"#4d9221\"],[1,\"#276419\"]]},\"xaxis\":{\"gridcolor\":\"white\",\"linecolor\":\"white\",\"ticks\":\"\",\"title\":{\"standoff\":15},\"zerolinecolor\":\"white\",\"automargin\":true,\"zerolinewidth\":2},\"yaxis\":{\"gridcolor\":\"white\",\"linecolor\":\"white\",\"ticks\":\"\",\"title\":{\"standoff\":15},\"zerolinecolor\":\"white\",\"automargin\":true,\"zerolinewidth\":2},\"scene\":{\"xaxis\":{\"backgroundcolor\":\"#E5ECF6\",\"gridcolor\":\"white\",\"linecolor\":\"white\",\"showbackground\":true,\"ticks\":\"\",\"zerolinecolor\":\"white\",\"gridwidth\":2},\"yaxis\":{\"backgroundcolor\":\"#E5ECF6\",\"gridcolor\":\"white\",\"linecolor\":\"white\",\"showbackground\":true,\"ticks\":\"\",\"zerolinecolor\":\"white\",\"gridwidth\":2},\"zaxis\":{\"backgroundcolor\":\"#E5ECF6\",\"gridcolor\":\"white\",\"linecolor\":\"white\",\"showbackground\":true,\"ticks\":\"\",\"zerolinecolor\":\"white\",\"gridwidth\":2}},\"shapedefaults\":{\"line\":{\"color\":\"#2a3f5f\"}},\"annotationdefaults\":{\"arrowcolor\":\"#2a3f5f\",\"arrowhead\":0,\"arrowwidth\":1},\"geo\":{\"bgcolor\":\"white\",\"landcolor\":\"#E5ECF6\",\"subunitcolor\":\"white\",\"showland\":true,\"showlakes\":true,\"lakecolor\":\"white\"},\"title\":{\"x\":0.05},\"mapbox\":{\"style\":\"light\"}}},\"xaxis\":{\"anchor\":\"y\",\"domain\":[0.0,1.0],\"title\":{\"text\":\"protein_concentration\"}},\"yaxis\":{\"anchor\":\"x\",\"domain\":[0.0,0.7326],\"title\":{\"text\":\"count\"}},\"xaxis2\":{\"anchor\":\"y2\",\"domain\":[0.0,1.0],\"matches\":\"x\",\"showticklabels\":false,\"showgrid\":true},\"yaxis2\":{\"anchor\":\"x2\",\"domain\":[0.7426,1.0],\"matches\":\"y2\",\"showticklabels\":false,\"showline\":false,\"ticks\":\"\",\"showgrid\":false},\"legend\":{\"title\":{\"text\":\"RESPONSE\"},\"tracegroupgap\":0},\"margin\":{\"t\":60},\"barmode\":\"relative\"},                        {\"responsive\": true}                    ).then(function(){\n",
       "                            \n",
       "var gd = document.getElementById('a1c707a9-9b5c-4d61-ac57-8c0ca9463ac1');\n",
       "var x = new MutationObserver(function (mutations, observer) {{\n",
       "        var display = window.getComputedStyle(gd).display;\n",
       "        if (!display || display === 'none') {{\n",
       "            console.log([gd, 'removed!']);\n",
       "            Plotly.purge(gd);\n",
       "            observer.disconnect();\n",
       "        }}\n",
       "}});\n",
       "\n",
       "// Listen for the removal of the full notebook cells\n",
       "var notebookContainer = gd.closest('#notebook-container');\n",
       "if (notebookContainer) {{\n",
       "    x.observe(notebookContainer, {childList: true});\n",
       "}}\n",
       "\n",
       "// Listen for the clearing of the current output cell\n",
       "var outputEl = gd.closest('.output');\n",
       "if (outputEl) {{\n",
       "    x.observe(outputEl, {childList: true});\n",
       "}}\n",
       "\n",
       "                        })                };                });            </script>        </div>"
      ]
     },
     "metadata": {},
     "output_type": "display_data"
    }
   ],
   "source": [
    "px.histogram(df_merged, x=\"protein_concentration\", color=\"RESPONSE\", marginal=\"box\")"
   ]
  },
  {
   "cell_type": "code",
   "execution_count": 458,
   "id": "d6f334ed",
   "metadata": {},
   "outputs": [],
   "source": [
    "###** RESPONSE = YES or Tumors are shrinking **###\n",
    "# protein concentration range: 105 to 109\n",
    "# Average of protein concentration = 102.5\n",
    "# Number of patient = 37\n",
    "\n",
    "###** RESPONSE = NO or Tumors are getting bigger **###\n",
    "# protein concentration range: 100 to 104\n",
    "# Average of protein concentration = 133\n",
    "# Number of patient = 32"
   ]
  },
  {
   "cell_type": "markdown",
   "id": "bc55607f",
   "metadata": {},
   "source": [
    "# Box plot"
   ]
  },
  {
   "cell_type": "markdown",
   "id": "da305d43",
   "metadata": {},
   "source": [
    "### 1. Age Vs Response"
   ]
  },
  {
   "cell_type": "code",
   "execution_count": 459,
   "id": "568e56ad",
   "metadata": {},
   "outputs": [
    {
     "data": {
      "application/vnd.plotly.v1+json": {
       "config": {
        "plotlyServerURL": "https://plot.ly"
       },
       "data": [
        {
         "alignmentgroup": "True",
         "boxpoints": "all",
         "hovertemplate": "RESPONSE=%{x}<br>age=%{y}<extra></extra>",
         "legendgroup": "",
         "marker": {
          "color": "#636efa"
         },
         "name": "",
         "notched": false,
         "offsetgroup": "",
         "orientation": "v",
         "showlegend": false,
         "type": "box",
         "x": [
          "N",
          "Y",
          "N",
          "Y",
          "N",
          "Y",
          "N",
          "N",
          "N",
          "Y",
          "Y",
          "N",
          "N",
          "N",
          "N",
          "Y",
          "N",
          "Y",
          "Y",
          "Y",
          "N",
          "N",
          "N",
          "Y",
          "Y",
          "N",
          "N",
          "N",
          "N",
          "N",
          "Y",
          "N",
          "N",
          "N",
          "Y",
          "Y",
          "N",
          "Y",
          "Y",
          "Y",
          "N",
          "N",
          "Y",
          "N",
          "N",
          "N",
          "N",
          "Y",
          "Y",
          "N",
          "N",
          "Y",
          "Y",
          "N",
          "N",
          "N",
          "N",
          "Y",
          "Y",
          "N",
          "N",
          "N",
          "Y",
          "N",
          "N",
          "N",
          "Y",
          "Y",
          "N",
          "N",
          "N",
          "N",
          "Y",
          "N",
          "Y",
          "N",
          "Y",
          "Y",
          "Y",
          "N",
          "N",
          "N",
          "Y",
          "Y",
          "N",
          "N",
          "N",
          "Y",
          "N",
          "N",
          "Y",
          "Y",
          "Y",
          "N",
          "Y",
          "N",
          "Y",
          "Y",
          "Y",
          "Y",
          "N",
          "N",
          "N",
          "N",
          "Y",
          "Y",
          "Y",
          "N",
          "Y",
          "Y",
          "N",
          "N",
          "Y",
          "Y",
          "N",
          "N",
          "N",
          "N",
          "Y",
          "Y",
          "N",
          "Y",
          "Y",
          "N",
          "N",
          "Y",
          "Y",
          "Y",
          "N",
          "N",
          "N",
          "N",
          "N",
          "Y",
          "Y",
          "N",
          "N",
          "Y",
          "N",
          "N",
          "Y",
          "Y",
          "N",
          "Y",
          "N",
          "N",
          "Y",
          "N",
          "N",
          "Y",
          "N",
          "N",
          "Y",
          "N",
          "N",
          "Y",
          "Y",
          "N",
          "N",
          "N",
          "N",
          "Y",
          "Y",
          "Y",
          "N",
          "N",
          "N",
          "N",
          "Y",
          "Y",
          "Y",
          "N",
          "Y",
          "Y",
          "Y",
          "N",
          "Y",
          "Y",
          "N",
          "Y",
          "N",
          "Y",
          "N",
          "Y",
          "N",
          "N",
          "N",
          "N",
          "Y",
          "N",
          "N",
          "N",
          "N",
          "N",
          "Y",
          "N",
          "N",
          "Y",
          "N",
          "N",
          "Y",
          "N",
          "Y",
          "Y",
          "Y",
          "N",
          "N",
          "Y",
          "N",
          "N",
          "Y",
          "N",
          "N",
          "N",
          "N",
          "N",
          "Y",
          "N",
          "Y",
          "N",
          "N",
          "N",
          "Y",
          "N",
          "N",
          "Y",
          "Y",
          "N",
          "N",
          "Y",
          "N",
          "N",
          "Y",
          "Y",
          "N",
          "N",
          "N",
          "N",
          "N",
          "Y",
          "Y",
          "N",
          "N",
          "Y",
          "N",
          "N",
          "N",
          "N",
          "N",
          "N",
          "Y",
          "N",
          "N",
          "Y",
          "Y",
          "N",
          "Y",
          "Y",
          "N",
          "N",
          "N",
          "N",
          "Y",
          "Y",
          "N",
          "N",
          "N",
          "N",
          "N",
          "N",
          "N",
          "N",
          "N",
          "Y",
          "Y",
          "Y",
          "Y",
          "Y",
          "Y",
          "N",
          "N",
          "Y",
          "N",
          "N",
          "Y",
          "N",
          "N",
          "Y",
          "N",
          "Y",
          "N",
          "N",
          "Y",
          "Y",
          "N",
          "N",
          "N",
          "N",
          "Y",
          "N",
          "N",
          "N",
          "Y",
          "Y",
          "N",
          "Y",
          "N",
          "N",
          "N",
          "N",
          "Y",
          "N",
          "N",
          "N",
          "N",
          "Y",
          "N",
          "N",
          "Y",
          "N",
          "Y",
          "Y",
          "N",
          "N",
          "N",
          "N",
          "N",
          "N",
          "Y",
          "Y",
          "N",
          "Y",
          "N",
          "Y",
          "Y",
          "N",
          "Y",
          "Y",
          "N",
          "N",
          "N",
          "Y",
          "N",
          "Y",
          "Y",
          "Y",
          "N",
          "N",
          "N",
          "Y",
          "Y",
          "N",
          "Y",
          "Y",
          "Y",
          "N",
          "N",
          "Y",
          "Y",
          "N",
          "N",
          "N",
          "Y",
          "Y",
          "N",
          "N",
          "N",
          "N",
          "N",
          "Y",
          "N",
          "N",
          "Y",
          "Y",
          "Y",
          "N",
          "N",
          "Y",
          "Y",
          "Y",
          "Y",
          "Y",
          "Y",
          "N",
          "N",
          "Y",
          "Y",
          "Y",
          "N",
          "N",
          "Y",
          "N",
          "N",
          "Y",
          "N",
          "N",
          "N",
          "N",
          "N",
          "N",
          "Y",
          "N",
          "Y",
          "Y",
          "N",
          "N",
          "Y",
          "N",
          "N",
          "N",
          "Y",
          "Y",
          "N",
          "N",
          "N",
          "Y",
          "N",
          "N",
          "Y",
          "N",
          "Y",
          "N",
          "Y",
          "N",
          "N",
          "N",
          "N",
          "N",
          "N",
          "Y",
          "Y",
          "Y",
          "Y",
          "N",
          "Y",
          "N",
          "N",
          "N",
          "Y",
          "Y",
          "N",
          "Y",
          "Y",
          "N",
          "N",
          "Y",
          "N",
          "Y",
          "Y",
          "N",
          "Y",
          "N",
          "Y",
          "N",
          "Y",
          "N",
          "Y",
          "Y",
          "N",
          "Y",
          "Y",
          "Y",
          "Y",
          "Y",
          "Y",
          "N",
          "Y",
          "Y",
          "N",
          "Y",
          "N",
          "N",
          "Y",
          "N",
          "N",
          "N",
          "Y",
          "N",
          "Y",
          "Y",
          "N",
          "N",
          "N",
          "Y",
          "N",
          "Y",
          "N",
          "N",
          "N",
          "N",
          "Y",
          "Y",
          "Y",
          "N",
          "N",
          "N",
          "N",
          "Y",
          "N",
          "N",
          "N",
          "N",
          "Y",
          "Y",
          "Y",
          "Y",
          "N",
          "N",
          "Y",
          "N",
          "Y",
          "N",
          "Y",
          "N",
          "Y",
          "N",
          "N",
          "Y",
          "Y",
          "N",
          "Y",
          "N",
          "N",
          "N",
          "N",
          "N",
          "Y",
          "Y",
          "N",
          "N",
          "N",
          "Y",
          "Y",
          "Y",
          "Y",
          "N",
          "Y",
          "Y",
          "N",
          "N",
          "Y",
          "N",
          "Y",
          "Y",
          "Y",
          "N",
          "Y",
          "N",
          "N",
          "N",
          "Y",
          "Y",
          "Y",
          "Y",
          "N",
          "N",
          "Y",
          "Y",
          "Y",
          "Y",
          "N",
          "N",
          "Y",
          "N",
          "N",
          "Y",
          "Y",
          "Y",
          "N",
          "N",
          "Y",
          "N",
          "N",
          "N",
          "N",
          "Y",
          "N",
          "Y",
          "N",
          "N",
          "N",
          "N",
          "N",
          "Y",
          "N",
          "Y",
          "N",
          "Y",
          "N",
          "Y",
          "Y",
          "Y",
          "N",
          "Y",
          "Y",
          "N",
          "Y",
          "N",
          "N",
          "N",
          "Y",
          "Y",
          "N",
          "N",
          "N",
          "Y",
          "N",
          "Y",
          "Y",
          "N",
          "Y",
          "N",
          "N",
          "Y",
          "Y",
          "Y",
          "N",
          "Y",
          "Y",
          "Y",
          "N",
          "Y",
          "N",
          "Y",
          "N",
          "Y",
          "N",
          "N",
          "Y",
          "Y",
          "N",
          "Y",
          "N",
          "N",
          "Y",
          "Y",
          "N",
          "Y",
          "N",
          "N",
          "Y",
          "N",
          "N",
          "Y",
          "N",
          "N",
          "N",
          "N",
          "N",
          "N",
          "Y",
          "N",
          "Y",
          "N",
          "Y",
          "N",
          "N",
          "Y",
          "N",
          "Y",
          "N",
          "N",
          "N",
          "N",
          "Y",
          "Y",
          "N",
          "N",
          "Y",
          "N",
          "N",
          "N",
          "N",
          "Y",
          "Y",
          "N",
          "N",
          "Y",
          "N",
          "Y",
          "Y",
          "N",
          "Y",
          "Y",
          "N",
          "Y",
          "Y",
          "Y",
          "N",
          "Y",
          "Y",
          "N",
          "N",
          "Y",
          "N",
          "N",
          "N",
          "Y",
          "N",
          "Y",
          "N",
          "N",
          "N",
          "Y",
          "N",
          "Y",
          "Y",
          "Y",
          "Y",
          "Y",
          "N",
          "Y",
          "N",
          "N",
          "Y",
          "N",
          "N",
          "Y",
          "N",
          "Y",
          "N",
          "N",
          "N",
          "Y",
          "Y",
          "Y",
          "Y",
          "N",
          "N",
          "Y",
          "N",
          "N",
          "Y",
          "Y",
          "Y",
          "Y",
          "N",
          "N",
          "Y",
          "N",
          "Y",
          "N",
          "N",
          "N",
          "N",
          "Y",
          "N",
          "N",
          "N",
          "N",
          "N",
          "Y",
          "N",
          "N",
          "N",
          "N",
          "N",
          "Y",
          "N",
          "N",
          "N",
          "Y",
          "Y",
          "Y",
          "N",
          "N",
          "Y",
          "Y"
         ],
         "x0": " ",
         "xaxis": "x",
         "y": [
          46,
          47,
          48,
          59,
          59,
          63,
          77,
          57,
          72,
          73,
          67,
          53,
          58,
          55,
          65,
          54,
          57,
          65,
          51,
          73,
          61,
          55,
          55,
          56,
          56,
          59,
          59,
          57,
          55,
          64,
          56,
          66,
          55,
          66,
          69,
          69,
          70,
          49,
          63,
          62,
          66,
          68,
          64,
          71,
          63,
          61,
          58,
          60,
          63,
          65,
          59,
          51,
          65,
          58,
          70,
          64,
          57,
          73,
          58,
          59,
          61,
          63,
          52,
          69,
          59,
          63,
          65,
          56,
          61,
          59,
          65,
          57,
          71,
          60,
          71,
          78,
          63,
          56,
          62,
          64,
          68,
          65,
          58,
          62,
          60,
          58,
          61,
          59,
          62,
          79,
          48,
          79,
          56,
          66,
          68,
          55,
          69,
          68,
          77,
          66,
          57,
          56,
          65,
          56,
          60,
          64,
          68,
          72,
          77,
          58,
          61,
          52,
          47,
          64,
          70,
          62,
          68,
          73,
          67,
          57,
          54,
          77,
          60,
          62,
          69,
          64,
          67,
          72,
          72,
          54,
          57,
          59,
          67,
          60,
          58,
          65,
          69,
          55,
          49,
          77,
          57,
          57,
          63,
          61,
          56,
          56,
          67,
          56,
          69,
          46,
          63,
          58,
          71,
          66,
          65,
          58,
          72,
          71,
          59,
          58,
          69,
          65,
          63,
          66,
          61,
          55,
          60,
          66,
          61,
          58,
          60,
          60,
          62,
          61,
          64,
          60,
          62,
          79,
          67,
          59,
          61,
          65,
          56,
          69,
          66,
          64,
          73,
          63,
          55,
          67,
          55,
          68,
          43,
          57,
          65,
          57,
          67,
          55,
          58,
          64,
          73,
          71,
          57,
          70,
          63,
          67,
          56,
          44,
          69,
          67,
          67,
          72,
          64,
          58,
          59,
          69,
          62,
          67,
          64,
          57,
          64,
          60,
          53,
          68,
          63,
          62,
          61,
          58,
          58,
          67,
          56,
          63,
          68,
          52,
          52,
          59,
          67,
          70,
          58,
          66,
          61,
          66,
          49,
          66,
          71,
          69,
          62,
          67,
          73,
          60,
          73,
          56,
          62,
          61,
          61,
          62,
          60,
          73,
          65,
          57,
          55,
          54,
          54,
          59,
          73,
          56,
          65,
          60,
          65,
          70,
          76,
          56,
          68,
          67,
          39,
          61,
          64,
          60,
          64,
          58,
          57,
          74,
          44,
          56,
          68,
          59,
          43,
          59,
          79,
          58,
          58,
          68,
          58,
          50,
          68,
          65,
          45,
          59,
          60,
          61,
          69,
          63,
          70,
          62,
          56,
          60,
          67,
          51,
          62,
          53,
          67,
          75,
          49,
          69,
          59,
          66,
          52,
          65,
          63,
          58,
          68,
          61,
          59,
          60,
          63,
          65,
          66,
          64,
          56,
          58,
          70,
          71,
          70,
          75,
          43,
          62,
          69,
          67,
          69,
          60,
          68,
          52,
          70,
          52,
          66,
          59,
          67,
          55,
          47,
          51,
          72,
          67,
          57,
          69,
          70,
          67,
          53,
          62,
          63,
          72,
          63,
          55,
          57,
          68,
          58,
          53,
          60,
          62,
          61,
          64,
          70,
          67,
          55,
          59,
          61,
          67,
          60,
          61,
          59,
          57,
          39,
          75,
          67,
          63,
          66,
          76,
          71,
          62,
          56,
          74,
          73,
          60,
          71,
          68,
          72,
          68,
          73,
          64,
          64,
          66,
          54,
          56,
          67,
          60,
          64,
          56,
          64,
          52,
          59,
          66,
          59,
          59,
          37,
          68,
          62,
          59,
          63,
          70,
          63,
          49,
          55,
          69,
          47,
          54,
          59,
          67,
          66,
          68,
          50,
          69,
          53,
          65,
          74,
          59,
          75,
          62,
          59,
          74,
          73,
          59,
          65,
          66,
          63,
          58,
          54,
          63,
          57,
          63,
          69,
          52,
          48,
          54,
          68,
          69,
          71,
          49,
          58,
          69,
          60,
          49,
          58,
          67,
          56,
          64,
          67,
          55,
          60,
          63,
          67,
          61,
          52,
          69,
          69,
          65,
          60,
          61,
          60,
          77,
          61,
          64,
          48,
          61,
          72,
          73,
          64,
          60,
          76,
          57,
          62,
          78,
          62,
          60,
          66,
          51,
          60,
          65,
          64,
          60,
          53,
          56,
          55,
          66,
          66,
          56,
          48,
          56,
          63,
          51,
          51,
          60,
          59,
          54,
          66,
          50,
          66,
          47,
          62,
          66,
          64,
          55,
          59,
          59,
          62,
          62,
          68,
          71,
          67,
          70,
          74,
          70,
          61,
          66,
          57,
          73,
          55,
          67,
          53,
          55,
          70,
          58,
          65,
          58,
          56,
          64,
          63,
          63,
          55,
          47,
          57,
          68,
          69,
          61,
          61,
          56,
          54,
          68,
          69,
          63,
          68,
          54,
          64,
          69,
          56,
          66,
          58,
          62,
          69,
          56,
          63,
          58,
          45,
          68,
          62,
          60,
          70,
          37,
          59,
          63,
          47,
          54,
          68,
          66,
          68,
          49,
          58,
          51,
          60,
          59,
          71,
          76,
          60,
          55,
          48,
          59,
          75,
          58,
          62,
          60,
          58,
          57,
          55,
          50,
          66,
          65,
          58,
          61,
          53,
          63,
          61,
          64,
          62,
          63,
          64,
          65,
          57,
          65,
          68,
          49,
          50,
          51,
          59,
          66,
          57,
          65,
          62,
          61,
          55,
          55,
          59,
          63,
          67,
          56,
          66,
          55,
          64,
          54,
          57,
          52,
          68,
          73,
          61,
          66,
          65,
          64,
          57,
          77,
          54,
          70,
          71,
          50,
          45,
          61,
          71,
          62,
          57,
          76,
          74,
          49,
          59,
          61,
          48,
          63,
          52,
          72,
          50,
          61,
          59,
          67,
          69,
          52,
          63,
          57,
          62,
          65,
          54,
          63,
          53,
          66,
          56,
          68,
          72,
          56,
          65,
          57,
          74,
          71,
          69,
          65,
          62,
          50,
          63,
          58,
          68,
          66,
          63,
          69,
          58,
          58,
          60,
          57,
          60,
          74,
          55,
          68,
          49,
          65,
          72,
          64,
          71,
          53,
          61,
          62,
          65,
          58,
          62,
          67,
          64,
          68,
          64,
          60,
          65,
          64,
          65,
          65,
          69,
          69,
          54,
          58,
          65,
          61,
          57,
          67,
          67,
          61,
          65,
          59,
          57,
          71,
          75,
          68,
          61,
          55,
          65,
          50,
          56,
          56,
          64,
          57,
          61,
          59,
          47,
          69,
          62,
          67,
          61,
          65,
          57,
          68,
          48,
          66,
          50,
          64,
          70,
          61,
          65,
          60,
          53,
          68
         ],
         "y0": " ",
         "yaxis": "y"
        }
       ],
       "layout": {
        "boxmode": "group",
        "legend": {
         "tracegroupgap": 0
        },
        "margin": {
         "t": 60
        },
        "template": {
         "data": {
          "bar": [
           {
            "error_x": {
             "color": "#2a3f5f"
            },
            "error_y": {
             "color": "#2a3f5f"
            },
            "marker": {
             "line": {
              "color": "#E5ECF6",
              "width": 0.5
             },
             "pattern": {
              "fillmode": "overlay",
              "size": 10,
              "solidity": 0.2
             }
            },
            "type": "bar"
           }
          ],
          "barpolar": [
           {
            "marker": {
             "line": {
              "color": "#E5ECF6",
              "width": 0.5
             },
             "pattern": {
              "fillmode": "overlay",
              "size": 10,
              "solidity": 0.2
             }
            },
            "type": "barpolar"
           }
          ],
          "carpet": [
           {
            "aaxis": {
             "endlinecolor": "#2a3f5f",
             "gridcolor": "white",
             "linecolor": "white",
             "minorgridcolor": "white",
             "startlinecolor": "#2a3f5f"
            },
            "baxis": {
             "endlinecolor": "#2a3f5f",
             "gridcolor": "white",
             "linecolor": "white",
             "minorgridcolor": "white",
             "startlinecolor": "#2a3f5f"
            },
            "type": "carpet"
           }
          ],
          "choropleth": [
           {
            "colorbar": {
             "outlinewidth": 0,
             "ticks": ""
            },
            "type": "choropleth"
           }
          ],
          "contour": [
           {
            "colorbar": {
             "outlinewidth": 0,
             "ticks": ""
            },
            "colorscale": [
             [
              0,
              "#0d0887"
             ],
             [
              0.1111111111111111,
              "#46039f"
             ],
             [
              0.2222222222222222,
              "#7201a8"
             ],
             [
              0.3333333333333333,
              "#9c179e"
             ],
             [
              0.4444444444444444,
              "#bd3786"
             ],
             [
              0.5555555555555556,
              "#d8576b"
             ],
             [
              0.6666666666666666,
              "#ed7953"
             ],
             [
              0.7777777777777778,
              "#fb9f3a"
             ],
             [
              0.8888888888888888,
              "#fdca26"
             ],
             [
              1,
              "#f0f921"
             ]
            ],
            "type": "contour"
           }
          ],
          "contourcarpet": [
           {
            "colorbar": {
             "outlinewidth": 0,
             "ticks": ""
            },
            "type": "contourcarpet"
           }
          ],
          "heatmap": [
           {
            "colorbar": {
             "outlinewidth": 0,
             "ticks": ""
            },
            "colorscale": [
             [
              0,
              "#0d0887"
             ],
             [
              0.1111111111111111,
              "#46039f"
             ],
             [
              0.2222222222222222,
              "#7201a8"
             ],
             [
              0.3333333333333333,
              "#9c179e"
             ],
             [
              0.4444444444444444,
              "#bd3786"
             ],
             [
              0.5555555555555556,
              "#d8576b"
             ],
             [
              0.6666666666666666,
              "#ed7953"
             ],
             [
              0.7777777777777778,
              "#fb9f3a"
             ],
             [
              0.8888888888888888,
              "#fdca26"
             ],
             [
              1,
              "#f0f921"
             ]
            ],
            "type": "heatmap"
           }
          ],
          "heatmapgl": [
           {
            "colorbar": {
             "outlinewidth": 0,
             "ticks": ""
            },
            "colorscale": [
             [
              0,
              "#0d0887"
             ],
             [
              0.1111111111111111,
              "#46039f"
             ],
             [
              0.2222222222222222,
              "#7201a8"
             ],
             [
              0.3333333333333333,
              "#9c179e"
             ],
             [
              0.4444444444444444,
              "#bd3786"
             ],
             [
              0.5555555555555556,
              "#d8576b"
             ],
             [
              0.6666666666666666,
              "#ed7953"
             ],
             [
              0.7777777777777778,
              "#fb9f3a"
             ],
             [
              0.8888888888888888,
              "#fdca26"
             ],
             [
              1,
              "#f0f921"
             ]
            ],
            "type": "heatmapgl"
           }
          ],
          "histogram": [
           {
            "marker": {
             "pattern": {
              "fillmode": "overlay",
              "size": 10,
              "solidity": 0.2
             }
            },
            "type": "histogram"
           }
          ],
          "histogram2d": [
           {
            "colorbar": {
             "outlinewidth": 0,
             "ticks": ""
            },
            "colorscale": [
             [
              0,
              "#0d0887"
             ],
             [
              0.1111111111111111,
              "#46039f"
             ],
             [
              0.2222222222222222,
              "#7201a8"
             ],
             [
              0.3333333333333333,
              "#9c179e"
             ],
             [
              0.4444444444444444,
              "#bd3786"
             ],
             [
              0.5555555555555556,
              "#d8576b"
             ],
             [
              0.6666666666666666,
              "#ed7953"
             ],
             [
              0.7777777777777778,
              "#fb9f3a"
             ],
             [
              0.8888888888888888,
              "#fdca26"
             ],
             [
              1,
              "#f0f921"
             ]
            ],
            "type": "histogram2d"
           }
          ],
          "histogram2dcontour": [
           {
            "colorbar": {
             "outlinewidth": 0,
             "ticks": ""
            },
            "colorscale": [
             [
              0,
              "#0d0887"
             ],
             [
              0.1111111111111111,
              "#46039f"
             ],
             [
              0.2222222222222222,
              "#7201a8"
             ],
             [
              0.3333333333333333,
              "#9c179e"
             ],
             [
              0.4444444444444444,
              "#bd3786"
             ],
             [
              0.5555555555555556,
              "#d8576b"
             ],
             [
              0.6666666666666666,
              "#ed7953"
             ],
             [
              0.7777777777777778,
              "#fb9f3a"
             ],
             [
              0.8888888888888888,
              "#fdca26"
             ],
             [
              1,
              "#f0f921"
             ]
            ],
            "type": "histogram2dcontour"
           }
          ],
          "mesh3d": [
           {
            "colorbar": {
             "outlinewidth": 0,
             "ticks": ""
            },
            "type": "mesh3d"
           }
          ],
          "parcoords": [
           {
            "line": {
             "colorbar": {
              "outlinewidth": 0,
              "ticks": ""
             }
            },
            "type": "parcoords"
           }
          ],
          "pie": [
           {
            "automargin": true,
            "type": "pie"
           }
          ],
          "scatter": [
           {
            "fillpattern": {
             "fillmode": "overlay",
             "size": 10,
             "solidity": 0.2
            },
            "type": "scatter"
           }
          ],
          "scatter3d": [
           {
            "line": {
             "colorbar": {
              "outlinewidth": 0,
              "ticks": ""
             }
            },
            "marker": {
             "colorbar": {
              "outlinewidth": 0,
              "ticks": ""
             }
            },
            "type": "scatter3d"
           }
          ],
          "scattercarpet": [
           {
            "marker": {
             "colorbar": {
              "outlinewidth": 0,
              "ticks": ""
             }
            },
            "type": "scattercarpet"
           }
          ],
          "scattergeo": [
           {
            "marker": {
             "colorbar": {
              "outlinewidth": 0,
              "ticks": ""
             }
            },
            "type": "scattergeo"
           }
          ],
          "scattergl": [
           {
            "marker": {
             "colorbar": {
              "outlinewidth": 0,
              "ticks": ""
             }
            },
            "type": "scattergl"
           }
          ],
          "scattermapbox": [
           {
            "marker": {
             "colorbar": {
              "outlinewidth": 0,
              "ticks": ""
             }
            },
            "type": "scattermapbox"
           }
          ],
          "scatterpolar": [
           {
            "marker": {
             "colorbar": {
              "outlinewidth": 0,
              "ticks": ""
             }
            },
            "type": "scatterpolar"
           }
          ],
          "scatterpolargl": [
           {
            "marker": {
             "colorbar": {
              "outlinewidth": 0,
              "ticks": ""
             }
            },
            "type": "scatterpolargl"
           }
          ],
          "scatterternary": [
           {
            "marker": {
             "colorbar": {
              "outlinewidth": 0,
              "ticks": ""
             }
            },
            "type": "scatterternary"
           }
          ],
          "surface": [
           {
            "colorbar": {
             "outlinewidth": 0,
             "ticks": ""
            },
            "colorscale": [
             [
              0,
              "#0d0887"
             ],
             [
              0.1111111111111111,
              "#46039f"
             ],
             [
              0.2222222222222222,
              "#7201a8"
             ],
             [
              0.3333333333333333,
              "#9c179e"
             ],
             [
              0.4444444444444444,
              "#bd3786"
             ],
             [
              0.5555555555555556,
              "#d8576b"
             ],
             [
              0.6666666666666666,
              "#ed7953"
             ],
             [
              0.7777777777777778,
              "#fb9f3a"
             ],
             [
              0.8888888888888888,
              "#fdca26"
             ],
             [
              1,
              "#f0f921"
             ]
            ],
            "type": "surface"
           }
          ],
          "table": [
           {
            "cells": {
             "fill": {
              "color": "#EBF0F8"
             },
             "line": {
              "color": "white"
             }
            },
            "header": {
             "fill": {
              "color": "#C8D4E3"
             },
             "line": {
              "color": "white"
             }
            },
            "type": "table"
           }
          ]
         },
         "layout": {
          "annotationdefaults": {
           "arrowcolor": "#2a3f5f",
           "arrowhead": 0,
           "arrowwidth": 1
          },
          "autotypenumbers": "strict",
          "coloraxis": {
           "colorbar": {
            "outlinewidth": 0,
            "ticks": ""
           }
          },
          "colorscale": {
           "diverging": [
            [
             0,
             "#8e0152"
            ],
            [
             0.1,
             "#c51b7d"
            ],
            [
             0.2,
             "#de77ae"
            ],
            [
             0.3,
             "#f1b6da"
            ],
            [
             0.4,
             "#fde0ef"
            ],
            [
             0.5,
             "#f7f7f7"
            ],
            [
             0.6,
             "#e6f5d0"
            ],
            [
             0.7,
             "#b8e186"
            ],
            [
             0.8,
             "#7fbc41"
            ],
            [
             0.9,
             "#4d9221"
            ],
            [
             1,
             "#276419"
            ]
           ],
           "sequential": [
            [
             0,
             "#0d0887"
            ],
            [
             0.1111111111111111,
             "#46039f"
            ],
            [
             0.2222222222222222,
             "#7201a8"
            ],
            [
             0.3333333333333333,
             "#9c179e"
            ],
            [
             0.4444444444444444,
             "#bd3786"
            ],
            [
             0.5555555555555556,
             "#d8576b"
            ],
            [
             0.6666666666666666,
             "#ed7953"
            ],
            [
             0.7777777777777778,
             "#fb9f3a"
            ],
            [
             0.8888888888888888,
             "#fdca26"
            ],
            [
             1,
             "#f0f921"
            ]
           ],
           "sequentialminus": [
            [
             0,
             "#0d0887"
            ],
            [
             0.1111111111111111,
             "#46039f"
            ],
            [
             0.2222222222222222,
             "#7201a8"
            ],
            [
             0.3333333333333333,
             "#9c179e"
            ],
            [
             0.4444444444444444,
             "#bd3786"
            ],
            [
             0.5555555555555556,
             "#d8576b"
            ],
            [
             0.6666666666666666,
             "#ed7953"
            ],
            [
             0.7777777777777778,
             "#fb9f3a"
            ],
            [
             0.8888888888888888,
             "#fdca26"
            ],
            [
             1,
             "#f0f921"
            ]
           ]
          },
          "colorway": [
           "#636efa",
           "#EF553B",
           "#00cc96",
           "#ab63fa",
           "#FFA15A",
           "#19d3f3",
           "#FF6692",
           "#B6E880",
           "#FF97FF",
           "#FECB52"
          ],
          "font": {
           "color": "#2a3f5f"
          },
          "geo": {
           "bgcolor": "white",
           "lakecolor": "white",
           "landcolor": "#E5ECF6",
           "showlakes": true,
           "showland": true,
           "subunitcolor": "white"
          },
          "hoverlabel": {
           "align": "left"
          },
          "hovermode": "closest",
          "mapbox": {
           "style": "light"
          },
          "paper_bgcolor": "white",
          "plot_bgcolor": "#E5ECF6",
          "polar": {
           "angularaxis": {
            "gridcolor": "white",
            "linecolor": "white",
            "ticks": ""
           },
           "bgcolor": "#E5ECF6",
           "radialaxis": {
            "gridcolor": "white",
            "linecolor": "white",
            "ticks": ""
           }
          },
          "scene": {
           "xaxis": {
            "backgroundcolor": "#E5ECF6",
            "gridcolor": "white",
            "gridwidth": 2,
            "linecolor": "white",
            "showbackground": true,
            "ticks": "",
            "zerolinecolor": "white"
           },
           "yaxis": {
            "backgroundcolor": "#E5ECF6",
            "gridcolor": "white",
            "gridwidth": 2,
            "linecolor": "white",
            "showbackground": true,
            "ticks": "",
            "zerolinecolor": "white"
           },
           "zaxis": {
            "backgroundcolor": "#E5ECF6",
            "gridcolor": "white",
            "gridwidth": 2,
            "linecolor": "white",
            "showbackground": true,
            "ticks": "",
            "zerolinecolor": "white"
           }
          },
          "shapedefaults": {
           "line": {
            "color": "#2a3f5f"
           }
          },
          "ternary": {
           "aaxis": {
            "gridcolor": "white",
            "linecolor": "white",
            "ticks": ""
           },
           "baxis": {
            "gridcolor": "white",
            "linecolor": "white",
            "ticks": ""
           },
           "bgcolor": "#E5ECF6",
           "caxis": {
            "gridcolor": "white",
            "linecolor": "white",
            "ticks": ""
           }
          },
          "title": {
           "x": 0.05
          },
          "xaxis": {
           "automargin": true,
           "gridcolor": "white",
           "linecolor": "white",
           "ticks": "",
           "title": {
            "standoff": 15
           },
           "zerolinecolor": "white",
           "zerolinewidth": 2
          },
          "yaxis": {
           "automargin": true,
           "gridcolor": "white",
           "linecolor": "white",
           "ticks": "",
           "title": {
            "standoff": 15
           },
           "zerolinecolor": "white",
           "zerolinewidth": 2
          }
         }
        },
        "xaxis": {
         "anchor": "y",
         "domain": [
          0,
          1
         ],
         "title": {
          "text": "RESPONSE"
         }
        },
        "yaxis": {
         "anchor": "x",
         "domain": [
          0,
          1
         ],
         "title": {
          "text": "age"
         }
        }
       }
      },
      "text/html": [
       "<div>                            <div id=\"502c3eed-8917-45ec-8931-2f8a090915f1\" class=\"plotly-graph-div\" style=\"height:525px; width:100%;\"></div>            <script type=\"text/javascript\">                require([\"plotly\"], function(Plotly) {                    window.PLOTLYENV=window.PLOTLYENV || {};                                    if (document.getElementById(\"502c3eed-8917-45ec-8931-2f8a090915f1\")) {                    Plotly.newPlot(                        \"502c3eed-8917-45ec-8931-2f8a090915f1\",                        [{\"alignmentgroup\":\"True\",\"boxpoints\":\"all\",\"hovertemplate\":\"RESPONSE=%{x}<br>age=%{y}<extra></extra>\",\"legendgroup\":\"\",\"marker\":{\"color\":\"#636efa\"},\"name\":\"\",\"notched\":false,\"offsetgroup\":\"\",\"orientation\":\"v\",\"showlegend\":false,\"x\":[\"N\",\"Y\",\"N\",\"Y\",\"N\",\"Y\",\"N\",\"N\",\"N\",\"Y\",\"Y\",\"N\",\"N\",\"N\",\"N\",\"Y\",\"N\",\"Y\",\"Y\",\"Y\",\"N\",\"N\",\"N\",\"Y\",\"Y\",\"N\",\"N\",\"N\",\"N\",\"N\",\"Y\",\"N\",\"N\",\"N\",\"Y\",\"Y\",\"N\",\"Y\",\"Y\",\"Y\",\"N\",\"N\",\"Y\",\"N\",\"N\",\"N\",\"N\",\"Y\",\"Y\",\"N\",\"N\",\"Y\",\"Y\",\"N\",\"N\",\"N\",\"N\",\"Y\",\"Y\",\"N\",\"N\",\"N\",\"Y\",\"N\",\"N\",\"N\",\"Y\",\"Y\",\"N\",\"N\",\"N\",\"N\",\"Y\",\"N\",\"Y\",\"N\",\"Y\",\"Y\",\"Y\",\"N\",\"N\",\"N\",\"Y\",\"Y\",\"N\",\"N\",\"N\",\"Y\",\"N\",\"N\",\"Y\",\"Y\",\"Y\",\"N\",\"Y\",\"N\",\"Y\",\"Y\",\"Y\",\"Y\",\"N\",\"N\",\"N\",\"N\",\"Y\",\"Y\",\"Y\",\"N\",\"Y\",\"Y\",\"N\",\"N\",\"Y\",\"Y\",\"N\",\"N\",\"N\",\"N\",\"Y\",\"Y\",\"N\",\"Y\",\"Y\",\"N\",\"N\",\"Y\",\"Y\",\"Y\",\"N\",\"N\",\"N\",\"N\",\"N\",\"Y\",\"Y\",\"N\",\"N\",\"Y\",\"N\",\"N\",\"Y\",\"Y\",\"N\",\"Y\",\"N\",\"N\",\"Y\",\"N\",\"N\",\"Y\",\"N\",\"N\",\"Y\",\"N\",\"N\",\"Y\",\"Y\",\"N\",\"N\",\"N\",\"N\",\"Y\",\"Y\",\"Y\",\"N\",\"N\",\"N\",\"N\",\"Y\",\"Y\",\"Y\",\"N\",\"Y\",\"Y\",\"Y\",\"N\",\"Y\",\"Y\",\"N\",\"Y\",\"N\",\"Y\",\"N\",\"Y\",\"N\",\"N\",\"N\",\"N\",\"Y\",\"N\",\"N\",\"N\",\"N\",\"N\",\"Y\",\"N\",\"N\",\"Y\",\"N\",\"N\",\"Y\",\"N\",\"Y\",\"Y\",\"Y\",\"N\",\"N\",\"Y\",\"N\",\"N\",\"Y\",\"N\",\"N\",\"N\",\"N\",\"N\",\"Y\",\"N\",\"Y\",\"N\",\"N\",\"N\",\"Y\",\"N\",\"N\",\"Y\",\"Y\",\"N\",\"N\",\"Y\",\"N\",\"N\",\"Y\",\"Y\",\"N\",\"N\",\"N\",\"N\",\"N\",\"Y\",\"Y\",\"N\",\"N\",\"Y\",\"N\",\"N\",\"N\",\"N\",\"N\",\"N\",\"Y\",\"N\",\"N\",\"Y\",\"Y\",\"N\",\"Y\",\"Y\",\"N\",\"N\",\"N\",\"N\",\"Y\",\"Y\",\"N\",\"N\",\"N\",\"N\",\"N\",\"N\",\"N\",\"N\",\"N\",\"Y\",\"Y\",\"Y\",\"Y\",\"Y\",\"Y\",\"N\",\"N\",\"Y\",\"N\",\"N\",\"Y\",\"N\",\"N\",\"Y\",\"N\",\"Y\",\"N\",\"N\",\"Y\",\"Y\",\"N\",\"N\",\"N\",\"N\",\"Y\",\"N\",\"N\",\"N\",\"Y\",\"Y\",\"N\",\"Y\",\"N\",\"N\",\"N\",\"N\",\"Y\",\"N\",\"N\",\"N\",\"N\",\"Y\",\"N\",\"N\",\"Y\",\"N\",\"Y\",\"Y\",\"N\",\"N\",\"N\",\"N\",\"N\",\"N\",\"Y\",\"Y\",\"N\",\"Y\",\"N\",\"Y\",\"Y\",\"N\",\"Y\",\"Y\",\"N\",\"N\",\"N\",\"Y\",\"N\",\"Y\",\"Y\",\"Y\",\"N\",\"N\",\"N\",\"Y\",\"Y\",\"N\",\"Y\",\"Y\",\"Y\",\"N\",\"N\",\"Y\",\"Y\",\"N\",\"N\",\"N\",\"Y\",\"Y\",\"N\",\"N\",\"N\",\"N\",\"N\",\"Y\",\"N\",\"N\",\"Y\",\"Y\",\"Y\",\"N\",\"N\",\"Y\",\"Y\",\"Y\",\"Y\",\"Y\",\"Y\",\"N\",\"N\",\"Y\",\"Y\",\"Y\",\"N\",\"N\",\"Y\",\"N\",\"N\",\"Y\",\"N\",\"N\",\"N\",\"N\",\"N\",\"N\",\"Y\",\"N\",\"Y\",\"Y\",\"N\",\"N\",\"Y\",\"N\",\"N\",\"N\",\"Y\",\"Y\",\"N\",\"N\",\"N\",\"Y\",\"N\",\"N\",\"Y\",\"N\",\"Y\",\"N\",\"Y\",\"N\",\"N\",\"N\",\"N\",\"N\",\"N\",\"Y\",\"Y\",\"Y\",\"Y\",\"N\",\"Y\",\"N\",\"N\",\"N\",\"Y\",\"Y\",\"N\",\"Y\",\"Y\",\"N\",\"N\",\"Y\",\"N\",\"Y\",\"Y\",\"N\",\"Y\",\"N\",\"Y\",\"N\",\"Y\",\"N\",\"Y\",\"Y\",\"N\",\"Y\",\"Y\",\"Y\",\"Y\",\"Y\",\"Y\",\"N\",\"Y\",\"Y\",\"N\",\"Y\",\"N\",\"N\",\"Y\",\"N\",\"N\",\"N\",\"Y\",\"N\",\"Y\",\"Y\",\"N\",\"N\",\"N\",\"Y\",\"N\",\"Y\",\"N\",\"N\",\"N\",\"N\",\"Y\",\"Y\",\"Y\",\"N\",\"N\",\"N\",\"N\",\"Y\",\"N\",\"N\",\"N\",\"N\",\"Y\",\"Y\",\"Y\",\"Y\",\"N\",\"N\",\"Y\",\"N\",\"Y\",\"N\",\"Y\",\"N\",\"Y\",\"N\",\"N\",\"Y\",\"Y\",\"N\",\"Y\",\"N\",\"N\",\"N\",\"N\",\"N\",\"Y\",\"Y\",\"N\",\"N\",\"N\",\"Y\",\"Y\",\"Y\",\"Y\",\"N\",\"Y\",\"Y\",\"N\",\"N\",\"Y\",\"N\",\"Y\",\"Y\",\"Y\",\"N\",\"Y\",\"N\",\"N\",\"N\",\"Y\",\"Y\",\"Y\",\"Y\",\"N\",\"N\",\"Y\",\"Y\",\"Y\",\"Y\",\"N\",\"N\",\"Y\",\"N\",\"N\",\"Y\",\"Y\",\"Y\",\"N\",\"N\",\"Y\",\"N\",\"N\",\"N\",\"N\",\"Y\",\"N\",\"Y\",\"N\",\"N\",\"N\",\"N\",\"N\",\"Y\",\"N\",\"Y\",\"N\",\"Y\",\"N\",\"Y\",\"Y\",\"Y\",\"N\",\"Y\",\"Y\",\"N\",\"Y\",\"N\",\"N\",\"N\",\"Y\",\"Y\",\"N\",\"N\",\"N\",\"Y\",\"N\",\"Y\",\"Y\",\"N\",\"Y\",\"N\",\"N\",\"Y\",\"Y\",\"Y\",\"N\",\"Y\",\"Y\",\"Y\",\"N\",\"Y\",\"N\",\"Y\",\"N\",\"Y\",\"N\",\"N\",\"Y\",\"Y\",\"N\",\"Y\",\"N\",\"N\",\"Y\",\"Y\",\"N\",\"Y\",\"N\",\"N\",\"Y\",\"N\",\"N\",\"Y\",\"N\",\"N\",\"N\",\"N\",\"N\",\"N\",\"Y\",\"N\",\"Y\",\"N\",\"Y\",\"N\",\"N\",\"Y\",\"N\",\"Y\",\"N\",\"N\",\"N\",\"N\",\"Y\",\"Y\",\"N\",\"N\",\"Y\",\"N\",\"N\",\"N\",\"N\",\"Y\",\"Y\",\"N\",\"N\",\"Y\",\"N\",\"Y\",\"Y\",\"N\",\"Y\",\"Y\",\"N\",\"Y\",\"Y\",\"Y\",\"N\",\"Y\",\"Y\",\"N\",\"N\",\"Y\",\"N\",\"N\",\"N\",\"Y\",\"N\",\"Y\",\"N\",\"N\",\"N\",\"Y\",\"N\",\"Y\",\"Y\",\"Y\",\"Y\",\"Y\",\"N\",\"Y\",\"N\",\"N\",\"Y\",\"N\",\"N\",\"Y\",\"N\",\"Y\",\"N\",\"N\",\"N\",\"Y\",\"Y\",\"Y\",\"Y\",\"N\",\"N\",\"Y\",\"N\",\"N\",\"Y\",\"Y\",\"Y\",\"Y\",\"N\",\"N\",\"Y\",\"N\",\"Y\",\"N\",\"N\",\"N\",\"N\",\"Y\",\"N\",\"N\",\"N\",\"N\",\"N\",\"Y\",\"N\",\"N\",\"N\",\"N\",\"N\",\"Y\",\"N\",\"N\",\"N\",\"Y\",\"Y\",\"Y\",\"N\",\"N\",\"Y\",\"Y\"],\"x0\":\" \",\"xaxis\":\"x\",\"y\":[46.0,47.0,48.0,59.0,59.0,63.0,77.0,57.0,72.0,73.0,67.0,53.0,58.0,55.0,65.0,54.0,57.0,65.0,51.0,73.0,61.0,55.0,55.0,56.0,56.0,59.0,59.0,57.0,55.0,64.0,56.0,66.0,55.0,66.0,69.0,69.0,70.0,49.0,63.0,62.0,66.0,68.0,64.0,71.0,63.0,61.0,58.0,60.0,63.0,65.0,59.0,51.0,65.0,58.0,70.0,64.0,57.0,73.0,58.0,59.0,61.0,63.0,52.0,69.0,59.0,63.0,65.0,56.0,61.0,59.0,65.0,57.0,71.0,60.0,71.0,78.0,63.0,56.0,62.0,64.0,68.0,65.0,58.0,62.0,60.0,58.0,61.0,59.0,62.0,79.0,48.0,79.0,56.0,66.0,68.0,55.0,69.0,68.0,77.0,66.0,57.0,56.0,65.0,56.0,60.0,64.0,68.0,72.0,77.0,58.0,61.0,52.0,47.0,64.0,70.0,62.0,68.0,73.0,67.0,57.0,54.0,77.0,60.0,62.0,69.0,64.0,67.0,72.0,72.0,54.0,57.0,59.0,67.0,60.0,58.0,65.0,69.0,55.0,49.0,77.0,57.0,57.0,63.0,61.0,56.0,56.0,67.0,56.0,69.0,46.0,63.0,58.0,71.0,66.0,65.0,58.0,72.0,71.0,59.0,58.0,69.0,65.0,63.0,66.0,61.0,55.0,60.0,66.0,61.0,58.0,60.0,60.0,62.0,61.0,64.0,60.0,62.0,79.0,67.0,59.0,61.0,65.0,56.0,69.0,66.0,64.0,73.0,63.0,55.0,67.0,55.0,68.0,43.0,57.0,65.0,57.0,67.0,55.0,58.0,64.0,73.0,71.0,57.0,70.0,63.0,67.0,56.0,44.0,69.0,67.0,67.0,72.0,64.0,58.0,59.0,69.0,62.0,67.0,64.0,57.0,64.0,60.0,53.0,68.0,63.0,62.0,61.0,58.0,58.0,67.0,56.0,63.0,68.0,52.0,52.0,59.0,67.0,70.0,58.0,66.0,61.0,66.0,49.0,66.0,71.0,69.0,62.0,67.0,73.0,60.0,73.0,56.0,62.0,61.0,61.0,62.0,60.0,73.0,65.0,57.0,55.0,54.0,54.0,59.0,73.0,56.0,65.0,60.0,65.0,70.0,76.0,56.0,68.0,67.0,39.0,61.0,64.0,60.0,64.0,58.0,57.0,74.0,44.0,56.0,68.0,59.0,43.0,59.0,79.0,58.0,58.0,68.0,58.0,50.0,68.0,65.0,45.0,59.0,60.0,61.0,69.0,63.0,70.0,62.0,56.0,60.0,67.0,51.0,62.0,53.0,67.0,75.0,49.0,69.0,59.0,66.0,52.0,65.0,63.0,58.0,68.0,61.0,59.0,60.0,63.0,65.0,66.0,64.0,56.0,58.0,70.0,71.0,70.0,75.0,43.0,62.0,69.0,67.0,69.0,60.0,68.0,52.0,70.0,52.0,66.0,59.0,67.0,55.0,47.0,51.0,72.0,67.0,57.0,69.0,70.0,67.0,53.0,62.0,63.0,72.0,63.0,55.0,57.0,68.0,58.0,53.0,60.0,62.0,61.0,64.0,70.0,67.0,55.0,59.0,61.0,67.0,60.0,61.0,59.0,57.0,39.0,75.0,67.0,63.0,66.0,76.0,71.0,62.0,56.0,74.0,73.0,60.0,71.0,68.0,72.0,68.0,73.0,64.0,64.0,66.0,54.0,56.0,67.0,60.0,64.0,56.0,64.0,52.0,59.0,66.0,59.0,59.0,37.0,68.0,62.0,59.0,63.0,70.0,63.0,49.0,55.0,69.0,47.0,54.0,59.0,67.0,66.0,68.0,50.0,69.0,53.0,65.0,74.0,59.0,75.0,62.0,59.0,74.0,73.0,59.0,65.0,66.0,63.0,58.0,54.0,63.0,57.0,63.0,69.0,52.0,48.0,54.0,68.0,69.0,71.0,49.0,58.0,69.0,60.0,49.0,58.0,67.0,56.0,64.0,67.0,55.0,60.0,63.0,67.0,61.0,52.0,69.0,69.0,65.0,60.0,61.0,60.0,77.0,61.0,64.0,48.0,61.0,72.0,73.0,64.0,60.0,76.0,57.0,62.0,78.0,62.0,60.0,66.0,51.0,60.0,65.0,64.0,60.0,53.0,56.0,55.0,66.0,66.0,56.0,48.0,56.0,63.0,51.0,51.0,60.0,59.0,54.0,66.0,50.0,66.0,47.0,62.0,66.0,64.0,55.0,59.0,59.0,62.0,62.0,68.0,71.0,67.0,70.0,74.0,70.0,61.0,66.0,57.0,73.0,55.0,67.0,53.0,55.0,70.0,58.0,65.0,58.0,56.0,64.0,63.0,63.0,55.0,47.0,57.0,68.0,69.0,61.0,61.0,56.0,54.0,68.0,69.0,63.0,68.0,54.0,64.0,69.0,56.0,66.0,58.0,62.0,69.0,56.0,63.0,58.0,45.0,68.0,62.0,60.0,70.0,37.0,59.0,63.0,47.0,54.0,68.0,66.0,68.0,49.0,58.0,51.0,60.0,59.0,71.0,76.0,60.0,55.0,48.0,59.0,75.0,58.0,62.0,60.0,58.0,57.0,55.0,50.0,66.0,65.0,58.0,61.0,53.0,63.0,61.0,64.0,62.0,63.0,64.0,65.0,57.0,65.0,68.0,49.0,50.0,51.0,59.0,66.0,57.0,65.0,62.0,61.0,55.0,55.0,59.0,63.0,67.0,56.0,66.0,55.0,64.0,54.0,57.0,52.0,68.0,73.0,61.0,66.0,65.0,64.0,57.0,77.0,54.0,70.0,71.0,50.0,45.0,61.0,71.0,62.0,57.0,76.0,74.0,49.0,59.0,61.0,48.0,63.0,52.0,72.0,50.0,61.0,59.0,67.0,69.0,52.0,63.0,57.0,62.0,65.0,54.0,63.0,53.0,66.0,56.0,68.0,72.0,56.0,65.0,57.0,74.0,71.0,69.0,65.0,62.0,50.0,63.0,58.0,68.0,66.0,63.0,69.0,58.0,58.0,60.0,57.0,60.0,74.0,55.0,68.0,49.0,65.0,72.0,64.0,71.0,53.0,61.0,62.0,65.0,58.0,62.0,67.0,64.0,68.0,64.0,60.0,65.0,64.0,65.0,65.0,69.0,69.0,54.0,58.0,65.0,61.0,57.0,67.0,67.0,61.0,65.0,59.0,57.0,71.0,75.0,68.0,61.0,55.0,65.0,50.0,56.0,56.0,64.0,57.0,61.0,59.0,47.0,69.0,62.0,67.0,61.0,65.0,57.0,68.0,48.0,66.0,50.0,64.0,70.0,61.0,65.0,60.0,53.0,68.0],\"y0\":\" \",\"yaxis\":\"y\",\"type\":\"box\"}],                        {\"template\":{\"data\":{\"histogram2dcontour\":[{\"type\":\"histogram2dcontour\",\"colorbar\":{\"outlinewidth\":0,\"ticks\":\"\"},\"colorscale\":[[0.0,\"#0d0887\"],[0.1111111111111111,\"#46039f\"],[0.2222222222222222,\"#7201a8\"],[0.3333333333333333,\"#9c179e\"],[0.4444444444444444,\"#bd3786\"],[0.5555555555555556,\"#d8576b\"],[0.6666666666666666,\"#ed7953\"],[0.7777777777777778,\"#fb9f3a\"],[0.8888888888888888,\"#fdca26\"],[1.0,\"#f0f921\"]]}],\"choropleth\":[{\"type\":\"choropleth\",\"colorbar\":{\"outlinewidth\":0,\"ticks\":\"\"}}],\"histogram2d\":[{\"type\":\"histogram2d\",\"colorbar\":{\"outlinewidth\":0,\"ticks\":\"\"},\"colorscale\":[[0.0,\"#0d0887\"],[0.1111111111111111,\"#46039f\"],[0.2222222222222222,\"#7201a8\"],[0.3333333333333333,\"#9c179e\"],[0.4444444444444444,\"#bd3786\"],[0.5555555555555556,\"#d8576b\"],[0.6666666666666666,\"#ed7953\"],[0.7777777777777778,\"#fb9f3a\"],[0.8888888888888888,\"#fdca26\"],[1.0,\"#f0f921\"]]}],\"heatmap\":[{\"type\":\"heatmap\",\"colorbar\":{\"outlinewidth\":0,\"ticks\":\"\"},\"colorscale\":[[0.0,\"#0d0887\"],[0.1111111111111111,\"#46039f\"],[0.2222222222222222,\"#7201a8\"],[0.3333333333333333,\"#9c179e\"],[0.4444444444444444,\"#bd3786\"],[0.5555555555555556,\"#d8576b\"],[0.6666666666666666,\"#ed7953\"],[0.7777777777777778,\"#fb9f3a\"],[0.8888888888888888,\"#fdca26\"],[1.0,\"#f0f921\"]]}],\"heatmapgl\":[{\"type\":\"heatmapgl\",\"colorbar\":{\"outlinewidth\":0,\"ticks\":\"\"},\"colorscale\":[[0.0,\"#0d0887\"],[0.1111111111111111,\"#46039f\"],[0.2222222222222222,\"#7201a8\"],[0.3333333333333333,\"#9c179e\"],[0.4444444444444444,\"#bd3786\"],[0.5555555555555556,\"#d8576b\"],[0.6666666666666666,\"#ed7953\"],[0.7777777777777778,\"#fb9f3a\"],[0.8888888888888888,\"#fdca26\"],[1.0,\"#f0f921\"]]}],\"contourcarpet\":[{\"type\":\"contourcarpet\",\"colorbar\":{\"outlinewidth\":0,\"ticks\":\"\"}}],\"contour\":[{\"type\":\"contour\",\"colorbar\":{\"outlinewidth\":0,\"ticks\":\"\"},\"colorscale\":[[0.0,\"#0d0887\"],[0.1111111111111111,\"#46039f\"],[0.2222222222222222,\"#7201a8\"],[0.3333333333333333,\"#9c179e\"],[0.4444444444444444,\"#bd3786\"],[0.5555555555555556,\"#d8576b\"],[0.6666666666666666,\"#ed7953\"],[0.7777777777777778,\"#fb9f3a\"],[0.8888888888888888,\"#fdca26\"],[1.0,\"#f0f921\"]]}],\"surface\":[{\"type\":\"surface\",\"colorbar\":{\"outlinewidth\":0,\"ticks\":\"\"},\"colorscale\":[[0.0,\"#0d0887\"],[0.1111111111111111,\"#46039f\"],[0.2222222222222222,\"#7201a8\"],[0.3333333333333333,\"#9c179e\"],[0.4444444444444444,\"#bd3786\"],[0.5555555555555556,\"#d8576b\"],[0.6666666666666666,\"#ed7953\"],[0.7777777777777778,\"#fb9f3a\"],[0.8888888888888888,\"#fdca26\"],[1.0,\"#f0f921\"]]}],\"mesh3d\":[{\"type\":\"mesh3d\",\"colorbar\":{\"outlinewidth\":0,\"ticks\":\"\"}}],\"scatter\":[{\"fillpattern\":{\"fillmode\":\"overlay\",\"size\":10,\"solidity\":0.2},\"type\":\"scatter\"}],\"parcoords\":[{\"type\":\"parcoords\",\"line\":{\"colorbar\":{\"outlinewidth\":0,\"ticks\":\"\"}}}],\"scatterpolargl\":[{\"type\":\"scatterpolargl\",\"marker\":{\"colorbar\":{\"outlinewidth\":0,\"ticks\":\"\"}}}],\"bar\":[{\"error_x\":{\"color\":\"#2a3f5f\"},\"error_y\":{\"color\":\"#2a3f5f\"},\"marker\":{\"line\":{\"color\":\"#E5ECF6\",\"width\":0.5},\"pattern\":{\"fillmode\":\"overlay\",\"size\":10,\"solidity\":0.2}},\"type\":\"bar\"}],\"scattergeo\":[{\"type\":\"scattergeo\",\"marker\":{\"colorbar\":{\"outlinewidth\":0,\"ticks\":\"\"}}}],\"scatterpolar\":[{\"type\":\"scatterpolar\",\"marker\":{\"colorbar\":{\"outlinewidth\":0,\"ticks\":\"\"}}}],\"histogram\":[{\"marker\":{\"pattern\":{\"fillmode\":\"overlay\",\"size\":10,\"solidity\":0.2}},\"type\":\"histogram\"}],\"scattergl\":[{\"type\":\"scattergl\",\"marker\":{\"colorbar\":{\"outlinewidth\":0,\"ticks\":\"\"}}}],\"scatter3d\":[{\"type\":\"scatter3d\",\"line\":{\"colorbar\":{\"outlinewidth\":0,\"ticks\":\"\"}},\"marker\":{\"colorbar\":{\"outlinewidth\":0,\"ticks\":\"\"}}}],\"scattermapbox\":[{\"type\":\"scattermapbox\",\"marker\":{\"colorbar\":{\"outlinewidth\":0,\"ticks\":\"\"}}}],\"scatterternary\":[{\"type\":\"scatterternary\",\"marker\":{\"colorbar\":{\"outlinewidth\":0,\"ticks\":\"\"}}}],\"scattercarpet\":[{\"type\":\"scattercarpet\",\"marker\":{\"colorbar\":{\"outlinewidth\":0,\"ticks\":\"\"}}}],\"carpet\":[{\"aaxis\":{\"endlinecolor\":\"#2a3f5f\",\"gridcolor\":\"white\",\"linecolor\":\"white\",\"minorgridcolor\":\"white\",\"startlinecolor\":\"#2a3f5f\"},\"baxis\":{\"endlinecolor\":\"#2a3f5f\",\"gridcolor\":\"white\",\"linecolor\":\"white\",\"minorgridcolor\":\"white\",\"startlinecolor\":\"#2a3f5f\"},\"type\":\"carpet\"}],\"table\":[{\"cells\":{\"fill\":{\"color\":\"#EBF0F8\"},\"line\":{\"color\":\"white\"}},\"header\":{\"fill\":{\"color\":\"#C8D4E3\"},\"line\":{\"color\":\"white\"}},\"type\":\"table\"}],\"barpolar\":[{\"marker\":{\"line\":{\"color\":\"#E5ECF6\",\"width\":0.5},\"pattern\":{\"fillmode\":\"overlay\",\"size\":10,\"solidity\":0.2}},\"type\":\"barpolar\"}],\"pie\":[{\"automargin\":true,\"type\":\"pie\"}]},\"layout\":{\"autotypenumbers\":\"strict\",\"colorway\":[\"#636efa\",\"#EF553B\",\"#00cc96\",\"#ab63fa\",\"#FFA15A\",\"#19d3f3\",\"#FF6692\",\"#B6E880\",\"#FF97FF\",\"#FECB52\"],\"font\":{\"color\":\"#2a3f5f\"},\"hovermode\":\"closest\",\"hoverlabel\":{\"align\":\"left\"},\"paper_bgcolor\":\"white\",\"plot_bgcolor\":\"#E5ECF6\",\"polar\":{\"bgcolor\":\"#E5ECF6\",\"angularaxis\":{\"gridcolor\":\"white\",\"linecolor\":\"white\",\"ticks\":\"\"},\"radialaxis\":{\"gridcolor\":\"white\",\"linecolor\":\"white\",\"ticks\":\"\"}},\"ternary\":{\"bgcolor\":\"#E5ECF6\",\"aaxis\":{\"gridcolor\":\"white\",\"linecolor\":\"white\",\"ticks\":\"\"},\"baxis\":{\"gridcolor\":\"white\",\"linecolor\":\"white\",\"ticks\":\"\"},\"caxis\":{\"gridcolor\":\"white\",\"linecolor\":\"white\",\"ticks\":\"\"}},\"coloraxis\":{\"colorbar\":{\"outlinewidth\":0,\"ticks\":\"\"}},\"colorscale\":{\"sequential\":[[0.0,\"#0d0887\"],[0.1111111111111111,\"#46039f\"],[0.2222222222222222,\"#7201a8\"],[0.3333333333333333,\"#9c179e\"],[0.4444444444444444,\"#bd3786\"],[0.5555555555555556,\"#d8576b\"],[0.6666666666666666,\"#ed7953\"],[0.7777777777777778,\"#fb9f3a\"],[0.8888888888888888,\"#fdca26\"],[1.0,\"#f0f921\"]],\"sequentialminus\":[[0.0,\"#0d0887\"],[0.1111111111111111,\"#46039f\"],[0.2222222222222222,\"#7201a8\"],[0.3333333333333333,\"#9c179e\"],[0.4444444444444444,\"#bd3786\"],[0.5555555555555556,\"#d8576b\"],[0.6666666666666666,\"#ed7953\"],[0.7777777777777778,\"#fb9f3a\"],[0.8888888888888888,\"#fdca26\"],[1.0,\"#f0f921\"]],\"diverging\":[[0,\"#8e0152\"],[0.1,\"#c51b7d\"],[0.2,\"#de77ae\"],[0.3,\"#f1b6da\"],[0.4,\"#fde0ef\"],[0.5,\"#f7f7f7\"],[0.6,\"#e6f5d0\"],[0.7,\"#b8e186\"],[0.8,\"#7fbc41\"],[0.9,\"#4d9221\"],[1,\"#276419\"]]},\"xaxis\":{\"gridcolor\":\"white\",\"linecolor\":\"white\",\"ticks\":\"\",\"title\":{\"standoff\":15},\"zerolinecolor\":\"white\",\"automargin\":true,\"zerolinewidth\":2},\"yaxis\":{\"gridcolor\":\"white\",\"linecolor\":\"white\",\"ticks\":\"\",\"title\":{\"standoff\":15},\"zerolinecolor\":\"white\",\"automargin\":true,\"zerolinewidth\":2},\"scene\":{\"xaxis\":{\"backgroundcolor\":\"#E5ECF6\",\"gridcolor\":\"white\",\"linecolor\":\"white\",\"showbackground\":true,\"ticks\":\"\",\"zerolinecolor\":\"white\",\"gridwidth\":2},\"yaxis\":{\"backgroundcolor\":\"#E5ECF6\",\"gridcolor\":\"white\",\"linecolor\":\"white\",\"showbackground\":true,\"ticks\":\"\",\"zerolinecolor\":\"white\",\"gridwidth\":2},\"zaxis\":{\"backgroundcolor\":\"#E5ECF6\",\"gridcolor\":\"white\",\"linecolor\":\"white\",\"showbackground\":true,\"ticks\":\"\",\"zerolinecolor\":\"white\",\"gridwidth\":2}},\"shapedefaults\":{\"line\":{\"color\":\"#2a3f5f\"}},\"annotationdefaults\":{\"arrowcolor\":\"#2a3f5f\",\"arrowhead\":0,\"arrowwidth\":1},\"geo\":{\"bgcolor\":\"white\",\"landcolor\":\"#E5ECF6\",\"subunitcolor\":\"white\",\"showland\":true,\"showlakes\":true,\"lakecolor\":\"white\"},\"title\":{\"x\":0.05},\"mapbox\":{\"style\":\"light\"}}},\"xaxis\":{\"anchor\":\"y\",\"domain\":[0.0,1.0],\"title\":{\"text\":\"RESPONSE\"}},\"yaxis\":{\"anchor\":\"x\",\"domain\":[0.0,1.0],\"title\":{\"text\":\"age\"}},\"legend\":{\"tracegroupgap\":0},\"margin\":{\"t\":60},\"boxmode\":\"group\"},                        {\"responsive\": true}                    ).then(function(){\n",
       "                            \n",
       "var gd = document.getElementById('502c3eed-8917-45ec-8931-2f8a090915f1');\n",
       "var x = new MutationObserver(function (mutations, observer) {{\n",
       "        var display = window.getComputedStyle(gd).display;\n",
       "        if (!display || display === 'none') {{\n",
       "            console.log([gd, 'removed!']);\n",
       "            Plotly.purge(gd);\n",
       "            observer.disconnect();\n",
       "        }}\n",
       "}});\n",
       "\n",
       "// Listen for the removal of the full notebook cells\n",
       "var notebookContainer = gd.closest('#notebook-container');\n",
       "if (notebookContainer) {{\n",
       "    x.observe(notebookContainer, {childList: true});\n",
       "}}\n",
       "\n",
       "// Listen for the clearing of the current output cell\n",
       "var outputEl = gd.closest('.output');\n",
       "if (outputEl) {{\n",
       "    x.observe(outputEl, {childList: true});\n",
       "}}\n",
       "\n",
       "                        })                };                });            </script>        </div>"
      ]
     },
     "metadata": {},
     "output_type": "display_data"
    }
   ],
   "source": [
    "px.box(df_merged, y=\"age\", x=\"RESPONSE\", points=\"all\")"
   ]
  },
  {
   "cell_type": "code",
   "execution_count": 460,
   "id": "b73b60fe",
   "metadata": {},
   "outputs": [],
   "source": [
    "# It can be clearly seen that box plot for both Responses are almost same.\n",
    "\n",
    "## For Resonse N ##\n",
    "# 50% data lies in the boxwhich means from 57 year to 67 year age people getting their tumors bigger however\n",
    "# median of age is 62 which can also means average people (62 years old) responding NO.\n",
    "\n",
    "## For Response Y ##\n",
    "# from 57 year to 67 year age people shrinking their tumors however\n",
    "# median of age is 62 which can also means average people (62 years old) responding YES."
   ]
  },
  {
   "cell_type": "code",
   "execution_count": 461,
   "id": "23565c88",
   "metadata": {},
   "outputs": [
    {
     "data": {
      "application/vnd.plotly.v1+json": {
       "config": {
        "plotlyServerURL": "https://plot.ly"
       },
       "data": [
        {
         "alignmentgroup": "True",
         "boxpoints": "all",
         "hovertemplate": "trt_grp=DRUG<br>RESPONSE=%{x}<br>age=%{y}<extra></extra>",
         "legendgroup": "DRUG",
         "marker": {
          "color": "#636efa"
         },
         "name": "DRUG",
         "notched": false,
         "offsetgroup": "DRUG",
         "orientation": "v",
         "showlegend": true,
         "type": "box",
         "x": [
          "N",
          "Y",
          "Y",
          "N",
          "N",
          "Y",
          "N",
          "N",
          "N",
          "N",
          "Y",
          "Y",
          "Y",
          "N",
          "N",
          "Y",
          "N",
          "N",
          "N",
          "Y",
          "N",
          "Y",
          "Y",
          "Y",
          "Y",
          "Y",
          "N",
          "Y",
          "N",
          "N",
          "N",
          "Y",
          "N",
          "N",
          "Y",
          "N",
          "Y",
          "Y",
          "N",
          "N",
          "Y",
          "Y",
          "N",
          "Y",
          "Y",
          "Y",
          "Y",
          "N",
          "Y",
          "Y",
          "Y",
          "Y",
          "N",
          "Y",
          "N",
          "N",
          "Y",
          "Y",
          "Y",
          "Y",
          "N",
          "Y",
          "Y",
          "Y",
          "N",
          "Y",
          "Y",
          "Y",
          "Y",
          "Y",
          "Y",
          "N",
          "N",
          "N",
          "N",
          "Y",
          "Y",
          "Y",
          "Y",
          "Y",
          "N",
          "N",
          "Y",
          "Y",
          "Y",
          "Y",
          "Y",
          "Y",
          "Y",
          "Y",
          "Y",
          "N",
          "N",
          "N",
          "Y",
          "N",
          "Y",
          "N",
          "Y",
          "Y",
          "Y",
          "Y",
          "N",
          "N",
          "Y",
          "N",
          "Y",
          "N",
          "N",
          "Y",
          "Y",
          "N",
          "N",
          "Y",
          "N",
          "Y",
          "Y",
          "N",
          "Y",
          "Y",
          "N",
          "Y",
          "N",
          "N",
          "N",
          "N",
          "Y",
          "Y",
          "Y",
          "Y",
          "N",
          "N",
          "Y",
          "N",
          "N",
          "N",
          "N",
          "N",
          "Y",
          "Y",
          "Y",
          "N",
          "N",
          "Y",
          "N",
          "N",
          "Y",
          "N",
          "Y",
          "Y",
          "Y",
          "N",
          "N",
          "N",
          "Y",
          "N",
          "N",
          "N",
          "Y",
          "N",
          "Y",
          "N",
          "N",
          "Y",
          "Y",
          "Y",
          "N",
          "Y",
          "N",
          "Y",
          "N",
          "N",
          "Y",
          "Y",
          "Y",
          "Y",
          "N",
          "N",
          "Y",
          "Y",
          "N",
          "Y",
          "Y",
          "Y",
          "N",
          "Y",
          "Y",
          "Y",
          "Y",
          "N",
          "Y",
          "Y",
          "Y",
          "N",
          "Y",
          "N",
          "Y",
          "N",
          "Y",
          "Y",
          "N",
          "Y",
          "N",
          "N",
          "Y",
          "N",
          "Y",
          "N",
          "N",
          "N",
          "Y",
          "Y",
          "Y",
          "Y",
          "N",
          "Y",
          "Y",
          "N",
          "Y",
          "Y",
          "N",
          "Y",
          "Y",
          "N",
          "Y",
          "Y",
          "N",
          "Y",
          "Y",
          "Y",
          "Y",
          "Y",
          "Y",
          "N",
          "Y",
          "N",
          "N",
          "Y",
          "N",
          "Y",
          "N",
          "N",
          "Y",
          "N",
          "N",
          "N",
          "Y",
          "N",
          "N",
          "Y",
          "Y",
          "N",
          "Y",
          "N",
          "Y",
          "N",
          "N",
          "N",
          "Y",
          "Y",
          "Y",
          "Y",
          "N",
          "Y",
          "N",
          "Y",
          "Y",
          "Y",
          "N",
          "N",
          "N",
          "Y",
          "Y",
          "N",
          "Y",
          "Y",
          "Y",
          "Y",
          "Y",
          "N",
          "Y",
          "N",
          "N",
          "N",
          "N",
          "Y",
          "Y",
          "N",
          "N",
          "Y",
          "Y",
          "N",
          "N",
          "Y",
          "N",
          "N",
          "Y",
          "N",
          "Y",
          "N",
          "Y",
          "Y",
          "Y",
          "Y",
          "Y",
          "Y",
          "N",
          "Y",
          "Y",
          "Y",
          "N",
          "Y",
          "N",
          "N",
          "Y",
          "Y",
          "Y",
          "N",
          "N",
          "N",
          "N",
          "N",
          "Y",
          "Y",
          "N",
          "N",
          "N",
          "N",
          "Y",
          "N",
          "Y",
          "N",
          "N",
          "N",
          "N",
          "Y",
          "Y",
          "N",
          "Y",
          "Y",
          "Y",
          "Y",
          "N",
          "Y",
          "Y",
          "N",
          "Y",
          "N",
          "N",
          "Y",
          "Y",
          "N",
          "N",
          "N",
          "Y",
          "Y",
          "Y",
          "Y",
          "Y",
          "N",
          "Y",
          "N",
          "Y",
          "Y",
          "N",
          "N",
          "Y",
          "Y",
          "Y",
          "Y",
          "N",
          "N",
          "N",
          "N",
          "Y",
          "N",
          "N",
          "N",
          "Y",
          "N",
          "N",
          "Y",
          "Y"
         ],
         "x0": " ",
         "xaxis": "x",
         "y": [
          46,
          47,
          59,
          57,
          72,
          73,
          53,
          58,
          55,
          65,
          54,
          51,
          73,
          55,
          55,
          56,
          59,
          59,
          55,
          56,
          66,
          69,
          69,
          49,
          63,
          62,
          66,
          64,
          71,
          63,
          58,
          63,
          65,
          59,
          51,
          57,
          73,
          58,
          63,
          61,
          71,
          71,
          78,
          56,
          62,
          62,
          59,
          66,
          69,
          68,
          77,
          66,
          57,
          60,
          72,
          52,
          47,
          67,
          77,
          60,
          62,
          64,
          67,
          72,
          54,
          60,
          58,
          57,
          61,
          67,
          46,
          63,
          58,
          66,
          65,
          58,
          72,
          65,
          63,
          66,
          61,
          60,
          61,
          58,
          60,
          62,
          61,
          64,
          62,
          79,
          65,
          56,
          66,
          73,
          55,
          68,
          55,
          64,
          73,
          57,
          70,
          63,
          67,
          67,
          64,
          60,
          53,
          68,
          63,
          62,
          61,
          58,
          58,
          67,
          63,
          68,
          52,
          67,
          66,
          61,
          49,
          66,
          71,
          69,
          62,
          67,
          73,
          61,
          60,
          73,
          57,
          54,
          54,
          73,
          65,
          60,
          70,
          56,
          67,
          64,
          64,
          58,
          57,
          74,
          44,
          56,
          68,
          79,
          58,
          58,
          50,
          69,
          63,
          56,
          60,
          67,
          51,
          49,
          66,
          52,
          61,
          60,
          65,
          56,
          71,
          75,
          62,
          69,
          68,
          52,
          70,
          47,
          51,
          72,
          69,
          63,
          72,
          63,
          57,
          68,
          60,
          55,
          59,
          61,
          67,
          57,
          39,
          75,
          67,
          66,
          76,
          71,
          73,
          60,
          68,
          66,
          54,
          56,
          67,
          64,
          52,
          59,
          37,
          70,
          63,
          49,
          47,
          59,
          68,
          50,
          53,
          65,
          74,
          75,
          74,
          73,
          66,
          54,
          63,
          69,
          52,
          48,
          71,
          49,
          58,
          69,
          60,
          58,
          67,
          56,
          67,
          60,
          61,
          69,
          69,
          60,
          77,
          61,
          64,
          60,
          76,
          78,
          62,
          65,
          56,
          66,
          56,
          63,
          51,
          51,
          59,
          54,
          66,
          47,
          66,
          55,
          62,
          68,
          67,
          57,
          73,
          55,
          67,
          53,
          58,
          65,
          64,
          63,
          63,
          47,
          57,
          61,
          56,
          68,
          69,
          62,
          69,
          56,
          45,
          68,
          37,
          47,
          54,
          68,
          66,
          49,
          51,
          60,
          71,
          76,
          59,
          58,
          57,
          50,
          65,
          53,
          63,
          64,
          62,
          63,
          57,
          65,
          49,
          50,
          51,
          66,
          57,
          65,
          59,
          63,
          67,
          56,
          66,
          55,
          64,
          54,
          52,
          66,
          65,
          77,
          54,
          71,
          45,
          57,
          59,
          63,
          52,
          72,
          61,
          59,
          69,
          63,
          57,
          63,
          53,
          68,
          72,
          56,
          57,
          71,
          69,
          65,
          62,
          50,
          63,
          58,
          66,
          69,
          58,
          58,
          57,
          60,
          74,
          55,
          68,
          65,
          72,
          64,
          62,
          65,
          68,
          65,
          65,
          54,
          58,
          65,
          61,
          67,
          65,
          61,
          65,
          50,
          64,
          61,
          69,
          65,
          57,
          50,
          70,
          65,
          60,
          53,
          68
         ],
         "y0": " ",
         "yaxis": "y"
        },
        {
         "alignmentgroup": "True",
         "boxpoints": "all",
         "hovertemplate": "trt_grp=CONTROL<br>RESPONSE=%{x}<br>age=%{y}<extra></extra>",
         "legendgroup": "CONTROL",
         "marker": {
          "color": "#EF553B"
         },
         "name": "CONTROL",
         "notched": false,
         "offsetgroup": "CONTROL",
         "orientation": "v",
         "showlegend": true,
         "type": "box",
         "x": [
          "N",
          "N",
          "Y",
          "N",
          "Y",
          "N",
          "Y",
          "N",
          "Y",
          "N",
          "N",
          "N",
          "N",
          "N",
          "N",
          "N",
          "Y",
          "Y",
          "N",
          "N",
          "N",
          "N",
          "N",
          "Y",
          "N",
          "N",
          "N",
          "Y",
          "Y",
          "N",
          "N",
          "N",
          "N",
          "Y",
          "N",
          "N",
          "N",
          "Y",
          "N",
          "N",
          "N",
          "N",
          "N",
          "Y",
          "Y",
          "Y",
          "Y",
          "N",
          "N",
          "N",
          "N",
          "Y",
          "Y",
          "Y",
          "Y",
          "N",
          "Y",
          "N",
          "N",
          "N",
          "N",
          "Y",
          "N",
          "N",
          "N",
          "N",
          "N",
          "N",
          "N",
          "N",
          "Y",
          "N",
          "N",
          "Y",
          "N",
          "N",
          "N",
          "N",
          "N",
          "Y",
          "N",
          "N",
          "N",
          "N",
          "N",
          "N",
          "N",
          "N",
          "N",
          "Y",
          "N",
          "Y",
          "N",
          "N",
          "N",
          "N",
          "N",
          "N",
          "Y",
          "N",
          "N",
          "N",
          "N",
          "N",
          "Y",
          "N",
          "Y",
          "N",
          "N",
          "N",
          "N",
          "N",
          "Y",
          "N",
          "N",
          "N",
          "N",
          "N",
          "N",
          "N",
          "N",
          "N",
          "N",
          "N",
          "N",
          "N",
          "Y",
          "N",
          "N",
          "N",
          "Y",
          "N",
          "N",
          "N",
          "N",
          "Y",
          "Y",
          "Y",
          "N",
          "N",
          "Y",
          "N",
          "N",
          "N",
          "N",
          "N",
          "N",
          "Y",
          "N",
          "Y",
          "Y",
          "N",
          "N",
          "Y",
          "N",
          "N",
          "N",
          "N",
          "Y",
          "N",
          "Y",
          "N",
          "N",
          "N",
          "N",
          "Y",
          "N",
          "N",
          "Y",
          "Y",
          "N",
          "N",
          "Y",
          "Y",
          "Y",
          "N",
          "N",
          "N",
          "Y",
          "Y",
          "N",
          "N",
          "Y",
          "N",
          "N",
          "N",
          "N",
          "N",
          "Y",
          "N",
          "N",
          "N",
          "Y",
          "Y",
          "N",
          "Y",
          "N",
          "N",
          "N",
          "N",
          "N",
          "N",
          "N",
          "N",
          "Y",
          "N",
          "N",
          "N",
          "N",
          "Y",
          "N",
          "N",
          "Y",
          "N",
          "Y",
          "N",
          "N",
          "N",
          "N",
          "Y",
          "N",
          "N",
          "N",
          "Y",
          "N",
          "Y",
          "N",
          "Y",
          "N",
          "N",
          "Y",
          "N",
          "Y",
          "Y",
          "N",
          "Y",
          "N",
          "N",
          "N",
          "N",
          "Y",
          "Y",
          "N",
          "N",
          "N",
          "Y",
          "N",
          "N",
          "Y",
          "Y",
          "N",
          "N",
          "N",
          "Y",
          "N",
          "N",
          "Y",
          "Y",
          "Y",
          "N",
          "Y",
          "N",
          "N",
          "Y",
          "Y",
          "N",
          "N",
          "N",
          "Y",
          "N",
          "N",
          "N",
          "Y",
          "Y",
          "N",
          "N",
          "Y",
          "Y",
          "N",
          "Y",
          "Y",
          "N",
          "Y",
          "Y",
          "Y",
          "N",
          "N",
          "Y",
          "N",
          "N",
          "N",
          "N",
          "N",
          "N",
          "N",
          "N",
          "Y",
          "N",
          "N",
          "Y",
          "Y",
          "Y",
          "N",
          "Y",
          "Y",
          "N",
          "N",
          "Y",
          "N",
          "N",
          "Y",
          "Y",
          "N",
          "Y",
          "N",
          "N",
          "N",
          "Y",
          "N",
          "N",
          "N",
          "N",
          "N",
          "Y",
          "Y",
          "N",
          "N",
          "N",
          "N",
          "Y",
          "N",
          "N",
          "N",
          "Y",
          "Y",
          "N",
          "Y",
          "N",
          "N",
          "N",
          "Y",
          "Y",
          "Y",
          "N",
          "Y",
          "N",
          "N",
          "N",
          "N",
          "N",
          "Y",
          "Y",
          "N",
          "N",
          "Y",
          "N",
          "N",
          "N",
          "Y",
          "N",
          "N",
          "Y",
          "Y",
          "N",
          "N",
          "Y",
          "Y",
          "N",
          "N",
          "Y",
          "N",
          "N",
          "N",
          "Y",
          "N",
          "N",
          "N",
          "N",
          "N",
          "N",
          "Y",
          "N",
          "N",
          "Y",
          "Y"
         ],
         "x0": " ",
         "xaxis": "x",
         "y": [
          48,
          59,
          63,
          77,
          67,
          57,
          65,
          61,
          56,
          57,
          64,
          55,
          66,
          70,
          68,
          61,
          60,
          65,
          58,
          70,
          64,
          59,
          61,
          52,
          69,
          59,
          63,
          65,
          56,
          59,
          65,
          57,
          60,
          63,
          64,
          68,
          65,
          58,
          60,
          58,
          61,
          62,
          79,
          48,
          79,
          56,
          68,
          55,
          56,
          65,
          56,
          64,
          68,
          77,
          58,
          61,
          64,
          70,
          62,
          68,
          73,
          57,
          54,
          69,
          72,
          57,
          59,
          67,
          65,
          69,
          55,
          49,
          77,
          57,
          63,
          56,
          56,
          56,
          69,
          71,
          71,
          59,
          58,
          69,
          55,
          66,
          60,
          60,
          67,
          59,
          61,
          69,
          64,
          63,
          67,
          55,
          43,
          57,
          65,
          57,
          67,
          58,
          71,
          56,
          44,
          69,
          67,
          72,
          64,
          58,
          59,
          69,
          62,
          67,
          57,
          64,
          56,
          52,
          59,
          70,
          58,
          66,
          73,
          60,
          56,
          62,
          61,
          62,
          65,
          55,
          59,
          56,
          65,
          76,
          68,
          39,
          61,
          60,
          59,
          43,
          59,
          58,
          68,
          68,
          65,
          45,
          59,
          60,
          61,
          70,
          62,
          62,
          53,
          67,
          75,
          69,
          59,
          65,
          63,
          58,
          68,
          59,
          63,
          66,
          64,
          58,
          70,
          70,
          43,
          67,
          69,
          60,
          52,
          66,
          59,
          67,
          55,
          67,
          57,
          70,
          67,
          53,
          62,
          55,
          58,
          53,
          62,
          61,
          64,
          70,
          67,
          60,
          61,
          59,
          63,
          62,
          56,
          74,
          71,
          72,
          68,
          73,
          64,
          64,
          60,
          64,
          56,
          59,
          66,
          59,
          68,
          62,
          59,
          63,
          55,
          69,
          54,
          67,
          66,
          69,
          59,
          62,
          59,
          59,
          65,
          63,
          58,
          63,
          57,
          54,
          68,
          69,
          49,
          64,
          55,
          63,
          67,
          52,
          65,
          61,
          60,
          64,
          48,
          61,
          72,
          73,
          57,
          62,
          60,
          66,
          51,
          60,
          64,
          60,
          53,
          55,
          66,
          56,
          48,
          60,
          66,
          50,
          62,
          64,
          59,
          59,
          62,
          71,
          70,
          74,
          70,
          61,
          66,
          55,
          70,
          58,
          56,
          55,
          68,
          69,
          61,
          54,
          63,
          68,
          54,
          64,
          69,
          56,
          66,
          58,
          63,
          58,
          62,
          60,
          70,
          59,
          63,
          68,
          58,
          59,
          60,
          55,
          48,
          75,
          62,
          60,
          58,
          55,
          66,
          58,
          61,
          61,
          64,
          65,
          68,
          59,
          62,
          61,
          55,
          55,
          57,
          68,
          73,
          61,
          64,
          57,
          70,
          50,
          61,
          71,
          62,
          76,
          74,
          49,
          61,
          48,
          50,
          67,
          52,
          62,
          65,
          54,
          66,
          56,
          65,
          74,
          68,
          63,
          60,
          49,
          71,
          53,
          61,
          58,
          62,
          67,
          64,
          64,
          60,
          64,
          65,
          69,
          69,
          57,
          67,
          61,
          59,
          57,
          71,
          75,
          68,
          55,
          56,
          56,
          57,
          59,
          47,
          62,
          67,
          61,
          68,
          48,
          66,
          64,
          61
         ],
         "y0": " ",
         "yaxis": "y"
        }
       ],
       "layout": {
        "boxmode": "group",
        "legend": {
         "title": {
          "text": "trt_grp"
         },
         "tracegroupgap": 0
        },
        "margin": {
         "t": 60
        },
        "template": {
         "data": {
          "bar": [
           {
            "error_x": {
             "color": "#2a3f5f"
            },
            "error_y": {
             "color": "#2a3f5f"
            },
            "marker": {
             "line": {
              "color": "#E5ECF6",
              "width": 0.5
             },
             "pattern": {
              "fillmode": "overlay",
              "size": 10,
              "solidity": 0.2
             }
            },
            "type": "bar"
           }
          ],
          "barpolar": [
           {
            "marker": {
             "line": {
              "color": "#E5ECF6",
              "width": 0.5
             },
             "pattern": {
              "fillmode": "overlay",
              "size": 10,
              "solidity": 0.2
             }
            },
            "type": "barpolar"
           }
          ],
          "carpet": [
           {
            "aaxis": {
             "endlinecolor": "#2a3f5f",
             "gridcolor": "white",
             "linecolor": "white",
             "minorgridcolor": "white",
             "startlinecolor": "#2a3f5f"
            },
            "baxis": {
             "endlinecolor": "#2a3f5f",
             "gridcolor": "white",
             "linecolor": "white",
             "minorgridcolor": "white",
             "startlinecolor": "#2a3f5f"
            },
            "type": "carpet"
           }
          ],
          "choropleth": [
           {
            "colorbar": {
             "outlinewidth": 0,
             "ticks": ""
            },
            "type": "choropleth"
           }
          ],
          "contour": [
           {
            "colorbar": {
             "outlinewidth": 0,
             "ticks": ""
            },
            "colorscale": [
             [
              0,
              "#0d0887"
             ],
             [
              0.1111111111111111,
              "#46039f"
             ],
             [
              0.2222222222222222,
              "#7201a8"
             ],
             [
              0.3333333333333333,
              "#9c179e"
             ],
             [
              0.4444444444444444,
              "#bd3786"
             ],
             [
              0.5555555555555556,
              "#d8576b"
             ],
             [
              0.6666666666666666,
              "#ed7953"
             ],
             [
              0.7777777777777778,
              "#fb9f3a"
             ],
             [
              0.8888888888888888,
              "#fdca26"
             ],
             [
              1,
              "#f0f921"
             ]
            ],
            "type": "contour"
           }
          ],
          "contourcarpet": [
           {
            "colorbar": {
             "outlinewidth": 0,
             "ticks": ""
            },
            "type": "contourcarpet"
           }
          ],
          "heatmap": [
           {
            "colorbar": {
             "outlinewidth": 0,
             "ticks": ""
            },
            "colorscale": [
             [
              0,
              "#0d0887"
             ],
             [
              0.1111111111111111,
              "#46039f"
             ],
             [
              0.2222222222222222,
              "#7201a8"
             ],
             [
              0.3333333333333333,
              "#9c179e"
             ],
             [
              0.4444444444444444,
              "#bd3786"
             ],
             [
              0.5555555555555556,
              "#d8576b"
             ],
             [
              0.6666666666666666,
              "#ed7953"
             ],
             [
              0.7777777777777778,
              "#fb9f3a"
             ],
             [
              0.8888888888888888,
              "#fdca26"
             ],
             [
              1,
              "#f0f921"
             ]
            ],
            "type": "heatmap"
           }
          ],
          "heatmapgl": [
           {
            "colorbar": {
             "outlinewidth": 0,
             "ticks": ""
            },
            "colorscale": [
             [
              0,
              "#0d0887"
             ],
             [
              0.1111111111111111,
              "#46039f"
             ],
             [
              0.2222222222222222,
              "#7201a8"
             ],
             [
              0.3333333333333333,
              "#9c179e"
             ],
             [
              0.4444444444444444,
              "#bd3786"
             ],
             [
              0.5555555555555556,
              "#d8576b"
             ],
             [
              0.6666666666666666,
              "#ed7953"
             ],
             [
              0.7777777777777778,
              "#fb9f3a"
             ],
             [
              0.8888888888888888,
              "#fdca26"
             ],
             [
              1,
              "#f0f921"
             ]
            ],
            "type": "heatmapgl"
           }
          ],
          "histogram": [
           {
            "marker": {
             "pattern": {
              "fillmode": "overlay",
              "size": 10,
              "solidity": 0.2
             }
            },
            "type": "histogram"
           }
          ],
          "histogram2d": [
           {
            "colorbar": {
             "outlinewidth": 0,
             "ticks": ""
            },
            "colorscale": [
             [
              0,
              "#0d0887"
             ],
             [
              0.1111111111111111,
              "#46039f"
             ],
             [
              0.2222222222222222,
              "#7201a8"
             ],
             [
              0.3333333333333333,
              "#9c179e"
             ],
             [
              0.4444444444444444,
              "#bd3786"
             ],
             [
              0.5555555555555556,
              "#d8576b"
             ],
             [
              0.6666666666666666,
              "#ed7953"
             ],
             [
              0.7777777777777778,
              "#fb9f3a"
             ],
             [
              0.8888888888888888,
              "#fdca26"
             ],
             [
              1,
              "#f0f921"
             ]
            ],
            "type": "histogram2d"
           }
          ],
          "histogram2dcontour": [
           {
            "colorbar": {
             "outlinewidth": 0,
             "ticks": ""
            },
            "colorscale": [
             [
              0,
              "#0d0887"
             ],
             [
              0.1111111111111111,
              "#46039f"
             ],
             [
              0.2222222222222222,
              "#7201a8"
             ],
             [
              0.3333333333333333,
              "#9c179e"
             ],
             [
              0.4444444444444444,
              "#bd3786"
             ],
             [
              0.5555555555555556,
              "#d8576b"
             ],
             [
              0.6666666666666666,
              "#ed7953"
             ],
             [
              0.7777777777777778,
              "#fb9f3a"
             ],
             [
              0.8888888888888888,
              "#fdca26"
             ],
             [
              1,
              "#f0f921"
             ]
            ],
            "type": "histogram2dcontour"
           }
          ],
          "mesh3d": [
           {
            "colorbar": {
             "outlinewidth": 0,
             "ticks": ""
            },
            "type": "mesh3d"
           }
          ],
          "parcoords": [
           {
            "line": {
             "colorbar": {
              "outlinewidth": 0,
              "ticks": ""
             }
            },
            "type": "parcoords"
           }
          ],
          "pie": [
           {
            "automargin": true,
            "type": "pie"
           }
          ],
          "scatter": [
           {
            "fillpattern": {
             "fillmode": "overlay",
             "size": 10,
             "solidity": 0.2
            },
            "type": "scatter"
           }
          ],
          "scatter3d": [
           {
            "line": {
             "colorbar": {
              "outlinewidth": 0,
              "ticks": ""
             }
            },
            "marker": {
             "colorbar": {
              "outlinewidth": 0,
              "ticks": ""
             }
            },
            "type": "scatter3d"
           }
          ],
          "scattercarpet": [
           {
            "marker": {
             "colorbar": {
              "outlinewidth": 0,
              "ticks": ""
             }
            },
            "type": "scattercarpet"
           }
          ],
          "scattergeo": [
           {
            "marker": {
             "colorbar": {
              "outlinewidth": 0,
              "ticks": ""
             }
            },
            "type": "scattergeo"
           }
          ],
          "scattergl": [
           {
            "marker": {
             "colorbar": {
              "outlinewidth": 0,
              "ticks": ""
             }
            },
            "type": "scattergl"
           }
          ],
          "scattermapbox": [
           {
            "marker": {
             "colorbar": {
              "outlinewidth": 0,
              "ticks": ""
             }
            },
            "type": "scattermapbox"
           }
          ],
          "scatterpolar": [
           {
            "marker": {
             "colorbar": {
              "outlinewidth": 0,
              "ticks": ""
             }
            },
            "type": "scatterpolar"
           }
          ],
          "scatterpolargl": [
           {
            "marker": {
             "colorbar": {
              "outlinewidth": 0,
              "ticks": ""
             }
            },
            "type": "scatterpolargl"
           }
          ],
          "scatterternary": [
           {
            "marker": {
             "colorbar": {
              "outlinewidth": 0,
              "ticks": ""
             }
            },
            "type": "scatterternary"
           }
          ],
          "surface": [
           {
            "colorbar": {
             "outlinewidth": 0,
             "ticks": ""
            },
            "colorscale": [
             [
              0,
              "#0d0887"
             ],
             [
              0.1111111111111111,
              "#46039f"
             ],
             [
              0.2222222222222222,
              "#7201a8"
             ],
             [
              0.3333333333333333,
              "#9c179e"
             ],
             [
              0.4444444444444444,
              "#bd3786"
             ],
             [
              0.5555555555555556,
              "#d8576b"
             ],
             [
              0.6666666666666666,
              "#ed7953"
             ],
             [
              0.7777777777777778,
              "#fb9f3a"
             ],
             [
              0.8888888888888888,
              "#fdca26"
             ],
             [
              1,
              "#f0f921"
             ]
            ],
            "type": "surface"
           }
          ],
          "table": [
           {
            "cells": {
             "fill": {
              "color": "#EBF0F8"
             },
             "line": {
              "color": "white"
             }
            },
            "header": {
             "fill": {
              "color": "#C8D4E3"
             },
             "line": {
              "color": "white"
             }
            },
            "type": "table"
           }
          ]
         },
         "layout": {
          "annotationdefaults": {
           "arrowcolor": "#2a3f5f",
           "arrowhead": 0,
           "arrowwidth": 1
          },
          "autotypenumbers": "strict",
          "coloraxis": {
           "colorbar": {
            "outlinewidth": 0,
            "ticks": ""
           }
          },
          "colorscale": {
           "diverging": [
            [
             0,
             "#8e0152"
            ],
            [
             0.1,
             "#c51b7d"
            ],
            [
             0.2,
             "#de77ae"
            ],
            [
             0.3,
             "#f1b6da"
            ],
            [
             0.4,
             "#fde0ef"
            ],
            [
             0.5,
             "#f7f7f7"
            ],
            [
             0.6,
             "#e6f5d0"
            ],
            [
             0.7,
             "#b8e186"
            ],
            [
             0.8,
             "#7fbc41"
            ],
            [
             0.9,
             "#4d9221"
            ],
            [
             1,
             "#276419"
            ]
           ],
           "sequential": [
            [
             0,
             "#0d0887"
            ],
            [
             0.1111111111111111,
             "#46039f"
            ],
            [
             0.2222222222222222,
             "#7201a8"
            ],
            [
             0.3333333333333333,
             "#9c179e"
            ],
            [
             0.4444444444444444,
             "#bd3786"
            ],
            [
             0.5555555555555556,
             "#d8576b"
            ],
            [
             0.6666666666666666,
             "#ed7953"
            ],
            [
             0.7777777777777778,
             "#fb9f3a"
            ],
            [
             0.8888888888888888,
             "#fdca26"
            ],
            [
             1,
             "#f0f921"
            ]
           ],
           "sequentialminus": [
            [
             0,
             "#0d0887"
            ],
            [
             0.1111111111111111,
             "#46039f"
            ],
            [
             0.2222222222222222,
             "#7201a8"
            ],
            [
             0.3333333333333333,
             "#9c179e"
            ],
            [
             0.4444444444444444,
             "#bd3786"
            ],
            [
             0.5555555555555556,
             "#d8576b"
            ],
            [
             0.6666666666666666,
             "#ed7953"
            ],
            [
             0.7777777777777778,
             "#fb9f3a"
            ],
            [
             0.8888888888888888,
             "#fdca26"
            ],
            [
             1,
             "#f0f921"
            ]
           ]
          },
          "colorway": [
           "#636efa",
           "#EF553B",
           "#00cc96",
           "#ab63fa",
           "#FFA15A",
           "#19d3f3",
           "#FF6692",
           "#B6E880",
           "#FF97FF",
           "#FECB52"
          ],
          "font": {
           "color": "#2a3f5f"
          },
          "geo": {
           "bgcolor": "white",
           "lakecolor": "white",
           "landcolor": "#E5ECF6",
           "showlakes": true,
           "showland": true,
           "subunitcolor": "white"
          },
          "hoverlabel": {
           "align": "left"
          },
          "hovermode": "closest",
          "mapbox": {
           "style": "light"
          },
          "paper_bgcolor": "white",
          "plot_bgcolor": "#E5ECF6",
          "polar": {
           "angularaxis": {
            "gridcolor": "white",
            "linecolor": "white",
            "ticks": ""
           },
           "bgcolor": "#E5ECF6",
           "radialaxis": {
            "gridcolor": "white",
            "linecolor": "white",
            "ticks": ""
           }
          },
          "scene": {
           "xaxis": {
            "backgroundcolor": "#E5ECF6",
            "gridcolor": "white",
            "gridwidth": 2,
            "linecolor": "white",
            "showbackground": true,
            "ticks": "",
            "zerolinecolor": "white"
           },
           "yaxis": {
            "backgroundcolor": "#E5ECF6",
            "gridcolor": "white",
            "gridwidth": 2,
            "linecolor": "white",
            "showbackground": true,
            "ticks": "",
            "zerolinecolor": "white"
           },
           "zaxis": {
            "backgroundcolor": "#E5ECF6",
            "gridcolor": "white",
            "gridwidth": 2,
            "linecolor": "white",
            "showbackground": true,
            "ticks": "",
            "zerolinecolor": "white"
           }
          },
          "shapedefaults": {
           "line": {
            "color": "#2a3f5f"
           }
          },
          "ternary": {
           "aaxis": {
            "gridcolor": "white",
            "linecolor": "white",
            "ticks": ""
           },
           "baxis": {
            "gridcolor": "white",
            "linecolor": "white",
            "ticks": ""
           },
           "bgcolor": "#E5ECF6",
           "caxis": {
            "gridcolor": "white",
            "linecolor": "white",
            "ticks": ""
           }
          },
          "title": {
           "x": 0.05
          },
          "xaxis": {
           "automargin": true,
           "gridcolor": "white",
           "linecolor": "white",
           "ticks": "",
           "title": {
            "standoff": 15
           },
           "zerolinecolor": "white",
           "zerolinewidth": 2
          },
          "yaxis": {
           "automargin": true,
           "gridcolor": "white",
           "linecolor": "white",
           "ticks": "",
           "title": {
            "standoff": 15
           },
           "zerolinecolor": "white",
           "zerolinewidth": 2
          }
         }
        },
        "xaxis": {
         "anchor": "y",
         "domain": [
          0,
          1
         ],
         "title": {
          "text": "RESPONSE"
         }
        },
        "yaxis": {
         "anchor": "x",
         "domain": [
          0,
          1
         ],
         "title": {
          "text": "age"
         }
        }
       }
      },
      "text/html": [
       "<div>                            <div id=\"fce15039-a138-4752-b47b-20e2604dcde3\" class=\"plotly-graph-div\" style=\"height:525px; width:100%;\"></div>            <script type=\"text/javascript\">                require([\"plotly\"], function(Plotly) {                    window.PLOTLYENV=window.PLOTLYENV || {};                                    if (document.getElementById(\"fce15039-a138-4752-b47b-20e2604dcde3\")) {                    Plotly.newPlot(                        \"fce15039-a138-4752-b47b-20e2604dcde3\",                        [{\"alignmentgroup\":\"True\",\"boxpoints\":\"all\",\"hovertemplate\":\"trt_grp=DRUG<br>RESPONSE=%{x}<br>age=%{y}<extra></extra>\",\"legendgroup\":\"DRUG\",\"marker\":{\"color\":\"#636efa\"},\"name\":\"DRUG\",\"notched\":false,\"offsetgroup\":\"DRUG\",\"orientation\":\"v\",\"showlegend\":true,\"x\":[\"N\",\"Y\",\"Y\",\"N\",\"N\",\"Y\",\"N\",\"N\",\"N\",\"N\",\"Y\",\"Y\",\"Y\",\"N\",\"N\",\"Y\",\"N\",\"N\",\"N\",\"Y\",\"N\",\"Y\",\"Y\",\"Y\",\"Y\",\"Y\",\"N\",\"Y\",\"N\",\"N\",\"N\",\"Y\",\"N\",\"N\",\"Y\",\"N\",\"Y\",\"Y\",\"N\",\"N\",\"Y\",\"Y\",\"N\",\"Y\",\"Y\",\"Y\",\"Y\",\"N\",\"Y\",\"Y\",\"Y\",\"Y\",\"N\",\"Y\",\"N\",\"N\",\"Y\",\"Y\",\"Y\",\"Y\",\"N\",\"Y\",\"Y\",\"Y\",\"N\",\"Y\",\"Y\",\"Y\",\"Y\",\"Y\",\"Y\",\"N\",\"N\",\"N\",\"N\",\"Y\",\"Y\",\"Y\",\"Y\",\"Y\",\"N\",\"N\",\"Y\",\"Y\",\"Y\",\"Y\",\"Y\",\"Y\",\"Y\",\"Y\",\"Y\",\"N\",\"N\",\"N\",\"Y\",\"N\",\"Y\",\"N\",\"Y\",\"Y\",\"Y\",\"Y\",\"N\",\"N\",\"Y\",\"N\",\"Y\",\"N\",\"N\",\"Y\",\"Y\",\"N\",\"N\",\"Y\",\"N\",\"Y\",\"Y\",\"N\",\"Y\",\"Y\",\"N\",\"Y\",\"N\",\"N\",\"N\",\"N\",\"Y\",\"Y\",\"Y\",\"Y\",\"N\",\"N\",\"Y\",\"N\",\"N\",\"N\",\"N\",\"N\",\"Y\",\"Y\",\"Y\",\"N\",\"N\",\"Y\",\"N\",\"N\",\"Y\",\"N\",\"Y\",\"Y\",\"Y\",\"N\",\"N\",\"N\",\"Y\",\"N\",\"N\",\"N\",\"Y\",\"N\",\"Y\",\"N\",\"N\",\"Y\",\"Y\",\"Y\",\"N\",\"Y\",\"N\",\"Y\",\"N\",\"N\",\"Y\",\"Y\",\"Y\",\"Y\",\"N\",\"N\",\"Y\",\"Y\",\"N\",\"Y\",\"Y\",\"Y\",\"N\",\"Y\",\"Y\",\"Y\",\"Y\",\"N\",\"Y\",\"Y\",\"Y\",\"N\",\"Y\",\"N\",\"Y\",\"N\",\"Y\",\"Y\",\"N\",\"Y\",\"N\",\"N\",\"Y\",\"N\",\"Y\",\"N\",\"N\",\"N\",\"Y\",\"Y\",\"Y\",\"Y\",\"N\",\"Y\",\"Y\",\"N\",\"Y\",\"Y\",\"N\",\"Y\",\"Y\",\"N\",\"Y\",\"Y\",\"N\",\"Y\",\"Y\",\"Y\",\"Y\",\"Y\",\"Y\",\"N\",\"Y\",\"N\",\"N\",\"Y\",\"N\",\"Y\",\"N\",\"N\",\"Y\",\"N\",\"N\",\"N\",\"Y\",\"N\",\"N\",\"Y\",\"Y\",\"N\",\"Y\",\"N\",\"Y\",\"N\",\"N\",\"N\",\"Y\",\"Y\",\"Y\",\"Y\",\"N\",\"Y\",\"N\",\"Y\",\"Y\",\"Y\",\"N\",\"N\",\"N\",\"Y\",\"Y\",\"N\",\"Y\",\"Y\",\"Y\",\"Y\",\"Y\",\"N\",\"Y\",\"N\",\"N\",\"N\",\"N\",\"Y\",\"Y\",\"N\",\"N\",\"Y\",\"Y\",\"N\",\"N\",\"Y\",\"N\",\"N\",\"Y\",\"N\",\"Y\",\"N\",\"Y\",\"Y\",\"Y\",\"Y\",\"Y\",\"Y\",\"N\",\"Y\",\"Y\",\"Y\",\"N\",\"Y\",\"N\",\"N\",\"Y\",\"Y\",\"Y\",\"N\",\"N\",\"N\",\"N\",\"N\",\"Y\",\"Y\",\"N\",\"N\",\"N\",\"N\",\"Y\",\"N\",\"Y\",\"N\",\"N\",\"N\",\"N\",\"Y\",\"Y\",\"N\",\"Y\",\"Y\",\"Y\",\"Y\",\"N\",\"Y\",\"Y\",\"N\",\"Y\",\"N\",\"N\",\"Y\",\"Y\",\"N\",\"N\",\"N\",\"Y\",\"Y\",\"Y\",\"Y\",\"Y\",\"N\",\"Y\",\"N\",\"Y\",\"Y\",\"N\",\"N\",\"Y\",\"Y\",\"Y\",\"Y\",\"N\",\"N\",\"N\",\"N\",\"Y\",\"N\",\"N\",\"N\",\"Y\",\"N\",\"N\",\"Y\",\"Y\"],\"x0\":\" \",\"xaxis\":\"x\",\"y\":[46.0,47.0,59.0,57.0,72.0,73.0,53.0,58.0,55.0,65.0,54.0,51.0,73.0,55.0,55.0,56.0,59.0,59.0,55.0,56.0,66.0,69.0,69.0,49.0,63.0,62.0,66.0,64.0,71.0,63.0,58.0,63.0,65.0,59.0,51.0,57.0,73.0,58.0,63.0,61.0,71.0,71.0,78.0,56.0,62.0,62.0,59.0,66.0,69.0,68.0,77.0,66.0,57.0,60.0,72.0,52.0,47.0,67.0,77.0,60.0,62.0,64.0,67.0,72.0,54.0,60.0,58.0,57.0,61.0,67.0,46.0,63.0,58.0,66.0,65.0,58.0,72.0,65.0,63.0,66.0,61.0,60.0,61.0,58.0,60.0,62.0,61.0,64.0,62.0,79.0,65.0,56.0,66.0,73.0,55.0,68.0,55.0,64.0,73.0,57.0,70.0,63.0,67.0,67.0,64.0,60.0,53.0,68.0,63.0,62.0,61.0,58.0,58.0,67.0,63.0,68.0,52.0,67.0,66.0,61.0,49.0,66.0,71.0,69.0,62.0,67.0,73.0,61.0,60.0,73.0,57.0,54.0,54.0,73.0,65.0,60.0,70.0,56.0,67.0,64.0,64.0,58.0,57.0,74.0,44.0,56.0,68.0,79.0,58.0,58.0,50.0,69.0,63.0,56.0,60.0,67.0,51.0,49.0,66.0,52.0,61.0,60.0,65.0,56.0,71.0,75.0,62.0,69.0,68.0,52.0,70.0,47.0,51.0,72.0,69.0,63.0,72.0,63.0,57.0,68.0,60.0,55.0,59.0,61.0,67.0,57.0,39.0,75.0,67.0,66.0,76.0,71.0,73.0,60.0,68.0,66.0,54.0,56.0,67.0,64.0,52.0,59.0,37.0,70.0,63.0,49.0,47.0,59.0,68.0,50.0,53.0,65.0,74.0,75.0,74.0,73.0,66.0,54.0,63.0,69.0,52.0,48.0,71.0,49.0,58.0,69.0,60.0,58.0,67.0,56.0,67.0,60.0,61.0,69.0,69.0,60.0,77.0,61.0,64.0,60.0,76.0,78.0,62.0,65.0,56.0,66.0,56.0,63.0,51.0,51.0,59.0,54.0,66.0,47.0,66.0,55.0,62.0,68.0,67.0,57.0,73.0,55.0,67.0,53.0,58.0,65.0,64.0,63.0,63.0,47.0,57.0,61.0,56.0,68.0,69.0,62.0,69.0,56.0,45.0,68.0,37.0,47.0,54.0,68.0,66.0,49.0,51.0,60.0,71.0,76.0,59.0,58.0,57.0,50.0,65.0,53.0,63.0,64.0,62.0,63.0,57.0,65.0,49.0,50.0,51.0,66.0,57.0,65.0,59.0,63.0,67.0,56.0,66.0,55.0,64.0,54.0,52.0,66.0,65.0,77.0,54.0,71.0,45.0,57.0,59.0,63.0,52.0,72.0,61.0,59.0,69.0,63.0,57.0,63.0,53.0,68.0,72.0,56.0,57.0,71.0,69.0,65.0,62.0,50.0,63.0,58.0,66.0,69.0,58.0,58.0,57.0,60.0,74.0,55.0,68.0,65.0,72.0,64.0,62.0,65.0,68.0,65.0,65.0,54.0,58.0,65.0,61.0,67.0,65.0,61.0,65.0,50.0,64.0,61.0,69.0,65.0,57.0,50.0,70.0,65.0,60.0,53.0,68.0],\"y0\":\" \",\"yaxis\":\"y\",\"type\":\"box\"},{\"alignmentgroup\":\"True\",\"boxpoints\":\"all\",\"hovertemplate\":\"trt_grp=CONTROL<br>RESPONSE=%{x}<br>age=%{y}<extra></extra>\",\"legendgroup\":\"CONTROL\",\"marker\":{\"color\":\"#EF553B\"},\"name\":\"CONTROL\",\"notched\":false,\"offsetgroup\":\"CONTROL\",\"orientation\":\"v\",\"showlegend\":true,\"x\":[\"N\",\"N\",\"Y\",\"N\",\"Y\",\"N\",\"Y\",\"N\",\"Y\",\"N\",\"N\",\"N\",\"N\",\"N\",\"N\",\"N\",\"Y\",\"Y\",\"N\",\"N\",\"N\",\"N\",\"N\",\"Y\",\"N\",\"N\",\"N\",\"Y\",\"Y\",\"N\",\"N\",\"N\",\"N\",\"Y\",\"N\",\"N\",\"N\",\"Y\",\"N\",\"N\",\"N\",\"N\",\"N\",\"Y\",\"Y\",\"Y\",\"Y\",\"N\",\"N\",\"N\",\"N\",\"Y\",\"Y\",\"Y\",\"Y\",\"N\",\"Y\",\"N\",\"N\",\"N\",\"N\",\"Y\",\"N\",\"N\",\"N\",\"N\",\"N\",\"N\",\"N\",\"N\",\"Y\",\"N\",\"N\",\"Y\",\"N\",\"N\",\"N\",\"N\",\"N\",\"Y\",\"N\",\"N\",\"N\",\"N\",\"N\",\"N\",\"N\",\"N\",\"N\",\"Y\",\"N\",\"Y\",\"N\",\"N\",\"N\",\"N\",\"N\",\"N\",\"Y\",\"N\",\"N\",\"N\",\"N\",\"N\",\"Y\",\"N\",\"Y\",\"N\",\"N\",\"N\",\"N\",\"N\",\"Y\",\"N\",\"N\",\"N\",\"N\",\"N\",\"N\",\"N\",\"N\",\"N\",\"N\",\"N\",\"N\",\"N\",\"Y\",\"N\",\"N\",\"N\",\"Y\",\"N\",\"N\",\"N\",\"N\",\"Y\",\"Y\",\"Y\",\"N\",\"N\",\"Y\",\"N\",\"N\",\"N\",\"N\",\"N\",\"N\",\"Y\",\"N\",\"Y\",\"Y\",\"N\",\"N\",\"Y\",\"N\",\"N\",\"N\",\"N\",\"Y\",\"N\",\"Y\",\"N\",\"N\",\"N\",\"N\",\"Y\",\"N\",\"N\",\"Y\",\"Y\",\"N\",\"N\",\"Y\",\"Y\",\"Y\",\"N\",\"N\",\"N\",\"Y\",\"Y\",\"N\",\"N\",\"Y\",\"N\",\"N\",\"N\",\"N\",\"N\",\"Y\",\"N\",\"N\",\"N\",\"Y\",\"Y\",\"N\",\"Y\",\"N\",\"N\",\"N\",\"N\",\"N\",\"N\",\"N\",\"N\",\"Y\",\"N\",\"N\",\"N\",\"N\",\"Y\",\"N\",\"N\",\"Y\",\"N\",\"Y\",\"N\",\"N\",\"N\",\"N\",\"Y\",\"N\",\"N\",\"N\",\"Y\",\"N\",\"Y\",\"N\",\"Y\",\"N\",\"N\",\"Y\",\"N\",\"Y\",\"Y\",\"N\",\"Y\",\"N\",\"N\",\"N\",\"N\",\"Y\",\"Y\",\"N\",\"N\",\"N\",\"Y\",\"N\",\"N\",\"Y\",\"Y\",\"N\",\"N\",\"N\",\"Y\",\"N\",\"N\",\"Y\",\"Y\",\"Y\",\"N\",\"Y\",\"N\",\"N\",\"Y\",\"Y\",\"N\",\"N\",\"N\",\"Y\",\"N\",\"N\",\"N\",\"Y\",\"Y\",\"N\",\"N\",\"Y\",\"Y\",\"N\",\"Y\",\"Y\",\"N\",\"Y\",\"Y\",\"Y\",\"N\",\"N\",\"Y\",\"N\",\"N\",\"N\",\"N\",\"N\",\"N\",\"N\",\"N\",\"Y\",\"N\",\"N\",\"Y\",\"Y\",\"Y\",\"N\",\"Y\",\"Y\",\"N\",\"N\",\"Y\",\"N\",\"N\",\"Y\",\"Y\",\"N\",\"Y\",\"N\",\"N\",\"N\",\"Y\",\"N\",\"N\",\"N\",\"N\",\"N\",\"Y\",\"Y\",\"N\",\"N\",\"N\",\"N\",\"Y\",\"N\",\"N\",\"N\",\"Y\",\"Y\",\"N\",\"Y\",\"N\",\"N\",\"N\",\"Y\",\"Y\",\"Y\",\"N\",\"Y\",\"N\",\"N\",\"N\",\"N\",\"N\",\"Y\",\"Y\",\"N\",\"N\",\"Y\",\"N\",\"N\",\"N\",\"Y\",\"N\",\"N\",\"Y\",\"Y\",\"N\",\"N\",\"Y\",\"Y\",\"N\",\"N\",\"Y\",\"N\",\"N\",\"N\",\"Y\",\"N\",\"N\",\"N\",\"N\",\"N\",\"N\",\"Y\",\"N\",\"N\",\"Y\",\"Y\"],\"x0\":\" \",\"xaxis\":\"x\",\"y\":[48.0,59.0,63.0,77.0,67.0,57.0,65.0,61.0,56.0,57.0,64.0,55.0,66.0,70.0,68.0,61.0,60.0,65.0,58.0,70.0,64.0,59.0,61.0,52.0,69.0,59.0,63.0,65.0,56.0,59.0,65.0,57.0,60.0,63.0,64.0,68.0,65.0,58.0,60.0,58.0,61.0,62.0,79.0,48.0,79.0,56.0,68.0,55.0,56.0,65.0,56.0,64.0,68.0,77.0,58.0,61.0,64.0,70.0,62.0,68.0,73.0,57.0,54.0,69.0,72.0,57.0,59.0,67.0,65.0,69.0,55.0,49.0,77.0,57.0,63.0,56.0,56.0,56.0,69.0,71.0,71.0,59.0,58.0,69.0,55.0,66.0,60.0,60.0,67.0,59.0,61.0,69.0,64.0,63.0,67.0,55.0,43.0,57.0,65.0,57.0,67.0,58.0,71.0,56.0,44.0,69.0,67.0,72.0,64.0,58.0,59.0,69.0,62.0,67.0,57.0,64.0,56.0,52.0,59.0,70.0,58.0,66.0,73.0,60.0,56.0,62.0,61.0,62.0,65.0,55.0,59.0,56.0,65.0,76.0,68.0,39.0,61.0,60.0,59.0,43.0,59.0,58.0,68.0,68.0,65.0,45.0,59.0,60.0,61.0,70.0,62.0,62.0,53.0,67.0,75.0,69.0,59.0,65.0,63.0,58.0,68.0,59.0,63.0,66.0,64.0,58.0,70.0,70.0,43.0,67.0,69.0,60.0,52.0,66.0,59.0,67.0,55.0,67.0,57.0,70.0,67.0,53.0,62.0,55.0,58.0,53.0,62.0,61.0,64.0,70.0,67.0,60.0,61.0,59.0,63.0,62.0,56.0,74.0,71.0,72.0,68.0,73.0,64.0,64.0,60.0,64.0,56.0,59.0,66.0,59.0,68.0,62.0,59.0,63.0,55.0,69.0,54.0,67.0,66.0,69.0,59.0,62.0,59.0,59.0,65.0,63.0,58.0,63.0,57.0,54.0,68.0,69.0,49.0,64.0,55.0,63.0,67.0,52.0,65.0,61.0,60.0,64.0,48.0,61.0,72.0,73.0,57.0,62.0,60.0,66.0,51.0,60.0,64.0,60.0,53.0,55.0,66.0,56.0,48.0,60.0,66.0,50.0,62.0,64.0,59.0,59.0,62.0,71.0,70.0,74.0,70.0,61.0,66.0,55.0,70.0,58.0,56.0,55.0,68.0,69.0,61.0,54.0,63.0,68.0,54.0,64.0,69.0,56.0,66.0,58.0,63.0,58.0,62.0,60.0,70.0,59.0,63.0,68.0,58.0,59.0,60.0,55.0,48.0,75.0,62.0,60.0,58.0,55.0,66.0,58.0,61.0,61.0,64.0,65.0,68.0,59.0,62.0,61.0,55.0,55.0,57.0,68.0,73.0,61.0,64.0,57.0,70.0,50.0,61.0,71.0,62.0,76.0,74.0,49.0,61.0,48.0,50.0,67.0,52.0,62.0,65.0,54.0,66.0,56.0,65.0,74.0,68.0,63.0,60.0,49.0,71.0,53.0,61.0,58.0,62.0,67.0,64.0,64.0,60.0,64.0,65.0,69.0,69.0,57.0,67.0,61.0,59.0,57.0,71.0,75.0,68.0,55.0,56.0,56.0,57.0,59.0,47.0,62.0,67.0,61.0,68.0,48.0,66.0,64.0,61.0],\"y0\":\" \",\"yaxis\":\"y\",\"type\":\"box\"}],                        {\"template\":{\"data\":{\"histogram2dcontour\":[{\"type\":\"histogram2dcontour\",\"colorbar\":{\"outlinewidth\":0,\"ticks\":\"\"},\"colorscale\":[[0.0,\"#0d0887\"],[0.1111111111111111,\"#46039f\"],[0.2222222222222222,\"#7201a8\"],[0.3333333333333333,\"#9c179e\"],[0.4444444444444444,\"#bd3786\"],[0.5555555555555556,\"#d8576b\"],[0.6666666666666666,\"#ed7953\"],[0.7777777777777778,\"#fb9f3a\"],[0.8888888888888888,\"#fdca26\"],[1.0,\"#f0f921\"]]}],\"choropleth\":[{\"type\":\"choropleth\",\"colorbar\":{\"outlinewidth\":0,\"ticks\":\"\"}}],\"histogram2d\":[{\"type\":\"histogram2d\",\"colorbar\":{\"outlinewidth\":0,\"ticks\":\"\"},\"colorscale\":[[0.0,\"#0d0887\"],[0.1111111111111111,\"#46039f\"],[0.2222222222222222,\"#7201a8\"],[0.3333333333333333,\"#9c179e\"],[0.4444444444444444,\"#bd3786\"],[0.5555555555555556,\"#d8576b\"],[0.6666666666666666,\"#ed7953\"],[0.7777777777777778,\"#fb9f3a\"],[0.8888888888888888,\"#fdca26\"],[1.0,\"#f0f921\"]]}],\"heatmap\":[{\"type\":\"heatmap\",\"colorbar\":{\"outlinewidth\":0,\"ticks\":\"\"},\"colorscale\":[[0.0,\"#0d0887\"],[0.1111111111111111,\"#46039f\"],[0.2222222222222222,\"#7201a8\"],[0.3333333333333333,\"#9c179e\"],[0.4444444444444444,\"#bd3786\"],[0.5555555555555556,\"#d8576b\"],[0.6666666666666666,\"#ed7953\"],[0.7777777777777778,\"#fb9f3a\"],[0.8888888888888888,\"#fdca26\"],[1.0,\"#f0f921\"]]}],\"heatmapgl\":[{\"type\":\"heatmapgl\",\"colorbar\":{\"outlinewidth\":0,\"ticks\":\"\"},\"colorscale\":[[0.0,\"#0d0887\"],[0.1111111111111111,\"#46039f\"],[0.2222222222222222,\"#7201a8\"],[0.3333333333333333,\"#9c179e\"],[0.4444444444444444,\"#bd3786\"],[0.5555555555555556,\"#d8576b\"],[0.6666666666666666,\"#ed7953\"],[0.7777777777777778,\"#fb9f3a\"],[0.8888888888888888,\"#fdca26\"],[1.0,\"#f0f921\"]]}],\"contourcarpet\":[{\"type\":\"contourcarpet\",\"colorbar\":{\"outlinewidth\":0,\"ticks\":\"\"}}],\"contour\":[{\"type\":\"contour\",\"colorbar\":{\"outlinewidth\":0,\"ticks\":\"\"},\"colorscale\":[[0.0,\"#0d0887\"],[0.1111111111111111,\"#46039f\"],[0.2222222222222222,\"#7201a8\"],[0.3333333333333333,\"#9c179e\"],[0.4444444444444444,\"#bd3786\"],[0.5555555555555556,\"#d8576b\"],[0.6666666666666666,\"#ed7953\"],[0.7777777777777778,\"#fb9f3a\"],[0.8888888888888888,\"#fdca26\"],[1.0,\"#f0f921\"]]}],\"surface\":[{\"type\":\"surface\",\"colorbar\":{\"outlinewidth\":0,\"ticks\":\"\"},\"colorscale\":[[0.0,\"#0d0887\"],[0.1111111111111111,\"#46039f\"],[0.2222222222222222,\"#7201a8\"],[0.3333333333333333,\"#9c179e\"],[0.4444444444444444,\"#bd3786\"],[0.5555555555555556,\"#d8576b\"],[0.6666666666666666,\"#ed7953\"],[0.7777777777777778,\"#fb9f3a\"],[0.8888888888888888,\"#fdca26\"],[1.0,\"#f0f921\"]]}],\"mesh3d\":[{\"type\":\"mesh3d\",\"colorbar\":{\"outlinewidth\":0,\"ticks\":\"\"}}],\"scatter\":[{\"fillpattern\":{\"fillmode\":\"overlay\",\"size\":10,\"solidity\":0.2},\"type\":\"scatter\"}],\"parcoords\":[{\"type\":\"parcoords\",\"line\":{\"colorbar\":{\"outlinewidth\":0,\"ticks\":\"\"}}}],\"scatterpolargl\":[{\"type\":\"scatterpolargl\",\"marker\":{\"colorbar\":{\"outlinewidth\":0,\"ticks\":\"\"}}}],\"bar\":[{\"error_x\":{\"color\":\"#2a3f5f\"},\"error_y\":{\"color\":\"#2a3f5f\"},\"marker\":{\"line\":{\"color\":\"#E5ECF6\",\"width\":0.5},\"pattern\":{\"fillmode\":\"overlay\",\"size\":10,\"solidity\":0.2}},\"type\":\"bar\"}],\"scattergeo\":[{\"type\":\"scattergeo\",\"marker\":{\"colorbar\":{\"outlinewidth\":0,\"ticks\":\"\"}}}],\"scatterpolar\":[{\"type\":\"scatterpolar\",\"marker\":{\"colorbar\":{\"outlinewidth\":0,\"ticks\":\"\"}}}],\"histogram\":[{\"marker\":{\"pattern\":{\"fillmode\":\"overlay\",\"size\":10,\"solidity\":0.2}},\"type\":\"histogram\"}],\"scattergl\":[{\"type\":\"scattergl\",\"marker\":{\"colorbar\":{\"outlinewidth\":0,\"ticks\":\"\"}}}],\"scatter3d\":[{\"type\":\"scatter3d\",\"line\":{\"colorbar\":{\"outlinewidth\":0,\"ticks\":\"\"}},\"marker\":{\"colorbar\":{\"outlinewidth\":0,\"ticks\":\"\"}}}],\"scattermapbox\":[{\"type\":\"scattermapbox\",\"marker\":{\"colorbar\":{\"outlinewidth\":0,\"ticks\":\"\"}}}],\"scatterternary\":[{\"type\":\"scatterternary\",\"marker\":{\"colorbar\":{\"outlinewidth\":0,\"ticks\":\"\"}}}],\"scattercarpet\":[{\"type\":\"scattercarpet\",\"marker\":{\"colorbar\":{\"outlinewidth\":0,\"ticks\":\"\"}}}],\"carpet\":[{\"aaxis\":{\"endlinecolor\":\"#2a3f5f\",\"gridcolor\":\"white\",\"linecolor\":\"white\",\"minorgridcolor\":\"white\",\"startlinecolor\":\"#2a3f5f\"},\"baxis\":{\"endlinecolor\":\"#2a3f5f\",\"gridcolor\":\"white\",\"linecolor\":\"white\",\"minorgridcolor\":\"white\",\"startlinecolor\":\"#2a3f5f\"},\"type\":\"carpet\"}],\"table\":[{\"cells\":{\"fill\":{\"color\":\"#EBF0F8\"},\"line\":{\"color\":\"white\"}},\"header\":{\"fill\":{\"color\":\"#C8D4E3\"},\"line\":{\"color\":\"white\"}},\"type\":\"table\"}],\"barpolar\":[{\"marker\":{\"line\":{\"color\":\"#E5ECF6\",\"width\":0.5},\"pattern\":{\"fillmode\":\"overlay\",\"size\":10,\"solidity\":0.2}},\"type\":\"barpolar\"}],\"pie\":[{\"automargin\":true,\"type\":\"pie\"}]},\"layout\":{\"autotypenumbers\":\"strict\",\"colorway\":[\"#636efa\",\"#EF553B\",\"#00cc96\",\"#ab63fa\",\"#FFA15A\",\"#19d3f3\",\"#FF6692\",\"#B6E880\",\"#FF97FF\",\"#FECB52\"],\"font\":{\"color\":\"#2a3f5f\"},\"hovermode\":\"closest\",\"hoverlabel\":{\"align\":\"left\"},\"paper_bgcolor\":\"white\",\"plot_bgcolor\":\"#E5ECF6\",\"polar\":{\"bgcolor\":\"#E5ECF6\",\"angularaxis\":{\"gridcolor\":\"white\",\"linecolor\":\"white\",\"ticks\":\"\"},\"radialaxis\":{\"gridcolor\":\"white\",\"linecolor\":\"white\",\"ticks\":\"\"}},\"ternary\":{\"bgcolor\":\"#E5ECF6\",\"aaxis\":{\"gridcolor\":\"white\",\"linecolor\":\"white\",\"ticks\":\"\"},\"baxis\":{\"gridcolor\":\"white\",\"linecolor\":\"white\",\"ticks\":\"\"},\"caxis\":{\"gridcolor\":\"white\",\"linecolor\":\"white\",\"ticks\":\"\"}},\"coloraxis\":{\"colorbar\":{\"outlinewidth\":0,\"ticks\":\"\"}},\"colorscale\":{\"sequential\":[[0.0,\"#0d0887\"],[0.1111111111111111,\"#46039f\"],[0.2222222222222222,\"#7201a8\"],[0.3333333333333333,\"#9c179e\"],[0.4444444444444444,\"#bd3786\"],[0.5555555555555556,\"#d8576b\"],[0.6666666666666666,\"#ed7953\"],[0.7777777777777778,\"#fb9f3a\"],[0.8888888888888888,\"#fdca26\"],[1.0,\"#f0f921\"]],\"sequentialminus\":[[0.0,\"#0d0887\"],[0.1111111111111111,\"#46039f\"],[0.2222222222222222,\"#7201a8\"],[0.3333333333333333,\"#9c179e\"],[0.4444444444444444,\"#bd3786\"],[0.5555555555555556,\"#d8576b\"],[0.6666666666666666,\"#ed7953\"],[0.7777777777777778,\"#fb9f3a\"],[0.8888888888888888,\"#fdca26\"],[1.0,\"#f0f921\"]],\"diverging\":[[0,\"#8e0152\"],[0.1,\"#c51b7d\"],[0.2,\"#de77ae\"],[0.3,\"#f1b6da\"],[0.4,\"#fde0ef\"],[0.5,\"#f7f7f7\"],[0.6,\"#e6f5d0\"],[0.7,\"#b8e186\"],[0.8,\"#7fbc41\"],[0.9,\"#4d9221\"],[1,\"#276419\"]]},\"xaxis\":{\"gridcolor\":\"white\",\"linecolor\":\"white\",\"ticks\":\"\",\"title\":{\"standoff\":15},\"zerolinecolor\":\"white\",\"automargin\":true,\"zerolinewidth\":2},\"yaxis\":{\"gridcolor\":\"white\",\"linecolor\":\"white\",\"ticks\":\"\",\"title\":{\"standoff\":15},\"zerolinecolor\":\"white\",\"automargin\":true,\"zerolinewidth\":2},\"scene\":{\"xaxis\":{\"backgroundcolor\":\"#E5ECF6\",\"gridcolor\":\"white\",\"linecolor\":\"white\",\"showbackground\":true,\"ticks\":\"\",\"zerolinecolor\":\"white\",\"gridwidth\":2},\"yaxis\":{\"backgroundcolor\":\"#E5ECF6\",\"gridcolor\":\"white\",\"linecolor\":\"white\",\"showbackground\":true,\"ticks\":\"\",\"zerolinecolor\":\"white\",\"gridwidth\":2},\"zaxis\":{\"backgroundcolor\":\"#E5ECF6\",\"gridcolor\":\"white\",\"linecolor\":\"white\",\"showbackground\":true,\"ticks\":\"\",\"zerolinecolor\":\"white\",\"gridwidth\":2}},\"shapedefaults\":{\"line\":{\"color\":\"#2a3f5f\"}},\"annotationdefaults\":{\"arrowcolor\":\"#2a3f5f\",\"arrowhead\":0,\"arrowwidth\":1},\"geo\":{\"bgcolor\":\"white\",\"landcolor\":\"#E5ECF6\",\"subunitcolor\":\"white\",\"showland\":true,\"showlakes\":true,\"lakecolor\":\"white\"},\"title\":{\"x\":0.05},\"mapbox\":{\"style\":\"light\"}}},\"xaxis\":{\"anchor\":\"y\",\"domain\":[0.0,1.0],\"title\":{\"text\":\"RESPONSE\"}},\"yaxis\":{\"anchor\":\"x\",\"domain\":[0.0,1.0],\"title\":{\"text\":\"age\"}},\"legend\":{\"title\":{\"text\":\"trt_grp\"},\"tracegroupgap\":0},\"margin\":{\"t\":60},\"boxmode\":\"group\"},                        {\"responsive\": true}                    ).then(function(){\n",
       "                            \n",
       "var gd = document.getElementById('fce15039-a138-4752-b47b-20e2604dcde3');\n",
       "var x = new MutationObserver(function (mutations, observer) {{\n",
       "        var display = window.getComputedStyle(gd).display;\n",
       "        if (!display || display === 'none') {{\n",
       "            console.log([gd, 'removed!']);\n",
       "            Plotly.purge(gd);\n",
       "            observer.disconnect();\n",
       "        }}\n",
       "}});\n",
       "\n",
       "// Listen for the removal of the full notebook cells\n",
       "var notebookContainer = gd.closest('#notebook-container');\n",
       "if (notebookContainer) {{\n",
       "    x.observe(notebookContainer, {childList: true});\n",
       "}}\n",
       "\n",
       "// Listen for the clearing of the current output cell\n",
       "var outputEl = gd.closest('.output');\n",
       "if (outputEl) {{\n",
       "    x.observe(outputEl, {childList: true});\n",
       "}}\n",
       "\n",
       "                        })                };                });            </script>        </div>"
      ]
     },
     "metadata": {},
     "output_type": "display_data"
    }
   ],
   "source": [
    "px.box(df_merged, y=\"age\", x=\"RESPONSE\", color=\"trt_grp\", points=\"all\")"
   ]
  },
  {
   "cell_type": "code",
   "execution_count": 462,
   "id": "0f8fac46",
   "metadata": {},
   "outputs": [],
   "source": [
    "### Response = NO or tumors are getting bigger and preferring new drugs ###\n",
    "# Average age is 62 who prefers taking new drugs but still their tumors are getting bigger, also 50% of the \n",
    "# patients whose age lies between 56 to 66 are prefering taking new drugs but their tumors are increasing in size.\n",
    "# Patients whose age are 79 is strongly agreed on taking new drugs while the patient who have 37 years old are \n",
    "# weakly agreed on taking new drugs but size of tumors are increasing in both cases.\n",
    "\n",
    "## Response = NO or tumors are getting bigger and preferring Standard of Care(CONTROL)##\n",
    "# Average age of patient = 62\n",
    "# 50% of the patients aged from 58 to 67\n",
    "# 79 years old patient strongly agreed while 43 years old patient is weakly agreed on taking standard of care(CONTROL)\n",
    "# however their tumors are increasing.\n",
    "\n",
    "\n",
    "### FOR RESPONSE YES or tumors are shrinking ###\n",
    "## for new drugs ##\n",
    "# average age 63 year old\n",
    "# 50% data where range of age is from 57 to 68\n",
    "# strongly agreed age is 79\n",
    "# weakly agreed age is 37\n",
    "\n",
    "## For care of standard(CONTROL) ##\n",
    "# average age is 61 yeasr old\n",
    "# 50% data where range of age is from 58 to 66\n",
    "# strongly agreed age is 79\n",
    "# weakly agreed age is 39"
   ]
  },
  {
   "cell_type": "markdown",
   "id": "6ff7d487",
   "metadata": {},
   "source": [
    "### 2. Weight/BMI Vs Response"
   ]
  },
  {
   "cell_type": "code",
   "execution_count": 463,
   "id": "0ad28230",
   "metadata": {},
   "outputs": [
    {
     "data": {
      "application/vnd.plotly.v1+json": {
       "config": {
        "plotlyServerURL": "https://plot.ly"
       },
       "data": [
        {
         "alignmentgroup": "True",
         "boxpoints": "all",
         "hovertemplate": "RESPONSE=%{x}<br>weight=%{y}<extra></extra>",
         "legendgroup": "",
         "marker": {
          "color": "#636efa"
         },
         "name": "",
         "notched": false,
         "offsetgroup": "",
         "orientation": "v",
         "showlegend": false,
         "type": "box",
         "x": [
          "N",
          "Y",
          "N",
          "Y",
          "N",
          "Y",
          "N",
          "N",
          "N",
          "Y",
          "Y",
          "N",
          "N",
          "N",
          "N",
          "Y",
          "N",
          "Y",
          "Y",
          "Y",
          "N",
          "N",
          "N",
          "Y",
          "Y",
          "N",
          "N",
          "N",
          "N",
          "N",
          "Y",
          "N",
          "N",
          "N",
          "Y",
          "Y",
          "N",
          "Y",
          "Y",
          "Y",
          "N",
          "N",
          "Y",
          "N",
          "N",
          "N",
          "N",
          "Y",
          "Y",
          "N",
          "N",
          "Y",
          "Y",
          "N",
          "N",
          "N",
          "N",
          "Y",
          "Y",
          "N",
          "N",
          "N",
          "Y",
          "N",
          "N",
          "N",
          "Y",
          "Y",
          "N",
          "N",
          "N",
          "N",
          "Y",
          "N",
          "Y",
          "N",
          "Y",
          "Y",
          "Y",
          "N",
          "N",
          "N",
          "Y",
          "Y",
          "N",
          "N",
          "N",
          "Y",
          "N",
          "N",
          "Y",
          "Y",
          "Y",
          "N",
          "Y",
          "N",
          "Y",
          "Y",
          "Y",
          "Y",
          "N",
          "N",
          "N",
          "N",
          "Y",
          "Y",
          "Y",
          "N",
          "Y",
          "Y",
          "N",
          "N",
          "Y",
          "Y",
          "N",
          "N",
          "N",
          "N",
          "Y",
          "Y",
          "N",
          "Y",
          "Y",
          "N",
          "N",
          "Y",
          "Y",
          "Y",
          "N",
          "N",
          "N",
          "N",
          "N",
          "Y",
          "Y",
          "N",
          "N",
          "Y",
          "N",
          "N",
          "Y",
          "Y",
          "N",
          "Y",
          "N",
          "N",
          "Y",
          "N",
          "N",
          "Y",
          "N",
          "N",
          "Y",
          "N",
          "N",
          "Y",
          "Y",
          "N",
          "N",
          "N",
          "N",
          "Y",
          "Y",
          "Y",
          "N",
          "N",
          "N",
          "N",
          "Y",
          "Y",
          "Y",
          "N",
          "Y",
          "Y",
          "Y",
          "N",
          "Y",
          "Y",
          "N",
          "Y",
          "N",
          "Y",
          "N",
          "Y",
          "N",
          "N",
          "N",
          "N",
          "Y",
          "N",
          "N",
          "N",
          "N",
          "N",
          "Y",
          "N",
          "N",
          "Y",
          "N",
          "N",
          "Y",
          "N",
          "Y",
          "Y",
          "Y",
          "N",
          "N",
          "Y",
          "N",
          "N",
          "Y",
          "N",
          "N",
          "N",
          "N",
          "N",
          "Y",
          "N",
          "Y",
          "N",
          "N",
          "N",
          "Y",
          "N",
          "N",
          "Y",
          "Y",
          "N",
          "N",
          "Y",
          "N",
          "N",
          "Y",
          "Y",
          "N",
          "N",
          "N",
          "N",
          "N",
          "Y",
          "Y",
          "N",
          "N",
          "Y",
          "N",
          "N",
          "N",
          "N",
          "N",
          "N",
          "Y",
          "N",
          "N",
          "Y",
          "Y",
          "N",
          "Y",
          "Y",
          "N",
          "N",
          "N",
          "N",
          "Y",
          "Y",
          "N",
          "N",
          "N",
          "N",
          "N",
          "N",
          "N",
          "N",
          "N",
          "Y",
          "Y",
          "Y",
          "Y",
          "Y",
          "Y",
          "N",
          "N",
          "Y",
          "N",
          "N",
          "Y",
          "N",
          "N",
          "Y",
          "N",
          "Y",
          "N",
          "N",
          "Y",
          "Y",
          "N",
          "N",
          "N",
          "N",
          "Y",
          "N",
          "N",
          "N",
          "Y",
          "Y",
          "N",
          "Y",
          "N",
          "N",
          "N",
          "N",
          "Y",
          "N",
          "N",
          "N",
          "N",
          "Y",
          "N",
          "N",
          "Y",
          "N",
          "Y",
          "Y",
          "N",
          "N",
          "N",
          "N",
          "N",
          "N",
          "Y",
          "Y",
          "N",
          "Y",
          "N",
          "Y",
          "Y",
          "N",
          "Y",
          "Y",
          "N",
          "N",
          "N",
          "Y",
          "N",
          "Y",
          "Y",
          "Y",
          "N",
          "N",
          "N",
          "Y",
          "Y",
          "N",
          "Y",
          "Y",
          "Y",
          "N",
          "N",
          "Y",
          "Y",
          "N",
          "N",
          "N",
          "Y",
          "Y",
          "N",
          "N",
          "N",
          "N",
          "N",
          "Y",
          "N",
          "N",
          "Y",
          "Y",
          "Y",
          "N",
          "N",
          "Y",
          "Y",
          "Y",
          "Y",
          "Y",
          "Y",
          "N",
          "N",
          "Y",
          "Y",
          "Y",
          "N",
          "N",
          "Y",
          "N",
          "N",
          "Y",
          "N",
          "N",
          "N",
          "N",
          "N",
          "N",
          "Y",
          "N",
          "Y",
          "Y",
          "N",
          "N",
          "Y",
          "N",
          "N",
          "N",
          "Y",
          "Y",
          "N",
          "N",
          "N",
          "Y",
          "N",
          "N",
          "Y",
          "N",
          "Y",
          "N",
          "Y",
          "N",
          "N",
          "N",
          "N",
          "N",
          "N",
          "Y",
          "Y",
          "Y",
          "Y",
          "N",
          "Y",
          "N",
          "N",
          "N",
          "Y",
          "Y",
          "N",
          "Y",
          "Y",
          "N",
          "N",
          "Y",
          "N",
          "Y",
          "Y",
          "N",
          "Y",
          "N",
          "Y",
          "N",
          "Y",
          "N",
          "Y",
          "Y",
          "N",
          "Y",
          "Y",
          "Y",
          "Y",
          "Y",
          "Y",
          "N",
          "Y",
          "Y",
          "N",
          "Y",
          "N",
          "N",
          "Y",
          "N",
          "N",
          "N",
          "Y",
          "N",
          "Y",
          "Y",
          "N",
          "N",
          "N",
          "Y",
          "N",
          "Y",
          "N",
          "N",
          "N",
          "N",
          "Y",
          "Y",
          "Y",
          "N",
          "N",
          "N",
          "N",
          "Y",
          "N",
          "N",
          "N",
          "N",
          "Y",
          "Y",
          "Y",
          "Y",
          "N",
          "N",
          "Y",
          "N",
          "Y",
          "N",
          "Y",
          "N",
          "Y",
          "N",
          "N",
          "Y",
          "Y",
          "N",
          "Y",
          "N",
          "N",
          "N",
          "N",
          "N",
          "Y",
          "Y",
          "N",
          "N",
          "N",
          "Y",
          "Y",
          "Y",
          "Y",
          "N",
          "Y",
          "Y",
          "N",
          "N",
          "Y",
          "N",
          "Y",
          "Y",
          "Y",
          "N",
          "Y",
          "N",
          "N",
          "N",
          "Y",
          "Y",
          "Y",
          "Y",
          "N",
          "N",
          "Y",
          "Y",
          "Y",
          "Y",
          "N",
          "N",
          "Y",
          "N",
          "N",
          "Y",
          "Y",
          "Y",
          "N",
          "N",
          "Y",
          "N",
          "N",
          "N",
          "N",
          "Y",
          "N",
          "Y",
          "N",
          "N",
          "N",
          "N",
          "N",
          "Y",
          "N",
          "Y",
          "N",
          "Y",
          "N",
          "Y",
          "Y",
          "Y",
          "N",
          "Y",
          "Y",
          "N",
          "Y",
          "N",
          "N",
          "N",
          "Y",
          "Y",
          "N",
          "N",
          "N",
          "Y",
          "N",
          "Y",
          "Y",
          "N",
          "Y",
          "N",
          "N",
          "Y",
          "Y",
          "Y",
          "N",
          "Y",
          "Y",
          "Y",
          "N",
          "Y",
          "N",
          "Y",
          "N",
          "Y",
          "N",
          "N",
          "Y",
          "Y",
          "N",
          "Y",
          "N",
          "N",
          "Y",
          "Y",
          "N",
          "Y",
          "N",
          "N",
          "Y",
          "N",
          "N",
          "Y",
          "N",
          "N",
          "N",
          "N",
          "N",
          "N",
          "Y",
          "N",
          "Y",
          "N",
          "Y",
          "N",
          "N",
          "Y",
          "N",
          "Y",
          "N",
          "N",
          "N",
          "N",
          "Y",
          "Y",
          "N",
          "N",
          "Y",
          "N",
          "N",
          "N",
          "N",
          "Y",
          "Y",
          "N",
          "N",
          "Y",
          "N",
          "Y",
          "Y",
          "N",
          "Y",
          "Y",
          "N",
          "Y",
          "Y",
          "Y",
          "N",
          "Y",
          "Y",
          "N",
          "N",
          "Y",
          "N",
          "N",
          "N",
          "Y",
          "N",
          "Y",
          "N",
          "N",
          "N",
          "Y",
          "N",
          "Y",
          "Y",
          "Y",
          "Y",
          "Y",
          "N",
          "Y",
          "N",
          "N",
          "Y",
          "N",
          "N",
          "Y",
          "N",
          "Y",
          "N",
          "N",
          "N",
          "Y",
          "Y",
          "Y",
          "Y",
          "N",
          "N",
          "Y",
          "N",
          "N",
          "Y",
          "Y",
          "Y",
          "Y",
          "N",
          "N",
          "Y",
          "N",
          "Y",
          "N",
          "N",
          "N",
          "N",
          "Y",
          "N",
          "N",
          "N",
          "N",
          "N",
          "Y",
          "N",
          "N",
          "N",
          "N",
          "N",
          "Y",
          "N",
          "N",
          "N",
          "Y",
          "Y",
          "Y",
          "N",
          "N",
          "Y",
          "Y"
         ],
         "x0": " ",
         "xaxis": "x",
         "y": [
          84.66,
          71.21,
          69.85,
          62.94,
          113.91,
          79.33,
          96.12,
          93.5,
          85.57,
          86.6,
          109.12,
          125.02,
          76.31,
          90.99,
          80.21,
          86.75,
          144.15,
          80.04,
          131.63,
          94.38,
          122.87,
          85.69,
          115.97,
          68.36,
          99.69,
          74.94,
          96.43,
          64.36,
          55.48,
          82.18,
          103.35,
          83.84,
          73.24,
          63.33,
          87.55,
          70.09,
          91.69,
          88.1,
          112.73,
          109.52,
          99.31,
          112.26,
          64.62,
          127.58,
          77.89,
          131.25,
          100.35,
          91.61,
          104.13,
          86.6,
          48.9,
          63.17,
          64.84,
          88.23,
          82.39,
          57.12,
          104.77,
          147.54,
          137.81,
          109.88,
          86.6,
          97.35,
          77.23,
          76.46,
          81.74,
          76.91,
          97,
          140.59,
          52.62,
          91.43,
          90.64,
          88.34,
          150.35,
          127.68,
          86.88,
          78.92,
          103.51,
          95.92,
          125.43,
          59.31,
          54.54,
          86.6,
          75.98,
          66.21,
          125.41,
          100.1,
          107.75,
          94.54,
          101.64,
          64.07,
          55.68,
          79.34,
          107.32,
          53.31,
          75.06,
          102.94,
          91.76,
          64.55,
          78.76,
          127.34,
          110.75,
          75.01,
          68.01,
          75.94,
          96.18,
          91.12,
          63.53,
          91.51,
          84.44,
          102.99,
          96.22,
          78.45,
          79.99,
          111.43,
          100.6,
          77.22,
          105.05,
          86.98,
          73.44,
          65.18,
          142.42,
          92.83,
          103.01,
          80.53,
          88.04,
          135.86,
          107.45,
          114,
          92.75,
          77.75,
          80.22,
          75.63,
          98.53,
          97.83,
          48.14,
          91.5,
          101.9,
          72.38,
          65.03,
          96.57,
          59.76,
          98.98,
          97.06,
          112.12,
          85.41,
          86.6,
          103.06,
          74.52,
          96.64,
          81.64,
          124.94,
          51.67,
          88.88,
          116.5,
          148.86,
          128.78,
          81.3,
          80.19,
          79.82,
          115.17,
          71.42,
          108.43,
          137.18,
          81.86,
          95.72,
          89.16,
          89.97,
          81.94,
          100.4,
          89.05,
          93.37,
          105.31,
          91.21,
          130.78,
          99.63,
          80.78,
          96.12,
          160.12,
          124.2,
          128.31,
          72.57,
          88.64,
          91.92,
          79.97,
          80.46,
          102.83,
          83.19,
          111.28,
          79.64,
          83.6,
          70.25,
          103.16,
          71.38,
          165.66,
          73.65,
          135.89,
          73.06,
          61.06,
          103.45,
          95.59,
          91.54,
          93.36,
          85.8,
          69.74,
          107.51,
          70.09,
          99.76,
          102.9,
          101.76,
          91.35,
          71.56,
          135.27,
          89.91,
          127.96,
          96.53,
          108.85,
          93.14,
          90.78,
          73.45,
          86.48,
          85.98,
          107.15,
          71.16,
          83.1,
          68.54,
          100.81,
          102.33,
          104,
          89.56,
          113.51,
          136.52,
          137.73,
          72.85,
          112.79,
          85.25,
          102.84,
          93.84,
          132.59,
          99.64,
          60.17,
          84.02,
          104.68,
          73.91,
          71.02,
          101.05,
          77.33,
          80.4,
          135.76,
          110.65,
          83.46,
          97.1,
          82.66,
          78.78,
          112.09,
          72.5,
          112.18,
          75.21,
          68.56,
          59.17,
          85.33,
          89.64,
          71.04,
          103.75,
          88.47,
          80.99,
          89.19,
          103.71,
          132.07,
          63.75,
          75.97,
          116.43,
          73.56,
          76.18,
          123.59,
          88.87,
          113.07,
          83.86,
          80.94,
          56.55,
          68.58,
          89.27,
          89.56,
          111.59,
          78.93,
          73.16,
          63.84,
          93.28,
          118.33,
          65.9,
          94.16,
          103.15,
          90.38,
          121.08,
          91.92,
          70.92,
          93.28,
          78.69,
          71.56,
          93.48,
          54.62,
          73.61,
          96.87,
          100.65,
          124.9,
          48.3,
          128.35,
          69.32,
          64.69,
          82.24,
          82.55,
          71.38,
          113.45,
          79.62,
          87.31,
          87.44,
          104.65,
          55.33,
          90.61,
          115.88,
          61.61,
          72.6,
          85.69,
          84.75,
          73.74,
          90.45,
          67,
          111.49,
          113.49,
          138.36,
          74.86,
          58.69,
          98.11,
          125.56,
          64.92,
          76.84,
          125.92,
          98.55,
          87.48,
          113.05,
          117.28,
          67.82,
          78.44,
          92.01,
          83.38,
          103.74,
          120.55,
          73.29,
          61.22,
          60.04,
          118.81,
          102.21,
          81.43,
          104.34,
          82.58,
          136.68,
          80.62,
          76.36,
          133.29,
          83.86,
          96.39,
          97.23,
          86.02,
          112.5,
          112.48,
          110.94,
          87.38,
          92.05,
          61.23,
          82.86,
          89.41,
          104.58,
          86.6,
          118.09,
          88.1,
          107.16,
          93.53,
          61.9,
          91.63,
          158.85,
          112.82,
          84.68,
          53,
          68.34,
          68.96,
          81.32,
          61.92,
          79.78,
          117.25,
          86.65,
          94.58,
          107.34,
          151.28,
          66.92,
          57.62,
          101.09,
          78.43,
          78.61,
          116.48,
          50.29,
          109.78,
          91.55,
          75.51,
          101.42,
          96.61,
          88.74,
          126.01,
          76.08,
          67.16,
          85.23,
          118.77,
          94.37,
          96.18,
          141.42,
          75.25,
          114.68,
          94.72,
          70.43,
          118.26,
          60.49,
          68.31,
          131.97,
          52.2,
          122.82,
          112.9,
          102.92,
          116.55,
          86.6,
          94.12,
          112.63,
          112.77,
          61.65,
          76.67,
          78.32,
          62.38,
          58.63,
          107.69,
          123.9,
          101.19,
          64.21,
          97,
          82.42,
          85.62,
          88.99,
          91.97,
          97.77,
          179.02,
          60,
          111.33,
          94.83,
          81.78,
          54.32,
          64.35,
          131.41,
          56.41,
          117.17,
          98.22,
          84.73,
          95.25,
          102.63,
          59.29,
          46.17,
          59.92,
          84.22,
          90.77,
          62.6,
          74.8,
          73.09,
          108.8,
          83.16,
          146.35,
          110.26,
          113.73,
          101.71,
          70.82,
          78.13,
          77.85,
          87.31,
          64.11,
          69.88,
          81.85,
          84.37,
          104.82,
          78.71,
          121.06,
          112.2,
          141.03,
          101.69,
          139.32,
          77.67,
          71.83,
          108.65,
          102.52,
          78.95,
          84.9,
          86.6,
          72.55,
          66.6,
          89.07,
          75.89,
          73.83,
          63.67,
          122.75,
          91.89,
          81.84,
          97.94,
          97.87,
          112.32,
          71.85,
          74.56,
          67.82,
          62.97,
          59.95,
          73.17,
          68.04,
          60.97,
          85.25,
          72.06,
          121.1,
          80.25,
          53.12,
          78.24,
          102.66,
          86.6,
          108,
          82.38,
          51.89,
          46.58,
          64.4,
          91.21,
          59.56,
          76.45,
          132.58,
          119.87,
          99.75,
          99.93,
          84.7,
          85.27,
          59.14,
          102.9,
          103.93,
          101.68,
          102.38,
          89.14,
          98.62,
          91.42,
          86.55,
          102.42,
          79.32,
          83.06,
          82.93,
          88.61,
          87.89,
          89.22,
          77.87,
          86.84,
          62.2,
          106.35,
          81.87,
          134.22,
          94.55,
          84.25,
          94.76,
          102.19,
          70.2,
          84.2,
          66.06,
          121.94,
          79.44,
          100.2,
          91.18,
          80.38,
          68.69,
          86.15,
          94.82,
          88.99,
          84.16,
          71.72,
          124.17,
          87.21,
          112.42,
          126.49,
          62.4,
          83.02,
          114.11,
          99.73,
          65.39,
          110.26,
          59.92,
          104.14,
          67.27,
          130.51,
          116.27,
          79.19,
          74.78,
          106.48,
          95.8,
          143.06,
          63.19,
          83.99,
          47.31,
          64.52,
          69.4,
          88.2,
          109.35,
          89.84,
          108.3,
          130.97,
          63.53,
          90.95,
          72.01,
          91.06,
          82.85,
          114.74,
          81.6,
          97.38,
          68.51,
          90.17,
          59.54,
          75.91,
          85.39,
          138.41,
          81.77,
          91.5,
          110.45,
          98.4,
          91.28,
          61.19,
          109.21,
          105.77,
          57.06,
          88.85,
          94.51,
          68.7,
          86.66,
          77.81,
          103.6,
          76.43,
          91.89,
          101.43,
          63.63,
          78.28,
          108.34,
          92.14,
          60.69,
          82.02,
          100.08,
          59.03,
          118.19,
          75.55,
          87.27,
          66.45,
          75.67,
          81.11,
          83.59,
          109.88,
          106.07,
          59.53,
          107.48,
          115.9,
          116.48,
          69.86,
          116.52,
          104.86,
          95.88,
          106.33,
          87.52,
          77.06,
          67.99,
          78.65,
          82.06,
          110.99,
          79.96,
          84.6,
          182.5,
          107.88,
          88.98,
          51.6,
          93.42,
          109.84,
          71.99,
          70.41,
          138.57,
          130.61,
          73.89,
          86.6,
          94.18,
          53.08,
          87.88,
          51.66,
          126.66,
          59.83,
          98.41,
          100.14,
          129.83,
          66.41,
          91.2,
          75.37,
          77.59,
          112.72,
          146.76,
          79.23,
          75.46,
          107.32,
          96.85,
          78.46,
          99.54,
          86.6,
          84.89,
          91.89,
          99.05,
          79.69,
          91.66,
          111.06,
          83.85,
          71.1,
          76.49,
          115.05,
          74.12,
          101.6,
          93.23,
          80.59,
          111.91,
          86.12,
          99.32,
          89.57,
          126.22,
          112.9,
          86.51,
          56.7,
          73.23,
          65.48,
          100.67,
          127.75,
          72.93,
          63.91,
          90.33,
          72.24,
          81.04,
          108.02,
          112.55,
          140.64,
          73.5,
          87.51,
          114.42,
          104.66,
          84.59,
          124.32,
          123.69,
          124.81,
          72.73,
          79.07,
          127.64,
          70.64,
          111.12,
          76.97,
          117.14,
          102.04,
          84.53,
          95.87,
          106.5,
          84.75,
          137.41,
          62.21,
          82.95,
          112.86,
          81.03,
          88.67,
          80.29
         ],
         "y0": " ",
         "yaxis": "y"
        }
       ],
       "layout": {
        "boxmode": "group",
        "legend": {
         "tracegroupgap": 0
        },
        "margin": {
         "t": 60
        },
        "template": {
         "data": {
          "bar": [
           {
            "error_x": {
             "color": "#2a3f5f"
            },
            "error_y": {
             "color": "#2a3f5f"
            },
            "marker": {
             "line": {
              "color": "#E5ECF6",
              "width": 0.5
             },
             "pattern": {
              "fillmode": "overlay",
              "size": 10,
              "solidity": 0.2
             }
            },
            "type": "bar"
           }
          ],
          "barpolar": [
           {
            "marker": {
             "line": {
              "color": "#E5ECF6",
              "width": 0.5
             },
             "pattern": {
              "fillmode": "overlay",
              "size": 10,
              "solidity": 0.2
             }
            },
            "type": "barpolar"
           }
          ],
          "carpet": [
           {
            "aaxis": {
             "endlinecolor": "#2a3f5f",
             "gridcolor": "white",
             "linecolor": "white",
             "minorgridcolor": "white",
             "startlinecolor": "#2a3f5f"
            },
            "baxis": {
             "endlinecolor": "#2a3f5f",
             "gridcolor": "white",
             "linecolor": "white",
             "minorgridcolor": "white",
             "startlinecolor": "#2a3f5f"
            },
            "type": "carpet"
           }
          ],
          "choropleth": [
           {
            "colorbar": {
             "outlinewidth": 0,
             "ticks": ""
            },
            "type": "choropleth"
           }
          ],
          "contour": [
           {
            "colorbar": {
             "outlinewidth": 0,
             "ticks": ""
            },
            "colorscale": [
             [
              0,
              "#0d0887"
             ],
             [
              0.1111111111111111,
              "#46039f"
             ],
             [
              0.2222222222222222,
              "#7201a8"
             ],
             [
              0.3333333333333333,
              "#9c179e"
             ],
             [
              0.4444444444444444,
              "#bd3786"
             ],
             [
              0.5555555555555556,
              "#d8576b"
             ],
             [
              0.6666666666666666,
              "#ed7953"
             ],
             [
              0.7777777777777778,
              "#fb9f3a"
             ],
             [
              0.8888888888888888,
              "#fdca26"
             ],
             [
              1,
              "#f0f921"
             ]
            ],
            "type": "contour"
           }
          ],
          "contourcarpet": [
           {
            "colorbar": {
             "outlinewidth": 0,
             "ticks": ""
            },
            "type": "contourcarpet"
           }
          ],
          "heatmap": [
           {
            "colorbar": {
             "outlinewidth": 0,
             "ticks": ""
            },
            "colorscale": [
             [
              0,
              "#0d0887"
             ],
             [
              0.1111111111111111,
              "#46039f"
             ],
             [
              0.2222222222222222,
              "#7201a8"
             ],
             [
              0.3333333333333333,
              "#9c179e"
             ],
             [
              0.4444444444444444,
              "#bd3786"
             ],
             [
              0.5555555555555556,
              "#d8576b"
             ],
             [
              0.6666666666666666,
              "#ed7953"
             ],
             [
              0.7777777777777778,
              "#fb9f3a"
             ],
             [
              0.8888888888888888,
              "#fdca26"
             ],
             [
              1,
              "#f0f921"
             ]
            ],
            "type": "heatmap"
           }
          ],
          "heatmapgl": [
           {
            "colorbar": {
             "outlinewidth": 0,
             "ticks": ""
            },
            "colorscale": [
             [
              0,
              "#0d0887"
             ],
             [
              0.1111111111111111,
              "#46039f"
             ],
             [
              0.2222222222222222,
              "#7201a8"
             ],
             [
              0.3333333333333333,
              "#9c179e"
             ],
             [
              0.4444444444444444,
              "#bd3786"
             ],
             [
              0.5555555555555556,
              "#d8576b"
             ],
             [
              0.6666666666666666,
              "#ed7953"
             ],
             [
              0.7777777777777778,
              "#fb9f3a"
             ],
             [
              0.8888888888888888,
              "#fdca26"
             ],
             [
              1,
              "#f0f921"
             ]
            ],
            "type": "heatmapgl"
           }
          ],
          "histogram": [
           {
            "marker": {
             "pattern": {
              "fillmode": "overlay",
              "size": 10,
              "solidity": 0.2
             }
            },
            "type": "histogram"
           }
          ],
          "histogram2d": [
           {
            "colorbar": {
             "outlinewidth": 0,
             "ticks": ""
            },
            "colorscale": [
             [
              0,
              "#0d0887"
             ],
             [
              0.1111111111111111,
              "#46039f"
             ],
             [
              0.2222222222222222,
              "#7201a8"
             ],
             [
              0.3333333333333333,
              "#9c179e"
             ],
             [
              0.4444444444444444,
              "#bd3786"
             ],
             [
              0.5555555555555556,
              "#d8576b"
             ],
             [
              0.6666666666666666,
              "#ed7953"
             ],
             [
              0.7777777777777778,
              "#fb9f3a"
             ],
             [
              0.8888888888888888,
              "#fdca26"
             ],
             [
              1,
              "#f0f921"
             ]
            ],
            "type": "histogram2d"
           }
          ],
          "histogram2dcontour": [
           {
            "colorbar": {
             "outlinewidth": 0,
             "ticks": ""
            },
            "colorscale": [
             [
              0,
              "#0d0887"
             ],
             [
              0.1111111111111111,
              "#46039f"
             ],
             [
              0.2222222222222222,
              "#7201a8"
             ],
             [
              0.3333333333333333,
              "#9c179e"
             ],
             [
              0.4444444444444444,
              "#bd3786"
             ],
             [
              0.5555555555555556,
              "#d8576b"
             ],
             [
              0.6666666666666666,
              "#ed7953"
             ],
             [
              0.7777777777777778,
              "#fb9f3a"
             ],
             [
              0.8888888888888888,
              "#fdca26"
             ],
             [
              1,
              "#f0f921"
             ]
            ],
            "type": "histogram2dcontour"
           }
          ],
          "mesh3d": [
           {
            "colorbar": {
             "outlinewidth": 0,
             "ticks": ""
            },
            "type": "mesh3d"
           }
          ],
          "parcoords": [
           {
            "line": {
             "colorbar": {
              "outlinewidth": 0,
              "ticks": ""
             }
            },
            "type": "parcoords"
           }
          ],
          "pie": [
           {
            "automargin": true,
            "type": "pie"
           }
          ],
          "scatter": [
           {
            "fillpattern": {
             "fillmode": "overlay",
             "size": 10,
             "solidity": 0.2
            },
            "type": "scatter"
           }
          ],
          "scatter3d": [
           {
            "line": {
             "colorbar": {
              "outlinewidth": 0,
              "ticks": ""
             }
            },
            "marker": {
             "colorbar": {
              "outlinewidth": 0,
              "ticks": ""
             }
            },
            "type": "scatter3d"
           }
          ],
          "scattercarpet": [
           {
            "marker": {
             "colorbar": {
              "outlinewidth": 0,
              "ticks": ""
             }
            },
            "type": "scattercarpet"
           }
          ],
          "scattergeo": [
           {
            "marker": {
             "colorbar": {
              "outlinewidth": 0,
              "ticks": ""
             }
            },
            "type": "scattergeo"
           }
          ],
          "scattergl": [
           {
            "marker": {
             "colorbar": {
              "outlinewidth": 0,
              "ticks": ""
             }
            },
            "type": "scattergl"
           }
          ],
          "scattermapbox": [
           {
            "marker": {
             "colorbar": {
              "outlinewidth": 0,
              "ticks": ""
             }
            },
            "type": "scattermapbox"
           }
          ],
          "scatterpolar": [
           {
            "marker": {
             "colorbar": {
              "outlinewidth": 0,
              "ticks": ""
             }
            },
            "type": "scatterpolar"
           }
          ],
          "scatterpolargl": [
           {
            "marker": {
             "colorbar": {
              "outlinewidth": 0,
              "ticks": ""
             }
            },
            "type": "scatterpolargl"
           }
          ],
          "scatterternary": [
           {
            "marker": {
             "colorbar": {
              "outlinewidth": 0,
              "ticks": ""
             }
            },
            "type": "scatterternary"
           }
          ],
          "surface": [
           {
            "colorbar": {
             "outlinewidth": 0,
             "ticks": ""
            },
            "colorscale": [
             [
              0,
              "#0d0887"
             ],
             [
              0.1111111111111111,
              "#46039f"
             ],
             [
              0.2222222222222222,
              "#7201a8"
             ],
             [
              0.3333333333333333,
              "#9c179e"
             ],
             [
              0.4444444444444444,
              "#bd3786"
             ],
             [
              0.5555555555555556,
              "#d8576b"
             ],
             [
              0.6666666666666666,
              "#ed7953"
             ],
             [
              0.7777777777777778,
              "#fb9f3a"
             ],
             [
              0.8888888888888888,
              "#fdca26"
             ],
             [
              1,
              "#f0f921"
             ]
            ],
            "type": "surface"
           }
          ],
          "table": [
           {
            "cells": {
             "fill": {
              "color": "#EBF0F8"
             },
             "line": {
              "color": "white"
             }
            },
            "header": {
             "fill": {
              "color": "#C8D4E3"
             },
             "line": {
              "color": "white"
             }
            },
            "type": "table"
           }
          ]
         },
         "layout": {
          "annotationdefaults": {
           "arrowcolor": "#2a3f5f",
           "arrowhead": 0,
           "arrowwidth": 1
          },
          "autotypenumbers": "strict",
          "coloraxis": {
           "colorbar": {
            "outlinewidth": 0,
            "ticks": ""
           }
          },
          "colorscale": {
           "diverging": [
            [
             0,
             "#8e0152"
            ],
            [
             0.1,
             "#c51b7d"
            ],
            [
             0.2,
             "#de77ae"
            ],
            [
             0.3,
             "#f1b6da"
            ],
            [
             0.4,
             "#fde0ef"
            ],
            [
             0.5,
             "#f7f7f7"
            ],
            [
             0.6,
             "#e6f5d0"
            ],
            [
             0.7,
             "#b8e186"
            ],
            [
             0.8,
             "#7fbc41"
            ],
            [
             0.9,
             "#4d9221"
            ],
            [
             1,
             "#276419"
            ]
           ],
           "sequential": [
            [
             0,
             "#0d0887"
            ],
            [
             0.1111111111111111,
             "#46039f"
            ],
            [
             0.2222222222222222,
             "#7201a8"
            ],
            [
             0.3333333333333333,
             "#9c179e"
            ],
            [
             0.4444444444444444,
             "#bd3786"
            ],
            [
             0.5555555555555556,
             "#d8576b"
            ],
            [
             0.6666666666666666,
             "#ed7953"
            ],
            [
             0.7777777777777778,
             "#fb9f3a"
            ],
            [
             0.8888888888888888,
             "#fdca26"
            ],
            [
             1,
             "#f0f921"
            ]
           ],
           "sequentialminus": [
            [
             0,
             "#0d0887"
            ],
            [
             0.1111111111111111,
             "#46039f"
            ],
            [
             0.2222222222222222,
             "#7201a8"
            ],
            [
             0.3333333333333333,
             "#9c179e"
            ],
            [
             0.4444444444444444,
             "#bd3786"
            ],
            [
             0.5555555555555556,
             "#d8576b"
            ],
            [
             0.6666666666666666,
             "#ed7953"
            ],
            [
             0.7777777777777778,
             "#fb9f3a"
            ],
            [
             0.8888888888888888,
             "#fdca26"
            ],
            [
             1,
             "#f0f921"
            ]
           ]
          },
          "colorway": [
           "#636efa",
           "#EF553B",
           "#00cc96",
           "#ab63fa",
           "#FFA15A",
           "#19d3f3",
           "#FF6692",
           "#B6E880",
           "#FF97FF",
           "#FECB52"
          ],
          "font": {
           "color": "#2a3f5f"
          },
          "geo": {
           "bgcolor": "white",
           "lakecolor": "white",
           "landcolor": "#E5ECF6",
           "showlakes": true,
           "showland": true,
           "subunitcolor": "white"
          },
          "hoverlabel": {
           "align": "left"
          },
          "hovermode": "closest",
          "mapbox": {
           "style": "light"
          },
          "paper_bgcolor": "white",
          "plot_bgcolor": "#E5ECF6",
          "polar": {
           "angularaxis": {
            "gridcolor": "white",
            "linecolor": "white",
            "ticks": ""
           },
           "bgcolor": "#E5ECF6",
           "radialaxis": {
            "gridcolor": "white",
            "linecolor": "white",
            "ticks": ""
           }
          },
          "scene": {
           "xaxis": {
            "backgroundcolor": "#E5ECF6",
            "gridcolor": "white",
            "gridwidth": 2,
            "linecolor": "white",
            "showbackground": true,
            "ticks": "",
            "zerolinecolor": "white"
           },
           "yaxis": {
            "backgroundcolor": "#E5ECF6",
            "gridcolor": "white",
            "gridwidth": 2,
            "linecolor": "white",
            "showbackground": true,
            "ticks": "",
            "zerolinecolor": "white"
           },
           "zaxis": {
            "backgroundcolor": "#E5ECF6",
            "gridcolor": "white",
            "gridwidth": 2,
            "linecolor": "white",
            "showbackground": true,
            "ticks": "",
            "zerolinecolor": "white"
           }
          },
          "shapedefaults": {
           "line": {
            "color": "#2a3f5f"
           }
          },
          "ternary": {
           "aaxis": {
            "gridcolor": "white",
            "linecolor": "white",
            "ticks": ""
           },
           "baxis": {
            "gridcolor": "white",
            "linecolor": "white",
            "ticks": ""
           },
           "bgcolor": "#E5ECF6",
           "caxis": {
            "gridcolor": "white",
            "linecolor": "white",
            "ticks": ""
           }
          },
          "title": {
           "x": 0.05
          },
          "xaxis": {
           "automargin": true,
           "gridcolor": "white",
           "linecolor": "white",
           "ticks": "",
           "title": {
            "standoff": 15
           },
           "zerolinecolor": "white",
           "zerolinewidth": 2
          },
          "yaxis": {
           "automargin": true,
           "gridcolor": "white",
           "linecolor": "white",
           "ticks": "",
           "title": {
            "standoff": 15
           },
           "zerolinecolor": "white",
           "zerolinewidth": 2
          }
         }
        },
        "xaxis": {
         "anchor": "y",
         "domain": [
          0,
          1
         ],
         "title": {
          "text": "RESPONSE"
         }
        },
        "yaxis": {
         "anchor": "x",
         "domain": [
          0,
          1
         ],
         "title": {
          "text": "weight"
         }
        }
       }
      },
      "text/html": [
       "<div>                            <div id=\"d20a0789-bc98-428a-a880-1363e8df2b04\" class=\"plotly-graph-div\" style=\"height:525px; width:100%;\"></div>            <script type=\"text/javascript\">                require([\"plotly\"], function(Plotly) {                    window.PLOTLYENV=window.PLOTLYENV || {};                                    if (document.getElementById(\"d20a0789-bc98-428a-a880-1363e8df2b04\")) {                    Plotly.newPlot(                        \"d20a0789-bc98-428a-a880-1363e8df2b04\",                        [{\"alignmentgroup\":\"True\",\"boxpoints\":\"all\",\"hovertemplate\":\"RESPONSE=%{x}<br>weight=%{y}<extra></extra>\",\"legendgroup\":\"\",\"marker\":{\"color\":\"#636efa\"},\"name\":\"\",\"notched\":false,\"offsetgroup\":\"\",\"orientation\":\"v\",\"showlegend\":false,\"x\":[\"N\",\"Y\",\"N\",\"Y\",\"N\",\"Y\",\"N\",\"N\",\"N\",\"Y\",\"Y\",\"N\",\"N\",\"N\",\"N\",\"Y\",\"N\",\"Y\",\"Y\",\"Y\",\"N\",\"N\",\"N\",\"Y\",\"Y\",\"N\",\"N\",\"N\",\"N\",\"N\",\"Y\",\"N\",\"N\",\"N\",\"Y\",\"Y\",\"N\",\"Y\",\"Y\",\"Y\",\"N\",\"N\",\"Y\",\"N\",\"N\",\"N\",\"N\",\"Y\",\"Y\",\"N\",\"N\",\"Y\",\"Y\",\"N\",\"N\",\"N\",\"N\",\"Y\",\"Y\",\"N\",\"N\",\"N\",\"Y\",\"N\",\"N\",\"N\",\"Y\",\"Y\",\"N\",\"N\",\"N\",\"N\",\"Y\",\"N\",\"Y\",\"N\",\"Y\",\"Y\",\"Y\",\"N\",\"N\",\"N\",\"Y\",\"Y\",\"N\",\"N\",\"N\",\"Y\",\"N\",\"N\",\"Y\",\"Y\",\"Y\",\"N\",\"Y\",\"N\",\"Y\",\"Y\",\"Y\",\"Y\",\"N\",\"N\",\"N\",\"N\",\"Y\",\"Y\",\"Y\",\"N\",\"Y\",\"Y\",\"N\",\"N\",\"Y\",\"Y\",\"N\",\"N\",\"N\",\"N\",\"Y\",\"Y\",\"N\",\"Y\",\"Y\",\"N\",\"N\",\"Y\",\"Y\",\"Y\",\"N\",\"N\",\"N\",\"N\",\"N\",\"Y\",\"Y\",\"N\",\"N\",\"Y\",\"N\",\"N\",\"Y\",\"Y\",\"N\",\"Y\",\"N\",\"N\",\"Y\",\"N\",\"N\",\"Y\",\"N\",\"N\",\"Y\",\"N\",\"N\",\"Y\",\"Y\",\"N\",\"N\",\"N\",\"N\",\"Y\",\"Y\",\"Y\",\"N\",\"N\",\"N\",\"N\",\"Y\",\"Y\",\"Y\",\"N\",\"Y\",\"Y\",\"Y\",\"N\",\"Y\",\"Y\",\"N\",\"Y\",\"N\",\"Y\",\"N\",\"Y\",\"N\",\"N\",\"N\",\"N\",\"Y\",\"N\",\"N\",\"N\",\"N\",\"N\",\"Y\",\"N\",\"N\",\"Y\",\"N\",\"N\",\"Y\",\"N\",\"Y\",\"Y\",\"Y\",\"N\",\"N\",\"Y\",\"N\",\"N\",\"Y\",\"N\",\"N\",\"N\",\"N\",\"N\",\"Y\",\"N\",\"Y\",\"N\",\"N\",\"N\",\"Y\",\"N\",\"N\",\"Y\",\"Y\",\"N\",\"N\",\"Y\",\"N\",\"N\",\"Y\",\"Y\",\"N\",\"N\",\"N\",\"N\",\"N\",\"Y\",\"Y\",\"N\",\"N\",\"Y\",\"N\",\"N\",\"N\",\"N\",\"N\",\"N\",\"Y\",\"N\",\"N\",\"Y\",\"Y\",\"N\",\"Y\",\"Y\",\"N\",\"N\",\"N\",\"N\",\"Y\",\"Y\",\"N\",\"N\",\"N\",\"N\",\"N\",\"N\",\"N\",\"N\",\"N\",\"Y\",\"Y\",\"Y\",\"Y\",\"Y\",\"Y\",\"N\",\"N\",\"Y\",\"N\",\"N\",\"Y\",\"N\",\"N\",\"Y\",\"N\",\"Y\",\"N\",\"N\",\"Y\",\"Y\",\"N\",\"N\",\"N\",\"N\",\"Y\",\"N\",\"N\",\"N\",\"Y\",\"Y\",\"N\",\"Y\",\"N\",\"N\",\"N\",\"N\",\"Y\",\"N\",\"N\",\"N\",\"N\",\"Y\",\"N\",\"N\",\"Y\",\"N\",\"Y\",\"Y\",\"N\",\"N\",\"N\",\"N\",\"N\",\"N\",\"Y\",\"Y\",\"N\",\"Y\",\"N\",\"Y\",\"Y\",\"N\",\"Y\",\"Y\",\"N\",\"N\",\"N\",\"Y\",\"N\",\"Y\",\"Y\",\"Y\",\"N\",\"N\",\"N\",\"Y\",\"Y\",\"N\",\"Y\",\"Y\",\"Y\",\"N\",\"N\",\"Y\",\"Y\",\"N\",\"N\",\"N\",\"Y\",\"Y\",\"N\",\"N\",\"N\",\"N\",\"N\",\"Y\",\"N\",\"N\",\"Y\",\"Y\",\"Y\",\"N\",\"N\",\"Y\",\"Y\",\"Y\",\"Y\",\"Y\",\"Y\",\"N\",\"N\",\"Y\",\"Y\",\"Y\",\"N\",\"N\",\"Y\",\"N\",\"N\",\"Y\",\"N\",\"N\",\"N\",\"N\",\"N\",\"N\",\"Y\",\"N\",\"Y\",\"Y\",\"N\",\"N\",\"Y\",\"N\",\"N\",\"N\",\"Y\",\"Y\",\"N\",\"N\",\"N\",\"Y\",\"N\",\"N\",\"Y\",\"N\",\"Y\",\"N\",\"Y\",\"N\",\"N\",\"N\",\"N\",\"N\",\"N\",\"Y\",\"Y\",\"Y\",\"Y\",\"N\",\"Y\",\"N\",\"N\",\"N\",\"Y\",\"Y\",\"N\",\"Y\",\"Y\",\"N\",\"N\",\"Y\",\"N\",\"Y\",\"Y\",\"N\",\"Y\",\"N\",\"Y\",\"N\",\"Y\",\"N\",\"Y\",\"Y\",\"N\",\"Y\",\"Y\",\"Y\",\"Y\",\"Y\",\"Y\",\"N\",\"Y\",\"Y\",\"N\",\"Y\",\"N\",\"N\",\"Y\",\"N\",\"N\",\"N\",\"Y\",\"N\",\"Y\",\"Y\",\"N\",\"N\",\"N\",\"Y\",\"N\",\"Y\",\"N\",\"N\",\"N\",\"N\",\"Y\",\"Y\",\"Y\",\"N\",\"N\",\"N\",\"N\",\"Y\",\"N\",\"N\",\"N\",\"N\",\"Y\",\"Y\",\"Y\",\"Y\",\"N\",\"N\",\"Y\",\"N\",\"Y\",\"N\",\"Y\",\"N\",\"Y\",\"N\",\"N\",\"Y\",\"Y\",\"N\",\"Y\",\"N\",\"N\",\"N\",\"N\",\"N\",\"Y\",\"Y\",\"N\",\"N\",\"N\",\"Y\",\"Y\",\"Y\",\"Y\",\"N\",\"Y\",\"Y\",\"N\",\"N\",\"Y\",\"N\",\"Y\",\"Y\",\"Y\",\"N\",\"Y\",\"N\",\"N\",\"N\",\"Y\",\"Y\",\"Y\",\"Y\",\"N\",\"N\",\"Y\",\"Y\",\"Y\",\"Y\",\"N\",\"N\",\"Y\",\"N\",\"N\",\"Y\",\"Y\",\"Y\",\"N\",\"N\",\"Y\",\"N\",\"N\",\"N\",\"N\",\"Y\",\"N\",\"Y\",\"N\",\"N\",\"N\",\"N\",\"N\",\"Y\",\"N\",\"Y\",\"N\",\"Y\",\"N\",\"Y\",\"Y\",\"Y\",\"N\",\"Y\",\"Y\",\"N\",\"Y\",\"N\",\"N\",\"N\",\"Y\",\"Y\",\"N\",\"N\",\"N\",\"Y\",\"N\",\"Y\",\"Y\",\"N\",\"Y\",\"N\",\"N\",\"Y\",\"Y\",\"Y\",\"N\",\"Y\",\"Y\",\"Y\",\"N\",\"Y\",\"N\",\"Y\",\"N\",\"Y\",\"N\",\"N\",\"Y\",\"Y\",\"N\",\"Y\",\"N\",\"N\",\"Y\",\"Y\",\"N\",\"Y\",\"N\",\"N\",\"Y\",\"N\",\"N\",\"Y\",\"N\",\"N\",\"N\",\"N\",\"N\",\"N\",\"Y\",\"N\",\"Y\",\"N\",\"Y\",\"N\",\"N\",\"Y\",\"N\",\"Y\",\"N\",\"N\",\"N\",\"N\",\"Y\",\"Y\",\"N\",\"N\",\"Y\",\"N\",\"N\",\"N\",\"N\",\"Y\",\"Y\",\"N\",\"N\",\"Y\",\"N\",\"Y\",\"Y\",\"N\",\"Y\",\"Y\",\"N\",\"Y\",\"Y\",\"Y\",\"N\",\"Y\",\"Y\",\"N\",\"N\",\"Y\",\"N\",\"N\",\"N\",\"Y\",\"N\",\"Y\",\"N\",\"N\",\"N\",\"Y\",\"N\",\"Y\",\"Y\",\"Y\",\"Y\",\"Y\",\"N\",\"Y\",\"N\",\"N\",\"Y\",\"N\",\"N\",\"Y\",\"N\",\"Y\",\"N\",\"N\",\"N\",\"Y\",\"Y\",\"Y\",\"Y\",\"N\",\"N\",\"Y\",\"N\",\"N\",\"Y\",\"Y\",\"Y\",\"Y\",\"N\",\"N\",\"Y\",\"N\",\"Y\",\"N\",\"N\",\"N\",\"N\",\"Y\",\"N\",\"N\",\"N\",\"N\",\"N\",\"Y\",\"N\",\"N\",\"N\",\"N\",\"N\",\"Y\",\"N\",\"N\",\"N\",\"Y\",\"Y\",\"Y\",\"N\",\"N\",\"Y\",\"Y\"],\"x0\":\" \",\"xaxis\":\"x\",\"y\":[84.66,71.21,69.85,62.94,113.91,79.33,96.12,93.5,85.57,86.6,109.12,125.02,76.31,90.99,80.21,86.75,144.15,80.04,131.63,94.38,122.87,85.69,115.97,68.36,99.69,74.94,96.43,64.36,55.48,82.18,103.35,83.84,73.24,63.33,87.55,70.09,91.69,88.1,112.73,109.52,99.31,112.26,64.62,127.58,77.89,131.25,100.35,91.61,104.13,86.6,48.9,63.17,64.84,88.23,82.39,57.12,104.77,147.54,137.81,109.88,86.6,97.35,77.23,76.46,81.74,76.91,97.0,140.59,52.62,91.43,90.64,88.34,150.35,127.68,86.88,78.92,103.51,95.92,125.43,59.31,54.54,86.6,75.98,66.21,125.41,100.1,107.75,94.54,101.64,64.07,55.68,79.34,107.32,53.31,75.06,102.94,91.76,64.55,78.76,127.34,110.75,75.01,68.01,75.94,96.18,91.12,63.53,91.51,84.44,102.99,96.22,78.45,79.99,111.43,100.6,77.22,105.05,86.98,73.44,65.18,142.42,92.83,103.01,80.53,88.04,135.86,107.45,114.0,92.75,77.75,80.22,75.63,98.53,97.83,48.14,91.5,101.9,72.38,65.03,96.57,59.76,98.98,97.06,112.12,85.41,86.6,103.06,74.52,96.64,81.64,124.94,51.67,88.88,116.5,148.86,128.78,81.3,80.19,79.82,115.17,71.42,108.43,137.18,81.86,95.72,89.16,89.97,81.94,100.4,89.05,93.37,105.31,91.21,130.78,99.63,80.78,96.12,160.12,124.2,128.31,72.57,88.64,91.92,79.97,80.46,102.83,83.19,111.28,79.64,83.6,70.25,103.16,71.38,165.66,73.65,135.89,73.06,61.06,103.45,95.59,91.54,93.36,85.8,69.74,107.51,70.09,99.76,102.9,101.76,91.35,71.56,135.27,89.91,127.96,96.53,108.85,93.14,90.78,73.45,86.48,85.98,107.15,71.16,83.1,68.54,100.81,102.33,104.0,89.56,113.51,136.52,137.73,72.85,112.79,85.25,102.84,93.84,132.59,99.64,60.17,84.02,104.68,73.91,71.02,101.05,77.33,80.4,135.76,110.65,83.46,97.1,82.66,78.78,112.09,72.5,112.18,75.21,68.56,59.17,85.33,89.64,71.04,103.75,88.47,80.99,89.19,103.71,132.07,63.75,75.97,116.43,73.56,76.18,123.59,88.87,113.07,83.86,80.94,56.55,68.58,89.27,89.56,111.59,78.93,73.16,63.84,93.28,118.33,65.9,94.16,103.15,90.38,121.08,91.92,70.92,93.28,78.69,71.56,93.48,54.62,73.61,96.87,100.65,124.9,48.3,128.35,69.32,64.69,82.24,82.55,71.38,113.45,79.62,87.31,87.44,104.65,55.33,90.61,115.88,61.61,72.6,85.69,84.75,73.74,90.45,67.0,111.49,113.49,138.36,74.86,58.69,98.11,125.56,64.92,76.84,125.92,98.55,87.48,113.05,117.28,67.82,78.44,92.01,83.38,103.74,120.55,73.29,61.22,60.04,118.81,102.21,81.43,104.34,82.58,136.68,80.62,76.36,133.29,83.86,96.39,97.23,86.02,112.5,112.48,110.94,87.38,92.05,61.23,82.86,89.41,104.58,86.6,118.09,88.1,107.16,93.53,61.9,91.63,158.85,112.82,84.68,53.0,68.34,68.96,81.32,61.92,79.78,117.25,86.65,94.58,107.34,151.28,66.92,57.62,101.09,78.43,78.61,116.48,50.29,109.78,91.55,75.51,101.42,96.61,88.74,126.01,76.08,67.16,85.23,118.77,94.37,96.18,141.42,75.25,114.68,94.72,70.43,118.26,60.49,68.31,131.97,52.2,122.82,112.9,102.92,116.55,86.6,94.12,112.63,112.77,61.65,76.67,78.32,62.38,58.63,107.69,123.9,101.19,64.21,97.0,82.42,85.62,88.99,91.97,97.77,179.02,60.0,111.33,94.83,81.78,54.32,64.35,131.41,56.41,117.17,98.22,84.73,95.25,102.63,59.29,46.17,59.92,84.22,90.77,62.6,74.8,73.09,108.8,83.16,146.35,110.26,113.73,101.71,70.82,78.13,77.85,87.31,64.11,69.88,81.85,84.37,104.82,78.71,121.06,112.2,141.03,101.69,139.32,77.67,71.83,108.65,102.52,78.95,84.9,86.6,72.55,66.6,89.07,75.89,73.83,63.67,122.75,91.89,81.84,97.94,97.87,112.32,71.85,74.56,67.82,62.97,59.95,73.17,68.04,60.97,85.25,72.06,121.1,80.25,53.12,78.24,102.66,86.6,108.0,82.38,51.89,46.58,64.4,91.21,59.56,76.45,132.58,119.87,99.75,99.93,84.7,85.27,59.14,102.9,103.93,101.68,102.38,89.14,98.62,91.42,86.55,102.42,79.32,83.06,82.93,88.61,87.89,89.22,77.87,86.84,62.2,106.35,81.87,134.22,94.55,84.25,94.76,102.19,70.2,84.2,66.06,121.94,79.44,100.2,91.18,80.38,68.69,86.15,94.82,88.99,84.16,71.72,124.17,87.21,112.42,126.49,62.4,83.02,114.11,99.73,65.39,110.26,59.92,104.14,67.27,130.51,116.27,79.19,74.78,106.48,95.8,143.06,63.19,83.99,47.31,64.52,69.4,88.2,109.35,89.84,108.3,130.97,63.53,90.95,72.01,91.06,82.85,114.74,81.6,97.38,68.51,90.17,59.54,75.91,85.39,138.41,81.77,91.5,110.45,98.4,91.28,61.19,109.21,105.77,57.06,88.85,94.51,68.7,86.66,77.81,103.6,76.43,91.89,101.43,63.63,78.28,108.34,92.14,60.69,82.02,100.08,59.03,118.19,75.55,87.27,66.45,75.67,81.11,83.59,109.88,106.07,59.53,107.48,115.9,116.48,69.86,116.52,104.86,95.88,106.33,87.52,77.06,67.99,78.65,82.06,110.99,79.96,84.6,182.5,107.88,88.98,51.6,93.42,109.84,71.99,70.41,138.57,130.61,73.89,86.6,94.18,53.08,87.88,51.66,126.66,59.83,98.41,100.14,129.83,66.41,91.2,75.37,77.59,112.72,146.76,79.23,75.46,107.32,96.85,78.46,99.54,86.6,84.89,91.89,99.05,79.69,91.66,111.06,83.85,71.1,76.49,115.05,74.12,101.6,93.23,80.59,111.91,86.12,99.32,89.57,126.22,112.9,86.51,56.7,73.23,65.48,100.67,127.75,72.93,63.91,90.33,72.24,81.04,108.02,112.55,140.64,73.5,87.51,114.42,104.66,84.59,124.32,123.69,124.81,72.73,79.07,127.64,70.64,111.12,76.97,117.14,102.04,84.53,95.87,106.5,84.75,137.41,62.21,82.95,112.86,81.03,88.67,80.29],\"y0\":\" \",\"yaxis\":\"y\",\"type\":\"box\"}],                        {\"template\":{\"data\":{\"histogram2dcontour\":[{\"type\":\"histogram2dcontour\",\"colorbar\":{\"outlinewidth\":0,\"ticks\":\"\"},\"colorscale\":[[0.0,\"#0d0887\"],[0.1111111111111111,\"#46039f\"],[0.2222222222222222,\"#7201a8\"],[0.3333333333333333,\"#9c179e\"],[0.4444444444444444,\"#bd3786\"],[0.5555555555555556,\"#d8576b\"],[0.6666666666666666,\"#ed7953\"],[0.7777777777777778,\"#fb9f3a\"],[0.8888888888888888,\"#fdca26\"],[1.0,\"#f0f921\"]]}],\"choropleth\":[{\"type\":\"choropleth\",\"colorbar\":{\"outlinewidth\":0,\"ticks\":\"\"}}],\"histogram2d\":[{\"type\":\"histogram2d\",\"colorbar\":{\"outlinewidth\":0,\"ticks\":\"\"},\"colorscale\":[[0.0,\"#0d0887\"],[0.1111111111111111,\"#46039f\"],[0.2222222222222222,\"#7201a8\"],[0.3333333333333333,\"#9c179e\"],[0.4444444444444444,\"#bd3786\"],[0.5555555555555556,\"#d8576b\"],[0.6666666666666666,\"#ed7953\"],[0.7777777777777778,\"#fb9f3a\"],[0.8888888888888888,\"#fdca26\"],[1.0,\"#f0f921\"]]}],\"heatmap\":[{\"type\":\"heatmap\",\"colorbar\":{\"outlinewidth\":0,\"ticks\":\"\"},\"colorscale\":[[0.0,\"#0d0887\"],[0.1111111111111111,\"#46039f\"],[0.2222222222222222,\"#7201a8\"],[0.3333333333333333,\"#9c179e\"],[0.4444444444444444,\"#bd3786\"],[0.5555555555555556,\"#d8576b\"],[0.6666666666666666,\"#ed7953\"],[0.7777777777777778,\"#fb9f3a\"],[0.8888888888888888,\"#fdca26\"],[1.0,\"#f0f921\"]]}],\"heatmapgl\":[{\"type\":\"heatmapgl\",\"colorbar\":{\"outlinewidth\":0,\"ticks\":\"\"},\"colorscale\":[[0.0,\"#0d0887\"],[0.1111111111111111,\"#46039f\"],[0.2222222222222222,\"#7201a8\"],[0.3333333333333333,\"#9c179e\"],[0.4444444444444444,\"#bd3786\"],[0.5555555555555556,\"#d8576b\"],[0.6666666666666666,\"#ed7953\"],[0.7777777777777778,\"#fb9f3a\"],[0.8888888888888888,\"#fdca26\"],[1.0,\"#f0f921\"]]}],\"contourcarpet\":[{\"type\":\"contourcarpet\",\"colorbar\":{\"outlinewidth\":0,\"ticks\":\"\"}}],\"contour\":[{\"type\":\"contour\",\"colorbar\":{\"outlinewidth\":0,\"ticks\":\"\"},\"colorscale\":[[0.0,\"#0d0887\"],[0.1111111111111111,\"#46039f\"],[0.2222222222222222,\"#7201a8\"],[0.3333333333333333,\"#9c179e\"],[0.4444444444444444,\"#bd3786\"],[0.5555555555555556,\"#d8576b\"],[0.6666666666666666,\"#ed7953\"],[0.7777777777777778,\"#fb9f3a\"],[0.8888888888888888,\"#fdca26\"],[1.0,\"#f0f921\"]]}],\"surface\":[{\"type\":\"surface\",\"colorbar\":{\"outlinewidth\":0,\"ticks\":\"\"},\"colorscale\":[[0.0,\"#0d0887\"],[0.1111111111111111,\"#46039f\"],[0.2222222222222222,\"#7201a8\"],[0.3333333333333333,\"#9c179e\"],[0.4444444444444444,\"#bd3786\"],[0.5555555555555556,\"#d8576b\"],[0.6666666666666666,\"#ed7953\"],[0.7777777777777778,\"#fb9f3a\"],[0.8888888888888888,\"#fdca26\"],[1.0,\"#f0f921\"]]}],\"mesh3d\":[{\"type\":\"mesh3d\",\"colorbar\":{\"outlinewidth\":0,\"ticks\":\"\"}}],\"scatter\":[{\"fillpattern\":{\"fillmode\":\"overlay\",\"size\":10,\"solidity\":0.2},\"type\":\"scatter\"}],\"parcoords\":[{\"type\":\"parcoords\",\"line\":{\"colorbar\":{\"outlinewidth\":0,\"ticks\":\"\"}}}],\"scatterpolargl\":[{\"type\":\"scatterpolargl\",\"marker\":{\"colorbar\":{\"outlinewidth\":0,\"ticks\":\"\"}}}],\"bar\":[{\"error_x\":{\"color\":\"#2a3f5f\"},\"error_y\":{\"color\":\"#2a3f5f\"},\"marker\":{\"line\":{\"color\":\"#E5ECF6\",\"width\":0.5},\"pattern\":{\"fillmode\":\"overlay\",\"size\":10,\"solidity\":0.2}},\"type\":\"bar\"}],\"scattergeo\":[{\"type\":\"scattergeo\",\"marker\":{\"colorbar\":{\"outlinewidth\":0,\"ticks\":\"\"}}}],\"scatterpolar\":[{\"type\":\"scatterpolar\",\"marker\":{\"colorbar\":{\"outlinewidth\":0,\"ticks\":\"\"}}}],\"histogram\":[{\"marker\":{\"pattern\":{\"fillmode\":\"overlay\",\"size\":10,\"solidity\":0.2}},\"type\":\"histogram\"}],\"scattergl\":[{\"type\":\"scattergl\",\"marker\":{\"colorbar\":{\"outlinewidth\":0,\"ticks\":\"\"}}}],\"scatter3d\":[{\"type\":\"scatter3d\",\"line\":{\"colorbar\":{\"outlinewidth\":0,\"ticks\":\"\"}},\"marker\":{\"colorbar\":{\"outlinewidth\":0,\"ticks\":\"\"}}}],\"scattermapbox\":[{\"type\":\"scattermapbox\",\"marker\":{\"colorbar\":{\"outlinewidth\":0,\"ticks\":\"\"}}}],\"scatterternary\":[{\"type\":\"scatterternary\",\"marker\":{\"colorbar\":{\"outlinewidth\":0,\"ticks\":\"\"}}}],\"scattercarpet\":[{\"type\":\"scattercarpet\",\"marker\":{\"colorbar\":{\"outlinewidth\":0,\"ticks\":\"\"}}}],\"carpet\":[{\"aaxis\":{\"endlinecolor\":\"#2a3f5f\",\"gridcolor\":\"white\",\"linecolor\":\"white\",\"minorgridcolor\":\"white\",\"startlinecolor\":\"#2a3f5f\"},\"baxis\":{\"endlinecolor\":\"#2a3f5f\",\"gridcolor\":\"white\",\"linecolor\":\"white\",\"minorgridcolor\":\"white\",\"startlinecolor\":\"#2a3f5f\"},\"type\":\"carpet\"}],\"table\":[{\"cells\":{\"fill\":{\"color\":\"#EBF0F8\"},\"line\":{\"color\":\"white\"}},\"header\":{\"fill\":{\"color\":\"#C8D4E3\"},\"line\":{\"color\":\"white\"}},\"type\":\"table\"}],\"barpolar\":[{\"marker\":{\"line\":{\"color\":\"#E5ECF6\",\"width\":0.5},\"pattern\":{\"fillmode\":\"overlay\",\"size\":10,\"solidity\":0.2}},\"type\":\"barpolar\"}],\"pie\":[{\"automargin\":true,\"type\":\"pie\"}]},\"layout\":{\"autotypenumbers\":\"strict\",\"colorway\":[\"#636efa\",\"#EF553B\",\"#00cc96\",\"#ab63fa\",\"#FFA15A\",\"#19d3f3\",\"#FF6692\",\"#B6E880\",\"#FF97FF\",\"#FECB52\"],\"font\":{\"color\":\"#2a3f5f\"},\"hovermode\":\"closest\",\"hoverlabel\":{\"align\":\"left\"},\"paper_bgcolor\":\"white\",\"plot_bgcolor\":\"#E5ECF6\",\"polar\":{\"bgcolor\":\"#E5ECF6\",\"angularaxis\":{\"gridcolor\":\"white\",\"linecolor\":\"white\",\"ticks\":\"\"},\"radialaxis\":{\"gridcolor\":\"white\",\"linecolor\":\"white\",\"ticks\":\"\"}},\"ternary\":{\"bgcolor\":\"#E5ECF6\",\"aaxis\":{\"gridcolor\":\"white\",\"linecolor\":\"white\",\"ticks\":\"\"},\"baxis\":{\"gridcolor\":\"white\",\"linecolor\":\"white\",\"ticks\":\"\"},\"caxis\":{\"gridcolor\":\"white\",\"linecolor\":\"white\",\"ticks\":\"\"}},\"coloraxis\":{\"colorbar\":{\"outlinewidth\":0,\"ticks\":\"\"}},\"colorscale\":{\"sequential\":[[0.0,\"#0d0887\"],[0.1111111111111111,\"#46039f\"],[0.2222222222222222,\"#7201a8\"],[0.3333333333333333,\"#9c179e\"],[0.4444444444444444,\"#bd3786\"],[0.5555555555555556,\"#d8576b\"],[0.6666666666666666,\"#ed7953\"],[0.7777777777777778,\"#fb9f3a\"],[0.8888888888888888,\"#fdca26\"],[1.0,\"#f0f921\"]],\"sequentialminus\":[[0.0,\"#0d0887\"],[0.1111111111111111,\"#46039f\"],[0.2222222222222222,\"#7201a8\"],[0.3333333333333333,\"#9c179e\"],[0.4444444444444444,\"#bd3786\"],[0.5555555555555556,\"#d8576b\"],[0.6666666666666666,\"#ed7953\"],[0.7777777777777778,\"#fb9f3a\"],[0.8888888888888888,\"#fdca26\"],[1.0,\"#f0f921\"]],\"diverging\":[[0,\"#8e0152\"],[0.1,\"#c51b7d\"],[0.2,\"#de77ae\"],[0.3,\"#f1b6da\"],[0.4,\"#fde0ef\"],[0.5,\"#f7f7f7\"],[0.6,\"#e6f5d0\"],[0.7,\"#b8e186\"],[0.8,\"#7fbc41\"],[0.9,\"#4d9221\"],[1,\"#276419\"]]},\"xaxis\":{\"gridcolor\":\"white\",\"linecolor\":\"white\",\"ticks\":\"\",\"title\":{\"standoff\":15},\"zerolinecolor\":\"white\",\"automargin\":true,\"zerolinewidth\":2},\"yaxis\":{\"gridcolor\":\"white\",\"linecolor\":\"white\",\"ticks\":\"\",\"title\":{\"standoff\":15},\"zerolinecolor\":\"white\",\"automargin\":true,\"zerolinewidth\":2},\"scene\":{\"xaxis\":{\"backgroundcolor\":\"#E5ECF6\",\"gridcolor\":\"white\",\"linecolor\":\"white\",\"showbackground\":true,\"ticks\":\"\",\"zerolinecolor\":\"white\",\"gridwidth\":2},\"yaxis\":{\"backgroundcolor\":\"#E5ECF6\",\"gridcolor\":\"white\",\"linecolor\":\"white\",\"showbackground\":true,\"ticks\":\"\",\"zerolinecolor\":\"white\",\"gridwidth\":2},\"zaxis\":{\"backgroundcolor\":\"#E5ECF6\",\"gridcolor\":\"white\",\"linecolor\":\"white\",\"showbackground\":true,\"ticks\":\"\",\"zerolinecolor\":\"white\",\"gridwidth\":2}},\"shapedefaults\":{\"line\":{\"color\":\"#2a3f5f\"}},\"annotationdefaults\":{\"arrowcolor\":\"#2a3f5f\",\"arrowhead\":0,\"arrowwidth\":1},\"geo\":{\"bgcolor\":\"white\",\"landcolor\":\"#E5ECF6\",\"subunitcolor\":\"white\",\"showland\":true,\"showlakes\":true,\"lakecolor\":\"white\"},\"title\":{\"x\":0.05},\"mapbox\":{\"style\":\"light\"}}},\"xaxis\":{\"anchor\":\"y\",\"domain\":[0.0,1.0],\"title\":{\"text\":\"RESPONSE\"}},\"yaxis\":{\"anchor\":\"x\",\"domain\":[0.0,1.0],\"title\":{\"text\":\"weight\"}},\"legend\":{\"tracegroupgap\":0},\"margin\":{\"t\":60},\"boxmode\":\"group\"},                        {\"responsive\": true}                    ).then(function(){\n",
       "                            \n",
       "var gd = document.getElementById('d20a0789-bc98-428a-a880-1363e8df2b04');\n",
       "var x = new MutationObserver(function (mutations, observer) {{\n",
       "        var display = window.getComputedStyle(gd).display;\n",
       "        if (!display || display === 'none') {{\n",
       "            console.log([gd, 'removed!']);\n",
       "            Plotly.purge(gd);\n",
       "            observer.disconnect();\n",
       "        }}\n",
       "}});\n",
       "\n",
       "// Listen for the removal of the full notebook cells\n",
       "var notebookContainer = gd.closest('#notebook-container');\n",
       "if (notebookContainer) {{\n",
       "    x.observe(notebookContainer, {childList: true});\n",
       "}}\n",
       "\n",
       "// Listen for the clearing of the current output cell\n",
       "var outputEl = gd.closest('.output');\n",
       "if (outputEl) {{\n",
       "    x.observe(outputEl, {childList: true});\n",
       "}}\n",
       "\n",
       "                        })                };                });            </script>        </div>"
      ]
     },
     "metadata": {},
     "output_type": "display_data"
    }
   ],
   "source": [
    "px.box(df_merged, x=\"RESPONSE\", y=\"weight\", points=\"all\")"
   ]
  },
  {
   "cell_type": "code",
   "execution_count": 464,
   "id": "ccaead97",
   "metadata": {},
   "outputs": [],
   "source": [
    "###** RESPONSE = NO or tumors are getting bigger **###\n",
    "# average weight of patient = 86.6\n",
    "# 50% data where range of patient weight is from 75.67 to 102.94\n",
    "# strongly agreed weight of patient is 142.42\n",
    "# weakly agreed weight of patient is 47.31\n",
    "\n",
    "###** RESPONSE = YES or tumors are shrinking **###\n",
    "# average weight of patient = 91.09\n",
    "# 50% data where range of patient weight is from 76.08 to 107.34\n",
    "# strongly agreed weight of patient is 150.35\n",
    "# weakly agreed weight of patient is 46.17"
   ]
  },
  {
   "cell_type": "code",
   "execution_count": 465,
   "id": "2d6e2ce2",
   "metadata": {},
   "outputs": [
    {
     "data": {
      "application/vnd.plotly.v1+json": {
       "config": {
        "plotlyServerURL": "https://plot.ly"
       },
       "data": [
        {
         "alignmentgroup": "True",
         "boxpoints": "all",
         "hovertemplate": "trt_grp=DRUG<br>RESPONSE=%{x}<br>weight=%{y}<extra></extra>",
         "legendgroup": "DRUG",
         "marker": {
          "color": "#636efa"
         },
         "name": "DRUG",
         "notched": false,
         "offsetgroup": "DRUG",
         "orientation": "v",
         "showlegend": true,
         "type": "box",
         "x": [
          "N",
          "Y",
          "Y",
          "N",
          "N",
          "Y",
          "N",
          "N",
          "N",
          "N",
          "Y",
          "Y",
          "Y",
          "N",
          "N",
          "Y",
          "N",
          "N",
          "N",
          "Y",
          "N",
          "Y",
          "Y",
          "Y",
          "Y",
          "Y",
          "N",
          "Y",
          "N",
          "N",
          "N",
          "Y",
          "N",
          "N",
          "Y",
          "N",
          "Y",
          "Y",
          "N",
          "N",
          "Y",
          "Y",
          "N",
          "Y",
          "Y",
          "Y",
          "Y",
          "N",
          "Y",
          "Y",
          "Y",
          "Y",
          "N",
          "Y",
          "N",
          "N",
          "Y",
          "Y",
          "Y",
          "Y",
          "N",
          "Y",
          "Y",
          "Y",
          "N",
          "Y",
          "Y",
          "Y",
          "Y",
          "Y",
          "Y",
          "N",
          "N",
          "N",
          "N",
          "Y",
          "Y",
          "Y",
          "Y",
          "Y",
          "N",
          "N",
          "Y",
          "Y",
          "Y",
          "Y",
          "Y",
          "Y",
          "Y",
          "Y",
          "Y",
          "N",
          "N",
          "N",
          "Y",
          "N",
          "Y",
          "N",
          "Y",
          "Y",
          "Y",
          "Y",
          "N",
          "N",
          "Y",
          "N",
          "Y",
          "N",
          "N",
          "Y",
          "Y",
          "N",
          "N",
          "Y",
          "N",
          "Y",
          "Y",
          "N",
          "Y",
          "Y",
          "N",
          "Y",
          "N",
          "N",
          "N",
          "N",
          "Y",
          "Y",
          "Y",
          "Y",
          "N",
          "N",
          "Y",
          "N",
          "N",
          "N",
          "N",
          "N",
          "Y",
          "Y",
          "Y",
          "N",
          "N",
          "Y",
          "N",
          "N",
          "Y",
          "N",
          "Y",
          "Y",
          "Y",
          "N",
          "N",
          "N",
          "Y",
          "N",
          "N",
          "N",
          "Y",
          "N",
          "Y",
          "N",
          "N",
          "Y",
          "Y",
          "Y",
          "N",
          "Y",
          "N",
          "Y",
          "N",
          "N",
          "Y",
          "Y",
          "Y",
          "Y",
          "N",
          "N",
          "Y",
          "Y",
          "N",
          "Y",
          "Y",
          "Y",
          "N",
          "Y",
          "Y",
          "Y",
          "Y",
          "N",
          "Y",
          "Y",
          "Y",
          "N",
          "Y",
          "N",
          "Y",
          "N",
          "Y",
          "Y",
          "N",
          "Y",
          "N",
          "N",
          "Y",
          "N",
          "Y",
          "N",
          "N",
          "N",
          "Y",
          "Y",
          "Y",
          "Y",
          "N",
          "Y",
          "Y",
          "N",
          "Y",
          "Y",
          "N",
          "Y",
          "Y",
          "N",
          "Y",
          "Y",
          "N",
          "Y",
          "Y",
          "Y",
          "Y",
          "Y",
          "Y",
          "N",
          "Y",
          "N",
          "N",
          "Y",
          "N",
          "Y",
          "N",
          "N",
          "Y",
          "N",
          "N",
          "N",
          "Y",
          "N",
          "N",
          "Y",
          "Y",
          "N",
          "Y",
          "N",
          "Y",
          "N",
          "N",
          "N",
          "Y",
          "Y",
          "Y",
          "Y",
          "N",
          "Y",
          "N",
          "Y",
          "Y",
          "Y",
          "N",
          "N",
          "N",
          "Y",
          "Y",
          "N",
          "Y",
          "Y",
          "Y",
          "Y",
          "Y",
          "N",
          "Y",
          "N",
          "N",
          "N",
          "N",
          "Y",
          "Y",
          "N",
          "N",
          "Y",
          "Y",
          "N",
          "N",
          "Y",
          "N",
          "N",
          "Y",
          "N",
          "Y",
          "N",
          "Y",
          "Y",
          "Y",
          "Y",
          "Y",
          "Y",
          "N",
          "Y",
          "Y",
          "Y",
          "N",
          "Y",
          "N",
          "N",
          "Y",
          "Y",
          "Y",
          "N",
          "N",
          "N",
          "N",
          "N",
          "Y",
          "Y",
          "N",
          "N",
          "N",
          "N",
          "Y",
          "N",
          "Y",
          "N",
          "N",
          "N",
          "N",
          "Y",
          "Y",
          "N",
          "Y",
          "Y",
          "Y",
          "Y",
          "N",
          "Y",
          "Y",
          "N",
          "Y",
          "N",
          "N",
          "Y",
          "Y",
          "N",
          "N",
          "N",
          "Y",
          "Y",
          "Y",
          "Y",
          "Y",
          "N",
          "Y",
          "N",
          "Y",
          "Y",
          "N",
          "N",
          "Y",
          "Y",
          "Y",
          "Y",
          "N",
          "N",
          "N",
          "N",
          "Y",
          "N",
          "N",
          "N",
          "Y",
          "N",
          "N",
          "Y",
          "Y"
         ],
         "x0": " ",
         "xaxis": "x",
         "y": [
          84.66,
          71.21,
          62.94,
          93.5,
          85.57,
          86.6,
          125.02,
          76.31,
          90.99,
          80.21,
          86.75,
          131.63,
          94.38,
          85.69,
          115.97,
          99.69,
          74.94,
          96.43,
          55.48,
          103.35,
          83.84,
          87.55,
          70.09,
          88.1,
          112.73,
          109.52,
          99.31,
          64.62,
          127.58,
          77.89,
          100.35,
          104.13,
          86.6,
          48.9,
          63.17,
          104.77,
          147.54,
          137.81,
          97.35,
          52.62,
          150.35,
          86.88,
          78.92,
          95.92,
          125.43,
          66.21,
          94.54,
          53.31,
          91.76,
          64.55,
          78.76,
          127.34,
          110.75,
          96.18,
          91.51,
          78.45,
          79.99,
          73.44,
          92.83,
          103.01,
          80.53,
          135.86,
          107.45,
          114,
          77.75,
          97.83,
          48.14,
          59.76,
          112.12,
          103.06,
          81.64,
          124.94,
          51.67,
          116.5,
          148.86,
          128.78,
          81.3,
          108.43,
          137.18,
          81.86,
          95.72,
          89.97,
          100.4,
          89.05,
          93.37,
          91.21,
          130.78,
          99.63,
          96.12,
          160.12,
          88.64,
          91.92,
          80.46,
          83.19,
          79.64,
          103.16,
          61.06,
          95.59,
          91.54,
          85.8,
          69.74,
          107.51,
          70.09,
          91.35,
          73.45,
          107.15,
          71.16,
          83.1,
          68.54,
          100.81,
          102.33,
          104,
          89.56,
          113.51,
          137.73,
          72.85,
          112.79,
          93.84,
          60.17,
          84.02,
          73.91,
          71.02,
          101.05,
          77.33,
          80.4,
          135.76,
          97.1,
          112.09,
          75.21,
          68.56,
          85.33,
          71.04,
          103.75,
          80.99,
          103.71,
          132.07,
          75.97,
          73.56,
          123.59,
          83.86,
          56.55,
          68.58,
          89.27,
          89.56,
          111.59,
          78.93,
          73.16,
          65.9,
          94.16,
          121.08,
          91.92,
          73.61,
          96.87,
          48.3,
          128.35,
          69.32,
          64.69,
          79.62,
          104.65,
          55.33,
          85.69,
          73.74,
          67,
          138.36,
          98.11,
          64.92,
          125.92,
          98.55,
          67.82,
          78.44,
          92.01,
          60.04,
          118.81,
          102.21,
          82.58,
          83.86,
          96.39,
          97.23,
          112.5,
          112.48,
          92.05,
          118.09,
          88.1,
          107.16,
          93.53,
          112.82,
          84.68,
          53,
          68.34,
          81.32,
          61.92,
          79.78,
          107.34,
          151.28,
          57.62,
          109.78,
          91.55,
          75.51,
          101.42,
          76.08,
          67.16,
          96.18,
          141.42,
          118.26,
          60.49,
          68.31,
          122.82,
          102.92,
          94.12,
          112.63,
          61.65,
          76.67,
          78.32,
          58.63,
          101.19,
          64.21,
          85.62,
          97.77,
          111.33,
          94.83,
          81.78,
          54.32,
          117.17,
          98.22,
          84.73,
          95.25,
          102.63,
          46.17,
          59.92,
          84.22,
          62.6,
          73.09,
          146.35,
          113.73,
          101.71,
          78.13,
          64.11,
          69.88,
          112.2,
          141.03,
          101.69,
          71.83,
          108.65,
          72.55,
          73.83,
          122.75,
          97.87,
          112.32,
          71.85,
          74.56,
          62.97,
          59.95,
          60.97,
          85.25,
          121.1,
          53.12,
          86.6,
          82.38,
          46.58,
          119.87,
          99.75,
          99.93,
          84.7,
          85.27,
          103.93,
          101.68,
          98.62,
          91.42,
          86.55,
          79.32,
          83.06,
          89.22,
          77.87,
          62.2,
          106.35,
          66.06,
          121.94,
          79.44,
          80.38,
          68.69,
          84.16,
          87.21,
          112.42,
          126.49,
          62.4,
          114.11,
          65.39,
          110.26,
          104.14,
          67.27,
          74.78,
          95.8,
          47.31,
          69.4,
          109.35,
          130.97,
          63.53,
          72.01,
          91.06,
          82.85,
          97.38,
          68.51,
          59.54,
          75.91,
          85.39,
          81.77,
          91.5,
          110.45,
          105.77,
          57.06,
          88.85,
          94.51,
          68.7,
          86.66,
          77.81,
          103.6,
          91.89,
          108.34,
          92.14,
          100.08,
          59.03,
          75.55,
          66.45,
          109.88,
          115.9,
          116.52,
          104.86,
          95.88,
          87.52,
          77.06,
          78.65,
          110.99,
          79.96,
          88.98,
          51.6,
          71.99,
          70.41,
          138.57,
          73.89,
          94.18,
          53.08,
          87.88,
          51.66,
          126.66,
          59.83,
          98.41,
          129.83,
          91.2,
          75.37,
          77.59,
          146.76,
          79.23,
          75.46,
          107.32,
          96.85,
          99.54,
          86.6,
          84.89,
          91.66,
          111.06,
          74.12,
          80.59,
          99.32,
          112.9,
          86.51,
          56.7,
          73.23,
          127.75,
          63.91,
          140.64,
          87.51,
          114.42,
          124.32,
          124.81,
          127.64,
          117.14,
          102.04,
          84.75,
          62.21,
          112.86,
          81.03,
          88.67,
          80.29
         ],
         "y0": " ",
         "yaxis": "y"
        },
        {
         "alignmentgroup": "True",
         "boxpoints": "all",
         "hovertemplate": "trt_grp=CONTROL<br>RESPONSE=%{x}<br>weight=%{y}<extra></extra>",
         "legendgroup": "CONTROL",
         "marker": {
          "color": "#EF553B"
         },
         "name": "CONTROL",
         "notched": false,
         "offsetgroup": "CONTROL",
         "orientation": "v",
         "showlegend": true,
         "type": "box",
         "x": [
          "N",
          "N",
          "Y",
          "N",
          "Y",
          "N",
          "Y",
          "N",
          "Y",
          "N",
          "N",
          "N",
          "N",
          "N",
          "N",
          "N",
          "Y",
          "Y",
          "N",
          "N",
          "N",
          "N",
          "N",
          "Y",
          "N",
          "N",
          "N",
          "Y",
          "Y",
          "N",
          "N",
          "N",
          "N",
          "Y",
          "N",
          "N",
          "N",
          "Y",
          "N",
          "N",
          "N",
          "N",
          "N",
          "Y",
          "Y",
          "Y",
          "Y",
          "N",
          "N",
          "N",
          "N",
          "Y",
          "Y",
          "Y",
          "Y",
          "N",
          "Y",
          "N",
          "N",
          "N",
          "N",
          "Y",
          "N",
          "N",
          "N",
          "N",
          "N",
          "N",
          "N",
          "N",
          "Y",
          "N",
          "N",
          "Y",
          "N",
          "N",
          "N",
          "N",
          "N",
          "Y",
          "N",
          "N",
          "N",
          "N",
          "N",
          "N",
          "N",
          "N",
          "N",
          "Y",
          "N",
          "Y",
          "N",
          "N",
          "N",
          "N",
          "N",
          "N",
          "Y",
          "N",
          "N",
          "N",
          "N",
          "N",
          "Y",
          "N",
          "Y",
          "N",
          "N",
          "N",
          "N",
          "N",
          "Y",
          "N",
          "N",
          "N",
          "N",
          "N",
          "N",
          "N",
          "N",
          "N",
          "N",
          "N",
          "N",
          "N",
          "Y",
          "N",
          "N",
          "N",
          "Y",
          "N",
          "N",
          "N",
          "N",
          "Y",
          "Y",
          "Y",
          "N",
          "N",
          "Y",
          "N",
          "N",
          "N",
          "N",
          "N",
          "N",
          "Y",
          "N",
          "Y",
          "Y",
          "N",
          "N",
          "Y",
          "N",
          "N",
          "N",
          "N",
          "Y",
          "N",
          "Y",
          "N",
          "N",
          "N",
          "N",
          "Y",
          "N",
          "N",
          "Y",
          "Y",
          "N",
          "N",
          "Y",
          "Y",
          "Y",
          "N",
          "N",
          "N",
          "Y",
          "Y",
          "N",
          "N",
          "Y",
          "N",
          "N",
          "N",
          "N",
          "N",
          "Y",
          "N",
          "N",
          "N",
          "Y",
          "Y",
          "N",
          "Y",
          "N",
          "N",
          "N",
          "N",
          "N",
          "N",
          "N",
          "N",
          "Y",
          "N",
          "N",
          "N",
          "N",
          "Y",
          "N",
          "N",
          "Y",
          "N",
          "Y",
          "N",
          "N",
          "N",
          "N",
          "Y",
          "N",
          "N",
          "N",
          "Y",
          "N",
          "Y",
          "N",
          "Y",
          "N",
          "N",
          "Y",
          "N",
          "Y",
          "Y",
          "N",
          "Y",
          "N",
          "N",
          "N",
          "N",
          "Y",
          "Y",
          "N",
          "N",
          "N",
          "Y",
          "N",
          "N",
          "Y",
          "Y",
          "N",
          "N",
          "N",
          "Y",
          "N",
          "N",
          "Y",
          "Y",
          "Y",
          "N",
          "Y",
          "N",
          "N",
          "Y",
          "Y",
          "N",
          "N",
          "N",
          "Y",
          "N",
          "N",
          "N",
          "Y",
          "Y",
          "N",
          "N",
          "Y",
          "Y",
          "N",
          "Y",
          "Y",
          "N",
          "Y",
          "Y",
          "Y",
          "N",
          "N",
          "Y",
          "N",
          "N",
          "N",
          "N",
          "N",
          "N",
          "N",
          "N",
          "Y",
          "N",
          "N",
          "Y",
          "Y",
          "Y",
          "N",
          "Y",
          "Y",
          "N",
          "N",
          "Y",
          "N",
          "N",
          "Y",
          "Y",
          "N",
          "Y",
          "N",
          "N",
          "N",
          "Y",
          "N",
          "N",
          "N",
          "N",
          "N",
          "Y",
          "Y",
          "N",
          "N",
          "N",
          "N",
          "Y",
          "N",
          "N",
          "N",
          "Y",
          "Y",
          "N",
          "Y",
          "N",
          "N",
          "N",
          "Y",
          "Y",
          "Y",
          "N",
          "Y",
          "N",
          "N",
          "N",
          "N",
          "N",
          "Y",
          "Y",
          "N",
          "N",
          "Y",
          "N",
          "N",
          "N",
          "Y",
          "N",
          "N",
          "Y",
          "Y",
          "N",
          "N",
          "Y",
          "Y",
          "N",
          "N",
          "Y",
          "N",
          "N",
          "N",
          "Y",
          "N",
          "N",
          "N",
          "N",
          "N",
          "N",
          "Y",
          "N",
          "N",
          "Y",
          "Y"
         ],
         "x0": " ",
         "xaxis": "x",
         "y": [
          69.85,
          113.91,
          79.33,
          96.12,
          109.12,
          144.15,
          80.04,
          122.87,
          68.36,
          64.36,
          82.18,
          73.24,
          63.33,
          91.69,
          112.26,
          131.25,
          91.61,
          64.84,
          88.23,
          82.39,
          57.12,
          109.88,
          86.6,
          77.23,
          76.46,
          81.74,
          76.91,
          97,
          140.59,
          91.43,
          90.64,
          88.34,
          127.68,
          103.51,
          59.31,
          54.54,
          86.6,
          75.98,
          125.41,
          100.1,
          107.75,
          101.64,
          64.07,
          55.68,
          79.34,
          107.32,
          75.06,
          102.94,
          75.01,
          68.01,
          75.94,
          91.12,
          63.53,
          84.44,
          102.99,
          96.22,
          111.43,
          100.6,
          77.22,
          105.05,
          86.98,
          65.18,
          142.42,
          88.04,
          92.75,
          80.22,
          75.63,
          98.53,
          91.5,
          101.9,
          72.38,
          65.03,
          96.57,
          98.98,
          97.06,
          85.41,
          86.6,
          74.52,
          96.64,
          88.88,
          80.19,
          79.82,
          115.17,
          71.42,
          89.16,
          81.94,
          105.31,
          80.78,
          124.2,
          128.31,
          72.57,
          79.97,
          102.83,
          111.28,
          83.6,
          70.25,
          71.38,
          165.66,
          73.65,
          135.89,
          73.06,
          103.45,
          93.36,
          99.76,
          102.9,
          101.76,
          71.56,
          135.27,
          89.91,
          127.96,
          96.53,
          108.85,
          93.14,
          90.78,
          86.48,
          85.98,
          136.52,
          85.25,
          102.84,
          132.59,
          99.64,
          104.68,
          110.65,
          83.46,
          82.66,
          78.78,
          72.5,
          112.18,
          59.17,
          89.64,
          88.47,
          89.19,
          63.75,
          116.43,
          76.18,
          88.87,
          113.07,
          80.94,
          63.84,
          93.28,
          118.33,
          103.15,
          90.38,
          70.92,
          93.28,
          78.69,
          71.56,
          93.48,
          54.62,
          100.65,
          124.9,
          82.24,
          82.55,
          71.38,
          113.45,
          87.31,
          87.44,
          90.61,
          115.88,
          61.61,
          72.6,
          84.75,
          90.45,
          111.49,
          113.49,
          74.86,
          58.69,
          125.56,
          76.84,
          87.48,
          113.05,
          117.28,
          83.38,
          103.74,
          120.55,
          73.29,
          61.22,
          81.43,
          104.34,
          136.68,
          80.62,
          76.36,
          133.29,
          86.02,
          110.94,
          87.38,
          61.23,
          82.86,
          89.41,
          104.58,
          86.6,
          61.9,
          91.63,
          158.85,
          68.96,
          117.25,
          86.65,
          94.58,
          66.92,
          101.09,
          78.43,
          78.61,
          116.48,
          50.29,
          96.61,
          88.74,
          126.01,
          85.23,
          118.77,
          94.37,
          75.25,
          114.68,
          94.72,
          70.43,
          131.97,
          52.2,
          112.9,
          116.55,
          86.6,
          112.77,
          62.38,
          107.69,
          123.9,
          97,
          82.42,
          88.99,
          91.97,
          179.02,
          60,
          64.35,
          131.41,
          56.41,
          59.29,
          90.77,
          74.8,
          108.8,
          83.16,
          110.26,
          70.82,
          77.85,
          87.31,
          81.85,
          84.37,
          104.82,
          78.71,
          121.06,
          139.32,
          77.67,
          102.52,
          78.95,
          84.9,
          86.6,
          66.6,
          89.07,
          75.89,
          63.67,
          91.89,
          81.84,
          97.94,
          67.82,
          73.17,
          68.04,
          72.06,
          80.25,
          78.24,
          102.66,
          108,
          51.89,
          64.4,
          91.21,
          59.56,
          76.45,
          132.58,
          59.14,
          102.9,
          102.38,
          89.14,
          102.42,
          82.93,
          88.61,
          87.89,
          86.84,
          81.87,
          134.22,
          94.55,
          84.25,
          94.76,
          102.19,
          70.2,
          84.2,
          100.2,
          91.18,
          86.15,
          94.82,
          88.99,
          71.72,
          124.17,
          83.02,
          99.73,
          59.92,
          130.51,
          116.27,
          79.19,
          106.48,
          143.06,
          63.19,
          83.99,
          64.52,
          88.2,
          89.84,
          108.3,
          90.95,
          114.74,
          81.6,
          90.17,
          138.41,
          98.4,
          91.28,
          61.19,
          109.21,
          76.43,
          101.43,
          63.63,
          78.28,
          60.69,
          82.02,
          118.19,
          87.27,
          75.67,
          81.11,
          83.59,
          106.07,
          59.53,
          107.48,
          116.48,
          69.86,
          106.33,
          67.99,
          82.06,
          84.6,
          182.5,
          107.88,
          93.42,
          109.84,
          130.61,
          86.6,
          100.14,
          66.41,
          112.72,
          78.46,
          91.89,
          99.05,
          79.69,
          83.85,
          71.1,
          76.49,
          115.05,
          101.6,
          93.23,
          111.91,
          86.12,
          89.57,
          126.22,
          65.48,
          100.67,
          72.93,
          90.33,
          72.24,
          81.04,
          108.02,
          112.55,
          73.5,
          104.66,
          84.59,
          123.69,
          72.73,
          79.07,
          70.64,
          111.12,
          76.97,
          84.53,
          95.87,
          106.5,
          137.41,
          82.95
         ],
         "y0": " ",
         "yaxis": "y"
        }
       ],
       "layout": {
        "boxmode": "group",
        "legend": {
         "title": {
          "text": "trt_grp"
         },
         "tracegroupgap": 0
        },
        "margin": {
         "t": 60
        },
        "template": {
         "data": {
          "bar": [
           {
            "error_x": {
             "color": "#2a3f5f"
            },
            "error_y": {
             "color": "#2a3f5f"
            },
            "marker": {
             "line": {
              "color": "#E5ECF6",
              "width": 0.5
             },
             "pattern": {
              "fillmode": "overlay",
              "size": 10,
              "solidity": 0.2
             }
            },
            "type": "bar"
           }
          ],
          "barpolar": [
           {
            "marker": {
             "line": {
              "color": "#E5ECF6",
              "width": 0.5
             },
             "pattern": {
              "fillmode": "overlay",
              "size": 10,
              "solidity": 0.2
             }
            },
            "type": "barpolar"
           }
          ],
          "carpet": [
           {
            "aaxis": {
             "endlinecolor": "#2a3f5f",
             "gridcolor": "white",
             "linecolor": "white",
             "minorgridcolor": "white",
             "startlinecolor": "#2a3f5f"
            },
            "baxis": {
             "endlinecolor": "#2a3f5f",
             "gridcolor": "white",
             "linecolor": "white",
             "minorgridcolor": "white",
             "startlinecolor": "#2a3f5f"
            },
            "type": "carpet"
           }
          ],
          "choropleth": [
           {
            "colorbar": {
             "outlinewidth": 0,
             "ticks": ""
            },
            "type": "choropleth"
           }
          ],
          "contour": [
           {
            "colorbar": {
             "outlinewidth": 0,
             "ticks": ""
            },
            "colorscale": [
             [
              0,
              "#0d0887"
             ],
             [
              0.1111111111111111,
              "#46039f"
             ],
             [
              0.2222222222222222,
              "#7201a8"
             ],
             [
              0.3333333333333333,
              "#9c179e"
             ],
             [
              0.4444444444444444,
              "#bd3786"
             ],
             [
              0.5555555555555556,
              "#d8576b"
             ],
             [
              0.6666666666666666,
              "#ed7953"
             ],
             [
              0.7777777777777778,
              "#fb9f3a"
             ],
             [
              0.8888888888888888,
              "#fdca26"
             ],
             [
              1,
              "#f0f921"
             ]
            ],
            "type": "contour"
           }
          ],
          "contourcarpet": [
           {
            "colorbar": {
             "outlinewidth": 0,
             "ticks": ""
            },
            "type": "contourcarpet"
           }
          ],
          "heatmap": [
           {
            "colorbar": {
             "outlinewidth": 0,
             "ticks": ""
            },
            "colorscale": [
             [
              0,
              "#0d0887"
             ],
             [
              0.1111111111111111,
              "#46039f"
             ],
             [
              0.2222222222222222,
              "#7201a8"
             ],
             [
              0.3333333333333333,
              "#9c179e"
             ],
             [
              0.4444444444444444,
              "#bd3786"
             ],
             [
              0.5555555555555556,
              "#d8576b"
             ],
             [
              0.6666666666666666,
              "#ed7953"
             ],
             [
              0.7777777777777778,
              "#fb9f3a"
             ],
             [
              0.8888888888888888,
              "#fdca26"
             ],
             [
              1,
              "#f0f921"
             ]
            ],
            "type": "heatmap"
           }
          ],
          "heatmapgl": [
           {
            "colorbar": {
             "outlinewidth": 0,
             "ticks": ""
            },
            "colorscale": [
             [
              0,
              "#0d0887"
             ],
             [
              0.1111111111111111,
              "#46039f"
             ],
             [
              0.2222222222222222,
              "#7201a8"
             ],
             [
              0.3333333333333333,
              "#9c179e"
             ],
             [
              0.4444444444444444,
              "#bd3786"
             ],
             [
              0.5555555555555556,
              "#d8576b"
             ],
             [
              0.6666666666666666,
              "#ed7953"
             ],
             [
              0.7777777777777778,
              "#fb9f3a"
             ],
             [
              0.8888888888888888,
              "#fdca26"
             ],
             [
              1,
              "#f0f921"
             ]
            ],
            "type": "heatmapgl"
           }
          ],
          "histogram": [
           {
            "marker": {
             "pattern": {
              "fillmode": "overlay",
              "size": 10,
              "solidity": 0.2
             }
            },
            "type": "histogram"
           }
          ],
          "histogram2d": [
           {
            "colorbar": {
             "outlinewidth": 0,
             "ticks": ""
            },
            "colorscale": [
             [
              0,
              "#0d0887"
             ],
             [
              0.1111111111111111,
              "#46039f"
             ],
             [
              0.2222222222222222,
              "#7201a8"
             ],
             [
              0.3333333333333333,
              "#9c179e"
             ],
             [
              0.4444444444444444,
              "#bd3786"
             ],
             [
              0.5555555555555556,
              "#d8576b"
             ],
             [
              0.6666666666666666,
              "#ed7953"
             ],
             [
              0.7777777777777778,
              "#fb9f3a"
             ],
             [
              0.8888888888888888,
              "#fdca26"
             ],
             [
              1,
              "#f0f921"
             ]
            ],
            "type": "histogram2d"
           }
          ],
          "histogram2dcontour": [
           {
            "colorbar": {
             "outlinewidth": 0,
             "ticks": ""
            },
            "colorscale": [
             [
              0,
              "#0d0887"
             ],
             [
              0.1111111111111111,
              "#46039f"
             ],
             [
              0.2222222222222222,
              "#7201a8"
             ],
             [
              0.3333333333333333,
              "#9c179e"
             ],
             [
              0.4444444444444444,
              "#bd3786"
             ],
             [
              0.5555555555555556,
              "#d8576b"
             ],
             [
              0.6666666666666666,
              "#ed7953"
             ],
             [
              0.7777777777777778,
              "#fb9f3a"
             ],
             [
              0.8888888888888888,
              "#fdca26"
             ],
             [
              1,
              "#f0f921"
             ]
            ],
            "type": "histogram2dcontour"
           }
          ],
          "mesh3d": [
           {
            "colorbar": {
             "outlinewidth": 0,
             "ticks": ""
            },
            "type": "mesh3d"
           }
          ],
          "parcoords": [
           {
            "line": {
             "colorbar": {
              "outlinewidth": 0,
              "ticks": ""
             }
            },
            "type": "parcoords"
           }
          ],
          "pie": [
           {
            "automargin": true,
            "type": "pie"
           }
          ],
          "scatter": [
           {
            "fillpattern": {
             "fillmode": "overlay",
             "size": 10,
             "solidity": 0.2
            },
            "type": "scatter"
           }
          ],
          "scatter3d": [
           {
            "line": {
             "colorbar": {
              "outlinewidth": 0,
              "ticks": ""
             }
            },
            "marker": {
             "colorbar": {
              "outlinewidth": 0,
              "ticks": ""
             }
            },
            "type": "scatter3d"
           }
          ],
          "scattercarpet": [
           {
            "marker": {
             "colorbar": {
              "outlinewidth": 0,
              "ticks": ""
             }
            },
            "type": "scattercarpet"
           }
          ],
          "scattergeo": [
           {
            "marker": {
             "colorbar": {
              "outlinewidth": 0,
              "ticks": ""
             }
            },
            "type": "scattergeo"
           }
          ],
          "scattergl": [
           {
            "marker": {
             "colorbar": {
              "outlinewidth": 0,
              "ticks": ""
             }
            },
            "type": "scattergl"
           }
          ],
          "scattermapbox": [
           {
            "marker": {
             "colorbar": {
              "outlinewidth": 0,
              "ticks": ""
             }
            },
            "type": "scattermapbox"
           }
          ],
          "scatterpolar": [
           {
            "marker": {
             "colorbar": {
              "outlinewidth": 0,
              "ticks": ""
             }
            },
            "type": "scatterpolar"
           }
          ],
          "scatterpolargl": [
           {
            "marker": {
             "colorbar": {
              "outlinewidth": 0,
              "ticks": ""
             }
            },
            "type": "scatterpolargl"
           }
          ],
          "scatterternary": [
           {
            "marker": {
             "colorbar": {
              "outlinewidth": 0,
              "ticks": ""
             }
            },
            "type": "scatterternary"
           }
          ],
          "surface": [
           {
            "colorbar": {
             "outlinewidth": 0,
             "ticks": ""
            },
            "colorscale": [
             [
              0,
              "#0d0887"
             ],
             [
              0.1111111111111111,
              "#46039f"
             ],
             [
              0.2222222222222222,
              "#7201a8"
             ],
             [
              0.3333333333333333,
              "#9c179e"
             ],
             [
              0.4444444444444444,
              "#bd3786"
             ],
             [
              0.5555555555555556,
              "#d8576b"
             ],
             [
              0.6666666666666666,
              "#ed7953"
             ],
             [
              0.7777777777777778,
              "#fb9f3a"
             ],
             [
              0.8888888888888888,
              "#fdca26"
             ],
             [
              1,
              "#f0f921"
             ]
            ],
            "type": "surface"
           }
          ],
          "table": [
           {
            "cells": {
             "fill": {
              "color": "#EBF0F8"
             },
             "line": {
              "color": "white"
             }
            },
            "header": {
             "fill": {
              "color": "#C8D4E3"
             },
             "line": {
              "color": "white"
             }
            },
            "type": "table"
           }
          ]
         },
         "layout": {
          "annotationdefaults": {
           "arrowcolor": "#2a3f5f",
           "arrowhead": 0,
           "arrowwidth": 1
          },
          "autotypenumbers": "strict",
          "coloraxis": {
           "colorbar": {
            "outlinewidth": 0,
            "ticks": ""
           }
          },
          "colorscale": {
           "diverging": [
            [
             0,
             "#8e0152"
            ],
            [
             0.1,
             "#c51b7d"
            ],
            [
             0.2,
             "#de77ae"
            ],
            [
             0.3,
             "#f1b6da"
            ],
            [
             0.4,
             "#fde0ef"
            ],
            [
             0.5,
             "#f7f7f7"
            ],
            [
             0.6,
             "#e6f5d0"
            ],
            [
             0.7,
             "#b8e186"
            ],
            [
             0.8,
             "#7fbc41"
            ],
            [
             0.9,
             "#4d9221"
            ],
            [
             1,
             "#276419"
            ]
           ],
           "sequential": [
            [
             0,
             "#0d0887"
            ],
            [
             0.1111111111111111,
             "#46039f"
            ],
            [
             0.2222222222222222,
             "#7201a8"
            ],
            [
             0.3333333333333333,
             "#9c179e"
            ],
            [
             0.4444444444444444,
             "#bd3786"
            ],
            [
             0.5555555555555556,
             "#d8576b"
            ],
            [
             0.6666666666666666,
             "#ed7953"
            ],
            [
             0.7777777777777778,
             "#fb9f3a"
            ],
            [
             0.8888888888888888,
             "#fdca26"
            ],
            [
             1,
             "#f0f921"
            ]
           ],
           "sequentialminus": [
            [
             0,
             "#0d0887"
            ],
            [
             0.1111111111111111,
             "#46039f"
            ],
            [
             0.2222222222222222,
             "#7201a8"
            ],
            [
             0.3333333333333333,
             "#9c179e"
            ],
            [
             0.4444444444444444,
             "#bd3786"
            ],
            [
             0.5555555555555556,
             "#d8576b"
            ],
            [
             0.6666666666666666,
             "#ed7953"
            ],
            [
             0.7777777777777778,
             "#fb9f3a"
            ],
            [
             0.8888888888888888,
             "#fdca26"
            ],
            [
             1,
             "#f0f921"
            ]
           ]
          },
          "colorway": [
           "#636efa",
           "#EF553B",
           "#00cc96",
           "#ab63fa",
           "#FFA15A",
           "#19d3f3",
           "#FF6692",
           "#B6E880",
           "#FF97FF",
           "#FECB52"
          ],
          "font": {
           "color": "#2a3f5f"
          },
          "geo": {
           "bgcolor": "white",
           "lakecolor": "white",
           "landcolor": "#E5ECF6",
           "showlakes": true,
           "showland": true,
           "subunitcolor": "white"
          },
          "hoverlabel": {
           "align": "left"
          },
          "hovermode": "closest",
          "mapbox": {
           "style": "light"
          },
          "paper_bgcolor": "white",
          "plot_bgcolor": "#E5ECF6",
          "polar": {
           "angularaxis": {
            "gridcolor": "white",
            "linecolor": "white",
            "ticks": ""
           },
           "bgcolor": "#E5ECF6",
           "radialaxis": {
            "gridcolor": "white",
            "linecolor": "white",
            "ticks": ""
           }
          },
          "scene": {
           "xaxis": {
            "backgroundcolor": "#E5ECF6",
            "gridcolor": "white",
            "gridwidth": 2,
            "linecolor": "white",
            "showbackground": true,
            "ticks": "",
            "zerolinecolor": "white"
           },
           "yaxis": {
            "backgroundcolor": "#E5ECF6",
            "gridcolor": "white",
            "gridwidth": 2,
            "linecolor": "white",
            "showbackground": true,
            "ticks": "",
            "zerolinecolor": "white"
           },
           "zaxis": {
            "backgroundcolor": "#E5ECF6",
            "gridcolor": "white",
            "gridwidth": 2,
            "linecolor": "white",
            "showbackground": true,
            "ticks": "",
            "zerolinecolor": "white"
           }
          },
          "shapedefaults": {
           "line": {
            "color": "#2a3f5f"
           }
          },
          "ternary": {
           "aaxis": {
            "gridcolor": "white",
            "linecolor": "white",
            "ticks": ""
           },
           "baxis": {
            "gridcolor": "white",
            "linecolor": "white",
            "ticks": ""
           },
           "bgcolor": "#E5ECF6",
           "caxis": {
            "gridcolor": "white",
            "linecolor": "white",
            "ticks": ""
           }
          },
          "title": {
           "x": 0.05
          },
          "xaxis": {
           "automargin": true,
           "gridcolor": "white",
           "linecolor": "white",
           "ticks": "",
           "title": {
            "standoff": 15
           },
           "zerolinecolor": "white",
           "zerolinewidth": 2
          },
          "yaxis": {
           "automargin": true,
           "gridcolor": "white",
           "linecolor": "white",
           "ticks": "",
           "title": {
            "standoff": 15
           },
           "zerolinecolor": "white",
           "zerolinewidth": 2
          }
         }
        },
        "xaxis": {
         "anchor": "y",
         "domain": [
          0,
          1
         ],
         "title": {
          "text": "RESPONSE"
         }
        },
        "yaxis": {
         "anchor": "x",
         "domain": [
          0,
          1
         ],
         "title": {
          "text": "weight"
         }
        }
       }
      },
      "text/html": [
       "<div>                            <div id=\"96c66e65-d2b2-4ffb-94f9-6d2f3a34564a\" class=\"plotly-graph-div\" style=\"height:525px; width:100%;\"></div>            <script type=\"text/javascript\">                require([\"plotly\"], function(Plotly) {                    window.PLOTLYENV=window.PLOTLYENV || {};                                    if (document.getElementById(\"96c66e65-d2b2-4ffb-94f9-6d2f3a34564a\")) {                    Plotly.newPlot(                        \"96c66e65-d2b2-4ffb-94f9-6d2f3a34564a\",                        [{\"alignmentgroup\":\"True\",\"boxpoints\":\"all\",\"hovertemplate\":\"trt_grp=DRUG<br>RESPONSE=%{x}<br>weight=%{y}<extra></extra>\",\"legendgroup\":\"DRUG\",\"marker\":{\"color\":\"#636efa\"},\"name\":\"DRUG\",\"notched\":false,\"offsetgroup\":\"DRUG\",\"orientation\":\"v\",\"showlegend\":true,\"x\":[\"N\",\"Y\",\"Y\",\"N\",\"N\",\"Y\",\"N\",\"N\",\"N\",\"N\",\"Y\",\"Y\",\"Y\",\"N\",\"N\",\"Y\",\"N\",\"N\",\"N\",\"Y\",\"N\",\"Y\",\"Y\",\"Y\",\"Y\",\"Y\",\"N\",\"Y\",\"N\",\"N\",\"N\",\"Y\",\"N\",\"N\",\"Y\",\"N\",\"Y\",\"Y\",\"N\",\"N\",\"Y\",\"Y\",\"N\",\"Y\",\"Y\",\"Y\",\"Y\",\"N\",\"Y\",\"Y\",\"Y\",\"Y\",\"N\",\"Y\",\"N\",\"N\",\"Y\",\"Y\",\"Y\",\"Y\",\"N\",\"Y\",\"Y\",\"Y\",\"N\",\"Y\",\"Y\",\"Y\",\"Y\",\"Y\",\"Y\",\"N\",\"N\",\"N\",\"N\",\"Y\",\"Y\",\"Y\",\"Y\",\"Y\",\"N\",\"N\",\"Y\",\"Y\",\"Y\",\"Y\",\"Y\",\"Y\",\"Y\",\"Y\",\"Y\",\"N\",\"N\",\"N\",\"Y\",\"N\",\"Y\",\"N\",\"Y\",\"Y\",\"Y\",\"Y\",\"N\",\"N\",\"Y\",\"N\",\"Y\",\"N\",\"N\",\"Y\",\"Y\",\"N\",\"N\",\"Y\",\"N\",\"Y\",\"Y\",\"N\",\"Y\",\"Y\",\"N\",\"Y\",\"N\",\"N\",\"N\",\"N\",\"Y\",\"Y\",\"Y\",\"Y\",\"N\",\"N\",\"Y\",\"N\",\"N\",\"N\",\"N\",\"N\",\"Y\",\"Y\",\"Y\",\"N\",\"N\",\"Y\",\"N\",\"N\",\"Y\",\"N\",\"Y\",\"Y\",\"Y\",\"N\",\"N\",\"N\",\"Y\",\"N\",\"N\",\"N\",\"Y\",\"N\",\"Y\",\"N\",\"N\",\"Y\",\"Y\",\"Y\",\"N\",\"Y\",\"N\",\"Y\",\"N\",\"N\",\"Y\",\"Y\",\"Y\",\"Y\",\"N\",\"N\",\"Y\",\"Y\",\"N\",\"Y\",\"Y\",\"Y\",\"N\",\"Y\",\"Y\",\"Y\",\"Y\",\"N\",\"Y\",\"Y\",\"Y\",\"N\",\"Y\",\"N\",\"Y\",\"N\",\"Y\",\"Y\",\"N\",\"Y\",\"N\",\"N\",\"Y\",\"N\",\"Y\",\"N\",\"N\",\"N\",\"Y\",\"Y\",\"Y\",\"Y\",\"N\",\"Y\",\"Y\",\"N\",\"Y\",\"Y\",\"N\",\"Y\",\"Y\",\"N\",\"Y\",\"Y\",\"N\",\"Y\",\"Y\",\"Y\",\"Y\",\"Y\",\"Y\",\"N\",\"Y\",\"N\",\"N\",\"Y\",\"N\",\"Y\",\"N\",\"N\",\"Y\",\"N\",\"N\",\"N\",\"Y\",\"N\",\"N\",\"Y\",\"Y\",\"N\",\"Y\",\"N\",\"Y\",\"N\",\"N\",\"N\",\"Y\",\"Y\",\"Y\",\"Y\",\"N\",\"Y\",\"N\",\"Y\",\"Y\",\"Y\",\"N\",\"N\",\"N\",\"Y\",\"Y\",\"N\",\"Y\",\"Y\",\"Y\",\"Y\",\"Y\",\"N\",\"Y\",\"N\",\"N\",\"N\",\"N\",\"Y\",\"Y\",\"N\",\"N\",\"Y\",\"Y\",\"N\",\"N\",\"Y\",\"N\",\"N\",\"Y\",\"N\",\"Y\",\"N\",\"Y\",\"Y\",\"Y\",\"Y\",\"Y\",\"Y\",\"N\",\"Y\",\"Y\",\"Y\",\"N\",\"Y\",\"N\",\"N\",\"Y\",\"Y\",\"Y\",\"N\",\"N\",\"N\",\"N\",\"N\",\"Y\",\"Y\",\"N\",\"N\",\"N\",\"N\",\"Y\",\"N\",\"Y\",\"N\",\"N\",\"N\",\"N\",\"Y\",\"Y\",\"N\",\"Y\",\"Y\",\"Y\",\"Y\",\"N\",\"Y\",\"Y\",\"N\",\"Y\",\"N\",\"N\",\"Y\",\"Y\",\"N\",\"N\",\"N\",\"Y\",\"Y\",\"Y\",\"Y\",\"Y\",\"N\",\"Y\",\"N\",\"Y\",\"Y\",\"N\",\"N\",\"Y\",\"Y\",\"Y\",\"Y\",\"N\",\"N\",\"N\",\"N\",\"Y\",\"N\",\"N\",\"N\",\"Y\",\"N\",\"N\",\"Y\",\"Y\"],\"x0\":\" \",\"xaxis\":\"x\",\"y\":[84.66,71.21,62.94,93.5,85.57,86.6,125.02,76.31,90.99,80.21,86.75,131.63,94.38,85.69,115.97,99.69,74.94,96.43,55.48,103.35,83.84,87.55,70.09,88.1,112.73,109.52,99.31,64.62,127.58,77.89,100.35,104.13,86.6,48.9,63.17,104.77,147.54,137.81,97.35,52.62,150.35,86.88,78.92,95.92,125.43,66.21,94.54,53.31,91.76,64.55,78.76,127.34,110.75,96.18,91.51,78.45,79.99,73.44,92.83,103.01,80.53,135.86,107.45,114.0,77.75,97.83,48.14,59.76,112.12,103.06,81.64,124.94,51.67,116.5,148.86,128.78,81.3,108.43,137.18,81.86,95.72,89.97,100.4,89.05,93.37,91.21,130.78,99.63,96.12,160.12,88.64,91.92,80.46,83.19,79.64,103.16,61.06,95.59,91.54,85.8,69.74,107.51,70.09,91.35,73.45,107.15,71.16,83.1,68.54,100.81,102.33,104.0,89.56,113.51,137.73,72.85,112.79,93.84,60.17,84.02,73.91,71.02,101.05,77.33,80.4,135.76,97.1,112.09,75.21,68.56,85.33,71.04,103.75,80.99,103.71,132.07,75.97,73.56,123.59,83.86,56.55,68.58,89.27,89.56,111.59,78.93,73.16,65.9,94.16,121.08,91.92,73.61,96.87,48.3,128.35,69.32,64.69,79.62,104.65,55.33,85.69,73.74,67.0,138.36,98.11,64.92,125.92,98.55,67.82,78.44,92.01,60.04,118.81,102.21,82.58,83.86,96.39,97.23,112.5,112.48,92.05,118.09,88.1,107.16,93.53,112.82,84.68,53.0,68.34,81.32,61.92,79.78,107.34,151.28,57.62,109.78,91.55,75.51,101.42,76.08,67.16,96.18,141.42,118.26,60.49,68.31,122.82,102.92,94.12,112.63,61.65,76.67,78.32,58.63,101.19,64.21,85.62,97.77,111.33,94.83,81.78,54.32,117.17,98.22,84.73,95.25,102.63,46.17,59.92,84.22,62.6,73.09,146.35,113.73,101.71,78.13,64.11,69.88,112.2,141.03,101.69,71.83,108.65,72.55,73.83,122.75,97.87,112.32,71.85,74.56,62.97,59.95,60.97,85.25,121.1,53.12,86.6,82.38,46.58,119.87,99.75,99.93,84.7,85.27,103.93,101.68,98.62,91.42,86.55,79.32,83.06,89.22,77.87,62.2,106.35,66.06,121.94,79.44,80.38,68.69,84.16,87.21,112.42,126.49,62.4,114.11,65.39,110.26,104.14,67.27,74.78,95.8,47.31,69.4,109.35,130.97,63.53,72.01,91.06,82.85,97.38,68.51,59.54,75.91,85.39,81.77,91.5,110.45,105.77,57.06,88.85,94.51,68.7,86.66,77.81,103.6,91.89,108.34,92.14,100.08,59.03,75.55,66.45,109.88,115.9,116.52,104.86,95.88,87.52,77.06,78.65,110.99,79.96,88.98,51.6,71.99,70.41,138.57,73.89,94.18,53.08,87.88,51.66,126.66,59.83,98.41,129.83,91.2,75.37,77.59,146.76,79.23,75.46,107.32,96.85,99.54,86.6,84.89,91.66,111.06,74.12,80.59,99.32,112.9,86.51,56.7,73.23,127.75,63.91,140.64,87.51,114.42,124.32,124.81,127.64,117.14,102.04,84.75,62.21,112.86,81.03,88.67,80.29],\"y0\":\" \",\"yaxis\":\"y\",\"type\":\"box\"},{\"alignmentgroup\":\"True\",\"boxpoints\":\"all\",\"hovertemplate\":\"trt_grp=CONTROL<br>RESPONSE=%{x}<br>weight=%{y}<extra></extra>\",\"legendgroup\":\"CONTROL\",\"marker\":{\"color\":\"#EF553B\"},\"name\":\"CONTROL\",\"notched\":false,\"offsetgroup\":\"CONTROL\",\"orientation\":\"v\",\"showlegend\":true,\"x\":[\"N\",\"N\",\"Y\",\"N\",\"Y\",\"N\",\"Y\",\"N\",\"Y\",\"N\",\"N\",\"N\",\"N\",\"N\",\"N\",\"N\",\"Y\",\"Y\",\"N\",\"N\",\"N\",\"N\",\"N\",\"Y\",\"N\",\"N\",\"N\",\"Y\",\"Y\",\"N\",\"N\",\"N\",\"N\",\"Y\",\"N\",\"N\",\"N\",\"Y\",\"N\",\"N\",\"N\",\"N\",\"N\",\"Y\",\"Y\",\"Y\",\"Y\",\"N\",\"N\",\"N\",\"N\",\"Y\",\"Y\",\"Y\",\"Y\",\"N\",\"Y\",\"N\",\"N\",\"N\",\"N\",\"Y\",\"N\",\"N\",\"N\",\"N\",\"N\",\"N\",\"N\",\"N\",\"Y\",\"N\",\"N\",\"Y\",\"N\",\"N\",\"N\",\"N\",\"N\",\"Y\",\"N\",\"N\",\"N\",\"N\",\"N\",\"N\",\"N\",\"N\",\"N\",\"Y\",\"N\",\"Y\",\"N\",\"N\",\"N\",\"N\",\"N\",\"N\",\"Y\",\"N\",\"N\",\"N\",\"N\",\"N\",\"Y\",\"N\",\"Y\",\"N\",\"N\",\"N\",\"N\",\"N\",\"Y\",\"N\",\"N\",\"N\",\"N\",\"N\",\"N\",\"N\",\"N\",\"N\",\"N\",\"N\",\"N\",\"N\",\"Y\",\"N\",\"N\",\"N\",\"Y\",\"N\",\"N\",\"N\",\"N\",\"Y\",\"Y\",\"Y\",\"N\",\"N\",\"Y\",\"N\",\"N\",\"N\",\"N\",\"N\",\"N\",\"Y\",\"N\",\"Y\",\"Y\",\"N\",\"N\",\"Y\",\"N\",\"N\",\"N\",\"N\",\"Y\",\"N\",\"Y\",\"N\",\"N\",\"N\",\"N\",\"Y\",\"N\",\"N\",\"Y\",\"Y\",\"N\",\"N\",\"Y\",\"Y\",\"Y\",\"N\",\"N\",\"N\",\"Y\",\"Y\",\"N\",\"N\",\"Y\",\"N\",\"N\",\"N\",\"N\",\"N\",\"Y\",\"N\",\"N\",\"N\",\"Y\",\"Y\",\"N\",\"Y\",\"N\",\"N\",\"N\",\"N\",\"N\",\"N\",\"N\",\"N\",\"Y\",\"N\",\"N\",\"N\",\"N\",\"Y\",\"N\",\"N\",\"Y\",\"N\",\"Y\",\"N\",\"N\",\"N\",\"N\",\"Y\",\"N\",\"N\",\"N\",\"Y\",\"N\",\"Y\",\"N\",\"Y\",\"N\",\"N\",\"Y\",\"N\",\"Y\",\"Y\",\"N\",\"Y\",\"N\",\"N\",\"N\",\"N\",\"Y\",\"Y\",\"N\",\"N\",\"N\",\"Y\",\"N\",\"N\",\"Y\",\"Y\",\"N\",\"N\",\"N\",\"Y\",\"N\",\"N\",\"Y\",\"Y\",\"Y\",\"N\",\"Y\",\"N\",\"N\",\"Y\",\"Y\",\"N\",\"N\",\"N\",\"Y\",\"N\",\"N\",\"N\",\"Y\",\"Y\",\"N\",\"N\",\"Y\",\"Y\",\"N\",\"Y\",\"Y\",\"N\",\"Y\",\"Y\",\"Y\",\"N\",\"N\",\"Y\",\"N\",\"N\",\"N\",\"N\",\"N\",\"N\",\"N\",\"N\",\"Y\",\"N\",\"N\",\"Y\",\"Y\",\"Y\",\"N\",\"Y\",\"Y\",\"N\",\"N\",\"Y\",\"N\",\"N\",\"Y\",\"Y\",\"N\",\"Y\",\"N\",\"N\",\"N\",\"Y\",\"N\",\"N\",\"N\",\"N\",\"N\",\"Y\",\"Y\",\"N\",\"N\",\"N\",\"N\",\"Y\",\"N\",\"N\",\"N\",\"Y\",\"Y\",\"N\",\"Y\",\"N\",\"N\",\"N\",\"Y\",\"Y\",\"Y\",\"N\",\"Y\",\"N\",\"N\",\"N\",\"N\",\"N\",\"Y\",\"Y\",\"N\",\"N\",\"Y\",\"N\",\"N\",\"N\",\"Y\",\"N\",\"N\",\"Y\",\"Y\",\"N\",\"N\",\"Y\",\"Y\",\"N\",\"N\",\"Y\",\"N\",\"N\",\"N\",\"Y\",\"N\",\"N\",\"N\",\"N\",\"N\",\"N\",\"Y\",\"N\",\"N\",\"Y\",\"Y\"],\"x0\":\" \",\"xaxis\":\"x\",\"y\":[69.85,113.91,79.33,96.12,109.12,144.15,80.04,122.87,68.36,64.36,82.18,73.24,63.33,91.69,112.26,131.25,91.61,64.84,88.23,82.39,57.12,109.88,86.6,77.23,76.46,81.74,76.91,97.0,140.59,91.43,90.64,88.34,127.68,103.51,59.31,54.54,86.6,75.98,125.41,100.1,107.75,101.64,64.07,55.68,79.34,107.32,75.06,102.94,75.01,68.01,75.94,91.12,63.53,84.44,102.99,96.22,111.43,100.6,77.22,105.05,86.98,65.18,142.42,88.04,92.75,80.22,75.63,98.53,91.5,101.9,72.38,65.03,96.57,98.98,97.06,85.41,86.6,74.52,96.64,88.88,80.19,79.82,115.17,71.42,89.16,81.94,105.31,80.78,124.2,128.31,72.57,79.97,102.83,111.28,83.6,70.25,71.38,165.66,73.65,135.89,73.06,103.45,93.36,99.76,102.9,101.76,71.56,135.27,89.91,127.96,96.53,108.85,93.14,90.78,86.48,85.98,136.52,85.25,102.84,132.59,99.64,104.68,110.65,83.46,82.66,78.78,72.5,112.18,59.17,89.64,88.47,89.19,63.75,116.43,76.18,88.87,113.07,80.94,63.84,93.28,118.33,103.15,90.38,70.92,93.28,78.69,71.56,93.48,54.62,100.65,124.9,82.24,82.55,71.38,113.45,87.31,87.44,90.61,115.88,61.61,72.6,84.75,90.45,111.49,113.49,74.86,58.69,125.56,76.84,87.48,113.05,117.28,83.38,103.74,120.55,73.29,61.22,81.43,104.34,136.68,80.62,76.36,133.29,86.02,110.94,87.38,61.23,82.86,89.41,104.58,86.6,61.9,91.63,158.85,68.96,117.25,86.65,94.58,66.92,101.09,78.43,78.61,116.48,50.29,96.61,88.74,126.01,85.23,118.77,94.37,75.25,114.68,94.72,70.43,131.97,52.2,112.9,116.55,86.6,112.77,62.38,107.69,123.9,97.0,82.42,88.99,91.97,179.02,60.0,64.35,131.41,56.41,59.29,90.77,74.8,108.8,83.16,110.26,70.82,77.85,87.31,81.85,84.37,104.82,78.71,121.06,139.32,77.67,102.52,78.95,84.9,86.6,66.6,89.07,75.89,63.67,91.89,81.84,97.94,67.82,73.17,68.04,72.06,80.25,78.24,102.66,108.0,51.89,64.4,91.21,59.56,76.45,132.58,59.14,102.9,102.38,89.14,102.42,82.93,88.61,87.89,86.84,81.87,134.22,94.55,84.25,94.76,102.19,70.2,84.2,100.2,91.18,86.15,94.82,88.99,71.72,124.17,83.02,99.73,59.92,130.51,116.27,79.19,106.48,143.06,63.19,83.99,64.52,88.2,89.84,108.3,90.95,114.74,81.6,90.17,138.41,98.4,91.28,61.19,109.21,76.43,101.43,63.63,78.28,60.69,82.02,118.19,87.27,75.67,81.11,83.59,106.07,59.53,107.48,116.48,69.86,106.33,67.99,82.06,84.6,182.5,107.88,93.42,109.84,130.61,86.6,100.14,66.41,112.72,78.46,91.89,99.05,79.69,83.85,71.1,76.49,115.05,101.6,93.23,111.91,86.12,89.57,126.22,65.48,100.67,72.93,90.33,72.24,81.04,108.02,112.55,73.5,104.66,84.59,123.69,72.73,79.07,70.64,111.12,76.97,84.53,95.87,106.5,137.41,82.95],\"y0\":\" \",\"yaxis\":\"y\",\"type\":\"box\"}],                        {\"template\":{\"data\":{\"histogram2dcontour\":[{\"type\":\"histogram2dcontour\",\"colorbar\":{\"outlinewidth\":0,\"ticks\":\"\"},\"colorscale\":[[0.0,\"#0d0887\"],[0.1111111111111111,\"#46039f\"],[0.2222222222222222,\"#7201a8\"],[0.3333333333333333,\"#9c179e\"],[0.4444444444444444,\"#bd3786\"],[0.5555555555555556,\"#d8576b\"],[0.6666666666666666,\"#ed7953\"],[0.7777777777777778,\"#fb9f3a\"],[0.8888888888888888,\"#fdca26\"],[1.0,\"#f0f921\"]]}],\"choropleth\":[{\"type\":\"choropleth\",\"colorbar\":{\"outlinewidth\":0,\"ticks\":\"\"}}],\"histogram2d\":[{\"type\":\"histogram2d\",\"colorbar\":{\"outlinewidth\":0,\"ticks\":\"\"},\"colorscale\":[[0.0,\"#0d0887\"],[0.1111111111111111,\"#46039f\"],[0.2222222222222222,\"#7201a8\"],[0.3333333333333333,\"#9c179e\"],[0.4444444444444444,\"#bd3786\"],[0.5555555555555556,\"#d8576b\"],[0.6666666666666666,\"#ed7953\"],[0.7777777777777778,\"#fb9f3a\"],[0.8888888888888888,\"#fdca26\"],[1.0,\"#f0f921\"]]}],\"heatmap\":[{\"type\":\"heatmap\",\"colorbar\":{\"outlinewidth\":0,\"ticks\":\"\"},\"colorscale\":[[0.0,\"#0d0887\"],[0.1111111111111111,\"#46039f\"],[0.2222222222222222,\"#7201a8\"],[0.3333333333333333,\"#9c179e\"],[0.4444444444444444,\"#bd3786\"],[0.5555555555555556,\"#d8576b\"],[0.6666666666666666,\"#ed7953\"],[0.7777777777777778,\"#fb9f3a\"],[0.8888888888888888,\"#fdca26\"],[1.0,\"#f0f921\"]]}],\"heatmapgl\":[{\"type\":\"heatmapgl\",\"colorbar\":{\"outlinewidth\":0,\"ticks\":\"\"},\"colorscale\":[[0.0,\"#0d0887\"],[0.1111111111111111,\"#46039f\"],[0.2222222222222222,\"#7201a8\"],[0.3333333333333333,\"#9c179e\"],[0.4444444444444444,\"#bd3786\"],[0.5555555555555556,\"#d8576b\"],[0.6666666666666666,\"#ed7953\"],[0.7777777777777778,\"#fb9f3a\"],[0.8888888888888888,\"#fdca26\"],[1.0,\"#f0f921\"]]}],\"contourcarpet\":[{\"type\":\"contourcarpet\",\"colorbar\":{\"outlinewidth\":0,\"ticks\":\"\"}}],\"contour\":[{\"type\":\"contour\",\"colorbar\":{\"outlinewidth\":0,\"ticks\":\"\"},\"colorscale\":[[0.0,\"#0d0887\"],[0.1111111111111111,\"#46039f\"],[0.2222222222222222,\"#7201a8\"],[0.3333333333333333,\"#9c179e\"],[0.4444444444444444,\"#bd3786\"],[0.5555555555555556,\"#d8576b\"],[0.6666666666666666,\"#ed7953\"],[0.7777777777777778,\"#fb9f3a\"],[0.8888888888888888,\"#fdca26\"],[1.0,\"#f0f921\"]]}],\"surface\":[{\"type\":\"surface\",\"colorbar\":{\"outlinewidth\":0,\"ticks\":\"\"},\"colorscale\":[[0.0,\"#0d0887\"],[0.1111111111111111,\"#46039f\"],[0.2222222222222222,\"#7201a8\"],[0.3333333333333333,\"#9c179e\"],[0.4444444444444444,\"#bd3786\"],[0.5555555555555556,\"#d8576b\"],[0.6666666666666666,\"#ed7953\"],[0.7777777777777778,\"#fb9f3a\"],[0.8888888888888888,\"#fdca26\"],[1.0,\"#f0f921\"]]}],\"mesh3d\":[{\"type\":\"mesh3d\",\"colorbar\":{\"outlinewidth\":0,\"ticks\":\"\"}}],\"scatter\":[{\"fillpattern\":{\"fillmode\":\"overlay\",\"size\":10,\"solidity\":0.2},\"type\":\"scatter\"}],\"parcoords\":[{\"type\":\"parcoords\",\"line\":{\"colorbar\":{\"outlinewidth\":0,\"ticks\":\"\"}}}],\"scatterpolargl\":[{\"type\":\"scatterpolargl\",\"marker\":{\"colorbar\":{\"outlinewidth\":0,\"ticks\":\"\"}}}],\"bar\":[{\"error_x\":{\"color\":\"#2a3f5f\"},\"error_y\":{\"color\":\"#2a3f5f\"},\"marker\":{\"line\":{\"color\":\"#E5ECF6\",\"width\":0.5},\"pattern\":{\"fillmode\":\"overlay\",\"size\":10,\"solidity\":0.2}},\"type\":\"bar\"}],\"scattergeo\":[{\"type\":\"scattergeo\",\"marker\":{\"colorbar\":{\"outlinewidth\":0,\"ticks\":\"\"}}}],\"scatterpolar\":[{\"type\":\"scatterpolar\",\"marker\":{\"colorbar\":{\"outlinewidth\":0,\"ticks\":\"\"}}}],\"histogram\":[{\"marker\":{\"pattern\":{\"fillmode\":\"overlay\",\"size\":10,\"solidity\":0.2}},\"type\":\"histogram\"}],\"scattergl\":[{\"type\":\"scattergl\",\"marker\":{\"colorbar\":{\"outlinewidth\":0,\"ticks\":\"\"}}}],\"scatter3d\":[{\"type\":\"scatter3d\",\"line\":{\"colorbar\":{\"outlinewidth\":0,\"ticks\":\"\"}},\"marker\":{\"colorbar\":{\"outlinewidth\":0,\"ticks\":\"\"}}}],\"scattermapbox\":[{\"type\":\"scattermapbox\",\"marker\":{\"colorbar\":{\"outlinewidth\":0,\"ticks\":\"\"}}}],\"scatterternary\":[{\"type\":\"scatterternary\",\"marker\":{\"colorbar\":{\"outlinewidth\":0,\"ticks\":\"\"}}}],\"scattercarpet\":[{\"type\":\"scattercarpet\",\"marker\":{\"colorbar\":{\"outlinewidth\":0,\"ticks\":\"\"}}}],\"carpet\":[{\"aaxis\":{\"endlinecolor\":\"#2a3f5f\",\"gridcolor\":\"white\",\"linecolor\":\"white\",\"minorgridcolor\":\"white\",\"startlinecolor\":\"#2a3f5f\"},\"baxis\":{\"endlinecolor\":\"#2a3f5f\",\"gridcolor\":\"white\",\"linecolor\":\"white\",\"minorgridcolor\":\"white\",\"startlinecolor\":\"#2a3f5f\"},\"type\":\"carpet\"}],\"table\":[{\"cells\":{\"fill\":{\"color\":\"#EBF0F8\"},\"line\":{\"color\":\"white\"}},\"header\":{\"fill\":{\"color\":\"#C8D4E3\"},\"line\":{\"color\":\"white\"}},\"type\":\"table\"}],\"barpolar\":[{\"marker\":{\"line\":{\"color\":\"#E5ECF6\",\"width\":0.5},\"pattern\":{\"fillmode\":\"overlay\",\"size\":10,\"solidity\":0.2}},\"type\":\"barpolar\"}],\"pie\":[{\"automargin\":true,\"type\":\"pie\"}]},\"layout\":{\"autotypenumbers\":\"strict\",\"colorway\":[\"#636efa\",\"#EF553B\",\"#00cc96\",\"#ab63fa\",\"#FFA15A\",\"#19d3f3\",\"#FF6692\",\"#B6E880\",\"#FF97FF\",\"#FECB52\"],\"font\":{\"color\":\"#2a3f5f\"},\"hovermode\":\"closest\",\"hoverlabel\":{\"align\":\"left\"},\"paper_bgcolor\":\"white\",\"plot_bgcolor\":\"#E5ECF6\",\"polar\":{\"bgcolor\":\"#E5ECF6\",\"angularaxis\":{\"gridcolor\":\"white\",\"linecolor\":\"white\",\"ticks\":\"\"},\"radialaxis\":{\"gridcolor\":\"white\",\"linecolor\":\"white\",\"ticks\":\"\"}},\"ternary\":{\"bgcolor\":\"#E5ECF6\",\"aaxis\":{\"gridcolor\":\"white\",\"linecolor\":\"white\",\"ticks\":\"\"},\"baxis\":{\"gridcolor\":\"white\",\"linecolor\":\"white\",\"ticks\":\"\"},\"caxis\":{\"gridcolor\":\"white\",\"linecolor\":\"white\",\"ticks\":\"\"}},\"coloraxis\":{\"colorbar\":{\"outlinewidth\":0,\"ticks\":\"\"}},\"colorscale\":{\"sequential\":[[0.0,\"#0d0887\"],[0.1111111111111111,\"#46039f\"],[0.2222222222222222,\"#7201a8\"],[0.3333333333333333,\"#9c179e\"],[0.4444444444444444,\"#bd3786\"],[0.5555555555555556,\"#d8576b\"],[0.6666666666666666,\"#ed7953\"],[0.7777777777777778,\"#fb9f3a\"],[0.8888888888888888,\"#fdca26\"],[1.0,\"#f0f921\"]],\"sequentialminus\":[[0.0,\"#0d0887\"],[0.1111111111111111,\"#46039f\"],[0.2222222222222222,\"#7201a8\"],[0.3333333333333333,\"#9c179e\"],[0.4444444444444444,\"#bd3786\"],[0.5555555555555556,\"#d8576b\"],[0.6666666666666666,\"#ed7953\"],[0.7777777777777778,\"#fb9f3a\"],[0.8888888888888888,\"#fdca26\"],[1.0,\"#f0f921\"]],\"diverging\":[[0,\"#8e0152\"],[0.1,\"#c51b7d\"],[0.2,\"#de77ae\"],[0.3,\"#f1b6da\"],[0.4,\"#fde0ef\"],[0.5,\"#f7f7f7\"],[0.6,\"#e6f5d0\"],[0.7,\"#b8e186\"],[0.8,\"#7fbc41\"],[0.9,\"#4d9221\"],[1,\"#276419\"]]},\"xaxis\":{\"gridcolor\":\"white\",\"linecolor\":\"white\",\"ticks\":\"\",\"title\":{\"standoff\":15},\"zerolinecolor\":\"white\",\"automargin\":true,\"zerolinewidth\":2},\"yaxis\":{\"gridcolor\":\"white\",\"linecolor\":\"white\",\"ticks\":\"\",\"title\":{\"standoff\":15},\"zerolinecolor\":\"white\",\"automargin\":true,\"zerolinewidth\":2},\"scene\":{\"xaxis\":{\"backgroundcolor\":\"#E5ECF6\",\"gridcolor\":\"white\",\"linecolor\":\"white\",\"showbackground\":true,\"ticks\":\"\",\"zerolinecolor\":\"white\",\"gridwidth\":2},\"yaxis\":{\"backgroundcolor\":\"#E5ECF6\",\"gridcolor\":\"white\",\"linecolor\":\"white\",\"showbackground\":true,\"ticks\":\"\",\"zerolinecolor\":\"white\",\"gridwidth\":2},\"zaxis\":{\"backgroundcolor\":\"#E5ECF6\",\"gridcolor\":\"white\",\"linecolor\":\"white\",\"showbackground\":true,\"ticks\":\"\",\"zerolinecolor\":\"white\",\"gridwidth\":2}},\"shapedefaults\":{\"line\":{\"color\":\"#2a3f5f\"}},\"annotationdefaults\":{\"arrowcolor\":\"#2a3f5f\",\"arrowhead\":0,\"arrowwidth\":1},\"geo\":{\"bgcolor\":\"white\",\"landcolor\":\"#E5ECF6\",\"subunitcolor\":\"white\",\"showland\":true,\"showlakes\":true,\"lakecolor\":\"white\"},\"title\":{\"x\":0.05},\"mapbox\":{\"style\":\"light\"}}},\"xaxis\":{\"anchor\":\"y\",\"domain\":[0.0,1.0],\"title\":{\"text\":\"RESPONSE\"}},\"yaxis\":{\"anchor\":\"x\",\"domain\":[0.0,1.0],\"title\":{\"text\":\"weight\"}},\"legend\":{\"title\":{\"text\":\"trt_grp\"},\"tracegroupgap\":0},\"margin\":{\"t\":60},\"boxmode\":\"group\"},                        {\"responsive\": true}                    ).then(function(){\n",
       "                            \n",
       "var gd = document.getElementById('96c66e65-d2b2-4ffb-94f9-6d2f3a34564a');\n",
       "var x = new MutationObserver(function (mutations, observer) {{\n",
       "        var display = window.getComputedStyle(gd).display;\n",
       "        if (!display || display === 'none') {{\n",
       "            console.log([gd, 'removed!']);\n",
       "            Plotly.purge(gd);\n",
       "            observer.disconnect();\n",
       "        }}\n",
       "}});\n",
       "\n",
       "// Listen for the removal of the full notebook cells\n",
       "var notebookContainer = gd.closest('#notebook-container');\n",
       "if (notebookContainer) {{\n",
       "    x.observe(notebookContainer, {childList: true});\n",
       "}}\n",
       "\n",
       "// Listen for the clearing of the current output cell\n",
       "var outputEl = gd.closest('.output');\n",
       "if (outputEl) {{\n",
       "    x.observe(outputEl, {childList: true});\n",
       "}}\n",
       "\n",
       "                        })                };                });            </script>        </div>"
      ]
     },
     "metadata": {},
     "output_type": "display_data"
    }
   ],
   "source": [
    "px.box(df_merged, x=\"RESPONSE\", y=\"weight\", color=\"trt_grp\", points=\"all\")"
   ]
  },
  {
   "cell_type": "code",
   "execution_count": 466,
   "id": "efe5035a",
   "metadata": {},
   "outputs": [],
   "source": [
    "###** RESPONSE = NO or tumors are getting bigger **###\n",
    "## Prefers New Drugs ##\n",
    "# average weight of patient = 87.21\n",
    "# 50% data where range of patient weight is from 75.50 to 103.94\n",
    "# strongly agreed weight of patient is 151.28\n",
    "# weakly agreed weight of patient is 47.31\n",
    "## prefers Standars of Care(CONTROL) ##\n",
    "# average weight of patient = 86.6\n",
    "# 50% data where range of patient weight is from 75.92 to 102.83\n",
    "# strongly agreed weight of patient is 142.42\n",
    "# weakly agreed weight of patient is 50.29\n",
    "\n",
    "###** RESPONSE = YES or tumors are Shrinking **###\n",
    "## Prefers New Drugs ##\n",
    "# average weight of patient = 105.77\n",
    "# 50% data where range of patient weight is from 73.44 to 105.77\n",
    "# strongly agreed weight of patient is 160.12\n",
    "# weakly agreed weight of patient is 46.17\n",
    "## prefers Standars of Care(CONTROL) ##\n",
    "# average weight of patient = 91.62\n",
    "# 50% data where range of patient weight is from 80 to 108.16\n",
    "# strongly agreed weight of patient is 182.5\n",
    "# weakly agreed weight of patient is 55.68"
   ]
  },
  {
   "cell_type": "markdown",
   "id": "a25a0b83",
   "metadata": {},
   "source": [
    "### 3. Protein Concentration Vs Response"
   ]
  },
  {
   "cell_type": "code",
   "execution_count": 467,
   "id": "1b5cbbf1",
   "metadata": {},
   "outputs": [
    {
     "data": {
      "application/vnd.plotly.v1+json": {
       "config": {
        "plotlyServerURL": "https://plot.ly"
       },
       "data": [
        {
         "alignmentgroup": "True",
         "boxpoints": "all",
         "hovertemplate": "RESPONSE=%{x}<br>protein_concentration=%{y}<extra></extra>",
         "legendgroup": "",
         "marker": {
          "color": "#636efa"
         },
         "name": "",
         "notched": false,
         "offsetgroup": "",
         "orientation": "v",
         "showlegend": false,
         "type": "box",
         "x": [
          "N",
          "Y",
          "N",
          "Y",
          "N",
          "Y",
          "N",
          "N",
          "N",
          "Y",
          "Y",
          "N",
          "N",
          "N",
          "N",
          "Y",
          "N",
          "Y",
          "Y",
          "Y",
          "N",
          "N",
          "N",
          "Y",
          "Y",
          "N",
          "N",
          "N",
          "N",
          "N",
          "Y",
          "N",
          "N",
          "N",
          "Y",
          "Y",
          "N",
          "Y",
          "Y",
          "Y",
          "N",
          "N",
          "Y",
          "N",
          "N",
          "N",
          "N",
          "Y",
          "Y",
          "N",
          "N",
          "Y",
          "Y",
          "N",
          "N",
          "N",
          "N",
          "Y",
          "Y",
          "N",
          "N",
          "N",
          "Y",
          "N",
          "N",
          "N",
          "Y",
          "Y",
          "N",
          "N",
          "N",
          "N",
          "Y",
          "N",
          "Y",
          "N",
          "Y",
          "Y",
          "Y",
          "N",
          "N",
          "N",
          "Y",
          "Y",
          "N",
          "N",
          "N",
          "Y",
          "N",
          "N",
          "Y",
          "Y",
          "Y",
          "N",
          "Y",
          "N",
          "Y",
          "Y",
          "Y",
          "Y",
          "N",
          "N",
          "N",
          "N",
          "Y",
          "Y",
          "Y",
          "N",
          "Y",
          "Y",
          "N",
          "N",
          "Y",
          "Y",
          "N",
          "N",
          "N",
          "N",
          "Y",
          "Y",
          "N",
          "Y",
          "Y",
          "N",
          "N",
          "Y",
          "Y",
          "Y",
          "N",
          "N",
          "N",
          "N",
          "N",
          "Y",
          "Y",
          "N",
          "N",
          "Y",
          "N",
          "N",
          "Y",
          "Y",
          "N",
          "Y",
          "N",
          "N",
          "Y",
          "N",
          "N",
          "Y",
          "N",
          "N",
          "Y",
          "N",
          "N",
          "Y",
          "Y",
          "N",
          "N",
          "N",
          "N",
          "Y",
          "Y",
          "Y",
          "N",
          "N",
          "N",
          "N",
          "Y",
          "Y",
          "Y",
          "N",
          "Y",
          "Y",
          "Y",
          "N",
          "Y",
          "Y",
          "N",
          "Y",
          "N",
          "Y",
          "N",
          "Y",
          "N",
          "N",
          "N",
          "N",
          "Y",
          "N",
          "N",
          "N",
          "N",
          "N",
          "Y",
          "N",
          "N",
          "Y",
          "N",
          "N",
          "Y",
          "N",
          "Y",
          "Y",
          "Y",
          "N",
          "N",
          "Y",
          "N",
          "N",
          "Y",
          "N",
          "N",
          "N",
          "N",
          "N",
          "Y",
          "N",
          "Y",
          "N",
          "N",
          "N",
          "Y",
          "N",
          "N",
          "Y",
          "Y",
          "N",
          "N",
          "Y",
          "N",
          "N",
          "Y",
          "Y",
          "N",
          "N",
          "N",
          "N",
          "N",
          "Y",
          "Y",
          "N",
          "N",
          "Y",
          "N",
          "N",
          "N",
          "N",
          "N",
          "N",
          "Y",
          "N",
          "N",
          "Y",
          "Y",
          "N",
          "Y",
          "Y",
          "N",
          "N",
          "N",
          "N",
          "Y",
          "Y",
          "N",
          "N",
          "N",
          "N",
          "N",
          "N",
          "N",
          "N",
          "N",
          "Y",
          "Y",
          "Y",
          "Y",
          "Y",
          "Y",
          "N",
          "N",
          "Y",
          "N",
          "N",
          "Y",
          "N",
          "N",
          "Y",
          "N",
          "Y",
          "N",
          "N",
          "Y",
          "Y",
          "N",
          "N",
          "N",
          "N",
          "Y",
          "N",
          "N",
          "N",
          "Y",
          "Y",
          "N",
          "Y",
          "N",
          "N",
          "N",
          "N",
          "Y",
          "N",
          "N",
          "N",
          "N",
          "Y",
          "N",
          "N",
          "Y",
          "N",
          "Y",
          "Y",
          "N",
          "N",
          "N",
          "N",
          "N",
          "N",
          "Y",
          "Y",
          "N",
          "Y",
          "N",
          "Y",
          "Y",
          "N",
          "Y",
          "Y",
          "N",
          "N",
          "N",
          "Y",
          "N",
          "Y",
          "Y",
          "Y",
          "N",
          "N",
          "N",
          "Y",
          "Y",
          "N",
          "Y",
          "Y",
          "Y",
          "N",
          "N",
          "Y",
          "Y",
          "N",
          "N",
          "N",
          "Y",
          "Y",
          "N",
          "N",
          "N",
          "N",
          "N",
          "Y",
          "N",
          "N",
          "Y",
          "Y",
          "Y",
          "N",
          "N",
          "Y",
          "Y",
          "Y",
          "Y",
          "Y",
          "Y",
          "N",
          "N",
          "Y",
          "Y",
          "Y",
          "N",
          "N",
          "Y",
          "N",
          "N",
          "Y",
          "N",
          "N",
          "N",
          "N",
          "N",
          "N",
          "Y",
          "N",
          "Y",
          "Y",
          "N",
          "N",
          "Y",
          "N",
          "N",
          "N",
          "Y",
          "Y",
          "N",
          "N",
          "N",
          "Y",
          "N",
          "N",
          "Y",
          "N",
          "Y",
          "N",
          "Y",
          "N",
          "N",
          "N",
          "N",
          "N",
          "N",
          "Y",
          "Y",
          "Y",
          "Y",
          "N",
          "Y",
          "N",
          "N",
          "N",
          "Y",
          "Y",
          "N",
          "Y",
          "Y",
          "N",
          "N",
          "Y",
          "N",
          "Y",
          "Y",
          "N",
          "Y",
          "N",
          "Y",
          "N",
          "Y",
          "N",
          "Y",
          "Y",
          "N",
          "Y",
          "Y",
          "Y",
          "Y",
          "Y",
          "Y",
          "N",
          "Y",
          "Y",
          "N",
          "Y",
          "N",
          "N",
          "Y",
          "N",
          "N",
          "N",
          "Y",
          "N",
          "Y",
          "Y",
          "N",
          "N",
          "N",
          "Y",
          "N",
          "Y",
          "N",
          "N",
          "N",
          "N",
          "Y",
          "Y",
          "Y",
          "N",
          "N",
          "N",
          "N",
          "Y",
          "N",
          "N",
          "N",
          "N",
          "Y",
          "Y",
          "Y",
          "Y",
          "N",
          "N",
          "Y",
          "N",
          "Y",
          "N",
          "Y",
          "N",
          "Y",
          "N",
          "N",
          "Y",
          "Y",
          "N",
          "Y",
          "N",
          "N",
          "N",
          "N",
          "N",
          "Y",
          "Y",
          "N",
          "N",
          "N",
          "Y",
          "Y",
          "Y",
          "Y",
          "N",
          "Y",
          "Y",
          "N",
          "N",
          "Y",
          "N",
          "Y",
          "Y",
          "Y",
          "N",
          "Y",
          "N",
          "N",
          "N",
          "Y",
          "Y",
          "Y",
          "Y",
          "N",
          "N",
          "Y",
          "Y",
          "Y",
          "Y",
          "N",
          "N",
          "Y",
          "N",
          "N",
          "Y",
          "Y",
          "Y",
          "N",
          "N",
          "Y",
          "N",
          "N",
          "N",
          "N",
          "Y",
          "N",
          "Y",
          "N",
          "N",
          "N",
          "N",
          "N",
          "Y",
          "N",
          "Y",
          "N",
          "Y",
          "N",
          "Y",
          "Y",
          "Y",
          "N",
          "Y",
          "Y",
          "N",
          "Y",
          "N",
          "N",
          "N",
          "Y",
          "Y",
          "N",
          "N",
          "N",
          "Y",
          "N",
          "Y",
          "Y",
          "N",
          "Y",
          "N",
          "N",
          "Y",
          "Y",
          "Y",
          "N",
          "Y",
          "Y",
          "Y",
          "N",
          "Y",
          "N",
          "Y",
          "N",
          "Y",
          "N",
          "N",
          "Y",
          "Y",
          "N",
          "Y",
          "N",
          "N",
          "Y",
          "Y",
          "N",
          "Y",
          "N",
          "N",
          "Y",
          "N",
          "N",
          "Y",
          "N",
          "N",
          "N",
          "N",
          "N",
          "N",
          "Y",
          "N",
          "Y",
          "N",
          "Y",
          "N",
          "N",
          "Y",
          "N",
          "Y",
          "N",
          "N",
          "N",
          "N",
          "Y",
          "Y",
          "N",
          "N",
          "Y",
          "N",
          "N",
          "N",
          "N",
          "Y",
          "Y",
          "N",
          "N",
          "Y",
          "N",
          "Y",
          "Y",
          "N",
          "Y",
          "Y",
          "N",
          "Y",
          "Y",
          "Y",
          "N",
          "Y",
          "Y",
          "N",
          "N",
          "Y",
          "N",
          "N",
          "N",
          "Y",
          "N",
          "Y",
          "N",
          "N",
          "N",
          "Y",
          "N",
          "Y",
          "Y",
          "Y",
          "Y",
          "Y",
          "N",
          "Y",
          "N",
          "N",
          "Y",
          "N",
          "N",
          "Y",
          "N",
          "Y",
          "N",
          "N",
          "N",
          "Y",
          "Y",
          "Y",
          "Y",
          "N",
          "N",
          "Y",
          "N",
          "N",
          "Y",
          "Y",
          "Y",
          "Y",
          "N",
          "N",
          "Y",
          "N",
          "Y",
          "N",
          "N",
          "N",
          "N",
          "Y",
          "N",
          "N",
          "N",
          "N",
          "N",
          "Y",
          "N",
          "N",
          "N",
          "N",
          "N",
          "Y",
          "N",
          "N",
          "N",
          "Y",
          "Y",
          "Y",
          "N",
          "N",
          "Y",
          "Y"
         ],
         "x0": " ",
         "xaxis": "x",
         "y": [
          148,
          85,
          183,
          89,
          137,
          116,
          78,
          115,
          197,
          125,
          110,
          168,
          139,
          189,
          166,
          100,
          118,
          107,
          103,
          115,
          126,
          99,
          196,
          119,
          143,
          125,
          147,
          97,
          145,
          117,
          109,
          158,
          88,
          92,
          122,
          103,
          138,
          102,
          90,
          111,
          180,
          133,
          106,
          171,
          159,
          180,
          146,
          71,
          103,
          105,
          103,
          101,
          88,
          176,
          150,
          73,
          187,
          100,
          146,
          105,
          84,
          133,
          44,
          141,
          114,
          99,
          109,
          109,
          95,
          146,
          100,
          139,
          126,
          129,
          79,
          null,
          62,
          95,
          131,
          112,
          113,
          74,
          83,
          101,
          137,
          110,
          106,
          100,
          136,
          107,
          80,
          123,
          81,
          134,
          142,
          144,
          92,
          71,
          93,
          122,
          163,
          151,
          125,
          81,
          85,
          126,
          96,
          144,
          83,
          95,
          171,
          155,
          89,
          76,
          160,
          146,
          124,
          78,
          97,
          99,
          162,
          111,
          107,
          132,
          113,
          88,
          120,
          118,
          117,
          105,
          173,
          122,
          170,
          84,
          96,
          125,
          100,
          93,
          129,
          105,
          128,
          106,
          108,
          108,
          154,
          102,
          57,
          106,
          147,
          90,
          136,
          114,
          156,
          153,
          188,
          152,
          99,
          109,
          88,
          163,
          151,
          102,
          114,
          100,
          131,
          104,
          148,
          120,
          110,
          111,
          102,
          134,
          87,
          79,
          75,
          179,
          85,
          129,
          143,
          130,
          87,
          119,
          null,
          73,
          141,
          194,
          181,
          128,
          109,
          139,
          111,
          123,
          159,
          135,
          85,
          158,
          105,
          107,
          109,
          148,
          113,
          138,
          108,
          99,
          103,
          111,
          196,
          162,
          96,
          184,
          81,
          147,
          179,
          140,
          112,
          151,
          109,
          125,
          85,
          112,
          177,
          158,
          119,
          142,
          100,
          87,
          101,
          162,
          197,
          117,
          142,
          134,
          79,
          122,
          74,
          171,
          181,
          179,
          164,
          104,
          91,
          91,
          139,
          119,
          146,
          184,
          122,
          165,
          124,
          111,
          106,
          129,
          90,
          86,
          92,
          113,
          111,
          114,
          193,
          155,
          191,
          141,
          95,
          142,
          123,
          96,
          138,
          128,
          102,
          146,
          101,
          108,
          122,
          71,
          106,
          100,
          106,
          104,
          114,
          108,
          146,
          129,
          133,
          161,
          108,
          136,
          155,
          119,
          96,
          108,
          78,
          107,
          128,
          128,
          161,
          151,
          146,
          126,
          100,
          112,
          167,
          144,
          77,
          115,
          150,
          120,
          161,
          137,
          128,
          124,
          80,
          106,
          155,
          113,
          109,
          112,
          99,
          182,
          115,
          194,
          129,
          112,
          124,
          152,
          112,
          157,
          122,
          179,
          102,
          105,
          118,
          87,
          180,
          106,
          95,
          165,
          117,
          115,
          152,
          178,
          130,
          95,
          null,
          122,
          95,
          126,
          139,
          116,
          99,
          null,
          92,
          137,
          61,
          90,
          90,
          165,
          125,
          129,
          88,
          196,
          189,
          158,
          103,
          146,
          147,
          99,
          124,
          101,
          81,
          133,
          173,
          118,
          84,
          105,
          122,
          140,
          98,
          87,
          156,
          93,
          107,
          105,
          109,
          90,
          125,
          119,
          116,
          105,
          144,
          100,
          100,
          166,
          131,
          116,
          158,
          127,
          96,
          131,
          82,
          193,
          95,
          137,
          136,
          72,
          168,
          123,
          115,
          101,
          197,
          172,
          102,
          112,
          143,
          143,
          138,
          173,
          97,
          144,
          83,
          129,
          119,
          94,
          102,
          115,
          151,
          184,
          94,
          181,
          135,
          95,
          99,
          89,
          80,
          139,
          90,
          141,
          140,
          147,
          97,
          107,
          189,
          83,
          117,
          108,
          117,
          180,
          100,
          95,
          104,
          120,
          82,
          134,
          91,
          119,
          100,
          175,
          135,
          86,
          148,
          134,
          120,
          71,
          74,
          88,
          115,
          124,
          74,
          97,
          120,
          154,
          144,
          137,
          119,
          136,
          114,
          137,
          105,
          114,
          126,
          132,
          158,
          123,
          85,
          84,
          145,
          135,
          139,
          173,
          99,
          194,
          83,
          89,
          99,
          125,
          80,
          166,
          110,
          81,
          195,
          154,
          117,
          84,
          null,
          94,
          96,
          75,
          180,
          130,
          84,
          120,
          84,
          139,
          91,
          91,
          99,
          163,
          145,
          125,
          76,
          129,
          68,
          124,
          114,
          130,
          125,
          87,
          97,
          116,
          117,
          111,
          122,
          107,
          86,
          91,
          77,
          132,
          105,
          57,
          127,
          129,
          100,
          128,
          90,
          84,
          88,
          186,
          187,
          131,
          164,
          189,
          116,
          84,
          114,
          88,
          84,
          124,
          97,
          110,
          103,
          85,
          125,
          198,
          87,
          99,
          91,
          95,
          99,
          92,
          154,
          121,
          78,
          130,
          111,
          98,
          143,
          119,
          108,
          118,
          133,
          197,
          151,
          109,
          121,
          100,
          124,
          93,
          143,
          103,
          176,
          73,
          111,
          112,
          132,
          82,
          123,
          188,
          67,
          89,
          173,
          109,
          108,
          96,
          124,
          150,
          183,
          124,
          181,
          92,
          152,
          111,
          106,
          174,
          168,
          105,
          138,
          106,
          117,
          68,
          112,
          119,
          112,
          92,
          183,
          94,
          108,
          90,
          125,
          132,
          128,
          94,
          114,
          102,
          111,
          128,
          92,
          104,
          104,
          94,
          97,
          100,
          102,
          128,
          147,
          90,
          103,
          157,
          167,
          179,
          136,
          107,
          91,
          117,
          123,
          120,
          106,
          155,
          101,
          120,
          127,
          80,
          162,
          199,
          167,
          145,
          115,
          112,
          145,
          111,
          98,
          154,
          165,
          99,
          68,
          123,
          91,
          195,
          156,
          93,
          121,
          101,
          56,
          162,
          95,
          125,
          136,
          129,
          130,
          107,
          140,
          144,
          107,
          158,
          121,
          129,
          90,
          142,
          169,
          99,
          127,
          118,
          122,
          125,
          168,
          129,
          110,
          80,
          115,
          127,
          164,
          93,
          158,
          126,
          129,
          134,
          102,
          187,
          173,
          94,
          108,
          97,
          83,
          114,
          149,
          117,
          111,
          112,
          116,
          141,
          175,
          92,
          130,
          120,
          174,
          106,
          105,
          95,
          126,
          65,
          99,
          102,
          120,
          102,
          109,
          140,
          153,
          100,
          147,
          81,
          187,
          162,
          136,
          121,
          108,
          181,
          154,
          128,
          137,
          123,
          106,
          190,
          88,
          170,
          89,
          101,
          122,
          121,
          126,
          93
         ],
         "y0": " ",
         "yaxis": "y"
        }
       ],
       "layout": {
        "boxmode": "group",
        "legend": {
         "tracegroupgap": 0
        },
        "margin": {
         "t": 60
        },
        "template": {
         "data": {
          "bar": [
           {
            "error_x": {
             "color": "#2a3f5f"
            },
            "error_y": {
             "color": "#2a3f5f"
            },
            "marker": {
             "line": {
              "color": "#E5ECF6",
              "width": 0.5
             },
             "pattern": {
              "fillmode": "overlay",
              "size": 10,
              "solidity": 0.2
             }
            },
            "type": "bar"
           }
          ],
          "barpolar": [
           {
            "marker": {
             "line": {
              "color": "#E5ECF6",
              "width": 0.5
             },
             "pattern": {
              "fillmode": "overlay",
              "size": 10,
              "solidity": 0.2
             }
            },
            "type": "barpolar"
           }
          ],
          "carpet": [
           {
            "aaxis": {
             "endlinecolor": "#2a3f5f",
             "gridcolor": "white",
             "linecolor": "white",
             "minorgridcolor": "white",
             "startlinecolor": "#2a3f5f"
            },
            "baxis": {
             "endlinecolor": "#2a3f5f",
             "gridcolor": "white",
             "linecolor": "white",
             "minorgridcolor": "white",
             "startlinecolor": "#2a3f5f"
            },
            "type": "carpet"
           }
          ],
          "choropleth": [
           {
            "colorbar": {
             "outlinewidth": 0,
             "ticks": ""
            },
            "type": "choropleth"
           }
          ],
          "contour": [
           {
            "colorbar": {
             "outlinewidth": 0,
             "ticks": ""
            },
            "colorscale": [
             [
              0,
              "#0d0887"
             ],
             [
              0.1111111111111111,
              "#46039f"
             ],
             [
              0.2222222222222222,
              "#7201a8"
             ],
             [
              0.3333333333333333,
              "#9c179e"
             ],
             [
              0.4444444444444444,
              "#bd3786"
             ],
             [
              0.5555555555555556,
              "#d8576b"
             ],
             [
              0.6666666666666666,
              "#ed7953"
             ],
             [
              0.7777777777777778,
              "#fb9f3a"
             ],
             [
              0.8888888888888888,
              "#fdca26"
             ],
             [
              1,
              "#f0f921"
             ]
            ],
            "type": "contour"
           }
          ],
          "contourcarpet": [
           {
            "colorbar": {
             "outlinewidth": 0,
             "ticks": ""
            },
            "type": "contourcarpet"
           }
          ],
          "heatmap": [
           {
            "colorbar": {
             "outlinewidth": 0,
             "ticks": ""
            },
            "colorscale": [
             [
              0,
              "#0d0887"
             ],
             [
              0.1111111111111111,
              "#46039f"
             ],
             [
              0.2222222222222222,
              "#7201a8"
             ],
             [
              0.3333333333333333,
              "#9c179e"
             ],
             [
              0.4444444444444444,
              "#bd3786"
             ],
             [
              0.5555555555555556,
              "#d8576b"
             ],
             [
              0.6666666666666666,
              "#ed7953"
             ],
             [
              0.7777777777777778,
              "#fb9f3a"
             ],
             [
              0.8888888888888888,
              "#fdca26"
             ],
             [
              1,
              "#f0f921"
             ]
            ],
            "type": "heatmap"
           }
          ],
          "heatmapgl": [
           {
            "colorbar": {
             "outlinewidth": 0,
             "ticks": ""
            },
            "colorscale": [
             [
              0,
              "#0d0887"
             ],
             [
              0.1111111111111111,
              "#46039f"
             ],
             [
              0.2222222222222222,
              "#7201a8"
             ],
             [
              0.3333333333333333,
              "#9c179e"
             ],
             [
              0.4444444444444444,
              "#bd3786"
             ],
             [
              0.5555555555555556,
              "#d8576b"
             ],
             [
              0.6666666666666666,
              "#ed7953"
             ],
             [
              0.7777777777777778,
              "#fb9f3a"
             ],
             [
              0.8888888888888888,
              "#fdca26"
             ],
             [
              1,
              "#f0f921"
             ]
            ],
            "type": "heatmapgl"
           }
          ],
          "histogram": [
           {
            "marker": {
             "pattern": {
              "fillmode": "overlay",
              "size": 10,
              "solidity": 0.2
             }
            },
            "type": "histogram"
           }
          ],
          "histogram2d": [
           {
            "colorbar": {
             "outlinewidth": 0,
             "ticks": ""
            },
            "colorscale": [
             [
              0,
              "#0d0887"
             ],
             [
              0.1111111111111111,
              "#46039f"
             ],
             [
              0.2222222222222222,
              "#7201a8"
             ],
             [
              0.3333333333333333,
              "#9c179e"
             ],
             [
              0.4444444444444444,
              "#bd3786"
             ],
             [
              0.5555555555555556,
              "#d8576b"
             ],
             [
              0.6666666666666666,
              "#ed7953"
             ],
             [
              0.7777777777777778,
              "#fb9f3a"
             ],
             [
              0.8888888888888888,
              "#fdca26"
             ],
             [
              1,
              "#f0f921"
             ]
            ],
            "type": "histogram2d"
           }
          ],
          "histogram2dcontour": [
           {
            "colorbar": {
             "outlinewidth": 0,
             "ticks": ""
            },
            "colorscale": [
             [
              0,
              "#0d0887"
             ],
             [
              0.1111111111111111,
              "#46039f"
             ],
             [
              0.2222222222222222,
              "#7201a8"
             ],
             [
              0.3333333333333333,
              "#9c179e"
             ],
             [
              0.4444444444444444,
              "#bd3786"
             ],
             [
              0.5555555555555556,
              "#d8576b"
             ],
             [
              0.6666666666666666,
              "#ed7953"
             ],
             [
              0.7777777777777778,
              "#fb9f3a"
             ],
             [
              0.8888888888888888,
              "#fdca26"
             ],
             [
              1,
              "#f0f921"
             ]
            ],
            "type": "histogram2dcontour"
           }
          ],
          "mesh3d": [
           {
            "colorbar": {
             "outlinewidth": 0,
             "ticks": ""
            },
            "type": "mesh3d"
           }
          ],
          "parcoords": [
           {
            "line": {
             "colorbar": {
              "outlinewidth": 0,
              "ticks": ""
             }
            },
            "type": "parcoords"
           }
          ],
          "pie": [
           {
            "automargin": true,
            "type": "pie"
           }
          ],
          "scatter": [
           {
            "fillpattern": {
             "fillmode": "overlay",
             "size": 10,
             "solidity": 0.2
            },
            "type": "scatter"
           }
          ],
          "scatter3d": [
           {
            "line": {
             "colorbar": {
              "outlinewidth": 0,
              "ticks": ""
             }
            },
            "marker": {
             "colorbar": {
              "outlinewidth": 0,
              "ticks": ""
             }
            },
            "type": "scatter3d"
           }
          ],
          "scattercarpet": [
           {
            "marker": {
             "colorbar": {
              "outlinewidth": 0,
              "ticks": ""
             }
            },
            "type": "scattercarpet"
           }
          ],
          "scattergeo": [
           {
            "marker": {
             "colorbar": {
              "outlinewidth": 0,
              "ticks": ""
             }
            },
            "type": "scattergeo"
           }
          ],
          "scattergl": [
           {
            "marker": {
             "colorbar": {
              "outlinewidth": 0,
              "ticks": ""
             }
            },
            "type": "scattergl"
           }
          ],
          "scattermapbox": [
           {
            "marker": {
             "colorbar": {
              "outlinewidth": 0,
              "ticks": ""
             }
            },
            "type": "scattermapbox"
           }
          ],
          "scatterpolar": [
           {
            "marker": {
             "colorbar": {
              "outlinewidth": 0,
              "ticks": ""
             }
            },
            "type": "scatterpolar"
           }
          ],
          "scatterpolargl": [
           {
            "marker": {
             "colorbar": {
              "outlinewidth": 0,
              "ticks": ""
             }
            },
            "type": "scatterpolargl"
           }
          ],
          "scatterternary": [
           {
            "marker": {
             "colorbar": {
              "outlinewidth": 0,
              "ticks": ""
             }
            },
            "type": "scatterternary"
           }
          ],
          "surface": [
           {
            "colorbar": {
             "outlinewidth": 0,
             "ticks": ""
            },
            "colorscale": [
             [
              0,
              "#0d0887"
             ],
             [
              0.1111111111111111,
              "#46039f"
             ],
             [
              0.2222222222222222,
              "#7201a8"
             ],
             [
              0.3333333333333333,
              "#9c179e"
             ],
             [
              0.4444444444444444,
              "#bd3786"
             ],
             [
              0.5555555555555556,
              "#d8576b"
             ],
             [
              0.6666666666666666,
              "#ed7953"
             ],
             [
              0.7777777777777778,
              "#fb9f3a"
             ],
             [
              0.8888888888888888,
              "#fdca26"
             ],
             [
              1,
              "#f0f921"
             ]
            ],
            "type": "surface"
           }
          ],
          "table": [
           {
            "cells": {
             "fill": {
              "color": "#EBF0F8"
             },
             "line": {
              "color": "white"
             }
            },
            "header": {
             "fill": {
              "color": "#C8D4E3"
             },
             "line": {
              "color": "white"
             }
            },
            "type": "table"
           }
          ]
         },
         "layout": {
          "annotationdefaults": {
           "arrowcolor": "#2a3f5f",
           "arrowhead": 0,
           "arrowwidth": 1
          },
          "autotypenumbers": "strict",
          "coloraxis": {
           "colorbar": {
            "outlinewidth": 0,
            "ticks": ""
           }
          },
          "colorscale": {
           "diverging": [
            [
             0,
             "#8e0152"
            ],
            [
             0.1,
             "#c51b7d"
            ],
            [
             0.2,
             "#de77ae"
            ],
            [
             0.3,
             "#f1b6da"
            ],
            [
             0.4,
             "#fde0ef"
            ],
            [
             0.5,
             "#f7f7f7"
            ],
            [
             0.6,
             "#e6f5d0"
            ],
            [
             0.7,
             "#b8e186"
            ],
            [
             0.8,
             "#7fbc41"
            ],
            [
             0.9,
             "#4d9221"
            ],
            [
             1,
             "#276419"
            ]
           ],
           "sequential": [
            [
             0,
             "#0d0887"
            ],
            [
             0.1111111111111111,
             "#46039f"
            ],
            [
             0.2222222222222222,
             "#7201a8"
            ],
            [
             0.3333333333333333,
             "#9c179e"
            ],
            [
             0.4444444444444444,
             "#bd3786"
            ],
            [
             0.5555555555555556,
             "#d8576b"
            ],
            [
             0.6666666666666666,
             "#ed7953"
            ],
            [
             0.7777777777777778,
             "#fb9f3a"
            ],
            [
             0.8888888888888888,
             "#fdca26"
            ],
            [
             1,
             "#f0f921"
            ]
           ],
           "sequentialminus": [
            [
             0,
             "#0d0887"
            ],
            [
             0.1111111111111111,
             "#46039f"
            ],
            [
             0.2222222222222222,
             "#7201a8"
            ],
            [
             0.3333333333333333,
             "#9c179e"
            ],
            [
             0.4444444444444444,
             "#bd3786"
            ],
            [
             0.5555555555555556,
             "#d8576b"
            ],
            [
             0.6666666666666666,
             "#ed7953"
            ],
            [
             0.7777777777777778,
             "#fb9f3a"
            ],
            [
             0.8888888888888888,
             "#fdca26"
            ],
            [
             1,
             "#f0f921"
            ]
           ]
          },
          "colorway": [
           "#636efa",
           "#EF553B",
           "#00cc96",
           "#ab63fa",
           "#FFA15A",
           "#19d3f3",
           "#FF6692",
           "#B6E880",
           "#FF97FF",
           "#FECB52"
          ],
          "font": {
           "color": "#2a3f5f"
          },
          "geo": {
           "bgcolor": "white",
           "lakecolor": "white",
           "landcolor": "#E5ECF6",
           "showlakes": true,
           "showland": true,
           "subunitcolor": "white"
          },
          "hoverlabel": {
           "align": "left"
          },
          "hovermode": "closest",
          "mapbox": {
           "style": "light"
          },
          "paper_bgcolor": "white",
          "plot_bgcolor": "#E5ECF6",
          "polar": {
           "angularaxis": {
            "gridcolor": "white",
            "linecolor": "white",
            "ticks": ""
           },
           "bgcolor": "#E5ECF6",
           "radialaxis": {
            "gridcolor": "white",
            "linecolor": "white",
            "ticks": ""
           }
          },
          "scene": {
           "xaxis": {
            "backgroundcolor": "#E5ECF6",
            "gridcolor": "white",
            "gridwidth": 2,
            "linecolor": "white",
            "showbackground": true,
            "ticks": "",
            "zerolinecolor": "white"
           },
           "yaxis": {
            "backgroundcolor": "#E5ECF6",
            "gridcolor": "white",
            "gridwidth": 2,
            "linecolor": "white",
            "showbackground": true,
            "ticks": "",
            "zerolinecolor": "white"
           },
           "zaxis": {
            "backgroundcolor": "#E5ECF6",
            "gridcolor": "white",
            "gridwidth": 2,
            "linecolor": "white",
            "showbackground": true,
            "ticks": "",
            "zerolinecolor": "white"
           }
          },
          "shapedefaults": {
           "line": {
            "color": "#2a3f5f"
           }
          },
          "ternary": {
           "aaxis": {
            "gridcolor": "white",
            "linecolor": "white",
            "ticks": ""
           },
           "baxis": {
            "gridcolor": "white",
            "linecolor": "white",
            "ticks": ""
           },
           "bgcolor": "#E5ECF6",
           "caxis": {
            "gridcolor": "white",
            "linecolor": "white",
            "ticks": ""
           }
          },
          "title": {
           "x": 0.05
          },
          "xaxis": {
           "automargin": true,
           "gridcolor": "white",
           "linecolor": "white",
           "ticks": "",
           "title": {
            "standoff": 15
           },
           "zerolinecolor": "white",
           "zerolinewidth": 2
          },
          "yaxis": {
           "automargin": true,
           "gridcolor": "white",
           "linecolor": "white",
           "ticks": "",
           "title": {
            "standoff": 15
           },
           "zerolinecolor": "white",
           "zerolinewidth": 2
          }
         }
        },
        "xaxis": {
         "anchor": "y",
         "domain": [
          0,
          1
         ],
         "title": {
          "text": "RESPONSE"
         }
        },
        "yaxis": {
         "anchor": "x",
         "domain": [
          0,
          1
         ],
         "title": {
          "text": "protein_concentration"
         }
        }
       }
      },
      "text/html": [
       "<div>                            <div id=\"b8452b6d-c510-45e0-a63f-2e3855bee107\" class=\"plotly-graph-div\" style=\"height:525px; width:100%;\"></div>            <script type=\"text/javascript\">                require([\"plotly\"], function(Plotly) {                    window.PLOTLYENV=window.PLOTLYENV || {};                                    if (document.getElementById(\"b8452b6d-c510-45e0-a63f-2e3855bee107\")) {                    Plotly.newPlot(                        \"b8452b6d-c510-45e0-a63f-2e3855bee107\",                        [{\"alignmentgroup\":\"True\",\"boxpoints\":\"all\",\"hovertemplate\":\"RESPONSE=%{x}<br>protein_concentration=%{y}<extra></extra>\",\"legendgroup\":\"\",\"marker\":{\"color\":\"#636efa\"},\"name\":\"\",\"notched\":false,\"offsetgroup\":\"\",\"orientation\":\"v\",\"showlegend\":false,\"x\":[\"N\",\"Y\",\"N\",\"Y\",\"N\",\"Y\",\"N\",\"N\",\"N\",\"Y\",\"Y\",\"N\",\"N\",\"N\",\"N\",\"Y\",\"N\",\"Y\",\"Y\",\"Y\",\"N\",\"N\",\"N\",\"Y\",\"Y\",\"N\",\"N\",\"N\",\"N\",\"N\",\"Y\",\"N\",\"N\",\"N\",\"Y\",\"Y\",\"N\",\"Y\",\"Y\",\"Y\",\"N\",\"N\",\"Y\",\"N\",\"N\",\"N\",\"N\",\"Y\",\"Y\",\"N\",\"N\",\"Y\",\"Y\",\"N\",\"N\",\"N\",\"N\",\"Y\",\"Y\",\"N\",\"N\",\"N\",\"Y\",\"N\",\"N\",\"N\",\"Y\",\"Y\",\"N\",\"N\",\"N\",\"N\",\"Y\",\"N\",\"Y\",\"N\",\"Y\",\"Y\",\"Y\",\"N\",\"N\",\"N\",\"Y\",\"Y\",\"N\",\"N\",\"N\",\"Y\",\"N\",\"N\",\"Y\",\"Y\",\"Y\",\"N\",\"Y\",\"N\",\"Y\",\"Y\",\"Y\",\"Y\",\"N\",\"N\",\"N\",\"N\",\"Y\",\"Y\",\"Y\",\"N\",\"Y\",\"Y\",\"N\",\"N\",\"Y\",\"Y\",\"N\",\"N\",\"N\",\"N\",\"Y\",\"Y\",\"N\",\"Y\",\"Y\",\"N\",\"N\",\"Y\",\"Y\",\"Y\",\"N\",\"N\",\"N\",\"N\",\"N\",\"Y\",\"Y\",\"N\",\"N\",\"Y\",\"N\",\"N\",\"Y\",\"Y\",\"N\",\"Y\",\"N\",\"N\",\"Y\",\"N\",\"N\",\"Y\",\"N\",\"N\",\"Y\",\"N\",\"N\",\"Y\",\"Y\",\"N\",\"N\",\"N\",\"N\",\"Y\",\"Y\",\"Y\",\"N\",\"N\",\"N\",\"N\",\"Y\",\"Y\",\"Y\",\"N\",\"Y\",\"Y\",\"Y\",\"N\",\"Y\",\"Y\",\"N\",\"Y\",\"N\",\"Y\",\"N\",\"Y\",\"N\",\"N\",\"N\",\"N\",\"Y\",\"N\",\"N\",\"N\",\"N\",\"N\",\"Y\",\"N\",\"N\",\"Y\",\"N\",\"N\",\"Y\",\"N\",\"Y\",\"Y\",\"Y\",\"N\",\"N\",\"Y\",\"N\",\"N\",\"Y\",\"N\",\"N\",\"N\",\"N\",\"N\",\"Y\",\"N\",\"Y\",\"N\",\"N\",\"N\",\"Y\",\"N\",\"N\",\"Y\",\"Y\",\"N\",\"N\",\"Y\",\"N\",\"N\",\"Y\",\"Y\",\"N\",\"N\",\"N\",\"N\",\"N\",\"Y\",\"Y\",\"N\",\"N\",\"Y\",\"N\",\"N\",\"N\",\"N\",\"N\",\"N\",\"Y\",\"N\",\"N\",\"Y\",\"Y\",\"N\",\"Y\",\"Y\",\"N\",\"N\",\"N\",\"N\",\"Y\",\"Y\",\"N\",\"N\",\"N\",\"N\",\"N\",\"N\",\"N\",\"N\",\"N\",\"Y\",\"Y\",\"Y\",\"Y\",\"Y\",\"Y\",\"N\",\"N\",\"Y\",\"N\",\"N\",\"Y\",\"N\",\"N\",\"Y\",\"N\",\"Y\",\"N\",\"N\",\"Y\",\"Y\",\"N\",\"N\",\"N\",\"N\",\"Y\",\"N\",\"N\",\"N\",\"Y\",\"Y\",\"N\",\"Y\",\"N\",\"N\",\"N\",\"N\",\"Y\",\"N\",\"N\",\"N\",\"N\",\"Y\",\"N\",\"N\",\"Y\",\"N\",\"Y\",\"Y\",\"N\",\"N\",\"N\",\"N\",\"N\",\"N\",\"Y\",\"Y\",\"N\",\"Y\",\"N\",\"Y\",\"Y\",\"N\",\"Y\",\"Y\",\"N\",\"N\",\"N\",\"Y\",\"N\",\"Y\",\"Y\",\"Y\",\"N\",\"N\",\"N\",\"Y\",\"Y\",\"N\",\"Y\",\"Y\",\"Y\",\"N\",\"N\",\"Y\",\"Y\",\"N\",\"N\",\"N\",\"Y\",\"Y\",\"N\",\"N\",\"N\",\"N\",\"N\",\"Y\",\"N\",\"N\",\"Y\",\"Y\",\"Y\",\"N\",\"N\",\"Y\",\"Y\",\"Y\",\"Y\",\"Y\",\"Y\",\"N\",\"N\",\"Y\",\"Y\",\"Y\",\"N\",\"N\",\"Y\",\"N\",\"N\",\"Y\",\"N\",\"N\",\"N\",\"N\",\"N\",\"N\",\"Y\",\"N\",\"Y\",\"Y\",\"N\",\"N\",\"Y\",\"N\",\"N\",\"N\",\"Y\",\"Y\",\"N\",\"N\",\"N\",\"Y\",\"N\",\"N\",\"Y\",\"N\",\"Y\",\"N\",\"Y\",\"N\",\"N\",\"N\",\"N\",\"N\",\"N\",\"Y\",\"Y\",\"Y\",\"Y\",\"N\",\"Y\",\"N\",\"N\",\"N\",\"Y\",\"Y\",\"N\",\"Y\",\"Y\",\"N\",\"N\",\"Y\",\"N\",\"Y\",\"Y\",\"N\",\"Y\",\"N\",\"Y\",\"N\",\"Y\",\"N\",\"Y\",\"Y\",\"N\",\"Y\",\"Y\",\"Y\",\"Y\",\"Y\",\"Y\",\"N\",\"Y\",\"Y\",\"N\",\"Y\",\"N\",\"N\",\"Y\",\"N\",\"N\",\"N\",\"Y\",\"N\",\"Y\",\"Y\",\"N\",\"N\",\"N\",\"Y\",\"N\",\"Y\",\"N\",\"N\",\"N\",\"N\",\"Y\",\"Y\",\"Y\",\"N\",\"N\",\"N\",\"N\",\"Y\",\"N\",\"N\",\"N\",\"N\",\"Y\",\"Y\",\"Y\",\"Y\",\"N\",\"N\",\"Y\",\"N\",\"Y\",\"N\",\"Y\",\"N\",\"Y\",\"N\",\"N\",\"Y\",\"Y\",\"N\",\"Y\",\"N\",\"N\",\"N\",\"N\",\"N\",\"Y\",\"Y\",\"N\",\"N\",\"N\",\"Y\",\"Y\",\"Y\",\"Y\",\"N\",\"Y\",\"Y\",\"N\",\"N\",\"Y\",\"N\",\"Y\",\"Y\",\"Y\",\"N\",\"Y\",\"N\",\"N\",\"N\",\"Y\",\"Y\",\"Y\",\"Y\",\"N\",\"N\",\"Y\",\"Y\",\"Y\",\"Y\",\"N\",\"N\",\"Y\",\"N\",\"N\",\"Y\",\"Y\",\"Y\",\"N\",\"N\",\"Y\",\"N\",\"N\",\"N\",\"N\",\"Y\",\"N\",\"Y\",\"N\",\"N\",\"N\",\"N\",\"N\",\"Y\",\"N\",\"Y\",\"N\",\"Y\",\"N\",\"Y\",\"Y\",\"Y\",\"N\",\"Y\",\"Y\",\"N\",\"Y\",\"N\",\"N\",\"N\",\"Y\",\"Y\",\"N\",\"N\",\"N\",\"Y\",\"N\",\"Y\",\"Y\",\"N\",\"Y\",\"N\",\"N\",\"Y\",\"Y\",\"Y\",\"N\",\"Y\",\"Y\",\"Y\",\"N\",\"Y\",\"N\",\"Y\",\"N\",\"Y\",\"N\",\"N\",\"Y\",\"Y\",\"N\",\"Y\",\"N\",\"N\",\"Y\",\"Y\",\"N\",\"Y\",\"N\",\"N\",\"Y\",\"N\",\"N\",\"Y\",\"N\",\"N\",\"N\",\"N\",\"N\",\"N\",\"Y\",\"N\",\"Y\",\"N\",\"Y\",\"N\",\"N\",\"Y\",\"N\",\"Y\",\"N\",\"N\",\"N\",\"N\",\"Y\",\"Y\",\"N\",\"N\",\"Y\",\"N\",\"N\",\"N\",\"N\",\"Y\",\"Y\",\"N\",\"N\",\"Y\",\"N\",\"Y\",\"Y\",\"N\",\"Y\",\"Y\",\"N\",\"Y\",\"Y\",\"Y\",\"N\",\"Y\",\"Y\",\"N\",\"N\",\"Y\",\"N\",\"N\",\"N\",\"Y\",\"N\",\"Y\",\"N\",\"N\",\"N\",\"Y\",\"N\",\"Y\",\"Y\",\"Y\",\"Y\",\"Y\",\"N\",\"Y\",\"N\",\"N\",\"Y\",\"N\",\"N\",\"Y\",\"N\",\"Y\",\"N\",\"N\",\"N\",\"Y\",\"Y\",\"Y\",\"Y\",\"N\",\"N\",\"Y\",\"N\",\"N\",\"Y\",\"Y\",\"Y\",\"Y\",\"N\",\"N\",\"Y\",\"N\",\"Y\",\"N\",\"N\",\"N\",\"N\",\"Y\",\"N\",\"N\",\"N\",\"N\",\"N\",\"Y\",\"N\",\"N\",\"N\",\"N\",\"N\",\"Y\",\"N\",\"N\",\"N\",\"Y\",\"Y\",\"Y\",\"N\",\"N\",\"Y\",\"Y\"],\"x0\":\" \",\"xaxis\":\"x\",\"y\":[148.0,85.0,183.0,89.0,137.0,116.0,78.0,115.0,197.0,125.0,110.0,168.0,139.0,189.0,166.0,100.0,118.0,107.0,103.0,115.0,126.0,99.0,196.0,119.0,143.0,125.0,147.0,97.0,145.0,117.0,109.0,158.0,88.0,92.0,122.0,103.0,138.0,102.0,90.0,111.0,180.0,133.0,106.0,171.0,159.0,180.0,146.0,71.0,103.0,105.0,103.0,101.0,88.0,176.0,150.0,73.0,187.0,100.0,146.0,105.0,84.0,133.0,44.0,141.0,114.0,99.0,109.0,109.0,95.0,146.0,100.0,139.0,126.0,129.0,79.0,null,62.0,95.0,131.0,112.0,113.0,74.0,83.0,101.0,137.0,110.0,106.0,100.0,136.0,107.0,80.0,123.0,81.0,134.0,142.0,144.0,92.0,71.0,93.0,122.0,163.0,151.0,125.0,81.0,85.0,126.0,96.0,144.0,83.0,95.0,171.0,155.0,89.0,76.0,160.0,146.0,124.0,78.0,97.0,99.0,162.0,111.0,107.0,132.0,113.0,88.0,120.0,118.0,117.0,105.0,173.0,122.0,170.0,84.0,96.0,125.0,100.0,93.0,129.0,105.0,128.0,106.0,108.0,108.0,154.0,102.0,57.0,106.0,147.0,90.0,136.0,114.0,156.0,153.0,188.0,152.0,99.0,109.0,88.0,163.0,151.0,102.0,114.0,100.0,131.0,104.0,148.0,120.0,110.0,111.0,102.0,134.0,87.0,79.0,75.0,179.0,85.0,129.0,143.0,130.0,87.0,119.0,null,73.0,141.0,194.0,181.0,128.0,109.0,139.0,111.0,123.0,159.0,135.0,85.0,158.0,105.0,107.0,109.0,148.0,113.0,138.0,108.0,99.0,103.0,111.0,196.0,162.0,96.0,184.0,81.0,147.0,179.0,140.0,112.0,151.0,109.0,125.0,85.0,112.0,177.0,158.0,119.0,142.0,100.0,87.0,101.0,162.0,197.0,117.0,142.0,134.0,79.0,122.0,74.0,171.0,181.0,179.0,164.0,104.0,91.0,91.0,139.0,119.0,146.0,184.0,122.0,165.0,124.0,111.0,106.0,129.0,90.0,86.0,92.0,113.0,111.0,114.0,193.0,155.0,191.0,141.0,95.0,142.0,123.0,96.0,138.0,128.0,102.0,146.0,101.0,108.0,122.0,71.0,106.0,100.0,106.0,104.0,114.0,108.0,146.0,129.0,133.0,161.0,108.0,136.0,155.0,119.0,96.0,108.0,78.0,107.0,128.0,128.0,161.0,151.0,146.0,126.0,100.0,112.0,167.0,144.0,77.0,115.0,150.0,120.0,161.0,137.0,128.0,124.0,80.0,106.0,155.0,113.0,109.0,112.0,99.0,182.0,115.0,194.0,129.0,112.0,124.0,152.0,112.0,157.0,122.0,179.0,102.0,105.0,118.0,87.0,180.0,106.0,95.0,165.0,117.0,115.0,152.0,178.0,130.0,95.0,null,122.0,95.0,126.0,139.0,116.0,99.0,null,92.0,137.0,61.0,90.0,90.0,165.0,125.0,129.0,88.0,196.0,189.0,158.0,103.0,146.0,147.0,99.0,124.0,101.0,81.0,133.0,173.0,118.0,84.0,105.0,122.0,140.0,98.0,87.0,156.0,93.0,107.0,105.0,109.0,90.0,125.0,119.0,116.0,105.0,144.0,100.0,100.0,166.0,131.0,116.0,158.0,127.0,96.0,131.0,82.0,193.0,95.0,137.0,136.0,72.0,168.0,123.0,115.0,101.0,197.0,172.0,102.0,112.0,143.0,143.0,138.0,173.0,97.0,144.0,83.0,129.0,119.0,94.0,102.0,115.0,151.0,184.0,94.0,181.0,135.0,95.0,99.0,89.0,80.0,139.0,90.0,141.0,140.0,147.0,97.0,107.0,189.0,83.0,117.0,108.0,117.0,180.0,100.0,95.0,104.0,120.0,82.0,134.0,91.0,119.0,100.0,175.0,135.0,86.0,148.0,134.0,120.0,71.0,74.0,88.0,115.0,124.0,74.0,97.0,120.0,154.0,144.0,137.0,119.0,136.0,114.0,137.0,105.0,114.0,126.0,132.0,158.0,123.0,85.0,84.0,145.0,135.0,139.0,173.0,99.0,194.0,83.0,89.0,99.0,125.0,80.0,166.0,110.0,81.0,195.0,154.0,117.0,84.0,null,94.0,96.0,75.0,180.0,130.0,84.0,120.0,84.0,139.0,91.0,91.0,99.0,163.0,145.0,125.0,76.0,129.0,68.0,124.0,114.0,130.0,125.0,87.0,97.0,116.0,117.0,111.0,122.0,107.0,86.0,91.0,77.0,132.0,105.0,57.0,127.0,129.0,100.0,128.0,90.0,84.0,88.0,186.0,187.0,131.0,164.0,189.0,116.0,84.0,114.0,88.0,84.0,124.0,97.0,110.0,103.0,85.0,125.0,198.0,87.0,99.0,91.0,95.0,99.0,92.0,154.0,121.0,78.0,130.0,111.0,98.0,143.0,119.0,108.0,118.0,133.0,197.0,151.0,109.0,121.0,100.0,124.0,93.0,143.0,103.0,176.0,73.0,111.0,112.0,132.0,82.0,123.0,188.0,67.0,89.0,173.0,109.0,108.0,96.0,124.0,150.0,183.0,124.0,181.0,92.0,152.0,111.0,106.0,174.0,168.0,105.0,138.0,106.0,117.0,68.0,112.0,119.0,112.0,92.0,183.0,94.0,108.0,90.0,125.0,132.0,128.0,94.0,114.0,102.0,111.0,128.0,92.0,104.0,104.0,94.0,97.0,100.0,102.0,128.0,147.0,90.0,103.0,157.0,167.0,179.0,136.0,107.0,91.0,117.0,123.0,120.0,106.0,155.0,101.0,120.0,127.0,80.0,162.0,199.0,167.0,145.0,115.0,112.0,145.0,111.0,98.0,154.0,165.0,99.0,68.0,123.0,91.0,195.0,156.0,93.0,121.0,101.0,56.0,162.0,95.0,125.0,136.0,129.0,130.0,107.0,140.0,144.0,107.0,158.0,121.0,129.0,90.0,142.0,169.0,99.0,127.0,118.0,122.0,125.0,168.0,129.0,110.0,80.0,115.0,127.0,164.0,93.0,158.0,126.0,129.0,134.0,102.0,187.0,173.0,94.0,108.0,97.0,83.0,114.0,149.0,117.0,111.0,112.0,116.0,141.0,175.0,92.0,130.0,120.0,174.0,106.0,105.0,95.0,126.0,65.0,99.0,102.0,120.0,102.0,109.0,140.0,153.0,100.0,147.0,81.0,187.0,162.0,136.0,121.0,108.0,181.0,154.0,128.0,137.0,123.0,106.0,190.0,88.0,170.0,89.0,101.0,122.0,121.0,126.0,93.0],\"y0\":\" \",\"yaxis\":\"y\",\"type\":\"box\"}],                        {\"template\":{\"data\":{\"histogram2dcontour\":[{\"type\":\"histogram2dcontour\",\"colorbar\":{\"outlinewidth\":0,\"ticks\":\"\"},\"colorscale\":[[0.0,\"#0d0887\"],[0.1111111111111111,\"#46039f\"],[0.2222222222222222,\"#7201a8\"],[0.3333333333333333,\"#9c179e\"],[0.4444444444444444,\"#bd3786\"],[0.5555555555555556,\"#d8576b\"],[0.6666666666666666,\"#ed7953\"],[0.7777777777777778,\"#fb9f3a\"],[0.8888888888888888,\"#fdca26\"],[1.0,\"#f0f921\"]]}],\"choropleth\":[{\"type\":\"choropleth\",\"colorbar\":{\"outlinewidth\":0,\"ticks\":\"\"}}],\"histogram2d\":[{\"type\":\"histogram2d\",\"colorbar\":{\"outlinewidth\":0,\"ticks\":\"\"},\"colorscale\":[[0.0,\"#0d0887\"],[0.1111111111111111,\"#46039f\"],[0.2222222222222222,\"#7201a8\"],[0.3333333333333333,\"#9c179e\"],[0.4444444444444444,\"#bd3786\"],[0.5555555555555556,\"#d8576b\"],[0.6666666666666666,\"#ed7953\"],[0.7777777777777778,\"#fb9f3a\"],[0.8888888888888888,\"#fdca26\"],[1.0,\"#f0f921\"]]}],\"heatmap\":[{\"type\":\"heatmap\",\"colorbar\":{\"outlinewidth\":0,\"ticks\":\"\"},\"colorscale\":[[0.0,\"#0d0887\"],[0.1111111111111111,\"#46039f\"],[0.2222222222222222,\"#7201a8\"],[0.3333333333333333,\"#9c179e\"],[0.4444444444444444,\"#bd3786\"],[0.5555555555555556,\"#d8576b\"],[0.6666666666666666,\"#ed7953\"],[0.7777777777777778,\"#fb9f3a\"],[0.8888888888888888,\"#fdca26\"],[1.0,\"#f0f921\"]]}],\"heatmapgl\":[{\"type\":\"heatmapgl\",\"colorbar\":{\"outlinewidth\":0,\"ticks\":\"\"},\"colorscale\":[[0.0,\"#0d0887\"],[0.1111111111111111,\"#46039f\"],[0.2222222222222222,\"#7201a8\"],[0.3333333333333333,\"#9c179e\"],[0.4444444444444444,\"#bd3786\"],[0.5555555555555556,\"#d8576b\"],[0.6666666666666666,\"#ed7953\"],[0.7777777777777778,\"#fb9f3a\"],[0.8888888888888888,\"#fdca26\"],[1.0,\"#f0f921\"]]}],\"contourcarpet\":[{\"type\":\"contourcarpet\",\"colorbar\":{\"outlinewidth\":0,\"ticks\":\"\"}}],\"contour\":[{\"type\":\"contour\",\"colorbar\":{\"outlinewidth\":0,\"ticks\":\"\"},\"colorscale\":[[0.0,\"#0d0887\"],[0.1111111111111111,\"#46039f\"],[0.2222222222222222,\"#7201a8\"],[0.3333333333333333,\"#9c179e\"],[0.4444444444444444,\"#bd3786\"],[0.5555555555555556,\"#d8576b\"],[0.6666666666666666,\"#ed7953\"],[0.7777777777777778,\"#fb9f3a\"],[0.8888888888888888,\"#fdca26\"],[1.0,\"#f0f921\"]]}],\"surface\":[{\"type\":\"surface\",\"colorbar\":{\"outlinewidth\":0,\"ticks\":\"\"},\"colorscale\":[[0.0,\"#0d0887\"],[0.1111111111111111,\"#46039f\"],[0.2222222222222222,\"#7201a8\"],[0.3333333333333333,\"#9c179e\"],[0.4444444444444444,\"#bd3786\"],[0.5555555555555556,\"#d8576b\"],[0.6666666666666666,\"#ed7953\"],[0.7777777777777778,\"#fb9f3a\"],[0.8888888888888888,\"#fdca26\"],[1.0,\"#f0f921\"]]}],\"mesh3d\":[{\"type\":\"mesh3d\",\"colorbar\":{\"outlinewidth\":0,\"ticks\":\"\"}}],\"scatter\":[{\"fillpattern\":{\"fillmode\":\"overlay\",\"size\":10,\"solidity\":0.2},\"type\":\"scatter\"}],\"parcoords\":[{\"type\":\"parcoords\",\"line\":{\"colorbar\":{\"outlinewidth\":0,\"ticks\":\"\"}}}],\"scatterpolargl\":[{\"type\":\"scatterpolargl\",\"marker\":{\"colorbar\":{\"outlinewidth\":0,\"ticks\":\"\"}}}],\"bar\":[{\"error_x\":{\"color\":\"#2a3f5f\"},\"error_y\":{\"color\":\"#2a3f5f\"},\"marker\":{\"line\":{\"color\":\"#E5ECF6\",\"width\":0.5},\"pattern\":{\"fillmode\":\"overlay\",\"size\":10,\"solidity\":0.2}},\"type\":\"bar\"}],\"scattergeo\":[{\"type\":\"scattergeo\",\"marker\":{\"colorbar\":{\"outlinewidth\":0,\"ticks\":\"\"}}}],\"scatterpolar\":[{\"type\":\"scatterpolar\",\"marker\":{\"colorbar\":{\"outlinewidth\":0,\"ticks\":\"\"}}}],\"histogram\":[{\"marker\":{\"pattern\":{\"fillmode\":\"overlay\",\"size\":10,\"solidity\":0.2}},\"type\":\"histogram\"}],\"scattergl\":[{\"type\":\"scattergl\",\"marker\":{\"colorbar\":{\"outlinewidth\":0,\"ticks\":\"\"}}}],\"scatter3d\":[{\"type\":\"scatter3d\",\"line\":{\"colorbar\":{\"outlinewidth\":0,\"ticks\":\"\"}},\"marker\":{\"colorbar\":{\"outlinewidth\":0,\"ticks\":\"\"}}}],\"scattermapbox\":[{\"type\":\"scattermapbox\",\"marker\":{\"colorbar\":{\"outlinewidth\":0,\"ticks\":\"\"}}}],\"scatterternary\":[{\"type\":\"scatterternary\",\"marker\":{\"colorbar\":{\"outlinewidth\":0,\"ticks\":\"\"}}}],\"scattercarpet\":[{\"type\":\"scattercarpet\",\"marker\":{\"colorbar\":{\"outlinewidth\":0,\"ticks\":\"\"}}}],\"carpet\":[{\"aaxis\":{\"endlinecolor\":\"#2a3f5f\",\"gridcolor\":\"white\",\"linecolor\":\"white\",\"minorgridcolor\":\"white\",\"startlinecolor\":\"#2a3f5f\"},\"baxis\":{\"endlinecolor\":\"#2a3f5f\",\"gridcolor\":\"white\",\"linecolor\":\"white\",\"minorgridcolor\":\"white\",\"startlinecolor\":\"#2a3f5f\"},\"type\":\"carpet\"}],\"table\":[{\"cells\":{\"fill\":{\"color\":\"#EBF0F8\"},\"line\":{\"color\":\"white\"}},\"header\":{\"fill\":{\"color\":\"#C8D4E3\"},\"line\":{\"color\":\"white\"}},\"type\":\"table\"}],\"barpolar\":[{\"marker\":{\"line\":{\"color\":\"#E5ECF6\",\"width\":0.5},\"pattern\":{\"fillmode\":\"overlay\",\"size\":10,\"solidity\":0.2}},\"type\":\"barpolar\"}],\"pie\":[{\"automargin\":true,\"type\":\"pie\"}]},\"layout\":{\"autotypenumbers\":\"strict\",\"colorway\":[\"#636efa\",\"#EF553B\",\"#00cc96\",\"#ab63fa\",\"#FFA15A\",\"#19d3f3\",\"#FF6692\",\"#B6E880\",\"#FF97FF\",\"#FECB52\"],\"font\":{\"color\":\"#2a3f5f\"},\"hovermode\":\"closest\",\"hoverlabel\":{\"align\":\"left\"},\"paper_bgcolor\":\"white\",\"plot_bgcolor\":\"#E5ECF6\",\"polar\":{\"bgcolor\":\"#E5ECF6\",\"angularaxis\":{\"gridcolor\":\"white\",\"linecolor\":\"white\",\"ticks\":\"\"},\"radialaxis\":{\"gridcolor\":\"white\",\"linecolor\":\"white\",\"ticks\":\"\"}},\"ternary\":{\"bgcolor\":\"#E5ECF6\",\"aaxis\":{\"gridcolor\":\"white\",\"linecolor\":\"white\",\"ticks\":\"\"},\"baxis\":{\"gridcolor\":\"white\",\"linecolor\":\"white\",\"ticks\":\"\"},\"caxis\":{\"gridcolor\":\"white\",\"linecolor\":\"white\",\"ticks\":\"\"}},\"coloraxis\":{\"colorbar\":{\"outlinewidth\":0,\"ticks\":\"\"}},\"colorscale\":{\"sequential\":[[0.0,\"#0d0887\"],[0.1111111111111111,\"#46039f\"],[0.2222222222222222,\"#7201a8\"],[0.3333333333333333,\"#9c179e\"],[0.4444444444444444,\"#bd3786\"],[0.5555555555555556,\"#d8576b\"],[0.6666666666666666,\"#ed7953\"],[0.7777777777777778,\"#fb9f3a\"],[0.8888888888888888,\"#fdca26\"],[1.0,\"#f0f921\"]],\"sequentialminus\":[[0.0,\"#0d0887\"],[0.1111111111111111,\"#46039f\"],[0.2222222222222222,\"#7201a8\"],[0.3333333333333333,\"#9c179e\"],[0.4444444444444444,\"#bd3786\"],[0.5555555555555556,\"#d8576b\"],[0.6666666666666666,\"#ed7953\"],[0.7777777777777778,\"#fb9f3a\"],[0.8888888888888888,\"#fdca26\"],[1.0,\"#f0f921\"]],\"diverging\":[[0,\"#8e0152\"],[0.1,\"#c51b7d\"],[0.2,\"#de77ae\"],[0.3,\"#f1b6da\"],[0.4,\"#fde0ef\"],[0.5,\"#f7f7f7\"],[0.6,\"#e6f5d0\"],[0.7,\"#b8e186\"],[0.8,\"#7fbc41\"],[0.9,\"#4d9221\"],[1,\"#276419\"]]},\"xaxis\":{\"gridcolor\":\"white\",\"linecolor\":\"white\",\"ticks\":\"\",\"title\":{\"standoff\":15},\"zerolinecolor\":\"white\",\"automargin\":true,\"zerolinewidth\":2},\"yaxis\":{\"gridcolor\":\"white\",\"linecolor\":\"white\",\"ticks\":\"\",\"title\":{\"standoff\":15},\"zerolinecolor\":\"white\",\"automargin\":true,\"zerolinewidth\":2},\"scene\":{\"xaxis\":{\"backgroundcolor\":\"#E5ECF6\",\"gridcolor\":\"white\",\"linecolor\":\"white\",\"showbackground\":true,\"ticks\":\"\",\"zerolinecolor\":\"white\",\"gridwidth\":2},\"yaxis\":{\"backgroundcolor\":\"#E5ECF6\",\"gridcolor\":\"white\",\"linecolor\":\"white\",\"showbackground\":true,\"ticks\":\"\",\"zerolinecolor\":\"white\",\"gridwidth\":2},\"zaxis\":{\"backgroundcolor\":\"#E5ECF6\",\"gridcolor\":\"white\",\"linecolor\":\"white\",\"showbackground\":true,\"ticks\":\"\",\"zerolinecolor\":\"white\",\"gridwidth\":2}},\"shapedefaults\":{\"line\":{\"color\":\"#2a3f5f\"}},\"annotationdefaults\":{\"arrowcolor\":\"#2a3f5f\",\"arrowhead\":0,\"arrowwidth\":1},\"geo\":{\"bgcolor\":\"white\",\"landcolor\":\"#E5ECF6\",\"subunitcolor\":\"white\",\"showland\":true,\"showlakes\":true,\"lakecolor\":\"white\"},\"title\":{\"x\":0.05},\"mapbox\":{\"style\":\"light\"}}},\"xaxis\":{\"anchor\":\"y\",\"domain\":[0.0,1.0],\"title\":{\"text\":\"RESPONSE\"}},\"yaxis\":{\"anchor\":\"x\",\"domain\":[0.0,1.0],\"title\":{\"text\":\"protein_concentration\"}},\"legend\":{\"tracegroupgap\":0},\"margin\":{\"t\":60},\"boxmode\":\"group\"},                        {\"responsive\": true}                    ).then(function(){\n",
       "                            \n",
       "var gd = document.getElementById('b8452b6d-c510-45e0-a63f-2e3855bee107');\n",
       "var x = new MutationObserver(function (mutations, observer) {{\n",
       "        var display = window.getComputedStyle(gd).display;\n",
       "        if (!display || display === 'none') {{\n",
       "            console.log([gd, 'removed!']);\n",
       "            Plotly.purge(gd);\n",
       "            observer.disconnect();\n",
       "        }}\n",
       "}});\n",
       "\n",
       "// Listen for the removal of the full notebook cells\n",
       "var notebookContainer = gd.closest('#notebook-container');\n",
       "if (notebookContainer) {{\n",
       "    x.observe(notebookContainer, {childList: true});\n",
       "}}\n",
       "\n",
       "// Listen for the clearing of the current output cell\n",
       "var outputEl = gd.closest('.output');\n",
       "if (outputEl) {{\n",
       "    x.observe(outputEl, {childList: true});\n",
       "}}\n",
       "\n",
       "                        })                };                });            </script>        </div>"
      ]
     },
     "metadata": {},
     "output_type": "display_data"
    }
   ],
   "source": [
    "px.box(df_merged, x=\"RESPONSE\", y=\"protein_concentration\", points=\"all\")"
   ]
  },
  {
   "cell_type": "code",
   "execution_count": 468,
   "id": "c5eda34f",
   "metadata": {},
   "outputs": [],
   "source": [
    "###** RESPONSE = NO or tumors are getting bigger **###\n",
    "# average protein concentration of patient = 133\n",
    "# 50% data where range of protein concentration is from 112 to 155.75\n",
    "# strongly agreed, protein concentration of patient is 199\n",
    "# weakly agreed, protein concentration of patient is 65\n",
    "\n",
    "###** RESPONSE = YES or tumors are Shrinking **###\n",
    "# average protein concentration of patient = 102.5\n",
    "# 50% data where range of protein concentration is from 90.5 to 116.5\n",
    "# strongly agreed, protein concentration of patient is 187\n",
    "# weakly agreed, protein concentration of patient is 44"
   ]
  },
  {
   "cell_type": "code",
   "execution_count": 469,
   "id": "6c405c38",
   "metadata": {},
   "outputs": [
    {
     "data": {
      "application/vnd.plotly.v1+json": {
       "config": {
        "plotlyServerURL": "https://plot.ly"
       },
       "data": [
        {
         "alignmentgroup": "True",
         "boxpoints": "all",
         "hovertemplate": "trt_grp=DRUG<br>RESPONSE=%{x}<br>protein_concentration=%{y}<extra></extra>",
         "legendgroup": "DRUG",
         "marker": {
          "color": "#636efa"
         },
         "name": "DRUG",
         "notched": false,
         "offsetgroup": "DRUG",
         "orientation": "v",
         "showlegend": true,
         "type": "box",
         "x": [
          "N",
          "Y",
          "Y",
          "N",
          "N",
          "Y",
          "N",
          "N",
          "N",
          "N",
          "Y",
          "Y",
          "Y",
          "N",
          "N",
          "Y",
          "N",
          "N",
          "N",
          "Y",
          "N",
          "Y",
          "Y",
          "Y",
          "Y",
          "Y",
          "N",
          "Y",
          "N",
          "N",
          "N",
          "Y",
          "N",
          "N",
          "Y",
          "N",
          "Y",
          "Y",
          "N",
          "N",
          "Y",
          "Y",
          "N",
          "Y",
          "Y",
          "Y",
          "Y",
          "N",
          "Y",
          "Y",
          "Y",
          "Y",
          "N",
          "Y",
          "N",
          "N",
          "Y",
          "Y",
          "Y",
          "Y",
          "N",
          "Y",
          "Y",
          "Y",
          "N",
          "Y",
          "Y",
          "Y",
          "Y",
          "Y",
          "Y",
          "N",
          "N",
          "N",
          "N",
          "Y",
          "Y",
          "Y",
          "Y",
          "Y",
          "N",
          "N",
          "Y",
          "Y",
          "Y",
          "Y",
          "Y",
          "Y",
          "Y",
          "Y",
          "Y",
          "N",
          "N",
          "N",
          "Y",
          "N",
          "Y",
          "N",
          "Y",
          "Y",
          "Y",
          "Y",
          "N",
          "N",
          "Y",
          "N",
          "Y",
          "N",
          "N",
          "Y",
          "Y",
          "N",
          "N",
          "Y",
          "N",
          "Y",
          "Y",
          "N",
          "Y",
          "Y",
          "N",
          "Y",
          "N",
          "N",
          "N",
          "N",
          "Y",
          "Y",
          "Y",
          "Y",
          "N",
          "N",
          "Y",
          "N",
          "N",
          "N",
          "N",
          "N",
          "Y",
          "Y",
          "Y",
          "N",
          "N",
          "Y",
          "N",
          "N",
          "Y",
          "N",
          "Y",
          "Y",
          "Y",
          "N",
          "N",
          "N",
          "Y",
          "N",
          "N",
          "N",
          "Y",
          "N",
          "Y",
          "N",
          "N",
          "Y",
          "Y",
          "Y",
          "N",
          "Y",
          "N",
          "Y",
          "N",
          "N",
          "Y",
          "Y",
          "Y",
          "Y",
          "N",
          "N",
          "Y",
          "Y",
          "N",
          "Y",
          "Y",
          "Y",
          "N",
          "Y",
          "Y",
          "Y",
          "Y",
          "N",
          "Y",
          "Y",
          "Y",
          "N",
          "Y",
          "N",
          "Y",
          "N",
          "Y",
          "Y",
          "N",
          "Y",
          "N",
          "N",
          "Y",
          "N",
          "Y",
          "N",
          "N",
          "N",
          "Y",
          "Y",
          "Y",
          "Y",
          "N",
          "Y",
          "Y",
          "N",
          "Y",
          "Y",
          "N",
          "Y",
          "Y",
          "N",
          "Y",
          "Y",
          "N",
          "Y",
          "Y",
          "Y",
          "Y",
          "Y",
          "Y",
          "N",
          "Y",
          "N",
          "N",
          "Y",
          "N",
          "Y",
          "N",
          "N",
          "Y",
          "N",
          "N",
          "N",
          "Y",
          "N",
          "N",
          "Y",
          "Y",
          "N",
          "Y",
          "N",
          "Y",
          "N",
          "N",
          "N",
          "Y",
          "Y",
          "Y",
          "Y",
          "N",
          "Y",
          "N",
          "Y",
          "Y",
          "Y",
          "N",
          "N",
          "N",
          "Y",
          "Y",
          "N",
          "Y",
          "Y",
          "Y",
          "Y",
          "Y",
          "N",
          "Y",
          "N",
          "N",
          "N",
          "N",
          "Y",
          "Y",
          "N",
          "N",
          "Y",
          "Y",
          "N",
          "N",
          "Y",
          "N",
          "N",
          "Y",
          "N",
          "Y",
          "N",
          "Y",
          "Y",
          "Y",
          "Y",
          "Y",
          "Y",
          "N",
          "Y",
          "Y",
          "Y",
          "N",
          "Y",
          "N",
          "N",
          "Y",
          "Y",
          "Y",
          "N",
          "N",
          "N",
          "N",
          "N",
          "Y",
          "Y",
          "N",
          "N",
          "N",
          "N",
          "Y",
          "N",
          "Y",
          "N",
          "N",
          "N",
          "N",
          "Y",
          "Y",
          "N",
          "Y",
          "Y",
          "Y",
          "Y",
          "N",
          "Y",
          "Y",
          "N",
          "Y",
          "N",
          "N",
          "Y",
          "Y",
          "N",
          "N",
          "N",
          "Y",
          "Y",
          "Y",
          "Y",
          "Y",
          "N",
          "Y",
          "N",
          "Y",
          "Y",
          "N",
          "N",
          "Y",
          "Y",
          "Y",
          "Y",
          "N",
          "N",
          "N",
          "N",
          "Y",
          "N",
          "N",
          "N",
          "Y",
          "N",
          "N",
          "Y",
          "Y"
         ],
         "x0": " ",
         "xaxis": "x",
         "y": [
          148,
          85,
          89,
          115,
          197,
          125,
          168,
          139,
          189,
          166,
          100,
          103,
          115,
          99,
          196,
          143,
          125,
          147,
          145,
          109,
          158,
          122,
          103,
          102,
          90,
          111,
          180,
          106,
          171,
          159,
          146,
          103,
          105,
          103,
          101,
          187,
          100,
          146,
          133,
          95,
          126,
          79,
          null,
          95,
          131,
          101,
          100,
          134,
          92,
          71,
          93,
          122,
          163,
          85,
          144,
          155,
          89,
          97,
          111,
          107,
          132,
          88,
          120,
          118,
          105,
          84,
          96,
          128,
          108,
          57,
          90,
          136,
          114,
          153,
          188,
          152,
          99,
          102,
          114,
          100,
          131,
          148,
          110,
          111,
          102,
          87,
          79,
          75,
          85,
          129,
          119,
          null,
          141,
          181,
          109,
          123,
          107,
          148,
          113,
          108,
          99,
          103,
          111,
          184,
          85,
          158,
          119,
          142,
          100,
          87,
          101,
          162,
          197,
          117,
          134,
          79,
          122,
          181,
          104,
          91,
          139,
          119,
          146,
          184,
          122,
          165,
          106,
          86,
          111,
          114,
          155,
          141,
          95,
          123,
          138,
          128,
          146,
          108,
          71,
          106,
          114,
          108,
          146,
          129,
          133,
          161,
          108,
          96,
          108,
          128,
          128,
          167,
          144,
          150,
          120,
          161,
          137,
          155,
          112,
          99,
          112,
          152,
          157,
          102,
          87,
          106,
          165,
          117,
          130,
          95,
          null,
          99,
          null,
          92,
          90,
          88,
          196,
          189,
          103,
          146,
          124,
          84,
          105,
          122,
          140,
          93,
          107,
          105,
          109,
          125,
          119,
          116,
          100,
          166,
          116,
          193,
          95,
          137,
          136,
          115,
          101,
          112,
          143,
          144,
          83,
          129,
          102,
          151,
          181,
          135,
          99,
          89,
          80,
          90,
          147,
          97,
          83,
          117,
          95,
          104,
          120,
          82,
          100,
          175,
          135,
          86,
          148,
          120,
          71,
          74,
          115,
          74,
          154,
          137,
          119,
          114,
          114,
          126,
          145,
          135,
          139,
          194,
          83,
          166,
          154,
          84,
          75,
          180,
          130,
          84,
          84,
          139,
          99,
          163,
          125,
          129,
          114,
          125,
          97,
          86,
          91,
          77,
          132,
          105,
          129,
          100,
          84,
          88,
          186,
          131,
          164,
          114,
          88,
          124,
          97,
          95,
          99,
          92,
          78,
          130,
          119,
          133,
          197,
          151,
          109,
          100,
          93,
          143,
          176,
          73,
          82,
          188,
          109,
          96,
          150,
          181,
          92,
          111,
          106,
          174,
          138,
          106,
          68,
          112,
          119,
          92,
          183,
          94,
          128,
          94,
          114,
          102,
          111,
          128,
          92,
          104,
          94,
          128,
          147,
          157,
          167,
          136,
          91,
          106,
          127,
          199,
          167,
          145,
          112,
          145,
          98,
          165,
          99,
          195,
          156,
          101,
          56,
          162,
          125,
          129,
          130,
          107,
          140,
          144,
          107,
          158,
          129,
          142,
          169,
          99,
          118,
          122,
          125,
          168,
          129,
          80,
          115,
          127,
          126,
          129,
          94,
          83,
          117,
          116,
          141,
          175,
          92,
          174,
          105,
          120,
          109,
          140,
          147,
          187,
          121,
          128,
          137,
          88,
          89,
          122,
          121,
          126,
          93
         ],
         "y0": " ",
         "yaxis": "y"
        },
        {
         "alignmentgroup": "True",
         "boxpoints": "all",
         "hovertemplate": "trt_grp=CONTROL<br>RESPONSE=%{x}<br>protein_concentration=%{y}<extra></extra>",
         "legendgroup": "CONTROL",
         "marker": {
          "color": "#EF553B"
         },
         "name": "CONTROL",
         "notched": false,
         "offsetgroup": "CONTROL",
         "orientation": "v",
         "showlegend": true,
         "type": "box",
         "x": [
          "N",
          "N",
          "Y",
          "N",
          "Y",
          "N",
          "Y",
          "N",
          "Y",
          "N",
          "N",
          "N",
          "N",
          "N",
          "N",
          "N",
          "Y",
          "Y",
          "N",
          "N",
          "N",
          "N",
          "N",
          "Y",
          "N",
          "N",
          "N",
          "Y",
          "Y",
          "N",
          "N",
          "N",
          "N",
          "Y",
          "N",
          "N",
          "N",
          "Y",
          "N",
          "N",
          "N",
          "N",
          "N",
          "Y",
          "Y",
          "Y",
          "Y",
          "N",
          "N",
          "N",
          "N",
          "Y",
          "Y",
          "Y",
          "Y",
          "N",
          "Y",
          "N",
          "N",
          "N",
          "N",
          "Y",
          "N",
          "N",
          "N",
          "N",
          "N",
          "N",
          "N",
          "N",
          "Y",
          "N",
          "N",
          "Y",
          "N",
          "N",
          "N",
          "N",
          "N",
          "Y",
          "N",
          "N",
          "N",
          "N",
          "N",
          "N",
          "N",
          "N",
          "N",
          "Y",
          "N",
          "Y",
          "N",
          "N",
          "N",
          "N",
          "N",
          "N",
          "Y",
          "N",
          "N",
          "N",
          "N",
          "N",
          "Y",
          "N",
          "Y",
          "N",
          "N",
          "N",
          "N",
          "N",
          "Y",
          "N",
          "N",
          "N",
          "N",
          "N",
          "N",
          "N",
          "N",
          "N",
          "N",
          "N",
          "N",
          "N",
          "Y",
          "N",
          "N",
          "N",
          "Y",
          "N",
          "N",
          "N",
          "N",
          "Y",
          "Y",
          "Y",
          "N",
          "N",
          "Y",
          "N",
          "N",
          "N",
          "N",
          "N",
          "N",
          "Y",
          "N",
          "Y",
          "Y",
          "N",
          "N",
          "Y",
          "N",
          "N",
          "N",
          "N",
          "Y",
          "N",
          "Y",
          "N",
          "N",
          "N",
          "N",
          "Y",
          "N",
          "N",
          "Y",
          "Y",
          "N",
          "N",
          "Y",
          "Y",
          "Y",
          "N",
          "N",
          "N",
          "Y",
          "Y",
          "N",
          "N",
          "Y",
          "N",
          "N",
          "N",
          "N",
          "N",
          "Y",
          "N",
          "N",
          "N",
          "Y",
          "Y",
          "N",
          "Y",
          "N",
          "N",
          "N",
          "N",
          "N",
          "N",
          "N",
          "N",
          "Y",
          "N",
          "N",
          "N",
          "N",
          "Y",
          "N",
          "N",
          "Y",
          "N",
          "Y",
          "N",
          "N",
          "N",
          "N",
          "Y",
          "N",
          "N",
          "N",
          "Y",
          "N",
          "Y",
          "N",
          "Y",
          "N",
          "N",
          "Y",
          "N",
          "Y",
          "Y",
          "N",
          "Y",
          "N",
          "N",
          "N",
          "N",
          "Y",
          "Y",
          "N",
          "N",
          "N",
          "Y",
          "N",
          "N",
          "Y",
          "Y",
          "N",
          "N",
          "N",
          "Y",
          "N",
          "N",
          "Y",
          "Y",
          "Y",
          "N",
          "Y",
          "N",
          "N",
          "Y",
          "Y",
          "N",
          "N",
          "N",
          "Y",
          "N",
          "N",
          "N",
          "Y",
          "Y",
          "N",
          "N",
          "Y",
          "Y",
          "N",
          "Y",
          "Y",
          "N",
          "Y",
          "Y",
          "Y",
          "N",
          "N",
          "Y",
          "N",
          "N",
          "N",
          "N",
          "N",
          "N",
          "N",
          "N",
          "Y",
          "N",
          "N",
          "Y",
          "Y",
          "Y",
          "N",
          "Y",
          "Y",
          "N",
          "N",
          "Y",
          "N",
          "N",
          "Y",
          "Y",
          "N",
          "Y",
          "N",
          "N",
          "N",
          "Y",
          "N",
          "N",
          "N",
          "N",
          "N",
          "Y",
          "Y",
          "N",
          "N",
          "N",
          "N",
          "Y",
          "N",
          "N",
          "N",
          "Y",
          "Y",
          "N",
          "Y",
          "N",
          "N",
          "N",
          "Y",
          "Y",
          "Y",
          "N",
          "Y",
          "N",
          "N",
          "N",
          "N",
          "N",
          "Y",
          "Y",
          "N",
          "N",
          "Y",
          "N",
          "N",
          "N",
          "Y",
          "N",
          "N",
          "Y",
          "Y",
          "N",
          "N",
          "Y",
          "Y",
          "N",
          "N",
          "Y",
          "N",
          "N",
          "N",
          "Y",
          "N",
          "N",
          "N",
          "N",
          "N",
          "N",
          "Y",
          "N",
          "N",
          "Y",
          "Y"
         ],
         "x0": " ",
         "xaxis": "x",
         "y": [
          183,
          137,
          116,
          78,
          110,
          118,
          107,
          126,
          119,
          97,
          117,
          88,
          92,
          138,
          133,
          180,
          71,
          88,
          176,
          150,
          73,
          105,
          84,
          44,
          141,
          114,
          99,
          109,
          109,
          146,
          100,
          139,
          129,
          62,
          112,
          113,
          74,
          83,
          137,
          110,
          106,
          136,
          107,
          80,
          123,
          81,
          142,
          144,
          151,
          125,
          81,
          126,
          96,
          83,
          95,
          171,
          76,
          160,
          146,
          124,
          78,
          99,
          162,
          113,
          117,
          173,
          122,
          170,
          125,
          100,
          93,
          129,
          105,
          106,
          108,
          154,
          102,
          106,
          147,
          156,
          109,
          88,
          163,
          151,
          104,
          120,
          134,
          179,
          143,
          130,
          87,
          73,
          194,
          128,
          139,
          111,
          159,
          135,
          85,
          158,
          105,
          109,
          138,
          196,
          162,
          96,
          81,
          147,
          179,
          140,
          112,
          151,
          109,
          125,
          112,
          177,
          142,
          74,
          171,
          179,
          164,
          91,
          124,
          111,
          129,
          90,
          92,
          113,
          193,
          191,
          142,
          96,
          102,
          101,
          122,
          106,
          100,
          104,
          136,
          155,
          119,
          78,
          107,
          161,
          151,
          146,
          126,
          100,
          112,
          77,
          115,
          128,
          124,
          80,
          106,
          113,
          109,
          182,
          115,
          194,
          129,
          124,
          112,
          122,
          179,
          105,
          118,
          180,
          95,
          115,
          152,
          178,
          122,
          95,
          126,
          139,
          116,
          137,
          61,
          90,
          165,
          125,
          129,
          158,
          147,
          99,
          101,
          81,
          133,
          173,
          118,
          98,
          87,
          156,
          90,
          105,
          144,
          100,
          131,
          158,
          127,
          96,
          131,
          82,
          72,
          168,
          123,
          197,
          172,
          102,
          143,
          138,
          173,
          97,
          119,
          94,
          115,
          184,
          94,
          95,
          139,
          141,
          140,
          107,
          189,
          117,
          108,
          180,
          100,
          134,
          91,
          119,
          134,
          88,
          124,
          97,
          120,
          144,
          136,
          137,
          105,
          132,
          158,
          123,
          85,
          84,
          173,
          99,
          89,
          99,
          125,
          80,
          110,
          81,
          195,
          117,
          null,
          94,
          96,
          120,
          91,
          91,
          145,
          76,
          68,
          124,
          130,
          87,
          116,
          117,
          111,
          122,
          107,
          57,
          127,
          128,
          90,
          187,
          189,
          116,
          84,
          84,
          110,
          103,
          85,
          125,
          198,
          87,
          99,
          91,
          154,
          121,
          111,
          98,
          143,
          108,
          118,
          121,
          124,
          103,
          111,
          112,
          132,
          123,
          67,
          89,
          173,
          108,
          124,
          183,
          124,
          152,
          168,
          105,
          117,
          112,
          108,
          90,
          125,
          132,
          104,
          97,
          100,
          102,
          90,
          103,
          179,
          107,
          117,
          123,
          120,
          155,
          101,
          120,
          80,
          162,
          115,
          111,
          154,
          68,
          123,
          91,
          93,
          121,
          95,
          136,
          121,
          90,
          127,
          110,
          164,
          93,
          158,
          134,
          102,
          187,
          173,
          108,
          97,
          114,
          149,
          111,
          112,
          130,
          120,
          106,
          95,
          126,
          65,
          99,
          102,
          102,
          153,
          100,
          81,
          162,
          136,
          108,
          181,
          154,
          123,
          106,
          190,
          170,
          101
         ],
         "y0": " ",
         "yaxis": "y"
        }
       ],
       "layout": {
        "boxmode": "group",
        "legend": {
         "title": {
          "text": "trt_grp"
         },
         "tracegroupgap": 0
        },
        "margin": {
         "t": 60
        },
        "template": {
         "data": {
          "bar": [
           {
            "error_x": {
             "color": "#2a3f5f"
            },
            "error_y": {
             "color": "#2a3f5f"
            },
            "marker": {
             "line": {
              "color": "#E5ECF6",
              "width": 0.5
             },
             "pattern": {
              "fillmode": "overlay",
              "size": 10,
              "solidity": 0.2
             }
            },
            "type": "bar"
           }
          ],
          "barpolar": [
           {
            "marker": {
             "line": {
              "color": "#E5ECF6",
              "width": 0.5
             },
             "pattern": {
              "fillmode": "overlay",
              "size": 10,
              "solidity": 0.2
             }
            },
            "type": "barpolar"
           }
          ],
          "carpet": [
           {
            "aaxis": {
             "endlinecolor": "#2a3f5f",
             "gridcolor": "white",
             "linecolor": "white",
             "minorgridcolor": "white",
             "startlinecolor": "#2a3f5f"
            },
            "baxis": {
             "endlinecolor": "#2a3f5f",
             "gridcolor": "white",
             "linecolor": "white",
             "minorgridcolor": "white",
             "startlinecolor": "#2a3f5f"
            },
            "type": "carpet"
           }
          ],
          "choropleth": [
           {
            "colorbar": {
             "outlinewidth": 0,
             "ticks": ""
            },
            "type": "choropleth"
           }
          ],
          "contour": [
           {
            "colorbar": {
             "outlinewidth": 0,
             "ticks": ""
            },
            "colorscale": [
             [
              0,
              "#0d0887"
             ],
             [
              0.1111111111111111,
              "#46039f"
             ],
             [
              0.2222222222222222,
              "#7201a8"
             ],
             [
              0.3333333333333333,
              "#9c179e"
             ],
             [
              0.4444444444444444,
              "#bd3786"
             ],
             [
              0.5555555555555556,
              "#d8576b"
             ],
             [
              0.6666666666666666,
              "#ed7953"
             ],
             [
              0.7777777777777778,
              "#fb9f3a"
             ],
             [
              0.8888888888888888,
              "#fdca26"
             ],
             [
              1,
              "#f0f921"
             ]
            ],
            "type": "contour"
           }
          ],
          "contourcarpet": [
           {
            "colorbar": {
             "outlinewidth": 0,
             "ticks": ""
            },
            "type": "contourcarpet"
           }
          ],
          "heatmap": [
           {
            "colorbar": {
             "outlinewidth": 0,
             "ticks": ""
            },
            "colorscale": [
             [
              0,
              "#0d0887"
             ],
             [
              0.1111111111111111,
              "#46039f"
             ],
             [
              0.2222222222222222,
              "#7201a8"
             ],
             [
              0.3333333333333333,
              "#9c179e"
             ],
             [
              0.4444444444444444,
              "#bd3786"
             ],
             [
              0.5555555555555556,
              "#d8576b"
             ],
             [
              0.6666666666666666,
              "#ed7953"
             ],
             [
              0.7777777777777778,
              "#fb9f3a"
             ],
             [
              0.8888888888888888,
              "#fdca26"
             ],
             [
              1,
              "#f0f921"
             ]
            ],
            "type": "heatmap"
           }
          ],
          "heatmapgl": [
           {
            "colorbar": {
             "outlinewidth": 0,
             "ticks": ""
            },
            "colorscale": [
             [
              0,
              "#0d0887"
             ],
             [
              0.1111111111111111,
              "#46039f"
             ],
             [
              0.2222222222222222,
              "#7201a8"
             ],
             [
              0.3333333333333333,
              "#9c179e"
             ],
             [
              0.4444444444444444,
              "#bd3786"
             ],
             [
              0.5555555555555556,
              "#d8576b"
             ],
             [
              0.6666666666666666,
              "#ed7953"
             ],
             [
              0.7777777777777778,
              "#fb9f3a"
             ],
             [
              0.8888888888888888,
              "#fdca26"
             ],
             [
              1,
              "#f0f921"
             ]
            ],
            "type": "heatmapgl"
           }
          ],
          "histogram": [
           {
            "marker": {
             "pattern": {
              "fillmode": "overlay",
              "size": 10,
              "solidity": 0.2
             }
            },
            "type": "histogram"
           }
          ],
          "histogram2d": [
           {
            "colorbar": {
             "outlinewidth": 0,
             "ticks": ""
            },
            "colorscale": [
             [
              0,
              "#0d0887"
             ],
             [
              0.1111111111111111,
              "#46039f"
             ],
             [
              0.2222222222222222,
              "#7201a8"
             ],
             [
              0.3333333333333333,
              "#9c179e"
             ],
             [
              0.4444444444444444,
              "#bd3786"
             ],
             [
              0.5555555555555556,
              "#d8576b"
             ],
             [
              0.6666666666666666,
              "#ed7953"
             ],
             [
              0.7777777777777778,
              "#fb9f3a"
             ],
             [
              0.8888888888888888,
              "#fdca26"
             ],
             [
              1,
              "#f0f921"
             ]
            ],
            "type": "histogram2d"
           }
          ],
          "histogram2dcontour": [
           {
            "colorbar": {
             "outlinewidth": 0,
             "ticks": ""
            },
            "colorscale": [
             [
              0,
              "#0d0887"
             ],
             [
              0.1111111111111111,
              "#46039f"
             ],
             [
              0.2222222222222222,
              "#7201a8"
             ],
             [
              0.3333333333333333,
              "#9c179e"
             ],
             [
              0.4444444444444444,
              "#bd3786"
             ],
             [
              0.5555555555555556,
              "#d8576b"
             ],
             [
              0.6666666666666666,
              "#ed7953"
             ],
             [
              0.7777777777777778,
              "#fb9f3a"
             ],
             [
              0.8888888888888888,
              "#fdca26"
             ],
             [
              1,
              "#f0f921"
             ]
            ],
            "type": "histogram2dcontour"
           }
          ],
          "mesh3d": [
           {
            "colorbar": {
             "outlinewidth": 0,
             "ticks": ""
            },
            "type": "mesh3d"
           }
          ],
          "parcoords": [
           {
            "line": {
             "colorbar": {
              "outlinewidth": 0,
              "ticks": ""
             }
            },
            "type": "parcoords"
           }
          ],
          "pie": [
           {
            "automargin": true,
            "type": "pie"
           }
          ],
          "scatter": [
           {
            "fillpattern": {
             "fillmode": "overlay",
             "size": 10,
             "solidity": 0.2
            },
            "type": "scatter"
           }
          ],
          "scatter3d": [
           {
            "line": {
             "colorbar": {
              "outlinewidth": 0,
              "ticks": ""
             }
            },
            "marker": {
             "colorbar": {
              "outlinewidth": 0,
              "ticks": ""
             }
            },
            "type": "scatter3d"
           }
          ],
          "scattercarpet": [
           {
            "marker": {
             "colorbar": {
              "outlinewidth": 0,
              "ticks": ""
             }
            },
            "type": "scattercarpet"
           }
          ],
          "scattergeo": [
           {
            "marker": {
             "colorbar": {
              "outlinewidth": 0,
              "ticks": ""
             }
            },
            "type": "scattergeo"
           }
          ],
          "scattergl": [
           {
            "marker": {
             "colorbar": {
              "outlinewidth": 0,
              "ticks": ""
             }
            },
            "type": "scattergl"
           }
          ],
          "scattermapbox": [
           {
            "marker": {
             "colorbar": {
              "outlinewidth": 0,
              "ticks": ""
             }
            },
            "type": "scattermapbox"
           }
          ],
          "scatterpolar": [
           {
            "marker": {
             "colorbar": {
              "outlinewidth": 0,
              "ticks": ""
             }
            },
            "type": "scatterpolar"
           }
          ],
          "scatterpolargl": [
           {
            "marker": {
             "colorbar": {
              "outlinewidth": 0,
              "ticks": ""
             }
            },
            "type": "scatterpolargl"
           }
          ],
          "scatterternary": [
           {
            "marker": {
             "colorbar": {
              "outlinewidth": 0,
              "ticks": ""
             }
            },
            "type": "scatterternary"
           }
          ],
          "surface": [
           {
            "colorbar": {
             "outlinewidth": 0,
             "ticks": ""
            },
            "colorscale": [
             [
              0,
              "#0d0887"
             ],
             [
              0.1111111111111111,
              "#46039f"
             ],
             [
              0.2222222222222222,
              "#7201a8"
             ],
             [
              0.3333333333333333,
              "#9c179e"
             ],
             [
              0.4444444444444444,
              "#bd3786"
             ],
             [
              0.5555555555555556,
              "#d8576b"
             ],
             [
              0.6666666666666666,
              "#ed7953"
             ],
             [
              0.7777777777777778,
              "#fb9f3a"
             ],
             [
              0.8888888888888888,
              "#fdca26"
             ],
             [
              1,
              "#f0f921"
             ]
            ],
            "type": "surface"
           }
          ],
          "table": [
           {
            "cells": {
             "fill": {
              "color": "#EBF0F8"
             },
             "line": {
              "color": "white"
             }
            },
            "header": {
             "fill": {
              "color": "#C8D4E3"
             },
             "line": {
              "color": "white"
             }
            },
            "type": "table"
           }
          ]
         },
         "layout": {
          "annotationdefaults": {
           "arrowcolor": "#2a3f5f",
           "arrowhead": 0,
           "arrowwidth": 1
          },
          "autotypenumbers": "strict",
          "coloraxis": {
           "colorbar": {
            "outlinewidth": 0,
            "ticks": ""
           }
          },
          "colorscale": {
           "diverging": [
            [
             0,
             "#8e0152"
            ],
            [
             0.1,
             "#c51b7d"
            ],
            [
             0.2,
             "#de77ae"
            ],
            [
             0.3,
             "#f1b6da"
            ],
            [
             0.4,
             "#fde0ef"
            ],
            [
             0.5,
             "#f7f7f7"
            ],
            [
             0.6,
             "#e6f5d0"
            ],
            [
             0.7,
             "#b8e186"
            ],
            [
             0.8,
             "#7fbc41"
            ],
            [
             0.9,
             "#4d9221"
            ],
            [
             1,
             "#276419"
            ]
           ],
           "sequential": [
            [
             0,
             "#0d0887"
            ],
            [
             0.1111111111111111,
             "#46039f"
            ],
            [
             0.2222222222222222,
             "#7201a8"
            ],
            [
             0.3333333333333333,
             "#9c179e"
            ],
            [
             0.4444444444444444,
             "#bd3786"
            ],
            [
             0.5555555555555556,
             "#d8576b"
            ],
            [
             0.6666666666666666,
             "#ed7953"
            ],
            [
             0.7777777777777778,
             "#fb9f3a"
            ],
            [
             0.8888888888888888,
             "#fdca26"
            ],
            [
             1,
             "#f0f921"
            ]
           ],
           "sequentialminus": [
            [
             0,
             "#0d0887"
            ],
            [
             0.1111111111111111,
             "#46039f"
            ],
            [
             0.2222222222222222,
             "#7201a8"
            ],
            [
             0.3333333333333333,
             "#9c179e"
            ],
            [
             0.4444444444444444,
             "#bd3786"
            ],
            [
             0.5555555555555556,
             "#d8576b"
            ],
            [
             0.6666666666666666,
             "#ed7953"
            ],
            [
             0.7777777777777778,
             "#fb9f3a"
            ],
            [
             0.8888888888888888,
             "#fdca26"
            ],
            [
             1,
             "#f0f921"
            ]
           ]
          },
          "colorway": [
           "#636efa",
           "#EF553B",
           "#00cc96",
           "#ab63fa",
           "#FFA15A",
           "#19d3f3",
           "#FF6692",
           "#B6E880",
           "#FF97FF",
           "#FECB52"
          ],
          "font": {
           "color": "#2a3f5f"
          },
          "geo": {
           "bgcolor": "white",
           "lakecolor": "white",
           "landcolor": "#E5ECF6",
           "showlakes": true,
           "showland": true,
           "subunitcolor": "white"
          },
          "hoverlabel": {
           "align": "left"
          },
          "hovermode": "closest",
          "mapbox": {
           "style": "light"
          },
          "paper_bgcolor": "white",
          "plot_bgcolor": "#E5ECF6",
          "polar": {
           "angularaxis": {
            "gridcolor": "white",
            "linecolor": "white",
            "ticks": ""
           },
           "bgcolor": "#E5ECF6",
           "radialaxis": {
            "gridcolor": "white",
            "linecolor": "white",
            "ticks": ""
           }
          },
          "scene": {
           "xaxis": {
            "backgroundcolor": "#E5ECF6",
            "gridcolor": "white",
            "gridwidth": 2,
            "linecolor": "white",
            "showbackground": true,
            "ticks": "",
            "zerolinecolor": "white"
           },
           "yaxis": {
            "backgroundcolor": "#E5ECF6",
            "gridcolor": "white",
            "gridwidth": 2,
            "linecolor": "white",
            "showbackground": true,
            "ticks": "",
            "zerolinecolor": "white"
           },
           "zaxis": {
            "backgroundcolor": "#E5ECF6",
            "gridcolor": "white",
            "gridwidth": 2,
            "linecolor": "white",
            "showbackground": true,
            "ticks": "",
            "zerolinecolor": "white"
           }
          },
          "shapedefaults": {
           "line": {
            "color": "#2a3f5f"
           }
          },
          "ternary": {
           "aaxis": {
            "gridcolor": "white",
            "linecolor": "white",
            "ticks": ""
           },
           "baxis": {
            "gridcolor": "white",
            "linecolor": "white",
            "ticks": ""
           },
           "bgcolor": "#E5ECF6",
           "caxis": {
            "gridcolor": "white",
            "linecolor": "white",
            "ticks": ""
           }
          },
          "title": {
           "x": 0.05
          },
          "xaxis": {
           "automargin": true,
           "gridcolor": "white",
           "linecolor": "white",
           "ticks": "",
           "title": {
            "standoff": 15
           },
           "zerolinecolor": "white",
           "zerolinewidth": 2
          },
          "yaxis": {
           "automargin": true,
           "gridcolor": "white",
           "linecolor": "white",
           "ticks": "",
           "title": {
            "standoff": 15
           },
           "zerolinecolor": "white",
           "zerolinewidth": 2
          }
         }
        },
        "xaxis": {
         "anchor": "y",
         "domain": [
          0,
          1
         ],
         "title": {
          "text": "RESPONSE"
         }
        },
        "yaxis": {
         "anchor": "x",
         "domain": [
          0,
          1
         ],
         "title": {
          "text": "protein_concentration"
         }
        }
       }
      },
      "text/html": [
       "<div>                            <div id=\"49c4589a-d7a8-4466-a5f8-4f0538217fd6\" class=\"plotly-graph-div\" style=\"height:525px; width:100%;\"></div>            <script type=\"text/javascript\">                require([\"plotly\"], function(Plotly) {                    window.PLOTLYENV=window.PLOTLYENV || {};                                    if (document.getElementById(\"49c4589a-d7a8-4466-a5f8-4f0538217fd6\")) {                    Plotly.newPlot(                        \"49c4589a-d7a8-4466-a5f8-4f0538217fd6\",                        [{\"alignmentgroup\":\"True\",\"boxpoints\":\"all\",\"hovertemplate\":\"trt_grp=DRUG<br>RESPONSE=%{x}<br>protein_concentration=%{y}<extra></extra>\",\"legendgroup\":\"DRUG\",\"marker\":{\"color\":\"#636efa\"},\"name\":\"DRUG\",\"notched\":false,\"offsetgroup\":\"DRUG\",\"orientation\":\"v\",\"showlegend\":true,\"x\":[\"N\",\"Y\",\"Y\",\"N\",\"N\",\"Y\",\"N\",\"N\",\"N\",\"N\",\"Y\",\"Y\",\"Y\",\"N\",\"N\",\"Y\",\"N\",\"N\",\"N\",\"Y\",\"N\",\"Y\",\"Y\",\"Y\",\"Y\",\"Y\",\"N\",\"Y\",\"N\",\"N\",\"N\",\"Y\",\"N\",\"N\",\"Y\",\"N\",\"Y\",\"Y\",\"N\",\"N\",\"Y\",\"Y\",\"N\",\"Y\",\"Y\",\"Y\",\"Y\",\"N\",\"Y\",\"Y\",\"Y\",\"Y\",\"N\",\"Y\",\"N\",\"N\",\"Y\",\"Y\",\"Y\",\"Y\",\"N\",\"Y\",\"Y\",\"Y\",\"N\",\"Y\",\"Y\",\"Y\",\"Y\",\"Y\",\"Y\",\"N\",\"N\",\"N\",\"N\",\"Y\",\"Y\",\"Y\",\"Y\",\"Y\",\"N\",\"N\",\"Y\",\"Y\",\"Y\",\"Y\",\"Y\",\"Y\",\"Y\",\"Y\",\"Y\",\"N\",\"N\",\"N\",\"Y\",\"N\",\"Y\",\"N\",\"Y\",\"Y\",\"Y\",\"Y\",\"N\",\"N\",\"Y\",\"N\",\"Y\",\"N\",\"N\",\"Y\",\"Y\",\"N\",\"N\",\"Y\",\"N\",\"Y\",\"Y\",\"N\",\"Y\",\"Y\",\"N\",\"Y\",\"N\",\"N\",\"N\",\"N\",\"Y\",\"Y\",\"Y\",\"Y\",\"N\",\"N\",\"Y\",\"N\",\"N\",\"N\",\"N\",\"N\",\"Y\",\"Y\",\"Y\",\"N\",\"N\",\"Y\",\"N\",\"N\",\"Y\",\"N\",\"Y\",\"Y\",\"Y\",\"N\",\"N\",\"N\",\"Y\",\"N\",\"N\",\"N\",\"Y\",\"N\",\"Y\",\"N\",\"N\",\"Y\",\"Y\",\"Y\",\"N\",\"Y\",\"N\",\"Y\",\"N\",\"N\",\"Y\",\"Y\",\"Y\",\"Y\",\"N\",\"N\",\"Y\",\"Y\",\"N\",\"Y\",\"Y\",\"Y\",\"N\",\"Y\",\"Y\",\"Y\",\"Y\",\"N\",\"Y\",\"Y\",\"Y\",\"N\",\"Y\",\"N\",\"Y\",\"N\",\"Y\",\"Y\",\"N\",\"Y\",\"N\",\"N\",\"Y\",\"N\",\"Y\",\"N\",\"N\",\"N\",\"Y\",\"Y\",\"Y\",\"Y\",\"N\",\"Y\",\"Y\",\"N\",\"Y\",\"Y\",\"N\",\"Y\",\"Y\",\"N\",\"Y\",\"Y\",\"N\",\"Y\",\"Y\",\"Y\",\"Y\",\"Y\",\"Y\",\"N\",\"Y\",\"N\",\"N\",\"Y\",\"N\",\"Y\",\"N\",\"N\",\"Y\",\"N\",\"N\",\"N\",\"Y\",\"N\",\"N\",\"Y\",\"Y\",\"N\",\"Y\",\"N\",\"Y\",\"N\",\"N\",\"N\",\"Y\",\"Y\",\"Y\",\"Y\",\"N\",\"Y\",\"N\",\"Y\",\"Y\",\"Y\",\"N\",\"N\",\"N\",\"Y\",\"Y\",\"N\",\"Y\",\"Y\",\"Y\",\"Y\",\"Y\",\"N\",\"Y\",\"N\",\"N\",\"N\",\"N\",\"Y\",\"Y\",\"N\",\"N\",\"Y\",\"Y\",\"N\",\"N\",\"Y\",\"N\",\"N\",\"Y\",\"N\",\"Y\",\"N\",\"Y\",\"Y\",\"Y\",\"Y\",\"Y\",\"Y\",\"N\",\"Y\",\"Y\",\"Y\",\"N\",\"Y\",\"N\",\"N\",\"Y\",\"Y\",\"Y\",\"N\",\"N\",\"N\",\"N\",\"N\",\"Y\",\"Y\",\"N\",\"N\",\"N\",\"N\",\"Y\",\"N\",\"Y\",\"N\",\"N\",\"N\",\"N\",\"Y\",\"Y\",\"N\",\"Y\",\"Y\",\"Y\",\"Y\",\"N\",\"Y\",\"Y\",\"N\",\"Y\",\"N\",\"N\",\"Y\",\"Y\",\"N\",\"N\",\"N\",\"Y\",\"Y\",\"Y\",\"Y\",\"Y\",\"N\",\"Y\",\"N\",\"Y\",\"Y\",\"N\",\"N\",\"Y\",\"Y\",\"Y\",\"Y\",\"N\",\"N\",\"N\",\"N\",\"Y\",\"N\",\"N\",\"N\",\"Y\",\"N\",\"N\",\"Y\",\"Y\"],\"x0\":\" \",\"xaxis\":\"x\",\"y\":[148.0,85.0,89.0,115.0,197.0,125.0,168.0,139.0,189.0,166.0,100.0,103.0,115.0,99.0,196.0,143.0,125.0,147.0,145.0,109.0,158.0,122.0,103.0,102.0,90.0,111.0,180.0,106.0,171.0,159.0,146.0,103.0,105.0,103.0,101.0,187.0,100.0,146.0,133.0,95.0,126.0,79.0,null,95.0,131.0,101.0,100.0,134.0,92.0,71.0,93.0,122.0,163.0,85.0,144.0,155.0,89.0,97.0,111.0,107.0,132.0,88.0,120.0,118.0,105.0,84.0,96.0,128.0,108.0,57.0,90.0,136.0,114.0,153.0,188.0,152.0,99.0,102.0,114.0,100.0,131.0,148.0,110.0,111.0,102.0,87.0,79.0,75.0,85.0,129.0,119.0,null,141.0,181.0,109.0,123.0,107.0,148.0,113.0,108.0,99.0,103.0,111.0,184.0,85.0,158.0,119.0,142.0,100.0,87.0,101.0,162.0,197.0,117.0,134.0,79.0,122.0,181.0,104.0,91.0,139.0,119.0,146.0,184.0,122.0,165.0,106.0,86.0,111.0,114.0,155.0,141.0,95.0,123.0,138.0,128.0,146.0,108.0,71.0,106.0,114.0,108.0,146.0,129.0,133.0,161.0,108.0,96.0,108.0,128.0,128.0,167.0,144.0,150.0,120.0,161.0,137.0,155.0,112.0,99.0,112.0,152.0,157.0,102.0,87.0,106.0,165.0,117.0,130.0,95.0,null,99.0,null,92.0,90.0,88.0,196.0,189.0,103.0,146.0,124.0,84.0,105.0,122.0,140.0,93.0,107.0,105.0,109.0,125.0,119.0,116.0,100.0,166.0,116.0,193.0,95.0,137.0,136.0,115.0,101.0,112.0,143.0,144.0,83.0,129.0,102.0,151.0,181.0,135.0,99.0,89.0,80.0,90.0,147.0,97.0,83.0,117.0,95.0,104.0,120.0,82.0,100.0,175.0,135.0,86.0,148.0,120.0,71.0,74.0,115.0,74.0,154.0,137.0,119.0,114.0,114.0,126.0,145.0,135.0,139.0,194.0,83.0,166.0,154.0,84.0,75.0,180.0,130.0,84.0,84.0,139.0,99.0,163.0,125.0,129.0,114.0,125.0,97.0,86.0,91.0,77.0,132.0,105.0,129.0,100.0,84.0,88.0,186.0,131.0,164.0,114.0,88.0,124.0,97.0,95.0,99.0,92.0,78.0,130.0,119.0,133.0,197.0,151.0,109.0,100.0,93.0,143.0,176.0,73.0,82.0,188.0,109.0,96.0,150.0,181.0,92.0,111.0,106.0,174.0,138.0,106.0,68.0,112.0,119.0,92.0,183.0,94.0,128.0,94.0,114.0,102.0,111.0,128.0,92.0,104.0,94.0,128.0,147.0,157.0,167.0,136.0,91.0,106.0,127.0,199.0,167.0,145.0,112.0,145.0,98.0,165.0,99.0,195.0,156.0,101.0,56.0,162.0,125.0,129.0,130.0,107.0,140.0,144.0,107.0,158.0,129.0,142.0,169.0,99.0,118.0,122.0,125.0,168.0,129.0,80.0,115.0,127.0,126.0,129.0,94.0,83.0,117.0,116.0,141.0,175.0,92.0,174.0,105.0,120.0,109.0,140.0,147.0,187.0,121.0,128.0,137.0,88.0,89.0,122.0,121.0,126.0,93.0],\"y0\":\" \",\"yaxis\":\"y\",\"type\":\"box\"},{\"alignmentgroup\":\"True\",\"boxpoints\":\"all\",\"hovertemplate\":\"trt_grp=CONTROL<br>RESPONSE=%{x}<br>protein_concentration=%{y}<extra></extra>\",\"legendgroup\":\"CONTROL\",\"marker\":{\"color\":\"#EF553B\"},\"name\":\"CONTROL\",\"notched\":false,\"offsetgroup\":\"CONTROL\",\"orientation\":\"v\",\"showlegend\":true,\"x\":[\"N\",\"N\",\"Y\",\"N\",\"Y\",\"N\",\"Y\",\"N\",\"Y\",\"N\",\"N\",\"N\",\"N\",\"N\",\"N\",\"N\",\"Y\",\"Y\",\"N\",\"N\",\"N\",\"N\",\"N\",\"Y\",\"N\",\"N\",\"N\",\"Y\",\"Y\",\"N\",\"N\",\"N\",\"N\",\"Y\",\"N\",\"N\",\"N\",\"Y\",\"N\",\"N\",\"N\",\"N\",\"N\",\"Y\",\"Y\",\"Y\",\"Y\",\"N\",\"N\",\"N\",\"N\",\"Y\",\"Y\",\"Y\",\"Y\",\"N\",\"Y\",\"N\",\"N\",\"N\",\"N\",\"Y\",\"N\",\"N\",\"N\",\"N\",\"N\",\"N\",\"N\",\"N\",\"Y\",\"N\",\"N\",\"Y\",\"N\",\"N\",\"N\",\"N\",\"N\",\"Y\",\"N\",\"N\",\"N\",\"N\",\"N\",\"N\",\"N\",\"N\",\"N\",\"Y\",\"N\",\"Y\",\"N\",\"N\",\"N\",\"N\",\"N\",\"N\",\"Y\",\"N\",\"N\",\"N\",\"N\",\"N\",\"Y\",\"N\",\"Y\",\"N\",\"N\",\"N\",\"N\",\"N\",\"Y\",\"N\",\"N\",\"N\",\"N\",\"N\",\"N\",\"N\",\"N\",\"N\",\"N\",\"N\",\"N\",\"N\",\"Y\",\"N\",\"N\",\"N\",\"Y\",\"N\",\"N\",\"N\",\"N\",\"Y\",\"Y\",\"Y\",\"N\",\"N\",\"Y\",\"N\",\"N\",\"N\",\"N\",\"N\",\"N\",\"Y\",\"N\",\"Y\",\"Y\",\"N\",\"N\",\"Y\",\"N\",\"N\",\"N\",\"N\",\"Y\",\"N\",\"Y\",\"N\",\"N\",\"N\",\"N\",\"Y\",\"N\",\"N\",\"Y\",\"Y\",\"N\",\"N\",\"Y\",\"Y\",\"Y\",\"N\",\"N\",\"N\",\"Y\",\"Y\",\"N\",\"N\",\"Y\",\"N\",\"N\",\"N\",\"N\",\"N\",\"Y\",\"N\",\"N\",\"N\",\"Y\",\"Y\",\"N\",\"Y\",\"N\",\"N\",\"N\",\"N\",\"N\",\"N\",\"N\",\"N\",\"Y\",\"N\",\"N\",\"N\",\"N\",\"Y\",\"N\",\"N\",\"Y\",\"N\",\"Y\",\"N\",\"N\",\"N\",\"N\",\"Y\",\"N\",\"N\",\"N\",\"Y\",\"N\",\"Y\",\"N\",\"Y\",\"N\",\"N\",\"Y\",\"N\",\"Y\",\"Y\",\"N\",\"Y\",\"N\",\"N\",\"N\",\"N\",\"Y\",\"Y\",\"N\",\"N\",\"N\",\"Y\",\"N\",\"N\",\"Y\",\"Y\",\"N\",\"N\",\"N\",\"Y\",\"N\",\"N\",\"Y\",\"Y\",\"Y\",\"N\",\"Y\",\"N\",\"N\",\"Y\",\"Y\",\"N\",\"N\",\"N\",\"Y\",\"N\",\"N\",\"N\",\"Y\",\"Y\",\"N\",\"N\",\"Y\",\"Y\",\"N\",\"Y\",\"Y\",\"N\",\"Y\",\"Y\",\"Y\",\"N\",\"N\",\"Y\",\"N\",\"N\",\"N\",\"N\",\"N\",\"N\",\"N\",\"N\",\"Y\",\"N\",\"N\",\"Y\",\"Y\",\"Y\",\"N\",\"Y\",\"Y\",\"N\",\"N\",\"Y\",\"N\",\"N\",\"Y\",\"Y\",\"N\",\"Y\",\"N\",\"N\",\"N\",\"Y\",\"N\",\"N\",\"N\",\"N\",\"N\",\"Y\",\"Y\",\"N\",\"N\",\"N\",\"N\",\"Y\",\"N\",\"N\",\"N\",\"Y\",\"Y\",\"N\",\"Y\",\"N\",\"N\",\"N\",\"Y\",\"Y\",\"Y\",\"N\",\"Y\",\"N\",\"N\",\"N\",\"N\",\"N\",\"Y\",\"Y\",\"N\",\"N\",\"Y\",\"N\",\"N\",\"N\",\"Y\",\"N\",\"N\",\"Y\",\"Y\",\"N\",\"N\",\"Y\",\"Y\",\"N\",\"N\",\"Y\",\"N\",\"N\",\"N\",\"Y\",\"N\",\"N\",\"N\",\"N\",\"N\",\"N\",\"Y\",\"N\",\"N\",\"Y\",\"Y\"],\"x0\":\" \",\"xaxis\":\"x\",\"y\":[183.0,137.0,116.0,78.0,110.0,118.0,107.0,126.0,119.0,97.0,117.0,88.0,92.0,138.0,133.0,180.0,71.0,88.0,176.0,150.0,73.0,105.0,84.0,44.0,141.0,114.0,99.0,109.0,109.0,146.0,100.0,139.0,129.0,62.0,112.0,113.0,74.0,83.0,137.0,110.0,106.0,136.0,107.0,80.0,123.0,81.0,142.0,144.0,151.0,125.0,81.0,126.0,96.0,83.0,95.0,171.0,76.0,160.0,146.0,124.0,78.0,99.0,162.0,113.0,117.0,173.0,122.0,170.0,125.0,100.0,93.0,129.0,105.0,106.0,108.0,154.0,102.0,106.0,147.0,156.0,109.0,88.0,163.0,151.0,104.0,120.0,134.0,179.0,143.0,130.0,87.0,73.0,194.0,128.0,139.0,111.0,159.0,135.0,85.0,158.0,105.0,109.0,138.0,196.0,162.0,96.0,81.0,147.0,179.0,140.0,112.0,151.0,109.0,125.0,112.0,177.0,142.0,74.0,171.0,179.0,164.0,91.0,124.0,111.0,129.0,90.0,92.0,113.0,193.0,191.0,142.0,96.0,102.0,101.0,122.0,106.0,100.0,104.0,136.0,155.0,119.0,78.0,107.0,161.0,151.0,146.0,126.0,100.0,112.0,77.0,115.0,128.0,124.0,80.0,106.0,113.0,109.0,182.0,115.0,194.0,129.0,124.0,112.0,122.0,179.0,105.0,118.0,180.0,95.0,115.0,152.0,178.0,122.0,95.0,126.0,139.0,116.0,137.0,61.0,90.0,165.0,125.0,129.0,158.0,147.0,99.0,101.0,81.0,133.0,173.0,118.0,98.0,87.0,156.0,90.0,105.0,144.0,100.0,131.0,158.0,127.0,96.0,131.0,82.0,72.0,168.0,123.0,197.0,172.0,102.0,143.0,138.0,173.0,97.0,119.0,94.0,115.0,184.0,94.0,95.0,139.0,141.0,140.0,107.0,189.0,117.0,108.0,180.0,100.0,134.0,91.0,119.0,134.0,88.0,124.0,97.0,120.0,144.0,136.0,137.0,105.0,132.0,158.0,123.0,85.0,84.0,173.0,99.0,89.0,99.0,125.0,80.0,110.0,81.0,195.0,117.0,null,94.0,96.0,120.0,91.0,91.0,145.0,76.0,68.0,124.0,130.0,87.0,116.0,117.0,111.0,122.0,107.0,57.0,127.0,128.0,90.0,187.0,189.0,116.0,84.0,84.0,110.0,103.0,85.0,125.0,198.0,87.0,99.0,91.0,154.0,121.0,111.0,98.0,143.0,108.0,118.0,121.0,124.0,103.0,111.0,112.0,132.0,123.0,67.0,89.0,173.0,108.0,124.0,183.0,124.0,152.0,168.0,105.0,117.0,112.0,108.0,90.0,125.0,132.0,104.0,97.0,100.0,102.0,90.0,103.0,179.0,107.0,117.0,123.0,120.0,155.0,101.0,120.0,80.0,162.0,115.0,111.0,154.0,68.0,123.0,91.0,93.0,121.0,95.0,136.0,121.0,90.0,127.0,110.0,164.0,93.0,158.0,134.0,102.0,187.0,173.0,108.0,97.0,114.0,149.0,111.0,112.0,130.0,120.0,106.0,95.0,126.0,65.0,99.0,102.0,102.0,153.0,100.0,81.0,162.0,136.0,108.0,181.0,154.0,123.0,106.0,190.0,170.0,101.0],\"y0\":\" \",\"yaxis\":\"y\",\"type\":\"box\"}],                        {\"template\":{\"data\":{\"histogram2dcontour\":[{\"type\":\"histogram2dcontour\",\"colorbar\":{\"outlinewidth\":0,\"ticks\":\"\"},\"colorscale\":[[0.0,\"#0d0887\"],[0.1111111111111111,\"#46039f\"],[0.2222222222222222,\"#7201a8\"],[0.3333333333333333,\"#9c179e\"],[0.4444444444444444,\"#bd3786\"],[0.5555555555555556,\"#d8576b\"],[0.6666666666666666,\"#ed7953\"],[0.7777777777777778,\"#fb9f3a\"],[0.8888888888888888,\"#fdca26\"],[1.0,\"#f0f921\"]]}],\"choropleth\":[{\"type\":\"choropleth\",\"colorbar\":{\"outlinewidth\":0,\"ticks\":\"\"}}],\"histogram2d\":[{\"type\":\"histogram2d\",\"colorbar\":{\"outlinewidth\":0,\"ticks\":\"\"},\"colorscale\":[[0.0,\"#0d0887\"],[0.1111111111111111,\"#46039f\"],[0.2222222222222222,\"#7201a8\"],[0.3333333333333333,\"#9c179e\"],[0.4444444444444444,\"#bd3786\"],[0.5555555555555556,\"#d8576b\"],[0.6666666666666666,\"#ed7953\"],[0.7777777777777778,\"#fb9f3a\"],[0.8888888888888888,\"#fdca26\"],[1.0,\"#f0f921\"]]}],\"heatmap\":[{\"type\":\"heatmap\",\"colorbar\":{\"outlinewidth\":0,\"ticks\":\"\"},\"colorscale\":[[0.0,\"#0d0887\"],[0.1111111111111111,\"#46039f\"],[0.2222222222222222,\"#7201a8\"],[0.3333333333333333,\"#9c179e\"],[0.4444444444444444,\"#bd3786\"],[0.5555555555555556,\"#d8576b\"],[0.6666666666666666,\"#ed7953\"],[0.7777777777777778,\"#fb9f3a\"],[0.8888888888888888,\"#fdca26\"],[1.0,\"#f0f921\"]]}],\"heatmapgl\":[{\"type\":\"heatmapgl\",\"colorbar\":{\"outlinewidth\":0,\"ticks\":\"\"},\"colorscale\":[[0.0,\"#0d0887\"],[0.1111111111111111,\"#46039f\"],[0.2222222222222222,\"#7201a8\"],[0.3333333333333333,\"#9c179e\"],[0.4444444444444444,\"#bd3786\"],[0.5555555555555556,\"#d8576b\"],[0.6666666666666666,\"#ed7953\"],[0.7777777777777778,\"#fb9f3a\"],[0.8888888888888888,\"#fdca26\"],[1.0,\"#f0f921\"]]}],\"contourcarpet\":[{\"type\":\"contourcarpet\",\"colorbar\":{\"outlinewidth\":0,\"ticks\":\"\"}}],\"contour\":[{\"type\":\"contour\",\"colorbar\":{\"outlinewidth\":0,\"ticks\":\"\"},\"colorscale\":[[0.0,\"#0d0887\"],[0.1111111111111111,\"#46039f\"],[0.2222222222222222,\"#7201a8\"],[0.3333333333333333,\"#9c179e\"],[0.4444444444444444,\"#bd3786\"],[0.5555555555555556,\"#d8576b\"],[0.6666666666666666,\"#ed7953\"],[0.7777777777777778,\"#fb9f3a\"],[0.8888888888888888,\"#fdca26\"],[1.0,\"#f0f921\"]]}],\"surface\":[{\"type\":\"surface\",\"colorbar\":{\"outlinewidth\":0,\"ticks\":\"\"},\"colorscale\":[[0.0,\"#0d0887\"],[0.1111111111111111,\"#46039f\"],[0.2222222222222222,\"#7201a8\"],[0.3333333333333333,\"#9c179e\"],[0.4444444444444444,\"#bd3786\"],[0.5555555555555556,\"#d8576b\"],[0.6666666666666666,\"#ed7953\"],[0.7777777777777778,\"#fb9f3a\"],[0.8888888888888888,\"#fdca26\"],[1.0,\"#f0f921\"]]}],\"mesh3d\":[{\"type\":\"mesh3d\",\"colorbar\":{\"outlinewidth\":0,\"ticks\":\"\"}}],\"scatter\":[{\"fillpattern\":{\"fillmode\":\"overlay\",\"size\":10,\"solidity\":0.2},\"type\":\"scatter\"}],\"parcoords\":[{\"type\":\"parcoords\",\"line\":{\"colorbar\":{\"outlinewidth\":0,\"ticks\":\"\"}}}],\"scatterpolargl\":[{\"type\":\"scatterpolargl\",\"marker\":{\"colorbar\":{\"outlinewidth\":0,\"ticks\":\"\"}}}],\"bar\":[{\"error_x\":{\"color\":\"#2a3f5f\"},\"error_y\":{\"color\":\"#2a3f5f\"},\"marker\":{\"line\":{\"color\":\"#E5ECF6\",\"width\":0.5},\"pattern\":{\"fillmode\":\"overlay\",\"size\":10,\"solidity\":0.2}},\"type\":\"bar\"}],\"scattergeo\":[{\"type\":\"scattergeo\",\"marker\":{\"colorbar\":{\"outlinewidth\":0,\"ticks\":\"\"}}}],\"scatterpolar\":[{\"type\":\"scatterpolar\",\"marker\":{\"colorbar\":{\"outlinewidth\":0,\"ticks\":\"\"}}}],\"histogram\":[{\"marker\":{\"pattern\":{\"fillmode\":\"overlay\",\"size\":10,\"solidity\":0.2}},\"type\":\"histogram\"}],\"scattergl\":[{\"type\":\"scattergl\",\"marker\":{\"colorbar\":{\"outlinewidth\":0,\"ticks\":\"\"}}}],\"scatter3d\":[{\"type\":\"scatter3d\",\"line\":{\"colorbar\":{\"outlinewidth\":0,\"ticks\":\"\"}},\"marker\":{\"colorbar\":{\"outlinewidth\":0,\"ticks\":\"\"}}}],\"scattermapbox\":[{\"type\":\"scattermapbox\",\"marker\":{\"colorbar\":{\"outlinewidth\":0,\"ticks\":\"\"}}}],\"scatterternary\":[{\"type\":\"scatterternary\",\"marker\":{\"colorbar\":{\"outlinewidth\":0,\"ticks\":\"\"}}}],\"scattercarpet\":[{\"type\":\"scattercarpet\",\"marker\":{\"colorbar\":{\"outlinewidth\":0,\"ticks\":\"\"}}}],\"carpet\":[{\"aaxis\":{\"endlinecolor\":\"#2a3f5f\",\"gridcolor\":\"white\",\"linecolor\":\"white\",\"minorgridcolor\":\"white\",\"startlinecolor\":\"#2a3f5f\"},\"baxis\":{\"endlinecolor\":\"#2a3f5f\",\"gridcolor\":\"white\",\"linecolor\":\"white\",\"minorgridcolor\":\"white\",\"startlinecolor\":\"#2a3f5f\"},\"type\":\"carpet\"}],\"table\":[{\"cells\":{\"fill\":{\"color\":\"#EBF0F8\"},\"line\":{\"color\":\"white\"}},\"header\":{\"fill\":{\"color\":\"#C8D4E3\"},\"line\":{\"color\":\"white\"}},\"type\":\"table\"}],\"barpolar\":[{\"marker\":{\"line\":{\"color\":\"#E5ECF6\",\"width\":0.5},\"pattern\":{\"fillmode\":\"overlay\",\"size\":10,\"solidity\":0.2}},\"type\":\"barpolar\"}],\"pie\":[{\"automargin\":true,\"type\":\"pie\"}]},\"layout\":{\"autotypenumbers\":\"strict\",\"colorway\":[\"#636efa\",\"#EF553B\",\"#00cc96\",\"#ab63fa\",\"#FFA15A\",\"#19d3f3\",\"#FF6692\",\"#B6E880\",\"#FF97FF\",\"#FECB52\"],\"font\":{\"color\":\"#2a3f5f\"},\"hovermode\":\"closest\",\"hoverlabel\":{\"align\":\"left\"},\"paper_bgcolor\":\"white\",\"plot_bgcolor\":\"#E5ECF6\",\"polar\":{\"bgcolor\":\"#E5ECF6\",\"angularaxis\":{\"gridcolor\":\"white\",\"linecolor\":\"white\",\"ticks\":\"\"},\"radialaxis\":{\"gridcolor\":\"white\",\"linecolor\":\"white\",\"ticks\":\"\"}},\"ternary\":{\"bgcolor\":\"#E5ECF6\",\"aaxis\":{\"gridcolor\":\"white\",\"linecolor\":\"white\",\"ticks\":\"\"},\"baxis\":{\"gridcolor\":\"white\",\"linecolor\":\"white\",\"ticks\":\"\"},\"caxis\":{\"gridcolor\":\"white\",\"linecolor\":\"white\",\"ticks\":\"\"}},\"coloraxis\":{\"colorbar\":{\"outlinewidth\":0,\"ticks\":\"\"}},\"colorscale\":{\"sequential\":[[0.0,\"#0d0887\"],[0.1111111111111111,\"#46039f\"],[0.2222222222222222,\"#7201a8\"],[0.3333333333333333,\"#9c179e\"],[0.4444444444444444,\"#bd3786\"],[0.5555555555555556,\"#d8576b\"],[0.6666666666666666,\"#ed7953\"],[0.7777777777777778,\"#fb9f3a\"],[0.8888888888888888,\"#fdca26\"],[1.0,\"#f0f921\"]],\"sequentialminus\":[[0.0,\"#0d0887\"],[0.1111111111111111,\"#46039f\"],[0.2222222222222222,\"#7201a8\"],[0.3333333333333333,\"#9c179e\"],[0.4444444444444444,\"#bd3786\"],[0.5555555555555556,\"#d8576b\"],[0.6666666666666666,\"#ed7953\"],[0.7777777777777778,\"#fb9f3a\"],[0.8888888888888888,\"#fdca26\"],[1.0,\"#f0f921\"]],\"diverging\":[[0,\"#8e0152\"],[0.1,\"#c51b7d\"],[0.2,\"#de77ae\"],[0.3,\"#f1b6da\"],[0.4,\"#fde0ef\"],[0.5,\"#f7f7f7\"],[0.6,\"#e6f5d0\"],[0.7,\"#b8e186\"],[0.8,\"#7fbc41\"],[0.9,\"#4d9221\"],[1,\"#276419\"]]},\"xaxis\":{\"gridcolor\":\"white\",\"linecolor\":\"white\",\"ticks\":\"\",\"title\":{\"standoff\":15},\"zerolinecolor\":\"white\",\"automargin\":true,\"zerolinewidth\":2},\"yaxis\":{\"gridcolor\":\"white\",\"linecolor\":\"white\",\"ticks\":\"\",\"title\":{\"standoff\":15},\"zerolinecolor\":\"white\",\"automargin\":true,\"zerolinewidth\":2},\"scene\":{\"xaxis\":{\"backgroundcolor\":\"#E5ECF6\",\"gridcolor\":\"white\",\"linecolor\":\"white\",\"showbackground\":true,\"ticks\":\"\",\"zerolinecolor\":\"white\",\"gridwidth\":2},\"yaxis\":{\"backgroundcolor\":\"#E5ECF6\",\"gridcolor\":\"white\",\"linecolor\":\"white\",\"showbackground\":true,\"ticks\":\"\",\"zerolinecolor\":\"white\",\"gridwidth\":2},\"zaxis\":{\"backgroundcolor\":\"#E5ECF6\",\"gridcolor\":\"white\",\"linecolor\":\"white\",\"showbackground\":true,\"ticks\":\"\",\"zerolinecolor\":\"white\",\"gridwidth\":2}},\"shapedefaults\":{\"line\":{\"color\":\"#2a3f5f\"}},\"annotationdefaults\":{\"arrowcolor\":\"#2a3f5f\",\"arrowhead\":0,\"arrowwidth\":1},\"geo\":{\"bgcolor\":\"white\",\"landcolor\":\"#E5ECF6\",\"subunitcolor\":\"white\",\"showland\":true,\"showlakes\":true,\"lakecolor\":\"white\"},\"title\":{\"x\":0.05},\"mapbox\":{\"style\":\"light\"}}},\"xaxis\":{\"anchor\":\"y\",\"domain\":[0.0,1.0],\"title\":{\"text\":\"RESPONSE\"}},\"yaxis\":{\"anchor\":\"x\",\"domain\":[0.0,1.0],\"title\":{\"text\":\"protein_concentration\"}},\"legend\":{\"title\":{\"text\":\"trt_grp\"},\"tracegroupgap\":0},\"margin\":{\"t\":60},\"boxmode\":\"group\"},                        {\"responsive\": true}                    ).then(function(){\n",
       "                            \n",
       "var gd = document.getElementById('49c4589a-d7a8-4466-a5f8-4f0538217fd6');\n",
       "var x = new MutationObserver(function (mutations, observer) {{\n",
       "        var display = window.getComputedStyle(gd).display;\n",
       "        if (!display || display === 'none') {{\n",
       "            console.log([gd, 'removed!']);\n",
       "            Plotly.purge(gd);\n",
       "            observer.disconnect();\n",
       "        }}\n",
       "}});\n",
       "\n",
       "// Listen for the removal of the full notebook cells\n",
       "var notebookContainer = gd.closest('#notebook-container');\n",
       "if (notebookContainer) {{\n",
       "    x.observe(notebookContainer, {childList: true});\n",
       "}}\n",
       "\n",
       "// Listen for the clearing of the current output cell\n",
       "var outputEl = gd.closest('.output');\n",
       "if (outputEl) {{\n",
       "    x.observe(outputEl, {childList: true});\n",
       "}}\n",
       "\n",
       "                        })                };                });            </script>        </div>"
      ]
     },
     "metadata": {},
     "output_type": "display_data"
    }
   ],
   "source": [
    "px.box(df_merged, x=\"RESPONSE\", y=\"protein_concentration\", color=\"trt_grp\", points=\"all\")"
   ]
  },
  {
   "cell_type": "code",
   "execution_count": 470,
   "id": "e5bc21a7",
   "metadata": {},
   "outputs": [],
   "source": [
    "###** RESPONSE = NO or tumors are getting bigger **###\n",
    "## Preffering New Drugs ##\n",
    "# average protein concentration of patient = 143.5\n",
    "# 50% data where range of protein concentration is from 127 to 164\n",
    "# strongly agreed, protein concentration of patient is 199\n",
    "# weakly agreed, protein concentration of patient is 83\n",
    "## Preffering Standard of Care(CONTROL) ##\n",
    "# average protein concentration of patient = 124\n",
    "# 50% data where range of protein concentration is from 107 to 149.25\n",
    "# strongly agreed, protein concentration of patient is 198\n",
    "# weakly agreed, protein concentration of patient is 65\n",
    "\n",
    "###** RESPONSE = YES or tumors are Shrinking **###\n",
    "## Preffering New Drugs ##\n",
    "# average protein concentration of patient = 102\n",
    "# 50% data where range of protein concentration is from 91 to 116\n",
    "# strongly agreed, protein concentration of patient is 174\n",
    "# weakly agreed, protein concentration of patient is 56\n",
    "## Preffering Standard of Care(CONTROL) ##\n",
    "# average protein concentration of patient = 103\n",
    "# 50% data where range of protein concentration is from 90 to 117.75\n",
    "# strongly agreed, protein concentration of patient is 187\n",
    "# weakly agreed, protein concentration of patient is 44"
   ]
  },
  {
   "cell_type": "markdown",
   "id": "14751cfc",
   "metadata": {},
   "source": [
    "# Featuring Engineering"
   ]
  },
  {
   "cell_type": "markdown",
   "id": "cebbcd00",
   "metadata": {},
   "source": [
    "## One-hot encoding"
   ]
  },
  {
   "cell_type": "code",
   "execution_count": 471,
   "id": "b4c326c8",
   "metadata": {},
   "outputs": [],
   "source": [
    "# Lets convert column \"sex\" from string data to numerical\n",
    "# here i have used get_dummies() function to convert categorical into dummies (0 and 1)."
   ]
  },
  {
   "cell_type": "code",
   "execution_count": 472,
   "id": "8f644c87",
   "metadata": {},
   "outputs": [],
   "source": [
    "df_model=df_merged"
   ]
  },
  {
   "cell_type": "code",
   "execution_count": 473,
   "id": "e9246d1c",
   "metadata": {},
   "outputs": [
    {
     "data": {
      "text/html": [
       "<div>\n",
       "<style scoped>\n",
       "    .dataframe tbody tr th:only-of-type {\n",
       "        vertical-align: middle;\n",
       "    }\n",
       "\n",
       "    .dataframe tbody tr th {\n",
       "        vertical-align: top;\n",
       "    }\n",
       "\n",
       "    .dataframe thead th {\n",
       "        text-align: right;\n",
       "    }\n",
       "</style>\n",
       "<table border=\"1\" class=\"dataframe\">\n",
       "  <thead>\n",
       "    <tr style=\"text-align: right;\">\n",
       "      <th></th>\n",
       "      <th>Female</th>\n",
       "      <th>Male</th>\n",
       "    </tr>\n",
       "  </thead>\n",
       "  <tbody>\n",
       "    <tr>\n",
       "      <th>578</th>\n",
       "      <td>0</td>\n",
       "      <td>1</td>\n",
       "    </tr>\n",
       "    <tr>\n",
       "      <th>498</th>\n",
       "      <td>1</td>\n",
       "      <td>0</td>\n",
       "    </tr>\n",
       "    <tr>\n",
       "      <th>365</th>\n",
       "      <td>1</td>\n",
       "      <td>0</td>\n",
       "    </tr>\n",
       "    <tr>\n",
       "      <th>608</th>\n",
       "      <td>1</td>\n",
       "      <td>0</td>\n",
       "    </tr>\n",
       "    <tr>\n",
       "      <th>335</th>\n",
       "      <td>1</td>\n",
       "      <td>0</td>\n",
       "    </tr>\n",
       "  </tbody>\n",
       "</table>\n",
       "</div>"
      ],
      "text/plain": [
       "     Female  Male\n",
       "578       0     1\n",
       "498       1     0\n",
       "365       1     0\n",
       "608       1     0\n",
       "335       1     0"
      ]
     },
     "execution_count": 473,
     "metadata": {},
     "output_type": "execute_result"
    }
   ],
   "source": [
    "dum_df = pd.get_dummies(df_model['sex'])\n",
    "dum_df.sample(5)"
   ]
  },
  {
   "cell_type": "code",
   "execution_count": 476,
   "id": "e0959b2f",
   "metadata": {},
   "outputs": [],
   "source": [
    "# Now concat both the column in the main dataframe(df_model) usinf concat function.\n",
    "# we can see 2 new column appeared in the dataframe."
   ]
  },
  {
   "cell_type": "code",
   "execution_count": 475,
   "id": "fe62869b",
   "metadata": {},
   "outputs": [
    {
     "data": {
      "text/html": [
       "<div>\n",
       "<style scoped>\n",
       "    .dataframe tbody tr th:only-of-type {\n",
       "        vertical-align: middle;\n",
       "    }\n",
       "\n",
       "    .dataframe tbody tr th {\n",
       "        vertical-align: top;\n",
       "    }\n",
       "\n",
       "    .dataframe thead th {\n",
       "        text-align: right;\n",
       "    }\n",
       "</style>\n",
       "<table border=\"1\" class=\"dataframe\">\n",
       "  <thead>\n",
       "    <tr style=\"text-align: right;\">\n",
       "      <th></th>\n",
       "      <th>subject_id</th>\n",
       "      <th>age</th>\n",
       "      <th>sex</th>\n",
       "      <th>weight</th>\n",
       "      <th>height</th>\n",
       "      <th>BMI</th>\n",
       "      <th>trt_grp</th>\n",
       "      <th>RESPONSE</th>\n",
       "      <th>protein_concentration</th>\n",
       "      <th>Female</th>\n",
       "      <th>Male</th>\n",
       "    </tr>\n",
       "  </thead>\n",
       "  <tbody>\n",
       "    <tr>\n",
       "      <th>756</th>\n",
       "      <td>SUBJ_757</td>\n",
       "      <td>57.0</td>\n",
       "      <td>Male</td>\n",
       "      <td>102.04</td>\n",
       "      <td>1.79</td>\n",
       "      <td>31.85</td>\n",
       "      <td>DRUG</td>\n",
       "      <td>N</td>\n",
       "      <td>137.0</td>\n",
       "      <td>0</td>\n",
       "      <td>1</td>\n",
       "    </tr>\n",
       "    <tr>\n",
       "      <th>216</th>\n",
       "      <td>SUBJ_217</td>\n",
       "      <td>62.0</td>\n",
       "      <td>Female</td>\n",
       "      <td>93.14</td>\n",
       "      <td>1.61</td>\n",
       "      <td>35.93</td>\n",
       "      <td>CONTROL</td>\n",
       "      <td>Y</td>\n",
       "      <td>109.0</td>\n",
       "      <td>1</td>\n",
       "      <td>0</td>\n",
       "    </tr>\n",
       "    <tr>\n",
       "      <th>101</th>\n",
       "      <td>SUBJ_102</td>\n",
       "      <td>56.0</td>\n",
       "      <td>Male</td>\n",
       "      <td>75.01</td>\n",
       "      <td>1.70</td>\n",
       "      <td>25.96</td>\n",
       "      <td>CONTROL</td>\n",
       "      <td>N</td>\n",
       "      <td>151.0</td>\n",
       "      <td>0</td>\n",
       "      <td>1</td>\n",
       "    </tr>\n",
       "    <tr>\n",
       "      <th>263</th>\n",
       "      <td>SUBJ_264</td>\n",
       "      <td>59.0</td>\n",
       "      <td>Male</td>\n",
       "      <td>88.47</td>\n",
       "      <td>1.66</td>\n",
       "      <td>32.11</td>\n",
       "      <td>CONTROL</td>\n",
       "      <td>Y</td>\n",
       "      <td>142.0</td>\n",
       "      <td>0</td>\n",
       "      <td>1</td>\n",
       "    </tr>\n",
       "    <tr>\n",
       "      <th>307</th>\n",
       "      <td>SUBJ_308</td>\n",
       "      <td>51.0</td>\n",
       "      <td>Female</td>\n",
       "      <td>64.69</td>\n",
       "      <td>1.62</td>\n",
       "      <td>24.65</td>\n",
       "      <td>DRUG</td>\n",
       "      <td>N</td>\n",
       "      <td>137.0</td>\n",
       "      <td>1</td>\n",
       "      <td>0</td>\n",
       "    </tr>\n",
       "  </tbody>\n",
       "</table>\n",
       "</div>"
      ],
      "text/plain": [
       "    subject_id   age     sex  weight  height    BMI  trt_grp RESPONSE  \\\n",
       "756   SUBJ_757  57.0    Male  102.04    1.79  31.85     DRUG        N   \n",
       "216   SUBJ_217  62.0  Female   93.14    1.61  35.93  CONTROL        Y   \n",
       "101   SUBJ_102  56.0    Male   75.01    1.70  25.96  CONTROL        N   \n",
       "263   SUBJ_264  59.0    Male   88.47    1.66  32.11  CONTROL        Y   \n",
       "307   SUBJ_308  51.0  Female   64.69    1.62  24.65     DRUG        N   \n",
       "\n",
       "     protein_concentration  Female  Male  \n",
       "756                  137.0       0     1  \n",
       "216                  109.0       1     0  \n",
       "101                  151.0       0     1  \n",
       "263                  142.0       0     1  \n",
       "307                  137.0       1     0  "
      ]
     },
     "execution_count": 475,
     "metadata": {},
     "output_type": "execute_result"
    }
   ],
   "source": [
    "df_model=pd.concat([df_model,dum_df],axis='columns')\n",
    "df_model.sample(5)"
   ]
  },
  {
   "cell_type": "code",
   "execution_count": 479,
   "id": "ec9ba953",
   "metadata": {},
   "outputs": [],
   "source": [
    "# Lets remove the the column \"sex\" because it contains string values and we only need numerical value in order to\n",
    "# work with machine learning model."
   ]
  },
  {
   "cell_type": "code",
   "execution_count": 478,
   "id": "e8a3a5a4",
   "metadata": {},
   "outputs": [],
   "source": [
    "df_model=df_model.drop(\"sex\", axis=1)"
   ]
  },
  {
   "cell_type": "code",
   "execution_count": 480,
   "id": "d40ed709",
   "metadata": {},
   "outputs": [
    {
     "data": {
      "text/html": [
       "<div>\n",
       "<style scoped>\n",
       "    .dataframe tbody tr th:only-of-type {\n",
       "        vertical-align: middle;\n",
       "    }\n",
       "\n",
       "    .dataframe tbody tr th {\n",
       "        vertical-align: top;\n",
       "    }\n",
       "\n",
       "    .dataframe thead th {\n",
       "        text-align: right;\n",
       "    }\n",
       "</style>\n",
       "<table border=\"1\" class=\"dataframe\">\n",
       "  <thead>\n",
       "    <tr style=\"text-align: right;\">\n",
       "      <th></th>\n",
       "      <th>subject_id</th>\n",
       "      <th>age</th>\n",
       "      <th>weight</th>\n",
       "      <th>height</th>\n",
       "      <th>BMI</th>\n",
       "      <th>trt_grp</th>\n",
       "      <th>RESPONSE</th>\n",
       "      <th>protein_concentration</th>\n",
       "      <th>Female</th>\n",
       "      <th>Male</th>\n",
       "    </tr>\n",
       "  </thead>\n",
       "  <tbody>\n",
       "    <tr>\n",
       "      <th>623</th>\n",
       "      <td>SUBJ_624</td>\n",
       "      <td>65.0</td>\n",
       "      <td>110.45</td>\n",
       "      <td>1.59</td>\n",
       "      <td>43.69</td>\n",
       "      <td>DRUG</td>\n",
       "      <td>Y</td>\n",
       "      <td>94.0</td>\n",
       "      <td>1</td>\n",
       "      <td>0</td>\n",
       "    </tr>\n",
       "    <tr>\n",
       "      <th>74</th>\n",
       "      <td>SUBJ_075</td>\n",
       "      <td>71.0</td>\n",
       "      <td>86.88</td>\n",
       "      <td>1.65</td>\n",
       "      <td>31.91</td>\n",
       "      <td>DRUG</td>\n",
       "      <td>Y</td>\n",
       "      <td>79.0</td>\n",
       "      <td>1</td>\n",
       "      <td>0</td>\n",
       "    </tr>\n",
       "    <tr>\n",
       "      <th>512</th>\n",
       "      <td>SUBJ_513</td>\n",
       "      <td>66.0</td>\n",
       "      <td>73.17</td>\n",
       "      <td>1.75</td>\n",
       "      <td>23.89</td>\n",
       "      <td>CONTROL</td>\n",
       "      <td>Y</td>\n",
       "      <td>91.0</td>\n",
       "      <td>0</td>\n",
       "      <td>1</td>\n",
       "    </tr>\n",
       "    <tr>\n",
       "      <th>401</th>\n",
       "      <td>SUBJ_402</td>\n",
       "      <td>56.0</td>\n",
       "      <td>75.51</td>\n",
       "      <td>1.77</td>\n",
       "      <td>24.10</td>\n",
       "      <td>DRUG</td>\n",
       "      <td>N</td>\n",
       "      <td>137.0</td>\n",
       "      <td>0</td>\n",
       "      <td>1</td>\n",
       "    </tr>\n",
       "    <tr>\n",
       "      <th>417</th>\n",
       "      <td>SUBJ_418</td>\n",
       "      <td>70.0</td>\n",
       "      <td>118.26</td>\n",
       "      <td>1.76</td>\n",
       "      <td>38.18</td>\n",
       "      <td>DRUG</td>\n",
       "      <td>N</td>\n",
       "      <td>144.0</td>\n",
       "      <td>0</td>\n",
       "      <td>1</td>\n",
       "    </tr>\n",
       "  </tbody>\n",
       "</table>\n",
       "</div>"
      ],
      "text/plain": [
       "    subject_id   age  weight  height    BMI  trt_grp RESPONSE  \\\n",
       "623   SUBJ_624  65.0  110.45    1.59  43.69     DRUG        Y   \n",
       "74    SUBJ_075  71.0   86.88    1.65  31.91     DRUG        Y   \n",
       "512   SUBJ_513  66.0   73.17    1.75  23.89  CONTROL        Y   \n",
       "401   SUBJ_402  56.0   75.51    1.77  24.10     DRUG        N   \n",
       "417   SUBJ_418  70.0  118.26    1.76  38.18     DRUG        N   \n",
       "\n",
       "     protein_concentration  Female  Male  \n",
       "623                   94.0       1     0  \n",
       "74                    79.0       1     0  \n",
       "512                   91.0       0     1  \n",
       "401                  137.0       0     1  \n",
       "417                  144.0       0     1  "
      ]
     },
     "execution_count": 480,
     "metadata": {},
     "output_type": "execute_result"
    }
   ],
   "source": [
    "df_model.sample(5)"
   ]
  },
  {
   "cell_type": "code",
   "execution_count": 481,
   "id": "a278bfb6",
   "metadata": {},
   "outputs": [],
   "source": [
    "df_model=df_model.drop(\"subject_id\", axis=1)"
   ]
  },
  {
   "cell_type": "code",
   "execution_count": 482,
   "id": "010d3016",
   "metadata": {},
   "outputs": [
    {
     "data": {
      "text/html": [
       "<div>\n",
       "<style scoped>\n",
       "    .dataframe tbody tr th:only-of-type {\n",
       "        vertical-align: middle;\n",
       "    }\n",
       "\n",
       "    .dataframe tbody tr th {\n",
       "        vertical-align: top;\n",
       "    }\n",
       "\n",
       "    .dataframe thead th {\n",
       "        text-align: right;\n",
       "    }\n",
       "</style>\n",
       "<table border=\"1\" class=\"dataframe\">\n",
       "  <thead>\n",
       "    <tr style=\"text-align: right;\">\n",
       "      <th></th>\n",
       "      <th>age</th>\n",
       "      <th>weight</th>\n",
       "      <th>height</th>\n",
       "      <th>BMI</th>\n",
       "      <th>trt_grp</th>\n",
       "      <th>RESPONSE</th>\n",
       "      <th>protein_concentration</th>\n",
       "      <th>Female</th>\n",
       "      <th>Male</th>\n",
       "    </tr>\n",
       "  </thead>\n",
       "  <tbody>\n",
       "    <tr>\n",
       "      <th>0</th>\n",
       "      <td>46.0</td>\n",
       "      <td>84.66</td>\n",
       "      <td>1.59</td>\n",
       "      <td>33.49</td>\n",
       "      <td>DRUG</td>\n",
       "      <td>N</td>\n",
       "      <td>148.0</td>\n",
       "      <td>1</td>\n",
       "      <td>0</td>\n",
       "    </tr>\n",
       "    <tr>\n",
       "      <th>1</th>\n",
       "      <td>47.0</td>\n",
       "      <td>71.21</td>\n",
       "      <td>1.64</td>\n",
       "      <td>26.48</td>\n",
       "      <td>DRUG</td>\n",
       "      <td>Y</td>\n",
       "      <td>85.0</td>\n",
       "      <td>1</td>\n",
       "      <td>0</td>\n",
       "    </tr>\n",
       "    <tr>\n",
       "      <th>2</th>\n",
       "      <td>48.0</td>\n",
       "      <td>69.85</td>\n",
       "      <td>1.73</td>\n",
       "      <td>23.34</td>\n",
       "      <td>CONTROL</td>\n",
       "      <td>N</td>\n",
       "      <td>183.0</td>\n",
       "      <td>1</td>\n",
       "      <td>0</td>\n",
       "    </tr>\n",
       "    <tr>\n",
       "      <th>3</th>\n",
       "      <td>59.0</td>\n",
       "      <td>62.94</td>\n",
       "      <td>1.50</td>\n",
       "      <td>27.97</td>\n",
       "      <td>DRUG</td>\n",
       "      <td>Y</td>\n",
       "      <td>89.0</td>\n",
       "      <td>1</td>\n",
       "      <td>0</td>\n",
       "    </tr>\n",
       "    <tr>\n",
       "      <th>4</th>\n",
       "      <td>59.0</td>\n",
       "      <td>113.91</td>\n",
       "      <td>1.63</td>\n",
       "      <td>42.87</td>\n",
       "      <td>CONTROL</td>\n",
       "      <td>N</td>\n",
       "      <td>137.0</td>\n",
       "      <td>1</td>\n",
       "      <td>0</td>\n",
       "    </tr>\n",
       "  </tbody>\n",
       "</table>\n",
       "</div>"
      ],
      "text/plain": [
       "    age  weight  height    BMI  trt_grp RESPONSE  protein_concentration  \\\n",
       "0  46.0   84.66    1.59  33.49     DRUG        N                  148.0   \n",
       "1  47.0   71.21    1.64  26.48     DRUG        Y                   85.0   \n",
       "2  48.0   69.85    1.73  23.34  CONTROL        N                  183.0   \n",
       "3  59.0   62.94    1.50  27.97     DRUG        Y                   89.0   \n",
       "4  59.0  113.91    1.63  42.87  CONTROL        N                  137.0   \n",
       "\n",
       "   Female  Male  \n",
       "0       1     0  \n",
       "1       1     0  \n",
       "2       1     0  \n",
       "3       1     0  \n",
       "4       1     0  "
      ]
     },
     "execution_count": 482,
     "metadata": {},
     "output_type": "execute_result"
    }
   ],
   "source": [
    "df_model.head(5)"
   ]
  },
  {
   "cell_type": "code",
   "execution_count": null,
   "id": "0d340699",
   "metadata": {},
   "outputs": [],
   "source": [
    "# Lets do for the \"trt_grp\" and \"RESPONSE\"."
   ]
  },
  {
   "cell_type": "code",
   "execution_count": 483,
   "id": "57695fec",
   "metadata": {},
   "outputs": [
    {
     "data": {
      "text/html": [
       "<div>\n",
       "<style scoped>\n",
       "    .dataframe tbody tr th:only-of-type {\n",
       "        vertical-align: middle;\n",
       "    }\n",
       "\n",
       "    .dataframe tbody tr th {\n",
       "        vertical-align: top;\n",
       "    }\n",
       "\n",
       "    .dataframe thead th {\n",
       "        text-align: right;\n",
       "    }\n",
       "</style>\n",
       "<table border=\"1\" class=\"dataframe\">\n",
       "  <thead>\n",
       "    <tr style=\"text-align: right;\">\n",
       "      <th></th>\n",
       "      <th>CONTROL</th>\n",
       "      <th>DRUG</th>\n",
       "    </tr>\n",
       "  </thead>\n",
       "  <tbody>\n",
       "    <tr>\n",
       "      <th>98</th>\n",
       "      <td>0</td>\n",
       "      <td>1</td>\n",
       "    </tr>\n",
       "    <tr>\n",
       "      <th>82</th>\n",
       "      <td>1</td>\n",
       "      <td>0</td>\n",
       "    </tr>\n",
       "    <tr>\n",
       "      <th>15</th>\n",
       "      <td>0</td>\n",
       "      <td>1</td>\n",
       "    </tr>\n",
       "    <tr>\n",
       "      <th>404</th>\n",
       "      <td>1</td>\n",
       "      <td>0</td>\n",
       "    </tr>\n",
       "    <tr>\n",
       "      <th>505</th>\n",
       "      <td>0</td>\n",
       "      <td>1</td>\n",
       "    </tr>\n",
       "  </tbody>\n",
       "</table>\n",
       "</div>"
      ],
      "text/plain": [
       "     CONTROL  DRUG\n",
       "98         0     1\n",
       "82         1     0\n",
       "15         0     1\n",
       "404        1     0\n",
       "505        0     1"
      ]
     },
     "execution_count": 483,
     "metadata": {},
     "output_type": "execute_result"
    }
   ],
   "source": [
    "dum_df = pd.get_dummies(df_model['trt_grp'])\n",
    "dum_df.sample(5)"
   ]
  },
  {
   "cell_type": "code",
   "execution_count": 484,
   "id": "9aa467a0",
   "metadata": {},
   "outputs": [
    {
     "data": {
      "text/html": [
       "<div>\n",
       "<style scoped>\n",
       "    .dataframe tbody tr th:only-of-type {\n",
       "        vertical-align: middle;\n",
       "    }\n",
       "\n",
       "    .dataframe tbody tr th {\n",
       "        vertical-align: top;\n",
       "    }\n",
       "\n",
       "    .dataframe thead th {\n",
       "        text-align: right;\n",
       "    }\n",
       "</style>\n",
       "<table border=\"1\" class=\"dataframe\">\n",
       "  <thead>\n",
       "    <tr style=\"text-align: right;\">\n",
       "      <th></th>\n",
       "      <th>age</th>\n",
       "      <th>weight</th>\n",
       "      <th>height</th>\n",
       "      <th>BMI</th>\n",
       "      <th>trt_grp</th>\n",
       "      <th>RESPONSE</th>\n",
       "      <th>protein_concentration</th>\n",
       "      <th>Female</th>\n",
       "      <th>Male</th>\n",
       "      <th>CONTROL</th>\n",
       "      <th>DRUG</th>\n",
       "    </tr>\n",
       "  </thead>\n",
       "  <tbody>\n",
       "    <tr>\n",
       "      <th>565</th>\n",
       "      <td>62.0</td>\n",
       "      <td>66.06</td>\n",
       "      <td>1.59</td>\n",
       "      <td>26.13</td>\n",
       "      <td>DRUG</td>\n",
       "      <td>Y</td>\n",
       "      <td>95.0</td>\n",
       "      <td>1</td>\n",
       "      <td>0</td>\n",
       "      <td>0</td>\n",
       "      <td>1</td>\n",
       "    </tr>\n",
       "    <tr>\n",
       "      <th>107</th>\n",
       "      <td>72.0</td>\n",
       "      <td>91.51</td>\n",
       "      <td>1.77</td>\n",
       "      <td>29.21</td>\n",
       "      <td>DRUG</td>\n",
       "      <td>N</td>\n",
       "      <td>144.0</td>\n",
       "      <td>0</td>\n",
       "      <td>1</td>\n",
       "      <td>0</td>\n",
       "      <td>1</td>\n",
       "    </tr>\n",
       "    <tr>\n",
       "      <th>414</th>\n",
       "      <td>62.0</td>\n",
       "      <td>114.68</td>\n",
       "      <td>1.83</td>\n",
       "      <td>34.24</td>\n",
       "      <td>CONTROL</td>\n",
       "      <td>N</td>\n",
       "      <td>138.0</td>\n",
       "      <td>0</td>\n",
       "      <td>1</td>\n",
       "      <td>1</td>\n",
       "      <td>0</td>\n",
       "    </tr>\n",
       "    <tr>\n",
       "      <th>280</th>\n",
       "      <td>57.0</td>\n",
       "      <td>89.27</td>\n",
       "      <td>1.53</td>\n",
       "      <td>38.13</td>\n",
       "      <td>DRUG</td>\n",
       "      <td>N</td>\n",
       "      <td>146.0</td>\n",
       "      <td>1</td>\n",
       "      <td>0</td>\n",
       "      <td>0</td>\n",
       "      <td>1</td>\n",
       "    </tr>\n",
       "    <tr>\n",
       "      <th>320</th>\n",
       "      <td>68.0</td>\n",
       "      <td>72.60</td>\n",
       "      <td>1.62</td>\n",
       "      <td>27.66</td>\n",
       "      <td>CONTROL</td>\n",
       "      <td>Y</td>\n",
       "      <td>129.0</td>\n",
       "      <td>1</td>\n",
       "      <td>0</td>\n",
       "      <td>1</td>\n",
       "      <td>0</td>\n",
       "    </tr>\n",
       "  </tbody>\n",
       "</table>\n",
       "</div>"
      ],
      "text/plain": [
       "      age  weight  height    BMI  trt_grp RESPONSE  protein_concentration  \\\n",
       "565  62.0   66.06    1.59  26.13     DRUG        Y                   95.0   \n",
       "107  72.0   91.51    1.77  29.21     DRUG        N                  144.0   \n",
       "414  62.0  114.68    1.83  34.24  CONTROL        N                  138.0   \n",
       "280  57.0   89.27    1.53  38.13     DRUG        N                  146.0   \n",
       "320  68.0   72.60    1.62  27.66  CONTROL        Y                  129.0   \n",
       "\n",
       "     Female  Male  CONTROL  DRUG  \n",
       "565       1     0        0     1  \n",
       "107       0     1        0     1  \n",
       "414       0     1        1     0  \n",
       "280       1     0        0     1  \n",
       "320       1     0        1     0  "
      ]
     },
     "execution_count": 484,
     "metadata": {},
     "output_type": "execute_result"
    }
   ],
   "source": [
    "df_model=pd.concat([df_model,dum_df],axis='columns')\n",
    "df_model.sample(5)"
   ]
  },
  {
   "cell_type": "code",
   "execution_count": 486,
   "id": "40c2731b",
   "metadata": {},
   "outputs": [
    {
     "data": {
      "text/html": [
       "<div>\n",
       "<style scoped>\n",
       "    .dataframe tbody tr th:only-of-type {\n",
       "        vertical-align: middle;\n",
       "    }\n",
       "\n",
       "    .dataframe tbody tr th {\n",
       "        vertical-align: top;\n",
       "    }\n",
       "\n",
       "    .dataframe thead th {\n",
       "        text-align: right;\n",
       "    }\n",
       "</style>\n",
       "<table border=\"1\" class=\"dataframe\">\n",
       "  <thead>\n",
       "    <tr style=\"text-align: right;\">\n",
       "      <th></th>\n",
       "      <th>age</th>\n",
       "      <th>weight</th>\n",
       "      <th>height</th>\n",
       "      <th>BMI</th>\n",
       "      <th>RESPONSE</th>\n",
       "      <th>protein_concentration</th>\n",
       "      <th>Female</th>\n",
       "      <th>Male</th>\n",
       "      <th>CONTROL</th>\n",
       "      <th>DRUG</th>\n",
       "    </tr>\n",
       "  </thead>\n",
       "  <tbody>\n",
       "    <tr>\n",
       "      <th>414</th>\n",
       "      <td>62.0</td>\n",
       "      <td>114.68</td>\n",
       "      <td>1.83</td>\n",
       "      <td>34.24</td>\n",
       "      <td>N</td>\n",
       "      <td>138.0</td>\n",
       "      <td>0</td>\n",
       "      <td>1</td>\n",
       "      <td>1</td>\n",
       "      <td>0</td>\n",
       "    </tr>\n",
       "    <tr>\n",
       "      <th>225</th>\n",
       "      <td>62.0</td>\n",
       "      <td>100.81</td>\n",
       "      <td>1.71</td>\n",
       "      <td>34.48</td>\n",
       "      <td>Y</td>\n",
       "      <td>87.0</td>\n",
       "      <td>0</td>\n",
       "      <td>1</td>\n",
       "      <td>0</td>\n",
       "      <td>1</td>\n",
       "    </tr>\n",
       "    <tr>\n",
       "      <th>368</th>\n",
       "      <td>61.0</td>\n",
       "      <td>82.86</td>\n",
       "      <td>1.74</td>\n",
       "      <td>27.37</td>\n",
       "      <td>N</td>\n",
       "      <td>81.0</td>\n",
       "      <td>0</td>\n",
       "      <td>1</td>\n",
       "      <td>1</td>\n",
       "      <td>0</td>\n",
       "    </tr>\n",
       "    <tr>\n",
       "      <th>322</th>\n",
       "      <td>59.0</td>\n",
       "      <td>84.75</td>\n",
       "      <td>1.77</td>\n",
       "      <td>27.05</td>\n",
       "      <td>N</td>\n",
       "      <td>124.0</td>\n",
       "      <td>0</td>\n",
       "      <td>1</td>\n",
       "      <td>1</td>\n",
       "      <td>0</td>\n",
       "    </tr>\n",
       "    <tr>\n",
       "      <th>677</th>\n",
       "      <td>66.0</td>\n",
       "      <td>93.42</td>\n",
       "      <td>1.63</td>\n",
       "      <td>35.16</td>\n",
       "      <td>Y</td>\n",
       "      <td>93.0</td>\n",
       "      <td>1</td>\n",
       "      <td>0</td>\n",
       "      <td>1</td>\n",
       "      <td>0</td>\n",
       "    </tr>\n",
       "  </tbody>\n",
       "</table>\n",
       "</div>"
      ],
      "text/plain": [
       "      age  weight  height    BMI RESPONSE  protein_concentration  Female  \\\n",
       "414  62.0  114.68    1.83  34.24        N                  138.0       0   \n",
       "225  62.0  100.81    1.71  34.48        Y                   87.0       0   \n",
       "368  61.0   82.86    1.74  27.37        N                   81.0       0   \n",
       "322  59.0   84.75    1.77  27.05        N                  124.0       0   \n",
       "677  66.0   93.42    1.63  35.16        Y                   93.0       1   \n",
       "\n",
       "     Male  CONTROL  DRUG  \n",
       "414     1        1     0  \n",
       "225     1        0     1  \n",
       "368     1        1     0  \n",
       "322     1        1     0  \n",
       "677     0        1     0  "
      ]
     },
     "execution_count": 486,
     "metadata": {},
     "output_type": "execute_result"
    }
   ],
   "source": [
    "df_model=df_model.drop(\"trt_grp\", axis=1)\n",
    "df_model.sample(5)"
   ]
  },
  {
   "cell_type": "code",
   "execution_count": 487,
   "id": "1f8fad96",
   "metadata": {},
   "outputs": [
    {
     "data": {
      "text/html": [
       "<div>\n",
       "<style scoped>\n",
       "    .dataframe tbody tr th:only-of-type {\n",
       "        vertical-align: middle;\n",
       "    }\n",
       "\n",
       "    .dataframe tbody tr th {\n",
       "        vertical-align: top;\n",
       "    }\n",
       "\n",
       "    .dataframe thead th {\n",
       "        text-align: right;\n",
       "    }\n",
       "</style>\n",
       "<table border=\"1\" class=\"dataframe\">\n",
       "  <thead>\n",
       "    <tr style=\"text-align: right;\">\n",
       "      <th></th>\n",
       "      <th>N</th>\n",
       "      <th>Y</th>\n",
       "    </tr>\n",
       "  </thead>\n",
       "  <tbody>\n",
       "    <tr>\n",
       "      <th>198</th>\n",
       "      <td>1</td>\n",
       "      <td>0</td>\n",
       "    </tr>\n",
       "    <tr>\n",
       "      <th>678</th>\n",
       "      <td>1</td>\n",
       "      <td>0</td>\n",
       "    </tr>\n",
       "    <tr>\n",
       "      <th>55</th>\n",
       "      <td>1</td>\n",
       "      <td>0</td>\n",
       "    </tr>\n",
       "    <tr>\n",
       "      <th>161</th>\n",
       "      <td>0</td>\n",
       "      <td>1</td>\n",
       "    </tr>\n",
       "    <tr>\n",
       "      <th>764</th>\n",
       "      <td>1</td>\n",
       "      <td>0</td>\n",
       "    </tr>\n",
       "  </tbody>\n",
       "</table>\n",
       "</div>"
      ],
      "text/plain": [
       "     N  Y\n",
       "198  1  0\n",
       "678  1  0\n",
       "55   1  0\n",
       "161  0  1\n",
       "764  1  0"
      ]
     },
     "execution_count": 487,
     "metadata": {},
     "output_type": "execute_result"
    }
   ],
   "source": [
    "dum_df = pd.get_dummies(df_model['RESPONSE'])\n",
    "dum_df.sample(5)"
   ]
  },
  {
   "cell_type": "code",
   "execution_count": 488,
   "id": "255ea2a9",
   "metadata": {},
   "outputs": [
    {
     "data": {
      "text/html": [
       "<div>\n",
       "<style scoped>\n",
       "    .dataframe tbody tr th:only-of-type {\n",
       "        vertical-align: middle;\n",
       "    }\n",
       "\n",
       "    .dataframe tbody tr th {\n",
       "        vertical-align: top;\n",
       "    }\n",
       "\n",
       "    .dataframe thead th {\n",
       "        text-align: right;\n",
       "    }\n",
       "</style>\n",
       "<table border=\"1\" class=\"dataframe\">\n",
       "  <thead>\n",
       "    <tr style=\"text-align: right;\">\n",
       "      <th></th>\n",
       "      <th>age</th>\n",
       "      <th>weight</th>\n",
       "      <th>height</th>\n",
       "      <th>BMI</th>\n",
       "      <th>RESPONSE</th>\n",
       "      <th>protein_concentration</th>\n",
       "      <th>Female</th>\n",
       "      <th>Male</th>\n",
       "      <th>CONTROL</th>\n",
       "      <th>DRUG</th>\n",
       "      <th>N</th>\n",
       "      <th>Y</th>\n",
       "    </tr>\n",
       "  </thead>\n",
       "  <tbody>\n",
       "    <tr>\n",
       "      <th>575</th>\n",
       "      <td>37.0</td>\n",
       "      <td>84.16</td>\n",
       "      <td>1.54</td>\n",
       "      <td>35.49</td>\n",
       "      <td>Y</td>\n",
       "      <td>119.0</td>\n",
       "      <td>1</td>\n",
       "      <td>0</td>\n",
       "      <td>0</td>\n",
       "      <td>1</td>\n",
       "      <td>0</td>\n",
       "      <td>1</td>\n",
       "    </tr>\n",
       "    <tr>\n",
       "      <th>480</th>\n",
       "      <td>48.0</td>\n",
       "      <td>84.37</td>\n",
       "      <td>1.54</td>\n",
       "      <td>35.58</td>\n",
       "      <td>N</td>\n",
       "      <td>158.0</td>\n",
       "      <td>1</td>\n",
       "      <td>0</td>\n",
       "      <td>1</td>\n",
       "      <td>0</td>\n",
       "      <td>1</td>\n",
       "      <td>0</td>\n",
       "    </tr>\n",
       "    <tr>\n",
       "      <th>724</th>\n",
       "      <td>69.0</td>\n",
       "      <td>89.57</td>\n",
       "      <td>1.65</td>\n",
       "      <td>32.90</td>\n",
       "      <td>Y</td>\n",
       "      <td>111.0</td>\n",
       "      <td>1</td>\n",
       "      <td>0</td>\n",
       "      <td>1</td>\n",
       "      <td>0</td>\n",
       "      <td>0</td>\n",
       "      <td>1</td>\n",
       "    </tr>\n",
       "    <tr>\n",
       "      <th>114</th>\n",
       "      <td>70.0</td>\n",
       "      <td>100.60</td>\n",
       "      <td>1.82</td>\n",
       "      <td>30.37</td>\n",
       "      <td>N</td>\n",
       "      <td>160.0</td>\n",
       "      <td>0</td>\n",
       "      <td>1</td>\n",
       "      <td>1</td>\n",
       "      <td>0</td>\n",
       "      <td>1</td>\n",
       "      <td>0</td>\n",
       "    </tr>\n",
       "    <tr>\n",
       "      <th>463</th>\n",
       "      <td>64.0</td>\n",
       "      <td>90.77</td>\n",
       "      <td>1.82</td>\n",
       "      <td>27.40</td>\n",
       "      <td>Y</td>\n",
       "      <td>88.0</td>\n",
       "      <td>0</td>\n",
       "      <td>1</td>\n",
       "      <td>1</td>\n",
       "      <td>0</td>\n",
       "      <td>0</td>\n",
       "      <td>1</td>\n",
       "    </tr>\n",
       "  </tbody>\n",
       "</table>\n",
       "</div>"
      ],
      "text/plain": [
       "      age  weight  height    BMI RESPONSE  protein_concentration  Female  \\\n",
       "575  37.0   84.16    1.54  35.49        Y                  119.0       1   \n",
       "480  48.0   84.37    1.54  35.58        N                  158.0       1   \n",
       "724  69.0   89.57    1.65  32.90        Y                  111.0       1   \n",
       "114  70.0  100.60    1.82  30.37        N                  160.0       0   \n",
       "463  64.0   90.77    1.82  27.40        Y                   88.0       0   \n",
       "\n",
       "     Male  CONTROL  DRUG  N  Y  \n",
       "575     0        0     1  0  1  \n",
       "480     0        1     0  1  0  \n",
       "724     0        1     0  0  1  \n",
       "114     1        1     0  1  0  \n",
       "463     1        1     0  0  1  "
      ]
     },
     "execution_count": 488,
     "metadata": {},
     "output_type": "execute_result"
    }
   ],
   "source": [
    "df_model=pd.concat([df_model,dum_df],axis='columns')\n",
    "df_model.sample(5)"
   ]
  },
  {
   "cell_type": "code",
   "execution_count": 489,
   "id": "e41dd1b4",
   "metadata": {},
   "outputs": [
    {
     "data": {
      "text/html": [
       "<div>\n",
       "<style scoped>\n",
       "    .dataframe tbody tr th:only-of-type {\n",
       "        vertical-align: middle;\n",
       "    }\n",
       "\n",
       "    .dataframe tbody tr th {\n",
       "        vertical-align: top;\n",
       "    }\n",
       "\n",
       "    .dataframe thead th {\n",
       "        text-align: right;\n",
       "    }\n",
       "</style>\n",
       "<table border=\"1\" class=\"dataframe\">\n",
       "  <thead>\n",
       "    <tr style=\"text-align: right;\">\n",
       "      <th></th>\n",
       "      <th>age</th>\n",
       "      <th>weight</th>\n",
       "      <th>height</th>\n",
       "      <th>BMI</th>\n",
       "      <th>protein_concentration</th>\n",
       "      <th>Female</th>\n",
       "      <th>Male</th>\n",
       "      <th>CONTROL</th>\n",
       "      <th>DRUG</th>\n",
       "      <th>N</th>\n",
       "      <th>Y</th>\n",
       "    </tr>\n",
       "  </thead>\n",
       "  <tbody>\n",
       "    <tr>\n",
       "      <th>649</th>\n",
       "      <td>50.0</td>\n",
       "      <td>87.27</td>\n",
       "      <td>1.83</td>\n",
       "      <td>26.06</td>\n",
       "      <td>107.0</td>\n",
       "      <td>0</td>\n",
       "      <td>1</td>\n",
       "      <td>1</td>\n",
       "      <td>0</td>\n",
       "      <td>1</td>\n",
       "      <td>0</td>\n",
       "    </tr>\n",
       "    <tr>\n",
       "      <th>679</th>\n",
       "      <td>68.0</td>\n",
       "      <td>71.99</td>\n",
       "      <td>1.73</td>\n",
       "      <td>24.05</td>\n",
       "      <td>101.0</td>\n",
       "      <td>0</td>\n",
       "      <td>1</td>\n",
       "      <td>0</td>\n",
       "      <td>1</td>\n",
       "      <td>0</td>\n",
       "      <td>1</td>\n",
       "    </tr>\n",
       "    <tr>\n",
       "      <th>314</th>\n",
       "      <td>59.0</td>\n",
       "      <td>87.44</td>\n",
       "      <td>1.56</td>\n",
       "      <td>35.93</td>\n",
       "      <td>109.0</td>\n",
       "      <td>1</td>\n",
       "      <td>0</td>\n",
       "      <td>1</td>\n",
       "      <td>0</td>\n",
       "      <td>1</td>\n",
       "      <td>0</td>\n",
       "    </tr>\n",
       "    <tr>\n",
       "      <th>355</th>\n",
       "      <td>67.0</td>\n",
       "      <td>80.62</td>\n",
       "      <td>1.63</td>\n",
       "      <td>30.34</td>\n",
       "      <td>165.0</td>\n",
       "      <td>1</td>\n",
       "      <td>0</td>\n",
       "      <td>1</td>\n",
       "      <td>0</td>\n",
       "      <td>1</td>\n",
       "      <td>0</td>\n",
       "    </tr>\n",
       "    <tr>\n",
       "      <th>80</th>\n",
       "      <td>68.0</td>\n",
       "      <td>54.54</td>\n",
       "      <td>1.56</td>\n",
       "      <td>22.41</td>\n",
       "      <td>113.0</td>\n",
       "      <td>1</td>\n",
       "      <td>0</td>\n",
       "      <td>1</td>\n",
       "      <td>0</td>\n",
       "      <td>1</td>\n",
       "      <td>0</td>\n",
       "    </tr>\n",
       "  </tbody>\n",
       "</table>\n",
       "</div>"
      ],
      "text/plain": [
       "      age  weight  height    BMI  protein_concentration  Female  Male  \\\n",
       "649  50.0   87.27    1.83  26.06                  107.0       0     1   \n",
       "679  68.0   71.99    1.73  24.05                  101.0       0     1   \n",
       "314  59.0   87.44    1.56  35.93                  109.0       1     0   \n",
       "355  67.0   80.62    1.63  30.34                  165.0       1     0   \n",
       "80   68.0   54.54    1.56  22.41                  113.0       1     0   \n",
       "\n",
       "     CONTROL  DRUG  N  Y  \n",
       "649        1     0  1  0  \n",
       "679        0     1  0  1  \n",
       "314        1     0  1  0  \n",
       "355        1     0  1  0  \n",
       "80         1     0  1  0  "
      ]
     },
     "execution_count": 489,
     "metadata": {},
     "output_type": "execute_result"
    }
   ],
   "source": [
    " df_model=df_model.drop(\"RESPONSE\", axis=1)\n",
    "df_model.sample(5)"
   ]
  },
  {
   "cell_type": "code",
   "execution_count": 490,
   "id": "e8e46850",
   "metadata": {},
   "outputs": [],
   "source": [
    "# Now we have our dataset which contain only numerical value."
   ]
  },
  {
   "cell_type": "markdown",
   "id": "2a9ba9e9",
   "metadata": {},
   "source": [
    "# Train-Test Split"
   ]
  },
  {
   "cell_type": "code",
   "execution_count": 493,
   "id": "80d4620b",
   "metadata": {},
   "outputs": [],
   "source": [
    "v=df_model[\"age\"]          \n",
    "U=df_model.drop([\"age\"], axis=1)"
   ]
  },
  {
   "cell_type": "code",
   "execution_count": 498,
   "id": "e0f216b5",
   "metadata": {},
   "outputs": [],
   "source": [
    "# we have splited data into train and test for training and testing the data separately. 30% test size and 70%\n",
    "# for training the data."
   ]
  },
  {
   "cell_type": "code",
   "execution_count": 496,
   "id": "bc2105a6",
   "metadata": {},
   "outputs": [
    {
     "name": "stdout",
     "output_type": "stream",
     "text": [
      "(231, 10)\n",
      "(537, 10)\n"
     ]
    }
   ],
   "source": [
    "U_train, U_test, v_train, v_test = train_test_split(U, v, test_size = 0.3, random_state=37)\n",
    "print(U_test.shape)\n",
    "print(U_train.shape)"
   ]
  },
  {
   "cell_type": "markdown",
   "id": "80881f14",
   "metadata": {},
   "source": [
    "# SVM classifier"
   ]
  },
  {
   "cell_type": "code",
   "execution_count": null,
   "id": "2c0a6ac0",
   "metadata": {},
   "outputs": [],
   "source": []
  },
  {
   "cell_type": "code",
   "execution_count": null,
   "id": "583bbfbe",
   "metadata": {},
   "outputs": [],
   "source": []
  },
  {
   "cell_type": "code",
   "execution_count": null,
   "id": "e9a75fe0",
   "metadata": {},
   "outputs": [],
   "source": []
  },
  {
   "cell_type": "code",
   "execution_count": null,
   "id": "6f3ab63f",
   "metadata": {},
   "outputs": [],
   "source": []
  },
  {
   "cell_type": "code",
   "execution_count": null,
   "id": "30ab55ee",
   "metadata": {},
   "outputs": [],
   "source": []
  },
  {
   "cell_type": "code",
   "execution_count": null,
   "id": "cbe745e1",
   "metadata": {},
   "outputs": [],
   "source": []
  },
  {
   "cell_type": "code",
   "execution_count": null,
   "id": "d78211de",
   "metadata": {},
   "outputs": [],
   "source": []
  },
  {
   "cell_type": "code",
   "execution_count": null,
   "id": "76172b2e",
   "metadata": {},
   "outputs": [],
   "source": []
  },
  {
   "cell_type": "code",
   "execution_count": null,
   "id": "e48813db",
   "metadata": {},
   "outputs": [],
   "source": []
  },
  {
   "cell_type": "code",
   "execution_count": null,
   "id": "f74a958b",
   "metadata": {},
   "outputs": [],
   "source": []
  },
  {
   "cell_type": "code",
   "execution_count": null,
   "id": "d54744bc",
   "metadata": {},
   "outputs": [],
   "source": []
  },
  {
   "cell_type": "code",
   "execution_count": null,
   "id": "d98eeede",
   "metadata": {},
   "outputs": [],
   "source": []
  },
  {
   "cell_type": "code",
   "execution_count": null,
   "id": "e8daae03",
   "metadata": {},
   "outputs": [],
   "source": []
  },
  {
   "cell_type": "code",
   "execution_count": null,
   "id": "54a08f78",
   "metadata": {},
   "outputs": [],
   "source": []
  },
  {
   "cell_type": "code",
   "execution_count": null,
   "id": "d7fc2700",
   "metadata": {},
   "outputs": [],
   "source": []
  },
  {
   "cell_type": "code",
   "execution_count": null,
   "id": "12a508be",
   "metadata": {},
   "outputs": [],
   "source": []
  },
  {
   "cell_type": "code",
   "execution_count": null,
   "id": "e915762d",
   "metadata": {},
   "outputs": [],
   "source": []
  },
  {
   "cell_type": "code",
   "execution_count": null,
   "id": "a05e594c",
   "metadata": {},
   "outputs": [],
   "source": []
  }
 ],
 "metadata": {
  "kernelspec": {
   "display_name": "Python 3 (ipykernel)",
   "language": "python",
   "name": "python3"
  },
  "language_info": {
   "codemirror_mode": {
    "name": "ipython",
    "version": 3
   },
   "file_extension": ".py",
   "mimetype": "text/x-python",
   "name": "python",
   "nbconvert_exporter": "python",
   "pygments_lexer": "ipython3",
   "version": "3.9.13"
  }
 },
 "nbformat": 4,
 "nbformat_minor": 5
}
