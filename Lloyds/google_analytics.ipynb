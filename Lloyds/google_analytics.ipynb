{
 "cells": [
  {
   "cell_type": "code",
   "execution_count": 7,
   "id": "bc017527",
   "metadata": {},
   "outputs": [],
   "source": [
    "# Identify prospective test-drivers for re-targeting"
   ]
  },
  {
   "cell_type": "code",
   "execution_count": 2,
   "id": "d0473b7b",
   "metadata": {},
   "outputs": [],
   "source": [
    "import pandas as pd"
   ]
  },
  {
   "cell_type": "code",
   "execution_count": 3,
   "id": "cdce771d",
   "metadata": {},
   "outputs": [],
   "source": [
    "df=pd.read_excel(\"Experian Step Up Google Analytics Data.xlsx\")"
   ]
  },
  {
   "cell_type": "code",
   "execution_count": 4,
   "id": "730d237e",
   "metadata": {},
   "outputs": [
    {
     "data": {
      "text/plain": [
       "(21223, 10)"
      ]
     },
     "execution_count": 4,
     "metadata": {},
     "output_type": "execute_result"
    }
   ],
   "source": [
    "df.shape # This datasets have 21223 rows and 10 columns"
   ]
  },
  {
   "cell_type": "code",
   "execution_count": 5,
   "id": "cb291f5a",
   "metadata": {},
   "outputs": [
    {
     "data": {
      "text/html": [
       "<div>\n",
       "<style scoped>\n",
       "    .dataframe tbody tr th:only-of-type {\n",
       "        vertical-align: middle;\n",
       "    }\n",
       "\n",
       "    .dataframe tbody tr th {\n",
       "        vertical-align: top;\n",
       "    }\n",
       "\n",
       "    .dataframe thead th {\n",
       "        text-align: right;\n",
       "    }\n",
       "</style>\n",
       "<table border=\"1\" class=\"dataframe\">\n",
       "  <thead>\n",
       "    <tr style=\"text-align: right;\">\n",
       "      <th></th>\n",
       "      <th>Client ID</th>\n",
       "      <th>Sessions</th>\n",
       "      <th>Average Session Duration</th>\n",
       "      <th>Bounce Rate</th>\n",
       "      <th>Event 1</th>\n",
       "      <th>Event 2</th>\n",
       "      <th>Event 3</th>\n",
       "      <th>Event 1 Conversion Rate</th>\n",
       "      <th>Event 2 Conversion Rate</th>\n",
       "      <th>Event 3 Conversion Rate</th>\n",
       "    </tr>\n",
       "  </thead>\n",
       "  <tbody>\n",
       "    <tr>\n",
       "      <th>0</th>\n",
       "      <td>6003803477</td>\n",
       "      <td>6</td>\n",
       "      <td>00:01:31</td>\n",
       "      <td>0.666667</td>\n",
       "      <td>1</td>\n",
       "      <td>0</td>\n",
       "      <td>0</td>\n",
       "      <td>0.166667</td>\n",
       "      <td>0.000000</td>\n",
       "      <td>0.000000</td>\n",
       "    </tr>\n",
       "    <tr>\n",
       "      <th>1</th>\n",
       "      <td>8228267465</td>\n",
       "      <td>2</td>\n",
       "      <td>00:01:01</td>\n",
       "      <td>0.000000</td>\n",
       "      <td>2</td>\n",
       "      <td>2</td>\n",
       "      <td>1</td>\n",
       "      <td>1.000000</td>\n",
       "      <td>1.000000</td>\n",
       "      <td>0.500000</td>\n",
       "    </tr>\n",
       "    <tr>\n",
       "      <th>2</th>\n",
       "      <td>8758153473</td>\n",
       "      <td>4</td>\n",
       "      <td>00:01:25</td>\n",
       "      <td>0.000000</td>\n",
       "      <td>1</td>\n",
       "      <td>4</td>\n",
       "      <td>1</td>\n",
       "      <td>0.250000</td>\n",
       "      <td>1.000000</td>\n",
       "      <td>0.250000</td>\n",
       "    </tr>\n",
       "    <tr>\n",
       "      <th>3</th>\n",
       "      <td>4574711083</td>\n",
       "      <td>7</td>\n",
       "      <td>00:01:28</td>\n",
       "      <td>0.714286</td>\n",
       "      <td>0</td>\n",
       "      <td>2</td>\n",
       "      <td>1</td>\n",
       "      <td>0.000000</td>\n",
       "      <td>0.285714</td>\n",
       "      <td>0.142857</td>\n",
       "    </tr>\n",
       "    <tr>\n",
       "      <th>4</th>\n",
       "      <td>828987061</td>\n",
       "      <td>4</td>\n",
       "      <td>00:01:05</td>\n",
       "      <td>0.250000</td>\n",
       "      <td>3</td>\n",
       "      <td>0</td>\n",
       "      <td>0</td>\n",
       "      <td>0.750000</td>\n",
       "      <td>0.000000</td>\n",
       "      <td>0.000000</td>\n",
       "    </tr>\n",
       "  </tbody>\n",
       "</table>\n",
       "</div>"
      ],
      "text/plain": [
       "    Client ID  Sessions Average Session Duration  Bounce Rate  Event 1  \\\n",
       "0  6003803477         6                 00:01:31     0.666667        1   \n",
       "1  8228267465         2                 00:01:01     0.000000        2   \n",
       "2  8758153473         4                 00:01:25     0.000000        1   \n",
       "3  4574711083         7                 00:01:28     0.714286        0   \n",
       "4   828987061         4                 00:01:05     0.250000        3   \n",
       "\n",
       "   Event 2  Event 3  Event 1 Conversion Rate  Event 2 Conversion Rate  \\\n",
       "0        0        0                 0.166667                 0.000000   \n",
       "1        2        1                 1.000000                 1.000000   \n",
       "2        4        1                 0.250000                 1.000000   \n",
       "3        2        1                 0.000000                 0.285714   \n",
       "4        0        0                 0.750000                 0.000000   \n",
       "\n",
       "   Event 3 Conversion Rate  \n",
       "0                 0.000000  \n",
       "1                 0.500000  \n",
       "2                 0.250000  \n",
       "3                 0.142857  \n",
       "4                 0.000000  "
      ]
     },
     "execution_count": 5,
     "metadata": {},
     "output_type": "execute_result"
    }
   ],
   "source": [
    "df.head() # to check top 5 sample of data."
   ]
  },
  {
   "cell_type": "code",
   "execution_count": 6,
   "id": "3ec91eff",
   "metadata": {},
   "outputs": [
    {
     "data": {
      "text/plain": [
       "0"
      ]
     },
     "execution_count": 6,
     "metadata": {},
     "output_type": "execute_result"
    }
   ],
   "source": [
    "df[\"Client ID\"].duplicated().sum()\n",
    "# There is no duplicate Client ID present in the dataset."
   ]
  },
  {
   "cell_type": "code",
   "execution_count": 16,
   "id": "b3e62f20",
   "metadata": {},
   "outputs": [
    {
     "data": {
      "text/plain": [
       "Client ID                     int64\n",
       "Sessions                      int64\n",
       "Average Session Duration     object\n",
       "Bounce Rate                 float64\n",
       "Event 1                       int64\n",
       "Event 2                       int64\n",
       "Event 3                       int64\n",
       "Event 1 Conversion Rate     float64\n",
       "Event 2 Conversion Rate     float64\n",
       "Event 3 Conversion Rate     float64\n",
       "dtype: object"
      ]
     },
     "execution_count": 16,
     "metadata": {},
     "output_type": "execute_result"
    }
   ],
   "source": [
    "df.dtypes"
   ]
  },
  {
   "cell_type": "code",
   "execution_count": 8,
   "id": "454166c5",
   "metadata": {},
   "outputs": [
    {
     "data": {
      "text/plain": [
       "15070     1\n",
       "3853      1\n",
       "11424     1\n",
       "1798      1\n",
       "19176     1\n",
       "         ..\n",
       "4942     10\n",
       "19222    10\n",
       "15403    10\n",
       "4944     10\n",
       "9626     10\n",
       "Name: Sessions, Length: 21223, dtype: int64"
      ]
     },
     "execution_count": 8,
     "metadata": {},
     "output_type": "execute_result"
    }
   ],
   "source": [
    "df[\"Sessions\"].sort_values()"
   ]
  },
  {
   "cell_type": "code",
   "execution_count": null,
   "id": "f51b92fa",
   "metadata": {},
   "outputs": [],
   "source": []
  }
 ],
 "metadata": {
  "kernelspec": {
   "display_name": "Python 3 (ipykernel)",
   "language": "python",
   "name": "python3"
  },
  "language_info": {
   "codemirror_mode": {
    "name": "ipython",
    "version": 3
   },
   "file_extension": ".py",
   "mimetype": "text/x-python",
   "name": "python",
   "nbconvert_exporter": "python",
   "pygments_lexer": "ipython3",
   "version": "3.9.7"
  }
 },
 "nbformat": 4,
 "nbformat_minor": 5
}
